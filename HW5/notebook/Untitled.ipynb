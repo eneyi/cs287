{
 "cells": [
  {
   "cell_type": "code",
   "execution_count": 1,
   "metadata": {
    "collapsed": true
   },
   "outputs": [],
   "source": [
    "require 'hdf5'\n",
    "require 'nn'"
   ]
  },
  {
   "cell_type": "code",
   "execution_count": 2,
   "metadata": {
    "collapsed": true
   },
   "outputs": [],
   "source": [
    "-- Loading data\n",
    "myFile = hdf5.open('../data/MM_data.hdf5','r')\n",
    "data = myFile:all()\n",
    "input_matrix_train = data['input_matrix_train']\n",
    "input_matrix_dev = data['input_matrix_dev']\n",
    "input_matrix_test = data['input_matrix_test']\n",
    "myFile:close()"
   ]
  },
  {
   "cell_type": "code",
   "execution_count": 4,
   "metadata": {
    "collapsed": false
   },
   "outputs": [],
   "source": [
    "myFile = hdf5.open('../data/embeddings.hdf5','r')\n",
    "data2 = myFile:all()\n",
    "embeddings = data2['embeddings']\n",
    "myFile:close()"
   ]
  },
  {
   "cell_type": "code",
   "execution_count": 8,
   "metadata": {
    "collapsed": false
   },
   "outputs": [],
   "source": [
    "nwords = input_matrix_train:max()\n",
    "embed_dim = 50"
   ]
  },
  {
   "cell_type": "code",
   "execution_count": 6,
   "metadata": {
    "collapsed": false
   },
   "outputs": [
    {
     "data": {
      "text/plain": [
       " 400001       0       0       0       0       0       0       0       1       0\n",
       "    645       0       0       0       1       0       0       0       0       0\n",
       "   7579       1       0       0       0       0       0       0       0       0\n",
       "    515       0       0       0       0       1       0       0       0       0\n",
       "    581       1       0       0       0       0       0       0       0       0\n",
       "[torch.LongTensor of size 5x10]\n",
       "\n"
      ]
     },
     "execution_count": 6,
     "metadata": {},
     "output_type": "execute_result"
    }
   ],
   "source": [
    "input_matrix_train:narrow(1,1,5)"
   ]
  },
  {
   "cell_type": "code",
   "execution_count": 10,
   "metadata": {
    "collapsed": true
   },
   "outputs": [],
   "source": [
    "LT = nn.LookupTable(nwords,embed_dim)\n",
    "LT.weight:narrow(1, 1, nwords-2):copy(embeddings)"
   ]
  },
  {
   "cell_type": "code",
   "execution_count": 79,
   "metadata": {
    "collapsed": false
   },
   "outputs": [],
   "source": [
    "t1 = nn.ConcatTable()\n",
    "\n",
    "t1_1 = nn.Sequential()\n",
    "t1_1:add(nn.Narrow(1,1,1))\n",
    "t1_1:add(LT)\n",
    "t1_1:add(nn.Squeeze())\n",
    "\n",
    "t1_2 = nn.Sequential()\n",
    "t1_2:add(nn.Narrow(1,2,9))\n",
    "t1_2:add(nn.Identity())"
   ]
  },
  {
   "cell_type": "code",
   "execution_count": 80,
   "metadata": {
    "collapsed": false
   },
   "outputs": [],
   "source": [
    "t1:add(t1_1)\n",
    "t1:add(t1_2)\n",
    "t1:add(nn.JoinTable(1))"
   ]
  },
  {
   "cell_type": "code",
   "execution_count": 82,
   "metadata": {
    "collapsed": false
   },
   "outputs": [
    {
     "ename": "...virgileaudi/torch/install/share/lua/5.1/nn/Container.lua:67: \nIn 3 module of nn.ConcatTable:\n...virgileaudi/torch/install/share/lua/5.1/nn/JoinTable.lua:24: 'for' limit must be a number\nstack traceback:\n\t...virgileaudi/torch/install/share/lua/5.1/nn/JoinTable.lua:24: in function <...virgileaudi/torch/install/share/lua/5.1/nn/JoinTable.lua:21>\n\t[C]: in function 'xpcall'\n\t...virgileaudi/torch/install/share/lua/5.1/nn/Container.lua:63: in function 'rethrowErrors'\n\t...rgileaudi/torch/install/share/lua/5.1/nn/ConcatTable.lua:11: in function 'f'\n\t[string \"local f = function() return t1:forward(input_...\"]:1: in main chunk\n\t[C]: in function 'xpcall'\n\t.../virgileaudi/torch/install/share/lua/5.1/itorch/main.lua:179: in function <.../virgileaudi/torch/install/share/lua/5.1/itorch/main.lua:143>\n\t.../virgileaudi/torch/install/share/lua/5.1/lzmq/poller.lua:75: in function 'poll'\n\t...rgileaudi/torch/install/share/lua/5.1/lzmq/impl/loop.lua:307: in function 'poll'\n\t...rgileaudi/torch/install/share/lua/5.1/lzmq/impl/loop.lua:325: in function 'sleep_ex'\n\t...rgileaudi/torch/install/share/lua/5.1/lzmq/impl/loop.lua:370: in function 'start'\n\t.../virgileaudi/torch/install/share/lua/5.1/itorch/main.lua:350: in main chunk\n\t[C]: in function 'require'\n\t(command line):1: in main chunk\n\t[C]: at 0x0100d1cb50\n\nWARNING: If you see a stack trace below, it doesn't point to the place where this error occured. Please use only the one above.\nstack traceback:\n\t[C]: in function 'error'\n\t...virgileaudi/torch/install/share/lua/5.1/nn/Container.lua:67: in function 'rethrowErrors'\n\t...rgileaudi/torch/install/share/lua/5.1/nn/ConcatTable.lua:11: in function 'f'\n\t[string \"local f = function() return t1:forward(input_...\"]:1: in main chunk\n\t[C]: in function 'xpcall'\n\t.../virgileaudi/torch/install/share/lua/5.1/itorch/main.lua:179: in function <.../virgileaudi/torch/install/share/lua/5.1/itorch/main.lua:143>\n\t.../virgileaudi/torch/install/share/lua/5.1/lzmq/poller.lua:75: in function 'poll'\n\t...rgileaudi/torch/install/share/lua/5.1/lzmq/impl/loop.lua:307: in function 'poll'\n\t...rgileaudi/torch/install/share/lua/5.1/lzmq/impl/loop.lua:325: in function 'sleep_ex'\n\t...rgileaudi/torch/install/share/lua/5.1/lzmq/impl/loop.lua:370: in function 'start'\n\t.../virgileaudi/torch/install/share/lua/5.1/itorch/main.lua:350: in main chunk\n\t[C]: in function 'require'\n\t(command line):1: in main chunk\n\t[C]: at 0x0100d1cb50",
     "evalue": "",
     "output_type": "error",
     "traceback": [
      "...virgileaudi/torch/install/share/lua/5.1/nn/Container.lua:67: \nIn 3 module of nn.ConcatTable:\n...virgileaudi/torch/install/share/lua/5.1/nn/JoinTable.lua:24: 'for' limit must be a number\nstack traceback:\n\t...virgileaudi/torch/install/share/lua/5.1/nn/JoinTable.lua:24: in function <...virgileaudi/torch/install/share/lua/5.1/nn/JoinTable.lua:21>\n\t[C]: in function 'xpcall'\n\t...virgileaudi/torch/install/share/lua/5.1/nn/Container.lua:63: in function 'rethrowErrors'\n\t...rgileaudi/torch/install/share/lua/5.1/nn/ConcatTable.lua:11: in function 'f'\n\t[string \"local f = function() return t1:forward(input_...\"]:1: in main chunk\n\t[C]: in function 'xpcall'\n\t.../virgileaudi/torch/install/share/lua/5.1/itorch/main.lua:179: in function <.../virgileaudi/torch/install/share/lua/5.1/itorch/main.lua:143>\n\t.../virgileaudi/torch/install/share/lua/5.1/lzmq/poller.lua:75: in function 'poll'\n\t...rgileaudi/torch/install/share/lua/5.1/lzmq/impl/loop.lua:307: in function 'poll'\n\t...rgileaudi/torch/install/share/lua/5.1/lzmq/impl/loop.lua:325: in function 'sleep_ex'\n\t...rgileaudi/torch/install/share/lua/5.1/lzmq/impl/loop.lua:370: in function 'start'\n\t.../virgileaudi/torch/install/share/lua/5.1/itorch/main.lua:350: in main chunk\n\t[C]: in function 'require'\n\t(command line):1: in main chunk\n\t[C]: at 0x0100d1cb50\n\nWARNING: If you see a stack trace below, it doesn't point to the place where this error occured. Please use only the one above.\nstack traceback:\n\t[C]: in function 'error'\n\t...virgileaudi/torch/install/share/lua/5.1/nn/Container.lua:67: in function 'rethrowErrors'\n\t...rgileaudi/torch/install/share/lua/5.1/nn/ConcatTable.lua:11: in function 'f'\n\t[string \"local f = function() return t1:forward(input_...\"]:1: in main chunk\n\t[C]: in function 'xpcall'\n\t.../virgileaudi/torch/install/share/lua/5.1/itorch/main.lua:179: in function <.../virgileaudi/torch/install/share/lua/5.1/itorch/main.lua:143>\n\t.../virgileaudi/torch/install/share/lua/5.1/lzmq/poller.lua:75: in function 'poll'\n\t...rgileaudi/torch/install/share/lua/5.1/lzmq/impl/loop.lua:307: in function 'poll'\n\t...rgileaudi/torch/install/share/lua/5.1/lzmq/impl/loop.lua:325: in function 'sleep_ex'\n\t...rgileaudi/torch/install/share/lua/5.1/lzmq/impl/loop.lua:370: in function 'start'\n\t.../virgileaudi/torch/install/share/lua/5.1/itorch/main.lua:350: in main chunk\n\t[C]: in function 'require'\n\t(command line):1: in main chunk\n\t[C]: at 0x0100d1cb50"
     ]
    }
   ],
   "source": [
    "t1:forward(input_matrix_train[1])"
   ]
  },
  {
   "cell_type": "code",
   "execution_count": 77,
   "metadata": {
    "collapsed": false
   },
   "outputs": [
    {
     "ename": "...virgileaudi/torch/install/share/lua/5.1/nn/Container.lua:67: \nIn 1 module of nn.ParallelTable:\nIn 1 module of nn.Sequential:\n...rs/virgileaudi/torch/install/share/lua/5.1/nn/Narrow.lua:14: attempt to index local 'input' (a number value)\nstack traceback:\n\t...rs/virgileaudi/torch/install/share/lua/5.1/nn/Narrow.lua:14: in function <...rs/virgileaudi/torch/install/share/lua/5.1/nn/Narrow.lua:13>\n\t[C]: in function 'xpcall'\n\t...virgileaudi/torch/install/share/lua/5.1/nn/Container.lua:63: in function 'rethrowErrors'\n\t...irgileaudi/torch/install/share/lua/5.1/nn/Sequential.lua:44: in function <...irgileaudi/torch/install/share/lua/5.1/nn/Sequential.lua:41>\n\t[C]: in function 'xpcall'\n\t...virgileaudi/torch/install/share/lua/5.1/nn/Container.lua:63: in function 'rethrowErrors'\n\t...ileaudi/torch/install/share/lua/5.1/nn/ParallelTable.lua:12: in function 'f'\n\t[string \"local f = function() return t1:forward(input_...\"]:1: in main chunk\n\t[C]: in function 'xpcall'\n\t.../virgileaudi/torch/install/share/lua/5.1/itorch/main.lua:179: in function <.../virgileaudi/torch/install/share/lua/5.1/itorch/main.lua:143>\n\t.../virgileaudi/torch/install/share/lua/5.1/lzmq/poller.lua:75: in function 'poll'\n\t...rgileaudi/torch/install/share/lua/5.1/lzmq/impl/loop.lua:307: in function 'poll'\n\t...rgileaudi/torch/install/share/lua/5.1/lzmq/impl/loop.lua:325: in function 'sleep_ex'\n\t...rgileaudi/torch/install/share/lua/5.1/lzmq/impl/loop.lua:370: in function 'start'\n\t.../virgileaudi/torch/install/share/lua/5.1/itorch/main.lua:350: in main chunk\n\t[C]: in function 'require'\n\t(command line):1: in main chunk\n\t[C]: at 0x0100d1cb50\n\nWARNING: If you see a stack trace below, it doesn't point to the place where this error occured. Please use only the one above.\nstack traceback:\n\t[C]: in function 'error'\n\t...virgileaudi/torch/install/share/lua/5.1/nn/Container.lua:67: in function 'rethrowErrors'\n\t...ileaudi/torch/install/share/lua/5.1/nn/ParallelTable.lua:12: in function 'f'\n\t[string \"local f = function() return t1:forward(input_...\"]:1: in main chunk\n\t[C]: in function 'xpcall'\n\t.../virgileaudi/torch/install/share/lua/5.1/itorch/main.lua:179: in function <.../virgileaudi/torch/install/share/lua/5.1/itorch/main.lua:143>\n\t.../virgileaudi/torch/install/share/lua/5.1/lzmq/poller.lua:75: in function 'poll'\n\t...rgileaudi/torch/install/share/lua/5.1/lzmq/impl/loop.lua:307: in function 'poll'\n\t...rgileaudi/torch/install/share/lua/5.1/lzmq/impl/loop.lua:325: in function 'sleep_ex'\n\t...rgileaudi/torch/install/share/lua/5.1/lzmq/impl/loop.lua:370: in function 'start'\n\t.../virgileaudi/torch/install/share/lua/5.1/itorch/main.lua:350: in main chunk\n\t[C]: in function 'require'\n\t(command line):1: in main chunk\n\t[C]: at 0x0100d1cb50",
     "evalue": "",
     "output_type": "error",
     "traceback": [
      "...virgileaudi/torch/install/share/lua/5.1/nn/Container.lua:67: \nIn 1 module of nn.ParallelTable:\nIn 1 module of nn.Sequential:\n...rs/virgileaudi/torch/install/share/lua/5.1/nn/Narrow.lua:14: attempt to index local 'input' (a number value)\nstack traceback:\n\t...rs/virgileaudi/torch/install/share/lua/5.1/nn/Narrow.lua:14: in function <...rs/virgileaudi/torch/install/share/lua/5.1/nn/Narrow.lua:13>\n\t[C]: in function 'xpcall'\n\t...virgileaudi/torch/install/share/lua/5.1/nn/Container.lua:63: in function 'rethrowErrors'\n\t...irgileaudi/torch/install/share/lua/5.1/nn/Sequential.lua:44: in function <...irgileaudi/torch/install/share/lua/5.1/nn/Sequential.lua:41>\n\t[C]: in function 'xpcall'\n\t...virgileaudi/torch/install/share/lua/5.1/nn/Container.lua:63: in function 'rethrowErrors'\n\t...ileaudi/torch/install/share/lua/5.1/nn/ParallelTable.lua:12: in function 'f'\n\t[string \"local f = function() return t1:forward(input_...\"]:1: in main chunk\n\t[C]: in function 'xpcall'\n\t.../virgileaudi/torch/install/share/lua/5.1/itorch/main.lua:179: in function <.../virgileaudi/torch/install/share/lua/5.1/itorch/main.lua:143>\n\t.../virgileaudi/torch/install/share/lua/5.1/lzmq/poller.lua:75: in function 'poll'\n\t...rgileaudi/torch/install/share/lua/5.1/lzmq/impl/loop.lua:307: in function 'poll'\n\t...rgileaudi/torch/install/share/lua/5.1/lzmq/impl/loop.lua:325: in function 'sleep_ex'\n\t...rgileaudi/torch/install/share/lua/5.1/lzmq/impl/loop.lua:370: in function 'start'\n\t.../virgileaudi/torch/install/share/lua/5.1/itorch/main.lua:350: in main chunk\n\t[C]: in function 'require'\n\t(command line):1: in main chunk\n\t[C]: at 0x0100d1cb50\n\nWARNING: If you see a stack trace below, it doesn't point to the place where this error occured. Please use only the one above.\nstack traceback:\n\t[C]: in function 'error'\n\t...virgileaudi/torch/install/share/lua/5.1/nn/Container.lua:67: in function 'rethrowErrors'\n\t...ileaudi/torch/install/share/lua/5.1/nn/ParallelTable.lua:12: in function 'f'\n\t[string \"local f = function() return t1:forward(input_...\"]:1: in main chunk\n\t[C]: in function 'xpcall'\n\t.../virgileaudi/torch/install/share/lua/5.1/itorch/main.lua:179: in function <.../virgileaudi/torch/install/share/lua/5.1/itorch/main.lua:143>\n\t.../virgileaudi/torch/install/share/lua/5.1/lzmq/poller.lua:75: in function 'poll'\n\t...rgileaudi/torch/install/share/lua/5.1/lzmq/impl/loop.lua:307: in function 'poll'\n\t...rgileaudi/torch/install/share/lua/5.1/lzmq/impl/loop.lua:325: in function 'sleep_ex'\n\t...rgileaudi/torch/install/share/lua/5.1/lzmq/impl/loop.lua:370: in function 'start'\n\t.../virgileaudi/torch/install/share/lua/5.1/itorch/main.lua:350: in main chunk\n\t[C]: in function 'require'\n\t(command line):1: in main chunk\n\t[C]: at 0x0100d1cb50"
     ]
    }
   ],
   "source": [
    "t1:forward(input_matrix_train[1])"
   ]
  },
  {
   "cell_type": "code",
   "execution_count": 74,
   "metadata": {
    "collapsed": false
   },
   "outputs": [
    {
     "data": {
      "text/plain": [
       " 1.1861\n",
       "-0.5197\n",
       " 0.4030\n",
       "-1.2834\n",
       "-0.0777\n",
       " 0.3841\n",
       "-0.8820\n",
       " 0.1591\n",
       " 0.0306\n",
       "-0.8629\n",
       "-0.3845\n",
       " 0.0073\n",
       " 1.6216\n",
       "-0.8612\n",
       " 1.3596\n",
       " 2.3886\n",
       "-1.1481\n",
       " 0.0494\n",
       "-2.3683\n",
       " 1.5044\n",
       "-1.6373\n",
       " 0.6441\n",
       " 1.2526\n",
       "-0.3564\n",
       "-0.0077\n",
       " 0.3738\n",
       "-1.1115\n",
       "-0.9840\n",
       "-0.1113\n",
       " 0.5709\n",
       " 0.7494\n",
       " 0.2869\n",
       "-0.9045\n",
       "-0.1454\n",
       "-0.3311\n",
       "-0.9812\n",
       " 0.8329\n",
       " 0.2019\n",
       " 0.4823\n",
       " 0.8181\n",
       " 1.0302\n",
       " 0.0586\n",
       "-1.1812\n",
       " 0.7518\n",
       "-0.3363\n",
       " 1.6326\n",
       " 0.3075\n",
       " 1.2873\n",
       " 1.4276\n",
       "-0.2518\n",
       "[torch.DoubleTensor of size 50]\n",
       "\n"
      ]
     },
     "execution_count": 74,
     "metadata": {},
     "output_type": "execute_result"
    }
   ],
   "source": [
    "nn.SplitTable(2):forward()"
   ]
  },
  {
   "cell_type": "code",
   "execution_count": null,
   "metadata": {
    "collapsed": true
   },
   "outputs": [],
   "source": []
  }
 ],
 "metadata": {
  "kernelspec": {
   "display_name": "iTorch",
   "language": "lua",
   "name": "itorch"
  },
  "language_info": {
   "name": "lua",
   "version": "20100"
  }
 },
 "nbformat": 4,
 "nbformat_minor": 0
}
