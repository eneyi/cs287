{
 "cells": [
  {
   "cell_type": "code",
   "execution_count": 84,
   "metadata": {
    "collapsed": true
   },
   "outputs": [],
   "source": [
    "import numpy as np\n",
    "from itertools import product\n",
    "import h5py"
   ]
  },
  {
   "cell_type": "code",
   "execution_count": 18,
   "metadata": {
    "collapsed": false
   },
   "outputs": [
    {
     "name": "stdout",
     "output_type": "stream",
     "text": [
      "{'I-LOC': 3, '<\\t>': 9, 'I-PER': 2, '<t>': 8, 'O': 1, 'I-MISC': 5, 'B-MISC': 6, 'I-ORG': 4, 'B-LOC': 7}\n"
     ]
    }
   ],
   "source": [
    "# Tags mapping\n",
    "tag2index = {}\n",
    "\n",
    "with open('../data/tags.txt', 'r') as f:\n",
    "    for line in f:\n",
    "        line_split = line[:-1].split(' ')\n",
    "        tag2index[line_split[0]] = int(line_split[1])\n",
    "\n",
    "# Adding tags for end/start of sentence\n",
    "tag2index['<t>'] = 8\n",
    "tag2index['<\\t>'] = 9\n",
    "print(tag2index)"
   ]
  },
  {
   "cell_type": "code",
   "execution_count": 77,
   "metadata": {
    "collapsed": false
   },
   "outputs": [],
   "source": [
    "\n",
    "def count_elements(filename):\n",
    "    # Counting the number of elements to stored (ie num_words + 2*num_sentences)\n",
    "    num_words = 0\n",
    "    num_sentences = 0\n",
    "    with open(filename, 'r') as f:\n",
    "        for line in f:\n",
    "            line_split = line[:-1].split('\\t')\n",
    "            # Case blank\n",
    "            if len(line_split) == 1:\n",
    "                num_sentences += 1\n",
    "            else:\n",
    "                num_words += 1\n",
    "\n",
    "    return num_words, num_sentences\n",
    "\n",
    "def build_input_matrix(filename ,num_rows, tag2index, tags=True, word2index=None):\n",
    "    # Building input matrix with columns: (id, id_in_sentence, id_word, id_tag)\n",
    "    input_matrix = np.zeros((num_rows, 4), dtype=int)\n",
    "    input_matrix[0] = [1,1,1,8]\n",
    "    row = 1\n",
    "    # Boolean to indicate if a sentence is starting\n",
    "    starting = False\n",
    "    # Boolean if a mapping is defined (last element of the mapping is for unknown words)\n",
    "    if word2index==None:\n",
    "        test = False\n",
    "        word2index = {'<s>': 1, '<\\s>': 2}\n",
    "        id_word = 3\n",
    "    else:\n",
    "        test = True\n",
    "    with open('../data/train.num.txt', 'r') as f:\n",
    "        for line in f:\n",
    "            line_split = line[:-1].split('\\t')\n",
    "            if starting == True:\n",
    "                # Start of sentence\n",
    "                input_matrix[row, 0] = input_matrix[row-1, 0] + 1\n",
    "                input_matrix[row, 1] = 1\n",
    "                input_matrix[row, 2] = 1\n",
    "                input_matrix[row, 3] = 8\n",
    "                row+=1\n",
    "                starting = False\n",
    "            if len(line_split) == 1:\n",
    "                # End of sentence\n",
    "                input_matrix[row, :2] = input_matrix[row-1, :2] + 1\n",
    "                input_matrix[row, 2] = 2\n",
    "                input_matrix[row, 3] = 9\n",
    "                row+=1\n",
    "                starting = True\n",
    "            else:\n",
    "                input_matrix[row, 0] = input_matrix[row-1, 0] + 1\n",
    "                input_matrix[row, 1] = int(line_split[1]) + 1\n",
    "                word_clean = line_split[2].lower()\n",
    "                if not test:\n",
    "                    if word_clean not in word2index:\n",
    "                        word2index[word_clean] = id_word\n",
    "                        id_word += 1\n",
    "                    input_matrix[row, 2] = word2index[word_clean]\n",
    "                else:\n",
    "                    # Unseen word during train\n",
    "                    if word_clean not in word2index:\n",
    "                        input_matrix[row, 2] = len(word2index)\n",
    "                    else:\n",
    "                        input_matrix[row, 2] = word2index[word_clean]\n",
    "                if tags:\n",
    "                    input_matrix[row, 3] = tag2index[line_split[3]]\n",
    "                row += 1\n",
    "    # Add special word if training\n",
    "    if not test:\n",
    "        word2index['<unk>'] = len(word2index)+1\n",
    "    if tags:\n",
    "        return input_matrix, word2index\n",
    "    else:\n",
    "        return input_matrix[:,:3], word2index"
   ]
  },
  {
   "cell_type": "code",
   "execution_count": 98,
   "metadata": {
    "collapsed": false
   },
   "outputs": [],
   "source": [
    "def train_hmm(input_matrix, num_features, num_tags):\n",
    "    # Emission matrix:\n",
    "    # size (num_features, num_tags)\n",
    "    # row: observation / colum: tag\n",
    "    # (un-normalized if smoothing required)\n",
    "    emission = np.zeros((num_features, num_tags))\n",
    "    for r in input_matrix:\n",
    "        emission[r[2]-1, r[3]-1] += 1\n",
    "\n",
    "    # Transition matrix\n",
    "    # size (num_tags, num_tags)\n",
    "    # row: to / colum: from\n",
    "    # (un-normalized if smoothing required)\n",
    "    transition = np.zeros((num_tags, num_tags))\n",
    "    for i in xrange(input_matrix.shape[0] - 1):\n",
    "        transition[input_matrix[i+1,3]-1, input_matrix[i,3]-1] += 1\n",
    "        \n",
    "    return emission, transition\n"
   ]
  },
  {
   "cell_type": "code",
   "execution_count": 99,
   "metadata": {
    "collapsed": false
   },
   "outputs": [],
   "source": [
    "# Train\n",
    "num_words, num_sentences = count_elements('../data/train.num.txt')\n",
    "num_rows = num_words + 2*num_sentences\n",
    "input_matrix_train, word2index = build_input_matrix('../data/train.num.txt', num_rows, tag2index)\n",
    "\n",
    "# Building the count matrix\n",
    "num_tags = len(tag2index)\n",
    "num_features = len(word2index)\n",
    "emission, transition = train_hmm(input_matrix_train, num_features, num_tags)\n",
    "\n",
    "# Dev & test\n",
    "input_matrix_dev, word2index = build_input_matrix('../data/dev.num.txt', num_rows, tag2index, word2index=word2index)\n",
    "input_matrix_test, word2index = build_input_matrix('../data/test.num.txt', num_rows, tag2index, tags=False, word2index=word2index)"
   ]
  },
  {
   "cell_type": "code",
   "execution_count": 101,
   "metadata": {
    "collapsed": false
   },
   "outputs": [
    {
     "name": "stdout",
     "output_type": "stream",
     "text": [
      "0.0\n",
      "(55961, 4)\n",
      "(55961, 3)\n"
     ]
    }
   ],
   "source": [
    "# Should be 0, ie p(<\\t>|<t>)\n",
    "print transition[9-1, 8-1]\n",
    "print input_matrix_dev.shape\n",
    "print input_matrix_test.shape"
   ]
  },
  {
   "cell_type": "code",
   "execution_count": 103,
   "metadata": {
    "collapsed": false
   },
   "outputs": [],
   "source": [
    "# Saving pre-processing\n",
    "filename = '../data/words_feature.hdf5'\n",
    "with h5py.File(filename, \"w\") as f:\n",
    "    # Model\n",
    "    f['emission'] = emission\n",
    "    f['transition'] = transition\n",
    "    \n",
    "    f['input_matrix_train'] = input_matrix_train\n",
    "    f['input_matrix_dev'] = input_matrix_dev\n",
    "    f['input_matrix_test'] = input_matrix_test"
   ]
  },
  {
   "cell_type": "code",
   "execution_count": 104,
   "metadata": {
    "collapsed": false
   },
   "outputs": [
    {
     "data": {
      "text/plain": [
       "array([[ 1,  1,  1,  8],\n",
       "       [ 2,  2,  3,  4],\n",
       "       [ 3,  3,  4,  1],\n",
       "       [ 4,  4,  5,  5],\n",
       "       [ 5,  5,  6,  1],\n",
       "       [ 6,  6,  7,  1],\n",
       "       [ 7,  7,  8,  1],\n",
       "       [ 8,  8,  9,  5],\n",
       "       [ 9,  9, 10,  1],\n",
       "       [10, 10, 11,  1],\n",
       "       [11, 11,  2,  9],\n",
       "       [12,  1,  1,  8],\n",
       "       [13,  2, 12,  2],\n",
       "       [14,  3, 13,  2],\n",
       "       [15,  4,  2,  9],\n",
       "       [16,  1,  1,  8],\n",
       "       [17,  2, 14,  3],\n",
       "       [18,  3, 15,  1],\n",
       "       [19,  4,  2,  9],\n",
       "       [20,  1,  1,  8],\n",
       "       [21,  2, 16,  1],\n",
       "       [22,  3, 17,  4],\n",
       "       [23,  4, 18,  4],\n",
       "       [24,  5, 19,  1],\n",
       "       [25,  6, 20,  1],\n",
       "       [26,  7, 21,  1],\n",
       "       [27,  8, 22,  1],\n",
       "       [28,  9, 23,  1],\n",
       "       [29, 10, 24,  1],\n",
       "       [30, 11,  5,  5]])"
      ]
     },
     "execution_count": 104,
     "metadata": {},
     "output_type": "execute_result"
    }
   ],
   "source": [
    "input_matrix_dev[:30,:]"
   ]
  },
  {
   "cell_type": "code",
   "execution_count": 105,
   "metadata": {
    "collapsed": false
   },
   "outputs": [
    {
     "name": "stdout",
     "output_type": "stream",
     "text": [
      "{'I-LOC': 3, '<\\t>': 9, 'I-PER': 2, '<t>': 8, 'O': 1, 'I-MISC': 5, 'B-MISC': 6, 'I-ORG': 4, 'B-LOC': 7}\n",
      "Transision to <t>\n",
      "[    0.     0.     0.     0.     0.     0.     0.     0.  3344.]\n",
      "Transision to <\\t>\n",
      "[ 3159.    84.    43.    27.    32.     0.     0.     0.     0.]\n"
     ]
    }
   ],
   "source": [
    "print(tag2index)\n",
    "print 'Transision to <t>'\n",
    "print transition[8-1]\n",
    "print 'Transision to <\\\\t>'\n",
    "print transition[9-1]"
   ]
  },
  {
   "cell_type": "code",
   "execution_count": null,
   "metadata": {
    "collapsed": true
   },
   "outputs": [],
   "source": [
    "# TODO: implement a function to evaluate the predicted sequence ()"
   ]
  }
 ],
 "metadata": {
  "kernelspec": {
   "display_name": "Python 2",
   "language": "python",
   "name": "python2"
  },
  "language_info": {
   "codemirror_mode": {
    "name": "ipython",
    "version": 2
   },
   "file_extension": ".py",
   "mimetype": "text/x-python",
   "name": "python",
   "nbconvert_exporter": "python",
   "pygments_lexer": "ipython2",
   "version": "2.7.11"
  }
 },
 "nbformat": 4,
 "nbformat_minor": 0
}
