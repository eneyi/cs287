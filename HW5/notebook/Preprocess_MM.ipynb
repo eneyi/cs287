{
 "cells": [
  {
   "cell_type": "code",
   "execution_count": 2,
   "metadata": {
    "collapsed": false
   },
   "outputs": [],
   "source": [
    "import numpy as np\n",
    "import h5py as p"
   ]
  },
  {
   "cell_type": "code",
   "execution_count": 3,
   "metadata": {
    "collapsed": true
   },
   "outputs": [],
   "source": [
    "words = []\n",
    "with open('../data/glove.6B.50d.txt') as f:\n",
    "    for l in f:\n",
    "        words.append(l.split()[0])"
   ]
  },
  {
   "cell_type": "code",
   "execution_count": 7,
   "metadata": {
    "collapsed": false
   },
   "outputs": [],
   "source": [
    "embeddings = np.zeros((len(words),50))\n",
    "i = 0\n",
    "with open('../data/glove.6B.50d.txt') as f:\n",
    "    for l in f:\n",
    "        emb = [float(c) for c in l.split()[1:]]\n",
    "        embeddings[i] = emb\n",
    "        i+=1"
   ]
  },
  {
   "cell_type": "code",
   "execution_count": 31,
   "metadata": {
    "collapsed": false
   },
   "outputs": [],
   "source": [
    "word_ind = dict(zip(words, [x+1 for x in range(len(words))]))\n",
    "word_ind['<s>'] = len(words) + 1\n",
    "word_ind['<\\s>'] = len(words) + 2\n",
    "ind_word = {}\n",
    "for k,v in word_ind.items():\n",
    "    ind_word[v] = k"
   ]
  },
  {
   "cell_type": "code",
   "execution_count": 16,
   "metadata": {
    "collapsed": false
   },
   "outputs": [
    {
     "name": "stdout",
     "output_type": "stream",
     "text": [
      "{'I-LOC': 3, '<\\t>': 9, 'I-PER': 2, '<t>': 8, 'O': 1, 'I-MISC': 5, 'B-MISC': 6, 'I-ORG': 4, 'B-LOC': 7}\n"
     ]
    }
   ],
   "source": [
    "# Tags mapping\n",
    "tag2index = {}\n",
    "\n",
    "with open('../data/tags.txt', 'r') as f:\n",
    "    for line in f:\n",
    "        line_split = line[:-1].split(' ')\n",
    "        tag2index[line_split[0]] = int(line_split[1])\n",
    "\n",
    "# Adding tags for end/start of sentence\n",
    "tag2index['<t>'] = 8\n",
    "tag2index['<\\t>'] = 9\n",
    "print(tag2index)"
   ]
  },
  {
   "cell_type": "code",
   "execution_count": 23,
   "metadata": {
    "collapsed": false
   },
   "outputs": [
    {
     "data": {
      "text/plain": [
       "13217"
      ]
     },
     "execution_count": 23,
     "metadata": {},
     "output_type": "execute_result"
    }
   ],
   "source": [
    "word_ind['strawberry']"
   ]
  },
  {
   "cell_type": "code",
   "execution_count": 51,
   "metadata": {
    "collapsed": true
   },
   "outputs": [],
   "source": [
    "def count_elements(filename, tags=True):\n",
    "    # Counting the number of elements to stored (ie num_words + 2*num_sentences)\n",
    "    num_words = 0\n",
    "    num_sentences = 0\n",
    "    with open(filename, 'r') as f:\n",
    "        for line in f:\n",
    "            if tags:\n",
    "                line_split = line[:-1].split('\\t')\n",
    "            else:\n",
    "                line_split = line[:-1].split(' ')\n",
    "            # Case blank\n",
    "            if len(line_split) == 1:\n",
    "                num_sentences += 1\n",
    "            else:\n",
    "                num_words += 1\n",
    "\n",
    "    return num_words, num_sentences\n",
    "\n",
    "def build_input_matrix(filename ,num_rows, tag2index, tags=True, word2index=None):\n",
    "    # Building input matrix with columns: (id, id_in_sentence, id_word, id_tag)\n",
    "    # Tags: if correct solution given (ie 4th column)\n",
    "    # word2index: if use of previously built word2index mapping\n",
    "    input_matrix = np.zeros((num_rows, 4), dtype=int)\n",
    "    input_matrix[0] = [1,1,word2index['<s>'],8]\n",
    "    row = 1\n",
    "    # Boolean to indicate if a sentence is starting\n",
    "    starting = False\n",
    "    # Boolean if a mapping is defined (last element of the mapping is for unknown words)\n",
    "    if word2index==None:\n",
    "        test = False\n",
    "        word2index = {'<s>': 1, '<\\s>': 2}\n",
    "        id_word = 3\n",
    "    else:\n",
    "        test = True\n",
    "    with open(filename, 'r') as f:\n",
    "        for line in f:\n",
    "            if tags:\n",
    "                line_split = line[:-1].split('\\t')\n",
    "            else:\n",
    "                line_split = line[:-1].split(' ')\n",
    "            if starting == True:\n",
    "                # Start of sentence\n",
    "                input_matrix[row, 0] = input_matrix[row-1, 0] + 1\n",
    "                input_matrix[row, 1] = 1\n",
    "                input_matrix[row, 2] = word2index['<s>']\n",
    "                input_matrix[row, 3] = 8\n",
    "                row+=1\n",
    "                starting = False\n",
    "            if len(line_split) == 1:\n",
    "                # End of sentence\n",
    "                input_matrix[row, :2] = input_matrix[row-1, :2] + 1\n",
    "                input_matrix[row, 2] = word2index['<\\s>']\n",
    "                input_matrix[row, 3] = 9\n",
    "                row+=1\n",
    "                starting = True\n",
    "            else:\n",
    "                input_matrix[row, 0] = input_matrix[row-1, 0] + 1\n",
    "                input_matrix[row, 1] = int(line_split[1]) + 1\n",
    "                word_clean = line_split[2].lower()\n",
    "                if not test:\n",
    "                    if word_clean not in word2index:\n",
    "                        word2index[word_clean] = id_word\n",
    "                        id_word += 1\n",
    "                    input_matrix[row, 2] = word2index[word_clean]\n",
    "                else:\n",
    "                    # Unseen word during train\n",
    "                    if word_clean not in word2index:\n",
    "                        input_matrix[row, 2] = len(word2index)\n",
    "                    else:\n",
    "                        input_matrix[row, 2] = word2index[word_clean]\n",
    "                if tags:\n",
    "                    input_matrix[row, 3] = tag2index[line_split[3]]\n",
    "                row += 1\n",
    "    # Add special word if training\n",
    "    if not test:\n",
    "        word2index['<unk>'] = len(word2index)+1\n",
    "    if tags:\n",
    "        return input_matrix, word2index\n",
    "    else:\n",
    "        return input_matrix[:,:3], word2index"
   ]
  },
  {
   "cell_type": "code",
   "execution_count": 70,
   "metadata": {
    "collapsed": false
   },
   "outputs": [],
   "source": [
    "def input_mm(matrix):\n",
    "    \n",
    "    nwords = matrix.shape[0]\n",
    "    \n",
    "    res = np.zeros((nwords,10),dtype = int)\n",
    "    \n",
    "    res[:,0] = matrix[:,2]\n",
    "    \n",
    "    for i in range(nwords):\n",
    "        tag_1_hot = np.zeros(9)\n",
    "        tag_1_hot[matrix[i,3]-1] = 1\n",
    "        res[i,1:] = tag_1_hot\n",
    "    \n",
    "    return res"
   ]
  },
  {
   "cell_type": "code",
   "execution_count": 69,
   "metadata": {
    "collapsed": false
   },
   "outputs": [],
   "source": [
    "num_words, num_sentences = count_elements('../data/train.num.txt')\n",
    "num_rows = num_words + 2*num_sentences\n",
    "input_matrix_train, word2index = build_input_matrix('../data/train.num.txt', num_rows, tag2index, word2index = word_ind)"
   ]
  },
  {
   "cell_type": "code",
   "execution_count": 71,
   "metadata": {
    "collapsed": false
   },
   "outputs": [],
   "source": [
    "input_matrix_train_ = input_mm(input_matrix_train)"
   ]
  },
  {
   "cell_type": "code",
   "execution_count": 75,
   "metadata": {
    "collapsed": true
   },
   "outputs": [],
   "source": [
    "# Dev & test\n",
    "num_words, num_sentences = count_elements('../data/dev.num.txt')\n",
    "# Miss 1 blank line at the end of the file for the dev set\n",
    "num_rows = num_words + 2*num_sentences + 1\n",
    "input_matrix_dev, word2index = build_input_matrix('../data/dev.num.txt', num_rows, tag2index, word2index = word_ind)\n",
    "\n",
    "num_words, num_sentences = count_elements('../data/test.num.txt', tags=False)\n",
    "num_rows = num_words + 2*num_sentences\n",
    "input_matrix_test, word2index = build_input_matrix('../data/test.num.txt', num_rows, tag2index, tags=False, word2index = word_ind)"
   ]
  },
  {
   "cell_type": "code",
   "execution_count": 81,
   "metadata": {
    "collapsed": false
   },
   "outputs": [],
   "source": [
    "input_matrix_dev_ = input_mm(input_matrix_dev)\n",
    "input_matrix_test_ = input_matrix_test[:,2]"
   ]
  },
  {
   "cell_type": "code",
   "execution_count": 83,
   "metadata": {
    "collapsed": false
   },
   "outputs": [],
   "source": [
    "# Saving pre-processing\n",
    "filename = '../data/MM_data.hdf5'\n",
    "with p.File(filename, \"w\") as f:\n",
    "    # Model\n",
    "    f['input_matrix_train'] = input_matrix_train_\n",
    "    f['input_matrix_dev'] = input_matrix_dev_\n",
    "    f['input_matrix_test'] = input_matrix_test_"
   ]
  },
  {
   "cell_type": "code",
   "execution_count": null,
   "metadata": {
    "collapsed": true
   },
   "outputs": [],
   "source": []
  }
 ],
 "metadata": {
  "kernelspec": {
   "display_name": "Python 2",
   "language": "python",
   "name": "python2"
  },
  "language_info": {
   "codemirror_mode": {
    "name": "ipython",
    "version": 2
   },
   "file_extension": ".py",
   "mimetype": "text/x-python",
   "name": "python",
   "nbconvert_exporter": "python",
   "pygments_lexer": "ipython2",
   "version": "2.7.11"
  }
 },
 "nbformat": 4,
 "nbformat_minor": 0
}
