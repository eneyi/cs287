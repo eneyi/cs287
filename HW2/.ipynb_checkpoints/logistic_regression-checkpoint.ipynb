{
 "cells": [
  {
   "cell_type": "code",
   "execution_count": 1,
   "metadata": {
    "collapsed": false
   },
   "outputs": [],
   "source": [
    "require 'nn'\n",
    "require 'hdf5'"
   ]
  },
  {
   "cell_type": "markdown",
   "metadata": {},
   "source": [
    "### LOADING THE DATA AND CONVERTING IT TO LOGREG FW:"
   ]
  },
  {
   "cell_type": "code",
   "execution_count": 2,
   "metadata": {
    "collapsed": false
   },
   "outputs": [],
   "source": [
    "myFile = hdf5.open('PTB.hdf5','r')"
   ]
  },
  {
   "cell_type": "code",
   "execution_count": 3,
   "metadata": {
    "collapsed": false
   },
   "outputs": [],
   "source": [
    "data = myFile:all()\n",
    "myFile:close()"
   ]
  },
  {
   "cell_type": "code",
   "execution_count": 4,
   "metadata": {
    "collapsed": false
   },
   "outputs": [
    {
     "data": {
      "text/plain": [
       "{\n",
       "  train_output : LongTensor - size: 912666\n",
       "  train_input_cap_windows : LongTensor - size: 912666x5\n",
       "  test_input_word_windows : LongTensor - size: 129696x5\n",
       "  valid_output : LongTensor - size: 131808\n",
       "  valid_input_cap_windows : LongTensor - size: 131808x5\n",
       "  nwords : IntTensor - size: 1\n",
       "  test_input_cap_windows : LongTensor - size: 129696x5\n",
       "  train_input_word_windows : LongTensor - size: 912666x5\n",
       "  nclasses : IntTensor - size: 1\n",
       "  word_embeddings : DoubleTensor - size: 400002x50\n",
       "  valid_input_word_windows : LongTensor - size: 131808x5\n",
       "}\n"
      ]
     },
     "execution_count": 4,
     "metadata": {},
     "output_type": "execute_result"
    }
   ],
   "source": [
    "data"
   ]
  },
  {
   "cell_type": "code",
   "execution_count": 5,
   "metadata": {
    "collapsed": true
   },
   "outputs": [],
   "source": [
    "train_input_word_windows = data['train_input_word_windows']\n",
    "train_input_cap_windows = data['train_input_cap_windows']\n",
    "\n",
    "train = train_input_word_windows:clone()\n",
    "train_cap = train_input_cap_windows:clone()\n",
    "train_output = data['train_output']"
   ]
  },
  {
   "cell_type": "code",
   "execution_count": 6,
   "metadata": {
    "collapsed": false
   },
   "outputs": [],
   "source": [
    "train_cap = train_input_cap_windows:clone()\n",
    "for j = 1, 5 do\n",
    "    train:narrow(2,j,1):add((j-1)*100002)\n",
    "end\n",
    "for j = 1, 5 do\n",
    "    train_cap:narrow(2,j,1):add((j-1)*4)\n",
    "end"
   ]
  },
  {
   "cell_type": "code",
   "execution_count": 8,
   "metadata": {
    "collapsed": false
   },
   "outputs": [
    {
     "data": {
      "text/plain": [
       "100002\t\n"
      ]
     },
     "execution_count": 8,
     "metadata": {},
     "output_type": "execute_result"
    }
   ],
   "source": [
    "data['nwords'][1]"
   ]
  },
  {
   "cell_type": "code",
   "execution_count": 9,
   "metadata": {
    "collapsed": false
   },
   "outputs": [
    {
     "data": {
      "text/plain": [
       "45\t\n"
      ]
     },
     "execution_count": 9,
     "metadata": {},
     "output_type": "execute_result"
    }
   ],
   "source": [
    "data['nclasses'][1]"
   ]
  },
  {
   "cell_type": "markdown",
   "metadata": {},
   "source": [
    "### TRAINING:"
   ]
  },
  {
   "cell_type": "code",
   "execution_count": 74,
   "metadata": {
    "collapsed": false
   },
   "outputs": [],
   "source": [
    "\n",
    "par = nn.ParallelTable()\n",
    "\n",
    "par:add(nn.LookupTable(5*data['nwords'][1],data['nclasses'][1])) -- first child\n",
    "par:add(nn.LookupTable(5*4,data['nclasses'][1])) \n",
    "\n",
    "-- Logistic regression pipeline\n",
    "--Define the module\n",
    "linreg_wc = nn.Sequential()\n",
    "--Include the lookup tables\n",
    "linreg_wc:add(par)\n",
    "--Sum the lookup table per entry\n",
    "linreg_wc:add(nn.CAddTable())\n",
    "linreg_wc:add(nn.Sum(2))\n",
    "-- Add the bias b\n",
    "linreg_wc:add(nn.Add(45))\n",
    "linreg_wc:add(nn.LogSoftMax())\n",
    "\n",
    "-- Defining the criterion\n",
    "criterion = nn.ClassNLLCriterion()"
   ]
  },
  {
   "cell_type": "code",
   "execution_count": 72,
   "metadata": {
    "collapsed": false
   },
   "outputs": [],
   "source": [
    "-- Sanity check:\n",
    "preds = linreg_wc:forward({train:narrow(1,5, 10),train_cap:narrow(1,5, 10)})"
   ]
  },
  {
   "cell_type": "code",
   "execution_count": 73,
   "metadata": {
    "collapsed": false
   },
   "outputs": [
    {
     "data": {
      "text/plain": [
       " 0.9997\n",
       " 0.9996\n",
       " 0.9998\n",
       " 0.9997\n",
       " 0.9997\n",
       " 0.9997\n",
       " 0.9998\n",
       " 0.9997\n",
       " 0.9997\n",
       " 0.9998\n",
       "[torch.DoubleTensor of size 10x1]\n",
       "\n"
      ]
     },
     "execution_count": 73,
     "metadata": {},
     "output_type": "execute_result"
    }
   ],
   "source": [
    "preds:exp():sum(2)"
   ]
  },
  {
   "cell_type": "code",
   "execution_count": 18,
   "metadata": {
    "collapsed": false
   },
   "outputs": [
    {
     "data": {
      "text/plain": [
       "8.5759885310946\t\n"
      ]
     },
     "execution_count": 18,
     "metadata": {},
     "output_type": "execute_result"
    },
    {
     "data": {
      "text/plain": [
       "6.7818050887484\t\n"
      ]
     },
     "execution_count": 18,
     "metadata": {},
     "output_type": "execute_result"
    },
    {
     "data": {
      "text/plain": [
       "6.0842318276842\t\n"
      ]
     },
     "execution_count": 18,
     "metadata": {},
     "output_type": "execute_result"
    },
    {
     "data": {
      "text/plain": [
       "5.1755214683275\t\n"
      ]
     },
     "execution_count": 18,
     "metadata": {},
     "output_type": "execute_result"
    },
    {
     "data": {
      "text/plain": [
       "5.228723004582\t\n"
      ]
     },
     "execution_count": 18,
     "metadata": {},
     "output_type": "execute_result"
    },
    {
     "data": {
      "text/plain": [
       "5.0174404883134\t\n"
      ]
     },
     "execution_count": 18,
     "metadata": {},
     "output_type": "execute_result"
    },
    {
     "data": {
      "text/plain": [
       "5.1613892500926\t\n"
      ]
     },
     "execution_count": 18,
     "metadata": {},
     "output_type": "execute_result"
    },
    {
     "data": {
      "text/plain": [
       "4.6790277431305\t\n"
      ]
     },
     "execution_count": 18,
     "metadata": {},
     "output_type": "execute_result"
    },
    {
     "data": {
      "text/plain": [
       "4.0471138986201\t\n"
      ]
     },
     "execution_count": 18,
     "metadata": {},
     "output_type": "execute_result"
    },
    {
     "data": {
      "text/plain": [
       "3.8357703021543\t\n"
      ]
     },
     "execution_count": 18,
     "metadata": {},
     "output_type": "execute_result"
    },
    {
     "data": {
      "text/plain": [
       "3.817613050954\t\n"
      ]
     },
     "execution_count": 18,
     "metadata": {},
     "output_type": "execute_result"
    },
    {
     "data": {
      "text/plain": [
       "4.3769468180343\t\n"
      ]
     },
     "execution_count": 18,
     "metadata": {},
     "output_type": "execute_result"
    },
    {
     "data": {
      "text/plain": [
       "3.7315103678902\t\n"
      ]
     },
     "execution_count": 18,
     "metadata": {},
     "output_type": "execute_result"
    },
    {
     "data": {
      "text/plain": [
       "3.7802154694901\t\n"
      ]
     },
     "execution_count": 18,
     "metadata": {},
     "output_type": "execute_result"
    },
    {
     "data": {
      "text/plain": [
       "3.9288410165105\t\n"
      ]
     },
     "execution_count": 18,
     "metadata": {},
     "output_type": "execute_result"
    },
    {
     "data": {
      "text/plain": [
       "3.6936996131465\t\n"
      ]
     },
     "execution_count": 18,
     "metadata": {},
     "output_type": "execute_result"
    },
    {
     "data": {
      "text/plain": [
       "3.363783605287\t\n"
      ]
     },
     "execution_count": 18,
     "metadata": {},
     "output_type": "execute_result"
    },
    {
     "data": {
      "text/plain": [
       "3.5276212550741\t\n"
      ]
     },
     "execution_count": 18,
     "metadata": {},
     "output_type": "execute_result"
    },
    {
     "data": {
      "text/plain": [
       "3.113692175301\t\n"
      ]
     },
     "execution_count": 18,
     "metadata": {},
     "output_type": "execute_result"
    },
    {
     "ename": "[string \"-- SGD ...\"]:14: bad argument #3 to 'narrow' (out of range at /Users/nicolasdrizard/torch/pkg/torch/lib/TH/generic/THTensor.c:351)\nstack traceback:\n\t[C]: in function 'narrow'\n\t[string \"-- SGD ...\"]:14: in main chunk\n\t[C]: in function 'xpcall'\n\t...colasdrizard/torch/install/share/lua/5.1/itorch/main.lua:179: in function <...colasdrizard/torch/install/share/lua/5.1/itorch/main.lua:143>\n\t...colasdrizard/torch/install/share/lua/5.1/lzmq/poller.lua:75: in function 'poll'\n\t...asdrizard/torch/install/share/lua/5.1/lzmq/impl/loop.lua:307: in function 'poll'\n\t...asdrizard/torch/install/share/lua/5.1/lzmq/impl/loop.lua:325: in function 'sleep_ex'\n\t...asdrizard/torch/install/share/lua/5.1/lzmq/impl/loop.lua:370: in function 'start'\n\t...colasdrizard/torch/install/share/lua/5.1/itorch/main.lua:350: in main chunk\n\t[C]: in function 'require'\n\t(command line):1: in main chunk\n\t[C]: at 0x010b30fbb0",
     "evalue": "",
     "output_type": "error",
     "traceback": [
      "[string \"-- SGD ...\"]:14: bad argument #3 to 'narrow' (out of range at /Users/nicolasdrizard/torch/pkg/torch/lib/TH/generic/THTensor.c:351)\nstack traceback:\n\t[C]: in function 'narrow'\n\t[string \"-- SGD ...\"]:14: in main chunk\n\t[C]: in function 'xpcall'\n\t...colasdrizard/torch/install/share/lua/5.1/itorch/main.lua:179: in function <...colasdrizard/torch/install/share/lua/5.1/itorch/main.lua:143>\n\t...colasdrizard/torch/install/share/lua/5.1/lzmq/poller.lua:75: in function 'poll'\n\t...asdrizard/torch/install/share/lua/5.1/lzmq/impl/loop.lua:307: in function 'poll'\n\t...asdrizard/torch/install/share/lua/5.1/lzmq/impl/loop.lua:325: in function 'sleep_ex'\n\t...asdrizard/torch/install/share/lua/5.1/lzmq/impl/loop.lua:370: in function 'start'\n\t...colasdrizard/torch/install/share/lua/5.1/itorch/main.lua:350: in main chunk\n\t[C]: in function 'require'\n\t(command line):1: in main chunk\n\t[C]: at 0x010b30fbb0"
     ]
    }
   ],
   "source": [
    "-- SGD on log reg\n",
    "eta = 0.01\n",
    "batch_size = 100\n",
    "input_w = torch.Tensor(batch_size,5)\n",
    "input_c = torch.Tensor(batch_size,5)\n",
    "targets = torch.Tensor(batch_size)\n",
    "\n",
    "for ep = 1,1 do\n",
    "    timer = torch.Timer()\n",
    "    for j = 1,train:size(1) - train:size(1) % batch_size, batch_size do\n",
    "        linreg_wc:zeroGradParameters()\n",
    "        input_w = train:narrow(1, j, batch_size)\n",
    "        input_c = train_cap:narrow(1, j, batch_size)\n",
    "        targets = train_output:narrow(1,j, batch_size)  \n",
    "        -- Forward pass\n",
    "        preds = linreg_wc:forward({input_w,input_c})\n",
    "        loss = criterion:forward(preds, targets)\n",
    "        \n",
    "        if j % 501 == 0 then\n",
    "            print(loss)\n",
    "        end\n",
    "        -- Backward pass\n",
    "        dLdpreds = criterion:backward(preds, targets)\n",
    "        linreg_wc:backward({input_w,input_c}, dLdpreds)\n",
    "        --- Updating parameters\n",
    "        linreg_wc:updateParameters(eta) \n",
    "    end\n",
    "    print('Time elapsed for epoch ' .. ep ..': ' .. timer:time().real .. ' seconds',\"\\n\")\n",
    "\n",
    "end"
   ]
  },
  {
   "cell_type": "code",
   "execution_count": 38,
   "metadata": {
    "collapsed": true
   },
   "outputs": [],
   "source": [
    "-- Log leg with only word feature\n",
    "--Define the module\n",
    "linreg_w = nn.Sequential()\n",
    "--Include the lookup tables\n",
    "linreg_w:add(nn.LookupTable(5*data['nwords'][1],data['nclasses'][1]))\n",
    "linreg_w:add(nn.Sum(2))\n",
    "-- Add the bias b\n",
    "linreg_w:add(nn.Add(45))\n",
    "linreg_w:add(nn.LogSoftMax())\n",
    "\n",
    "-- Defining the criterion\n",
    "criterion = nn.ClassNLLCriterion()"
   ]
  },
  {
   "cell_type": "code",
   "execution_count": 62,
   "metadata": {
    "collapsed": false
   },
   "outputs": [],
   "source": [
    "-- Sanity check:\n",
    "preds = linreg_w:forward(train[1]:view(1,5))"
   ]
  },
  {
   "cell_type": "code",
   "execution_count": 61,
   "metadata": {
    "collapsed": false
   },
   "outputs": [],
   "source": [
    "-- Building the dataset\n",
    "dataset={};\n",
    "for i=1,train:size(1) do \n",
    "  dataset[i] = {train[i]:view(1,5), train_output[i]}\n",
    "end\n",
    "function dataset:size() return train:size(1) end -- 100 examples\n"
   ]
  },
  {
   "cell_type": "code",
   "execution_count": 63,
   "metadata": {
    "collapsed": false
   },
   "outputs": [
    {
     "data": {
      "text/plain": [
       "{\n",
       "  1 : LongTensor - size: 1x5\n",
       "  2 : 11\n",
       "}\n"
      ]
     },
     "execution_count": 63,
     "metadata": {},
     "output_type": "execute_result"
    }
   ],
   "source": [
    "dataset[dataset:size()]"
   ]
  },
  {
   "cell_type": "code",
   "execution_count": 64,
   "metadata": {
    "collapsed": false
   },
   "outputs": [
    {
     "data": {
      "text/plain": [
       "# StochasticGradient: training\t\n"
      ]
     },
     "execution_count": 64,
     "metadata": {},
     "output_type": "execute_result"
    },
    {
     "data": {
      "text/plain": [
       "# current error = 1.3794849209672\t\n"
      ]
     },
     "execution_count": 64,
     "metadata": {},
     "output_type": "execute_result"
    },
    {
     "data": {
      "text/plain": [
       "# current error = 0.76052419663021\t\n"
      ]
     },
     "execution_count": 64,
     "metadata": {},
     "output_type": "execute_result"
    },
    {
     "data": {
      "text/plain": [
       "# current error = 0.61227595531347\t\n"
      ]
     },
     "execution_count": 64,
     "metadata": {},
     "output_type": "execute_result"
    },
    {
     "data": {
      "text/plain": [
       "# current error = 0.52964826351044\t\n"
      ]
     },
     "execution_count": 64,
     "metadata": {},
     "output_type": "execute_result"
    },
    {
     "data": {
      "text/plain": [
       "# current error = 0.47433221174542\t\n"
      ]
     },
     "execution_count": 64,
     "metadata": {},
     "output_type": "execute_result"
    },
    {
     "data": {
      "text/plain": [
       "# current error = 0.4337290418635\t\n"
      ]
     },
     "execution_count": 64,
     "metadata": {},
     "output_type": "execute_result"
    },
    {
     "data": {
      "text/plain": [
       "# current error = 0.40218224908772\t\n"
      ]
     },
     "execution_count": 64,
     "metadata": {},
     "output_type": "execute_result"
    },
    {
     "data": {
      "text/plain": [
       "# current error = 0.37669916538154\t\n"
      ]
     },
     "execution_count": 64,
     "metadata": {},
     "output_type": "execute_result"
    },
    {
     "data": {
      "text/plain": [
       "# current error = 0.35551716059799\t\n"
      ]
     },
     "execution_count": 64,
     "metadata": {},
     "output_type": "execute_result"
    },
    {
     "data": {
      "text/plain": [
       "# current error = 0.33752287632374\t\n"
      ]
     },
     "execution_count": 64,
     "metadata": {},
     "output_type": "execute_result"
    },
    {
     "data": {
      "text/plain": [
       "# current error = 0.32197378525984\t\n"
      ]
     },
     "execution_count": 64,
     "metadata": {},
     "output_type": "execute_result"
    },
    {
     "data": {
      "text/plain": [
       "# current error = 0.30835092001758\t\n"
      ]
     },
     "execution_count": 64,
     "metadata": {},
     "output_type": "execute_result"
    },
    {
     "data": {
      "text/plain": [
       "# current error = 0.2962778218484\t\n"
      ]
     },
     "execution_count": 64,
     "metadata": {},
     "output_type": "execute_result"
    },
    {
     "data": {
      "text/plain": [
       "# current error = 0.28547382819134\t\n"
      ]
     },
     "execution_count": 64,
     "metadata": {},
     "output_type": "execute_result"
    },
    {
     "data": {
      "text/plain": [
       "# current error = 0.27572522468948\t\n"
      ]
     },
     "execution_count": 64,
     "metadata": {},
     "output_type": "execute_result"
    },
    {
     "data": {
      "text/plain": [
       "# current error = 0.26686623912229\t\n"
      ]
     },
     "execution_count": 64,
     "metadata": {},
     "output_type": "execute_result"
    },
    {
     "data": {
      "text/plain": [
       "# current error = 0.25876604690913\t\n"
      ]
     },
     "execution_count": 64,
     "metadata": {},
     "output_type": "execute_result"
    },
    {
     "data": {
      "text/plain": [
       "# current error = 0.25131973564641\t\n"
      ]
     },
     "execution_count": 64,
     "metadata": {},
     "output_type": "execute_result"
    },
    {
     "data": {
      "text/plain": [
       "# current error = 0.24444194696155\t\n"
      ]
     },
     "execution_count": 64,
     "metadata": {},
     "output_type": "execute_result"
    },
    {
     "data": {
      "text/plain": [
       "# current error = 0.23806232528917\t\n"
      ]
     },
     "execution_count": 64,
     "metadata": {},
     "output_type": "execute_result"
    },
    {
     "data": {
      "text/plain": [
       "# current error = 0.23212223993658\t\n"
      ]
     },
     "execution_count": 64,
     "metadata": {},
     "output_type": "execute_result"
    },
    {
     "data": {
      "text/plain": [
       "# current error = 0.22657236499832\t\n"
      ]
     },
     "execution_count": 64,
     "metadata": {},
     "output_type": "execute_result"
    },
    {
     "data": {
      "text/plain": [
       "# current error = 0.22137086189557\t\n"
      ]
     },
     "execution_count": 64,
     "metadata": {},
     "output_type": "execute_result"
    },
    {
     "data": {
      "text/plain": [
       "# current error = 0.21648197102891\t\n"
      ]
     },
     "execution_count": 64,
     "metadata": {},
     "output_type": "execute_result"
    },
    {
     "data": {
      "text/plain": [
       "# current error = 0.2118749270897\t\n",
       "# StochasticGradient: you have reached the maximum number of iterations\t\n",
       "# training error = 0.2118749270897\t\n",
       "Time elapsed to train 5713.0099458694 seconds\t\n",
       "\t\n"
      ]
     },
     "execution_count": 64,
     "metadata": {},
     "output_type": "execute_result"
    }
   ],
   "source": [
    "-- Training using StochasticGradient\n",
    "timer = torch.Timer()\n",
    "\n",
    "trainer = nn.StochasticGradient(linreg_w, criterion)\n",
    "trainer.learningRate = 0.01\n",
    "trainer:train(dataset)\n",
    "\n",
    "print('Time elapsed to train ' .. timer:time().real .. ' seconds',\"\\n\")\n"
   ]
  },
  {
   "cell_type": "code",
   "execution_count": null,
   "metadata": {
    "collapsed": false
   },
   "outputs": [],
   "source": [
    "-- Computing the accuracy score\n",
    "\n",
    "val_word = data['valid_input_word_windows']:clone()\n",
    "for j = 1, 5 do\n",
    "    val_word:narrow(2,j,1):add((j-1)*100002)\n",
    "end\n",
    "\n",
    "train_word = train_input_word_windows:clone()\n",
    "for j = 1, 5 do\n",
    "    train_word:narrow(2,j,1):add((j-1)*100002)\n",
    "end\n",
    "\n",
    "val_output = data['valid_output']\n",
    "pred_validate = torch.Tensor(val_output:size(1), 45)    \n",
    "pred_train = torch.Tensor(train_output:size(1), 45)    \n",
    "\n",
    "pred_validate = linreg_w:forward(val_word)\n",
    "pred_train = linreg_w:forward(train_word)\n",
    "\n",
    "max,argmax_val = pred_validate:max(2)\n",
    "max,argmax_train = pred_train:max(2)\n",
    "\n",
    "acc_validate = 0\n",
    "for i = 1, val_output:size(1) do\n",
    "    if argmax_val[i][1] == val_output[i] then\n",
    "        acc_validate = acc_validate + 1\n",
    "    end\n",
    "end\n",
    "\n",
    "acc_train = 0\n",
    "for i = 1, train_output:size(1) do\n",
    "    if argmax_train[i][1] == train_output[i] then\n",
    "        acc_train = acc_train + 1\n",
    "    end\n",
    "end\n",
    "score_val = acc_validate/val_output:size(1)\n",
    "score_train = acc_train/train_output:size(1)\n",
    "print('Validation Score on Train is '..score_train)\n",
    "print('Validation Score on Validation is '..score_val)"
   ]
  },
  {
   "cell_type": "code",
   "execution_count": 78,
   "metadata": {
    "collapsed": false
   },
   "outputs": [
    {
     "data": {
      "text/plain": [
       "\n"
      ]
     },
     "execution_count": 78,
     "metadata": {},
     "output_type": "execute_result"
    }
   ],
   "source": [
    "--saving the model\n",
    "torch.save('model/log_reg_words_sgdmodule', linreg_w)"
   ]
  },
  {
   "cell_type": "code",
   "execution_count": 10,
   "metadata": {
    "collapsed": true
   },
   "outputs": [],
   "source": [
    "--loading the model\n",
    "linreg_w2 = torch.load('model/log_reg_words_sgdmodule')"
   ]
  },
  {
   "cell_type": "code",
   "execution_count": 11,
   "metadata": {
    "collapsed": false
   },
   "outputs": [],
   "source": [
    "-- Prediction on test with submission\n",
    "test_word = data['test_input_word_windows']:clone()\n",
    "for j = 1, 5 do\n",
    "    test_word:narrow(2,j,1):add((j-1)*100002)\n",
    "end  \n",
    "\n",
    "pred_val = linreg_w2:forward(test_word)\n",
    "max,argmax = pred_val:max(2)\n",
    "pred_test = argmax:view(argmax:size(1))\n",
    "\n",
    "myFile = hdf5.open('submission/pred_test_lgrw2.h5', 'w')\n",
    "myFile:write('Testpred', pred_test)\n",
    "myFile:close()"
   ]
  },
  {
   "cell_type": "code",
   "execution_count": 12,
   "metadata": {
    "collapsed": false
   },
   "outputs": [
    {
     "data": {
      "text/plain": [
       " 129696\n",
       "      5\n",
       "[torch.LongStorage of size 2]\n",
       "\n"
      ]
     },
     "execution_count": 12,
     "metadata": {},
     "output_type": "execute_result"
    }
   ],
   "source": [
    "test_word:size()"
   ]
  },
  {
   "cell_type": "markdown",
   "metadata": {},
   "source": [
    "### VALIDATION:"
   ]
  },
  {
   "cell_type": "code",
   "execution_count": null,
   "metadata": {
    "collapsed": true
   },
   "outputs": [],
   "source": [
    "val = data['valid_input_word_windows']:clone()\n",
    "for i = 1, val:size(1) do\n",
    "    for j = 1, 5 do\n",
    "        val[i][j] = (j-1)*100002 + val[i][j]\n",
    "    end\n",
    "end"
   ]
  },
  {
   "cell_type": "code",
   "execution_count": null,
   "metadata": {
    "collapsed": false
   },
   "outputs": [],
   "source": [
    "pred_val = linreg:forward(val)"
   ]
  },
  {
   "cell_type": "code",
   "execution_count": null,
   "metadata": {
    "collapsed": false
   },
   "outputs": [],
   "source": [
    "m,a = pred_val:max(2)"
   ]
  },
  {
   "cell_type": "code",
   "execution_count": null,
   "metadata": {
    "collapsed": false
   },
   "outputs": [],
   "source": [
    "acc = 0\n",
    "for i = 1, data['valid_output']:size(1) do\n",
    "    if a[i] == data['valid_output'][i] then\n",
    "        acc = acc + 1\n",
    "    end\n",
    "end\n",
    "print(acc)"
   ]
  },
  {
   "cell_type": "code",
   "execution_count": null,
   "metadata": {
    "collapsed": false
   },
   "outputs": [],
   "source": [
    "minibatch =  torch.range((j-1)*32+1, j*32):type('torch.LongTensor')"
   ]
  },
  {
   "cell_type": "code",
   "execution_count": null,
   "metadata": {
    "collapsed": false
   },
   "outputs": [],
   "source": [
    "preds = linreg:forward(train:index(1,minibatch))"
   ]
  },
  {
   "cell_type": "code",
   "execution_count": null,
   "metadata": {
    "collapsed": false
   },
   "outputs": [],
   "source": [
    "loss = mse:forward(preds, train_output:index(1,minibatch))\n",
    "        "
   ]
  },
  {
   "cell_type": "code",
   "execution_count": null,
   "metadata": {
    "collapsed": false
   },
   "outputs": [],
   "source": [
    "dLdpreds = mse:backward(preds, train_output:index(1,minibatch))"
   ]
  },
  {
   "cell_type": "code",
   "execution_count": null,
   "metadata": {
    "collapsed": false
   },
   "outputs": [],
   "source": [
    "linreg:backward(X, dLdpreds)"
   ]
  },
  {
   "cell_type": "code",
   "execution_count": null,
   "metadata": {
    "collapsed": false
   },
   "outputs": [],
   "source": [
    "x = torch.LongTensor({1,2,5})"
   ]
  },
  {
   "cell_type": "markdown",
   "metadata": {},
   "source": [
    "# Neural Network"
   ]
  },
  {
   "cell_type": "code",
   "execution_count": 37,
   "metadata": {
    "collapsed": true
   },
   "outputs": [],
   "source": [
    "-- We consider the built feature here\n",
    "train = train_input_word_windows:clone()\n",
    "train_cap = train_input_cap_windows:clone()"
   ]
  },
  {
   "cell_type": "code",
   "execution_count": 68,
   "metadata": {
    "collapsed": false
   },
   "outputs": [],
   "source": [
    "dim_hidden = 50\n",
    "--Define the module\n",
    "neuralnet = nn.Sequential()\n",
    "\n",
    "--Include the lookup tables\n",
    "par = nn.ParallelTable()\n",
    "par:add(nn.LookupTable(data['nwords'][1],dim_hidden)) -- first child\n",
    "par:add(nn.LookupTable(4,dim_hidden)) \n",
    "neuralnet:add(par)\n",
    "neuralnet:add(nn.JoinTable(2))\n",
    "neuralnet:add(nn.Sum(2))\n",
    "neuralnet:add(nn.Add(dim_hidden))\n",
    "\n",
    "neuralnet:add(nn.HardTanh())\n",
    "\n",
    "neuralnet:add(nn.Linear(dim_hidden, data['nclasses'][1]))\n",
    "\n",
    "neuralnet:add(nn.LogSoftMax())"
   ]
  },
  {
   "cell_type": "code",
   "execution_count": 69,
   "metadata": {
    "collapsed": false
   },
   "outputs": [
    {
     "data": {
      "text/plain": [
       "Columns 1 to 10\n",
       "-3.5962 -4.2215 -4.1170 -3.8959 -3.6312 -3.7165 -4.5518 -3.9529 -3.5245 -4.2977\n",
       "-3.4340 -4.2331 -3.6964 -4.4241 -3.6105 -3.6725 -4.6862 -3.9550 -3.7244 -4.0810\n",
       "-3.3154 -4.2613 -3.6201 -4.5602 -3.7432 -4.1401 -4.9231 -4.1541 -3.4159 -3.8672\n",
       "-3.0612 -4.2745 -3.7018 -4.5218 -3.7309 -4.0802 -4.7840 -4.4371 -3.6919 -3.7534\n",
       "-3.2799 -4.4429 -4.0336 -4.5856 -3.9522 -4.2439 -4.5083 -4.2309 -3.6249 -3.7930\n",
       "-3.3715 -4.4272 -4.0599 -4.5001 -4.0238 -4.1085 -4.7846 -4.3361 -4.1556 -3.8386\n",
       "-3.5181 -4.2999 -3.9501 -4.3822 -3.9080 -4.2246 -4.8384 -4.2082 -4.4227 -3.7632\n",
       "-3.3312 -4.3413 -4.1548 -3.9524 -4.4076 -3.9361 -4.3610 -4.6146 -3.9230 -4.2595\n",
       "-3.4954 -4.3472 -4.4896 -3.9317 -4.3473 -3.8965 -4.6478 -4.1858 -3.6541 -4.3944\n",
       "-3.3867 -3.9956 -4.2053 -3.9401 -4.3429 -3.7601 -4.7736 -4.3631 -4.0148 -4.1378\n",
       "\n",
       "Columns 11 to 20\n",
       "-4.1025 -4.2827 -4.6487 -4.1780 -3.8543 -3.0140 -4.3616 -4.0453 -3.5618 -5.3891\n",
       "-4.1973 -4.6493 -4.7937 -3.9179 -4.2769 -2.7979 -3.8504 -4.2713 -3.3121 -5.0489\n",
       "-4.2797 -4.5179 -4.6437 -3.9034 -4.1151 -3.1179 -4.3942 -4.6989 -3.6115 -5.0714\n",
       "-4.5441 -4.3684 -4.6842 -3.7413 -4.1051 -3.2681 -4.4222 -4.3820 -3.5845 -5.1423\n",
       "-4.2261 -4.4845 -4.3934 -3.8850 -3.8221 -3.3009 -4.5881 -4.5197 -3.6288 -5.3959\n",
       "-4.0291 -4.3237 -4.2766 -4.0120 -3.9888 -2.9357 -4.1275 -4.2662 -3.6852 -5.0031\n",
       "-4.0309 -4.4139 -4.2629 -4.2011 -3.9633 -3.2952 -3.9742 -4.0689 -3.5651 -5.1167\n",
       "-4.0500 -4.5934 -4.1475 -3.5301 -4.1614 -3.6423 -3.9033 -3.9693 -3.7281 -4.8070\n",
       "-3.6669 -4.4668 -4.1954 -4.1415 -3.7935 -3.5396 -4.3222 -4.2048 -3.6102 -5.4084\n",
       "-4.0406 -4.3677 -4.1191 -3.9034 -4.0424 -3.5340 -4.0556 -4.1768 -3.5385 -4.8624\n",
       "\n",
       "Columns 21 to 30\n",
       "-4.2968 -4.1167 -4.9590 -5.5237 -3.8420 -4.1904 -4.1729 -4.3075 -3.0599 -3.0727\n",
       "-4.4509 -4.1761 -5.2307 -5.0341 -4.0333 -4.3893 -3.8372 -4.4632 -3.4001 -3.0017\n",
       "-4.3215 -4.1385 -5.4963 -5.1343 -3.7019 -4.0978 -4.1561 -4.3328 -3.5989 -3.0805\n",
       "-4.4591 -3.8279 -5.2797 -5.3984 -3.5426 -3.9203 -4.2020 -4.2708 -3.7422 -3.1922\n",
       "-4.2761 -3.8731 -5.2997 -5.3724 -3.6004 -3.6863 -4.6726 -4.1493 -3.6293 -3.1348\n",
       "-4.4961 -3.6809 -5.0569 -5.3030 -3.4308 -3.9744 -4.4563 -4.1987 -3.6772 -3.4517\n",
       "-4.4090 -4.1412 -5.1133 -5.3409 -3.6175 -3.6733 -4.2169 -4.1924 -3.8004 -3.5289\n",
       "-4.7798 -3.8320 -4.6774 -4.9781 -3.3608 -3.7375 -4.0828 -3.6708 -4.0010 -3.3117\n",
       "-4.5430 -4.0038 -4.8926 -5.4106 -3.3166 -3.7636 -4.2596 -3.7792 -3.5609 -3.0525\n",
       "-4.5495 -3.8779 -4.7400 -5.2459 -3.3477 -3.8774 -3.7856 -3.8023 -3.4593 -3.1686\n",
       "\n",
       "Columns 31 to 40\n",
       "-3.5830 -4.0195 -3.8893 -2.7888 -4.0338 -3.0908 -3.9398 -3.0159 -4.5029 -3.7739\n",
       "-3.2721 -3.8055 -4.0232 -3.1617 -4.1608 -3.0762 -4.3328 -3.0628 -4.4326 -3.7776\n",
       "-3.3950 -3.9994 -4.4735 -3.0764 -3.7757 -2.7040 -4.1059 -2.9332 -4.1252 -4.0566\n",
       "-3.2581 -3.9626 -4.5806 -3.0092 -4.1045 -2.8282 -4.1150 -3.0581 -3.9677 -4.2489\n",
       "-3.3722 -4.0076 -4.2414 -2.9390 -3.9015 -2.7769 -3.8008 -2.9702 -3.9002 -3.9575\n",
       "-3.2765 -4.0111 -4.3897 -2.9531 -4.1251 -2.8899 -4.0218 -2.8867 -3.6951 -4.0617\n",
       "-3.1154 -3.8841 -4.2840 -2.9664 -4.1609 -3.0076 -3.8479 -3.0273 -3.6993 -3.7574\n",
       "-3.4417 -3.8390 -3.7630 -3.5776 -3.9541 -2.9848 -3.3643 -3.0598 -3.9841 -3.9330\n",
       "-3.7455 -3.8798 -3.7359 -3.4651 -3.9365 -3.1551 -3.2839 -2.6411 -3.8828 -4.0879\n",
       "-3.5263 -3.8117 -3.8953 -3.8309 -3.9792 -3.3345 -3.4311 -2.8608 -3.5605 -4.1709\n",
       "\n",
       "Columns 41 to 45\n",
       "-3.7212 -4.6452 -4.0148 -3.4196 -3.4614\n",
       "-3.3650 -4.3810 -4.2663 -3.1890 -3.7048\n",
       "-3.6155 -4.1211 -4.1643 -2.8149 -3.7934\n",
       "-3.5225 -4.2835 -3.9917 -2.7422 -3.7092\n",
       "-3.6890 -4.4173 -3.9921 -2.9607 -3.4964\n",
       "-3.5317 -4.4551 -4.2100 -2.8058 -3.5334\n",
       "-3.6383 -4.2962 -3.9702 -2.6683 -3.4040\n",
       "-3.9109 -4.1034 -4.4700 -2.6585 -3.5623\n",
       "-4.0271 -4.2328 -4.0645 -3.1653 -3.2705\n",
       "-3.5260 -4.0954 -4.3388 -3.2571 -3.2085\n",
       "[torch.DoubleTensor of size 10x45]\n",
       "\n"
      ]
     },
     "execution_count": 69,
     "metadata": {},
     "output_type": "execute_result"
    }
   ],
   "source": [
    "-- Test\n",
    "-- Batch with 10 element\n",
    "neuralnet:forward({train:narrow(1,5, 10),train_cap:narrow(1,5, 10)})"
   ]
  },
  {
   "cell_type": "code",
   "execution_count": 70,
   "metadata": {
    "collapsed": false
   },
   "outputs": [
    {
     "data": {
      "text/plain": [
       "3.8898707998767\t\n"
      ]
     },
     "execution_count": 70,
     "metadata": {},
     "output_type": "execute_result"
    },
    {
     "data": {
      "text/plain": [
       "2.8758456393912\t\n"
      ]
     },
     "execution_count": 70,
     "metadata": {},
     "output_type": "execute_result"
    },
    {
     "data": {
      "text/plain": [
       "3.2050669027685\t\n"
      ]
     },
     "execution_count": 70,
     "metadata": {},
     "output_type": "execute_result"
    },
    {
     "data": {
      "text/plain": [
       "2.6489577068804\t\n"
      ]
     },
     "execution_count": 70,
     "metadata": {},
     "output_type": "execute_result"
    },
    {
     "data": {
      "text/plain": [
       "2.7498094002453\t\n"
      ]
     },
     "execution_count": 70,
     "metadata": {},
     "output_type": "execute_result"
    },
    {
     "data": {
      "text/plain": [
       "2.6825000064236\t\n"
      ]
     },
     "execution_count": 70,
     "metadata": {},
     "output_type": "execute_result"
    },
    {
     "data": {
      "text/plain": [
       "2.824666045155\t\n"
      ]
     },
     "execution_count": 70,
     "metadata": {},
     "output_type": "execute_result"
    },
    {
     "data": {
      "text/plain": [
       "2.8477612160101\t\n"
      ]
     },
     "execution_count": 70,
     "metadata": {},
     "output_type": "execute_result"
    },
    {
     "data": {
      "text/plain": [
       "2.5235147998269\t\n"
      ]
     },
     "execution_count": 70,
     "metadata": {},
     "output_type": "execute_result"
    },
    {
     "data": {
      "text/plain": [
       "2.4288681396417\t\n"
      ]
     },
     "execution_count": 70,
     "metadata": {},
     "output_type": "execute_result"
    },
    {
     "data": {
      "text/plain": [
       "2.0892679645625\t\n"
      ]
     },
     "execution_count": 70,
     "metadata": {},
     "output_type": "execute_result"
    },
    {
     "data": {
      "text/plain": [
       "2.3904251976955\t\n"
      ]
     },
     "execution_count": 70,
     "metadata": {},
     "output_type": "execute_result"
    },
    {
     "data": {
      "text/plain": [
       "2.3317229213979\t\n"
      ]
     },
     "execution_count": 70,
     "metadata": {},
     "output_type": "execute_result"
    },
    {
     "data": {
      "text/plain": [
       "2.279531009562\t"
      ]
     },
     "execution_count": 70,
     "metadata": {},
     "output_type": "execute_result"
    },
    {
     "data": {
      "text/plain": [
       "\n"
      ]
     },
     "execution_count": 70,
     "metadata": {},
     "output_type": "execute_result"
    },
    {
     "data": {
      "text/plain": [
       "2.2933153697501\t\n"
      ]
     },
     "execution_count": 70,
     "metadata": {},
     "output_type": "execute_result"
    },
    {
     "data": {
      "text/plain": [
       "2.4274080248097\t\n"
      ]
     },
     "execution_count": 70,
     "metadata": {},
     "output_type": "execute_result"
    },
    {
     "data": {
      "text/plain": [
       "2.3171917513797\t\n"
      ]
     },
     "execution_count": 70,
     "metadata": {},
     "output_type": "execute_result"
    },
    {
     "data": {
      "text/plain": [
       "2.5087745416034\t\n"
      ]
     },
     "execution_count": 70,
     "metadata": {},
     "output_type": "execute_result"
    },
    {
     "data": {
      "text/plain": [
       "2.6062318466591\t\n"
      ]
     },
     "execution_count": 70,
     "metadata": {},
     "output_type": "execute_result"
    },
    {
     "data": {
      "text/plain": [
       "Time elapsed for epoch 1: 133.19005703926 seconds\t\n",
       "\t\n"
      ]
     },
     "execution_count": 70,
     "metadata": {},
     "output_type": "execute_result"
    },
    {
     "data": {
      "text/plain": [
       "Validation Score is 0.27003672007769\t\n"
      ]
     },
     "execution_count": 70,
     "metadata": {},
     "output_type": "execute_result"
    },
    {
     "data": {
      "text/plain": [
       "2.5026424602521\t\n"
      ]
     },
     "execution_count": 70,
     "metadata": {},
     "output_type": "execute_result"
    },
    {
     "data": {
      "text/plain": [
       "2.4207418009544\t\n"
      ]
     },
     "execution_count": 70,
     "metadata": {},
     "output_type": "execute_result"
    },
    {
     "data": {
      "text/plain": [
       "2.9260936587252\t\n"
      ]
     },
     "execution_count": 70,
     "metadata": {},
     "output_type": "execute_result"
    },
    {
     "data": {
      "text/plain": [
       "2.3913462837156\t\n"
      ]
     },
     "execution_count": 70,
     "metadata": {},
     "output_type": "execute_result"
    },
    {
     "data": {
      "text/plain": [
       "2.5835910207376\t\n"
      ]
     },
     "execution_count": 70,
     "metadata": {},
     "output_type": "execute_result"
    },
    {
     "data": {
      "text/plain": [
       "2.5235448919277\t\n"
      ]
     },
     "execution_count": 70,
     "metadata": {},
     "output_type": "execute_result"
    },
    {
     "data": {
      "text/plain": [
       "2.5935075353371\t\n"
      ]
     },
     "execution_count": 70,
     "metadata": {},
     "output_type": "execute_result"
    },
    {
     "data": {
      "text/plain": [
       "2.6714172192295\t\n"
      ]
     },
     "execution_count": 70,
     "metadata": {},
     "output_type": "execute_result"
    },
    {
     "data": {
      "text/plain": [
       "2.3902954409781\t\n"
      ]
     },
     "execution_count": 70,
     "metadata": {},
     "output_type": "execute_result"
    },
    {
     "data": {
      "text/plain": [
       "2.3054344427427\t\n"
      ]
     },
     "execution_count": 70,
     "metadata": {},
     "output_type": "execute_result"
    },
    {
     "data": {
      "text/plain": [
       "1.9977375704705\t\n"
      ]
     },
     "execution_count": 70,
     "metadata": {},
     "output_type": "execute_result"
    },
    {
     "data": {
      "text/plain": [
       "2.2906179356041\t\n"
      ]
     },
     "execution_count": 70,
     "metadata": {},
     "output_type": "execute_result"
    },
    {
     "data": {
      "text/plain": [
       "2.173673214273\t\n"
      ]
     },
     "execution_count": 70,
     "metadata": {},
     "output_type": "execute_result"
    },
    {
     "data": {
      "text/plain": [
       "2.1916890646751\t\n"
      ]
     },
     "execution_count": 70,
     "metadata": {},
     "output_type": "execute_result"
    },
    {
     "data": {
      "text/plain": [
       "2.2449466234562\t\n"
      ]
     },
     "execution_count": 70,
     "metadata": {},
     "output_type": "execute_result"
    },
    {
     "data": {
      "text/plain": [
       "2.3427394296164\t\n"
      ]
     },
     "execution_count": 70,
     "metadata": {},
     "output_type": "execute_result"
    },
    {
     "data": {
      "text/plain": [
       "2.2413542832905\t\n"
      ]
     },
     "execution_count": 70,
     "metadata": {},
     "output_type": "execute_result"
    },
    {
     "data": {
      "text/plain": [
       "2.4428794219126\t\n"
      ]
     },
     "execution_count": 70,
     "metadata": {},
     "output_type": "execute_result"
    },
    {
     "data": {
      "text/plain": [
       "2.5008728137761\t\n"
      ]
     },
     "execution_count": 70,
     "metadata": {},
     "output_type": "execute_result"
    },
    {
     "data": {
      "text/plain": [
       "Time elapsed for epoch 2: 135.79912805557 seconds\t\n",
       "\t\n"
      ]
     },
     "execution_count": 70,
     "metadata": {},
     "output_type": "execute_result"
    },
    {
     "data": {
      "text/plain": [
       "Validation Score is 0.27895878854091\t\n"
      ]
     },
     "execution_count": 70,
     "metadata": {},
     "output_type": "execute_result"
    },
    {
     "data": {
      "text/plain": [
       "2.4426967223651\t\n"
      ]
     },
     "execution_count": 70,
     "metadata": {},
     "output_type": "execute_result"
    },
    {
     "data": {
      "text/plain": [
       "2.2807296625277\t\n"
      ]
     },
     "execution_count": 70,
     "metadata": {},
     "output_type": "execute_result"
    },
    {
     "data": {
      "text/plain": [
       "2.8485047489928\t\n"
      ]
     },
     "execution_count": 70,
     "metadata": {},
     "output_type": "execute_result"
    },
    {
     "data": {
      "text/plain": [
       "2.3209873936175\t\n"
      ]
     },
     "execution_count": 70,
     "metadata": {},
     "output_type": "execute_result"
    },
    {
     "data": {
      "text/plain": [
       "2.5085282929789\t\n"
      ]
     },
     "execution_count": 70,
     "metadata": {},
     "output_type": "execute_result"
    },
    {
     "data": {
      "text/plain": [
       "2.4711013919259\t\n"
      ]
     },
     "execution_count": 70,
     "metadata": {},
     "output_type": "execute_result"
    },
    {
     "data": {
      "text/plain": [
       "2.511446725365\t\n"
      ]
     },
     "execution_count": 70,
     "metadata": {},
     "output_type": "execute_result"
    },
    {
     "data": {
      "text/plain": [
       "2.6047166009476\t\n"
      ]
     },
     "execution_count": 70,
     "metadata": {},
     "output_type": "execute_result"
    },
    {
     "data": {
      "text/plain": [
       "2.3006343727676\t\n"
      ]
     },
     "execution_count": 70,
     "metadata": {},
     "output_type": "execute_result"
    },
    {
     "data": {
      "text/plain": [
       "2.237735474894\t\n"
      ]
     },
     "execution_count": 70,
     "metadata": {},
     "output_type": "execute_result"
    },
    {
     "data": {
      "text/plain": [
       "1.9444604691873\t\n"
      ]
     },
     "execution_count": 70,
     "metadata": {},
     "output_type": "execute_result"
    },
    {
     "data": {
      "text/plain": [
       "2.2483355673351\t\n"
      ]
     },
     "execution_count": 70,
     "metadata": {},
     "output_type": "execute_result"
    },
    {
     "data": {
      "text/plain": [
       "2.1229075250767\t\n"
      ]
     },
     "execution_count": 70,
     "metadata": {},
     "output_type": "execute_result"
    },
    {
     "data": {
      "text/plain": [
       "2.16289014247\t\n"
      ]
     },
     "execution_count": 70,
     "metadata": {},
     "output_type": "execute_result"
    },
    {
     "data": {
      "text/plain": [
       "2.2093800835072\t\n"
      ]
     },
     "execution_count": 70,
     "metadata": {},
     "output_type": "execute_result"
    },
    {
     "data": {
      "text/plain": [
       "2.3294113295806\t\n"
      ]
     },
     "execution_count": 70,
     "metadata": {},
     "output_type": "execute_result"
    },
    {
     "data": {
      "text/plain": [
       "2.1884962024668\t\n"
      ]
     },
     "execution_count": 70,
     "metadata": {},
     "output_type": "execute_result"
    },
    {
     "data": {
      "text/plain": [
       "2.4100095277122\t\n"
      ]
     },
     "execution_count": 70,
     "metadata": {},
     "output_type": "execute_result"
    },
    {
     "data": {
      "text/plain": [
       "2.4478439951989\t\n"
      ]
     },
     "execution_count": 70,
     "metadata": {},
     "output_type": "execute_result"
    },
    {
     "data": {
      "text/plain": [
       "Time elapsed for epoch 3: 137.39781308174 seconds\t\n",
       "\t\n"
      ]
     },
     "execution_count": 70,
     "metadata": {},
     "output_type": "execute_result"
    },
    {
     "data": {
      "text/plain": [
       "Validation Score is 0.28297978878369\t\n"
      ]
     },
     "execution_count": 70,
     "metadata": {},
     "output_type": "execute_result"
    },
    {
     "data": {
      "text/plain": [
       "2.4137918961129\t\n"
      ]
     },
     "execution_count": 70,
     "metadata": {},
     "output_type": "execute_result"
    },
    {
     "data": {
      "text/plain": [
       "2.221003558904\t\n"
      ]
     },
     "execution_count": 70,
     "metadata": {},
     "output_type": "execute_result"
    },
    {
     "data": {
      "text/plain": [
       "2.800579300496\t\n"
      ]
     },
     "execution_count": 70,
     "metadata": {},
     "output_type": "execute_result"
    },
    {
     "data": {
      "text/plain": [
       "2.2728064140365\t\n"
      ]
     },
     "execution_count": 70,
     "metadata": {},
     "output_type": "execute_result"
    },
    {
     "data": {
      "text/plain": [
       "2.4554092595734\t\n"
      ]
     },
     "execution_count": 70,
     "metadata": {},
     "output_type": "execute_result"
    },
    {
     "data": {
      "text/plain": [
       "2.435090223665\t\n"
      ]
     },
     "execution_count": 70,
     "metadata": {},
     "output_type": "execute_result"
    },
    {
     "data": {
      "text/plain": [
       "2.4375065388558\t\n"
      ]
     },
     "execution_count": 70,
     "metadata": {},
     "output_type": "execute_result"
    },
    {
     "data": {
      "text/plain": [
       "2.5698927281729\t\n"
      ]
     },
     "execution_count": 70,
     "metadata": {},
     "output_type": "execute_result"
    },
    {
     "data": {
      "text/plain": [
       "2.266079469031\t\n"
      ]
     },
     "execution_count": 70,
     "metadata": {},
     "output_type": "execute_result"
    },
    {
     "data": {
      "text/plain": [
       "2.2246176394618\t\n"
      ]
     },
     "execution_count": 70,
     "metadata": {},
     "output_type": "execute_result"
    },
    {
     "data": {
      "text/plain": [
       "1.9169782289405\t\n"
      ]
     },
     "execution_count": 70,
     "metadata": {},
     "output_type": "execute_result"
    },
    {
     "data": {
      "text/plain": [
       "2.2189973124291\t\n"
      ]
     },
     "execution_count": 70,
     "metadata": {},
     "output_type": "execute_result"
    },
    {
     "data": {
      "text/plain": [
       "2.089657313294\t\n"
      ]
     },
     "execution_count": 70,
     "metadata": {},
     "output_type": "execute_result"
    },
    {
     "data": {
      "text/plain": [
       "2.1506508859938\t\n"
      ]
     },
     "execution_count": 70,
     "metadata": {},
     "output_type": "execute_result"
    },
    {
     "data": {
      "text/plain": [
       "2.176215433173\t\n"
      ]
     },
     "execution_count": 70,
     "metadata": {},
     "output_type": "execute_result"
    },
    {
     "data": {
      "text/plain": [
       "2.2970164518705\t\n"
      ]
     },
     "execution_count": 70,
     "metadata": {},
     "output_type": "execute_result"
    },
    {
     "data": {
      "text/plain": [
       "2.1496671113838\t\n"
      ]
     },
     "execution_count": 70,
     "metadata": {},
     "output_type": "execute_result"
    },
    {
     "data": {
      "text/plain": [
       "2.3967529970368\t\n"
      ]
     },
     "execution_count": 70,
     "metadata": {},
     "output_type": "execute_result"
    },
    {
     "data": {
      "text/plain": [
       "2.4053921924961\t\n"
      ]
     },
     "execution_count": 70,
     "metadata": {},
     "output_type": "execute_result"
    },
    {
     "data": {
      "text/plain": [
       "Time elapsed for epoch 4: 128.47289800644 seconds\t\n",
       "\t\n"
      ]
     },
     "execution_count": 70,
     "metadata": {},
     "output_type": "execute_result"
    },
    {
     "data": {
      "text/plain": [
       "Validation Score is 0.28690216071862\t\n"
      ]
     },
     "execution_count": 70,
     "metadata": {},
     "output_type": "execute_result"
    },
    {
     "data": {
      "text/plain": [
       "2.3846665795851\t\n"
      ]
     },
     "execution_count": 70,
     "metadata": {},
     "output_type": "execute_result"
    },
    {
     "data": {
      "text/plain": [
       "2.1726820256113\t\n"
      ]
     },
     "execution_count": 70,
     "metadata": {},
     "output_type": "execute_result"
    },
    {
     "data": {
      "text/plain": [
       "2.7494483592059\t\n"
      ]
     },
     "execution_count": 70,
     "metadata": {},
     "output_type": "execute_result"
    },
    {
     "data": {
      "text/plain": [
       "2.2367228155743\t\n"
      ]
     },
     "execution_count": 70,
     "metadata": {},
     "output_type": "execute_result"
    },
    {
     "data": {
      "text/plain": [
       "2.4231323891795\t\n"
      ]
     },
     "execution_count": 70,
     "metadata": {},
     "output_type": "execute_result"
    },
    {
     "data": {
      "text/plain": [
       "2.4146110312395\t\n"
      ]
     },
     "execution_count": 70,
     "metadata": {},
     "output_type": "execute_result"
    },
    {
     "data": {
      "text/plain": [
       "2.3846809001856\t\n"
      ]
     },
     "execution_count": 70,
     "metadata": {},
     "output_type": "execute_result"
    },
    {
     "data": {
      "text/plain": [
       "2.5437790932748\t\n"
      ]
     },
     "execution_count": 70,
     "metadata": {},
     "output_type": "execute_result"
    },
    {
     "data": {
      "text/plain": [
       "2.248394048677\t\n"
      ]
     },
     "execution_count": 70,
     "metadata": {},
     "output_type": "execute_result"
    },
    {
     "data": {
      "text/plain": [
       "2.2121803073311\t\n"
      ]
     },
     "execution_count": 70,
     "metadata": {},
     "output_type": "execute_result"
    },
    {
     "data": {
      "text/plain": [
       "1.9011909215113\t\n"
      ]
     },
     "execution_count": 70,
     "metadata": {},
     "output_type": "execute_result"
    },
    {
     "data": {
      "text/plain": [
       "2.203171600584\t\n"
      ]
     },
     "execution_count": 70,
     "metadata": {},
     "output_type": "execute_result"
    },
    {
     "data": {
      "text/plain": [
       "2.0703786126542\t\n"
      ]
     },
     "execution_count": 70,
     "metadata": {},
     "output_type": "execute_result"
    },
    {
     "data": {
      "text/plain": [
       "2.1415262288633\t\n"
      ]
     },
     "execution_count": 70,
     "metadata": {},
     "output_type": "execute_result"
    },
    {
     "data": {
      "text/plain": [
       "2.1514558319843\t\n"
      ]
     },
     "execution_count": 70,
     "metadata": {},
     "output_type": "execute_result"
    },
    {
     "data": {
      "text/plain": [
       "2.2566647599768\t\n"
      ]
     },
     "execution_count": 70,
     "metadata": {},
     "output_type": "execute_result"
    },
    {
     "data": {
      "text/plain": [
       "2.1380294547215\t\n"
      ]
     },
     "execution_count": 70,
     "metadata": {},
     "output_type": "execute_result"
    },
    {
     "data": {
      "text/plain": [
       "2.3833049599876\t\n"
      ]
     },
     "execution_count": 70,
     "metadata": {},
     "output_type": "execute_result"
    },
    {
     "data": {
      "text/plain": [
       "2.3712172783666\t\n"
      ]
     },
     "execution_count": 70,
     "metadata": {},
     "output_type": "execute_result"
    },
    {
     "data": {
      "text/plain": [
       "Time elapsed for epoch 5: 135.55886483192 seconds\t\n",
       "\t\n"
      ]
     },
     "execution_count": 70,
     "metadata": {},
     "output_type": "execute_result"
    },
    {
     "data": {
      "text/plain": [
       "Validation Score is 0.28950443068706\t\n"
      ]
     },
     "execution_count": 70,
     "metadata": {},
     "output_type": "execute_result"
    }
   ],
   "source": [
    "-- SGD on neuralnet\n",
    "eta = 0.01\n",
    "batch_size = 100\n",
    "input_w = torch.Tensor(batch_size,5)\n",
    "input_c = torch.Tensor(batch_size,5)\n",
    "targets = torch.Tensor(batch_size)\n",
    "\n",
    "-- For the Accuracy on the validation set\n",
    "val_word = data['valid_input_word_windows']:clone()\n",
    "val_cap = data['valid_input_cap_windows']:clone()\n",
    "\n",
    "val_output = data['valid_output']\n",
    "pred_val = torch.Tensor(val_output:size(1), 45)\n",
    "\n",
    "criterion = nn.ClassNLLCriterion()\n",
    "\n",
    "for ep = 1,5 do\n",
    "    timer = torch.Timer()\n",
    "    -- To be sure to consider only batch of the same size\n",
    "    for j = 1,train:size(1) - train:size(1) % batch_size, batch_size do\n",
    "        neuralnet:zeroGradParameters()\n",
    "        input_w = train:narrow(1, j, batch_size)\n",
    "        input_c = train_cap:narrow(1, j, batch_size)\n",
    "        targets = train_output:narrow(1,j, batch_size)  \n",
    "        -- Forward pass\n",
    "        preds = neuralnet:forward({input_w,input_c})\n",
    "        loss = criterion:forward(preds, targets)\n",
    "        \n",
    "        if j % 501 == 0 then\n",
    "            print(loss)\n",
    "        end\n",
    "        -- Backward pass\n",
    "        dLdpreds = criterion:backward(preds, targets)\n",
    "        neuralnet:backward({input_w,input_c}, dLdpreds)\n",
    "        --- Updating parameters\n",
    "        neuralnet:updateParameters(eta) \n",
    "    end\n",
    "    print('Time elapsed for epoch ' .. ep ..': ' .. timer:time().real .. ' seconds',\"\\n\")\n",
    "    -- Evaluating the accuracy on the validation set\n",
    "    pred_val = neuralnet:forward({val_word, val_cap})\n",
    "    max,argmax = pred_val:max(2)\n",
    "\n",
    "    acc = 0\n",
    "    for i = 1, val_output:size(1) do\n",
    "        if argmax[i][1] == val_output[i] then\n",
    "            acc = acc + 1\n",
    "        end\n",
    "    end\n",
    "    score = acc/val_output:size(1)\n",
    "    print('Validation Score is '..score)\n",
    "\n",
    "end"
   ]
  },
  {
   "cell_type": "markdown",
   "metadata": {},
   "source": [
    "# Neural Network with pretrained embeddings"
   ]
  },
  {
   "cell_type": "code",
   "execution_count": null,
   "metadata": {
    "collapsed": true
   },
   "outputs": [],
   "source": []
  }
 ],
 "metadata": {
  "kernelspec": {
   "display_name": "iTorch",
   "language": "lua",
   "name": "itorch"
  },
  "language_info": {
   "name": "lua",
   "version": "20100"
  }
 },
 "nbformat": 4,
 "nbformat_minor": 0
}
