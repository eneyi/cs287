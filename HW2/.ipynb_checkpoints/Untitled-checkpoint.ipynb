{
 "cells": [
  {
   "cell_type": "code",
   "execution_count": 1,
   "metadata": {
    "collapsed": false
   },
   "outputs": [],
   "source": [
    "require 'nn'\n",
    "require 'hdf5'"
   ]
  },
  {
   "cell_type": "code",
   "execution_count": 2,
   "metadata": {
    "collapsed": false
   },
   "outputs": [],
   "source": [
    "myFile = hdf5.open('PTB.hdf5','r')"
   ]
  },
  {
   "cell_type": "code",
   "execution_count": 3,
   "metadata": {
    "collapsed": false
   },
   "outputs": [],
   "source": [
    "data = myFile:all()\n",
    "myFile:close()"
   ]
  },
  {
   "cell_type": "code",
   "execution_count": 10,
   "metadata": {
    "collapsed": false
   },
   "outputs": [
    {
     "data": {
      "text/plain": [
       "{\n",
       "  train_output : LongTensor - size: 912666\n",
       "  train_input_cap_windows : LongTensor - size: 912666x5\n",
       "  test_input_word_windows : LongTensor - size: 129696x5\n",
       "  valid_output : LongTensor - size: 131808\n",
       "  valid_input_cap_windows : LongTensor - size: 131808x5\n",
       "  nwords : IntTensor - size: 1\n",
       "  test_input_cap_windows : LongTensor - size: 129696x5\n",
       "  train_input_word_windows : LongTensor - size: 912666x5\n",
       "  nclasses : IntTensor - size: 1\n",
       "  word_embeddings : DoubleTensor - size: 400002x50\n",
       "  valid_input_word_windows : LongTensor - size: 131808x5\n",
       "}\n"
      ]
     },
     "execution_count": 10,
     "metadata": {},
     "output_type": "execute_result"
    }
   ],
   "source": [
    "data"
   ]
  },
  {
   "cell_type": "code",
   "execution_count": 4,
   "metadata": {
    "collapsed": true
   },
   "outputs": [],
   "source": [
    "train_input_word_windows = data['train_input_word_windows']\n",
    "train_output = data['train_output']"
   ]
  },
  {
   "cell_type": "code",
   "execution_count": 5,
   "metadata": {
    "collapsed": false
   },
   "outputs": [],
   "source": [
    "train = train_input_word_windows:clone()"
   ]
  },
  {
   "cell_type": "code",
   "execution_count": 6,
   "metadata": {
    "collapsed": false
   },
   "outputs": [],
   "source": [
    "for i = 1, train:size(1) do\n",
    "    for j = 1, 5 do\n",
    "        train[i][j] = (j-1)*100002 + train[i][j]\n",
    "    end\n",
    "end"
   ]
  },
  {
   "cell_type": "code",
   "execution_count": 7,
   "metadata": {
    "collapsed": false
   },
   "outputs": [],
   "source": [
    "linreg = nn.Sequential()"
   ]
  },
  {
   "cell_type": "code",
   "execution_count": 8,
   "metadata": {
    "collapsed": false
   },
   "outputs": [],
   "source": [
    "linreg:add(nn.LookupTable(5*data['nwords'][1],data['nclasses'][1]))\n",
    "linreg:add(nn.Sum(2))\n",
    "linreg:add(nn.Add(data['nclasses'][1]))\n",
    "linreg:add(nn.LogSoftMax())"
   ]
  },
  {
   "cell_type": "code",
   "execution_count": 9,
   "metadata": {
    "collapsed": false
   },
   "outputs": [],
   "source": [
    "mse = nn.ClassNLLCriterion()"
   ]
  },
  {
   "cell_type": "code",
   "execution_count": 11,
   "metadata": {
    "collapsed": false
   },
   "outputs": [
    {
     "data": {
      "text/plain": [
       "912666\t\n"
      ]
     },
     "execution_count": 11,
     "metadata": {},
     "output_type": "execute_result"
    }
   ],
   "source": [
    "train_output:size(1)"
   ]
  },
  {
   "cell_type": "code",
   "execution_count": 12,
   "metadata": {
    "collapsed": true
   },
   "outputs": [],
   "source": [
    "eta = 0.01\n",
    "\n",
    "for i = 1,1 do\n",
    "   -- this variable is used to estimate the average loss\n",
    "    current_loss = 0\n",
    "    --28520\n",
    "    for j = 1,9126 do\n",
    "        linreg:zeroGradParameters()\n",
    "        \n",
    "        minibatch =  torch.range((j-1)*100+1, j*100):type('torch.LongTensor')\n",
    "        \n",
    "        preds = linreg:forward(train:index(1,minibatch))\n",
    "        \n",
    "        loss = mse:forward(preds, train_output:index(1,minibatch))\n",
    "        \n",
    "        dLdpreds = mse:backward(preds, train_output:index(1,minibatch))\n",
    "        \n",
    "        linreg:backward(train:index(1,minibatch), dLdpreds)\n",
    "        \n",
    "        linreg:updateParameters(eta)\n",
    "        \n",
    "    end\n",
    "    \n",
    "end\n"
   ]
  },
  {
   "cell_type": "code",
   "execution_count": 13,
   "metadata": {
    "collapsed": false
   },
   "outputs": [],
   "source": [
    "pred_val = linreg:forward(data['valid_input_word_windows'])"
   ]
  },
  {
   "cell_type": "code",
   "execution_count": 20,
   "metadata": {
    "collapsed": false
   },
   "outputs": [
    {
     "data": {
      "text/plain": [
       "8\t\n"
      ]
     },
     "execution_count": 20,
     "metadata": {},
     "output_type": "execute_result"
    }
   ],
   "source": [
    "data['valid_output'][1]"
   ]
  },
  {
   "cell_type": "code",
   "execution_count": 17,
   "metadata": {
    "collapsed": false
   },
   "outputs": [],
   "source": [
    "m,a = pred_val:max(2)"
   ]
  },
  {
   "cell_type": "code",
   "execution_count": 27,
   "metadata": {
    "collapsed": false
   },
   "outputs": [
    {
     "data": {
      "text/plain": [
       "0\t\n"
      ]
     },
     "execution_count": 27,
     "metadata": {},
     "output_type": "execute_result"
    }
   ],
   "source": [
    "acc = 0\n",
    "for i = 1, data['valid_output']:size(1) do\n",
    "    if a[i] == data['valid_output'][i] then\n",
    "        acc = acc + 1\n",
    "    end\n",
    "end\n",
    "print(acc)"
   ]
  },
  {
   "cell_type": "code",
   "execution_count": null,
   "metadata": {
    "collapsed": false
   },
   "outputs": [],
   "source": [
    "minibatch =  torch.range((j-1)*32+1, j*32):type('torch.LongTensor')"
   ]
  },
  {
   "cell_type": "code",
   "execution_count": null,
   "metadata": {
    "collapsed": false
   },
   "outputs": [],
   "source": [
    "preds = linreg:forward(train:index(1,minibatch))"
   ]
  },
  {
   "cell_type": "code",
   "execution_count": null,
   "metadata": {
    "collapsed": false
   },
   "outputs": [],
   "source": [
    "loss = mse:forward(preds, train_output:index(1,minibatch))\n",
    "        "
   ]
  },
  {
   "cell_type": "code",
   "execution_count": null,
   "metadata": {
    "collapsed": false
   },
   "outputs": [],
   "source": [
    "dLdpreds = mse:backward(preds, train_output:index(1,minibatch))"
   ]
  },
  {
   "cell_type": "code",
   "execution_count": null,
   "metadata": {
    "collapsed": false
   },
   "outputs": [],
   "source": [
    "linreg:backward(X, dLdpreds)"
   ]
  },
  {
   "cell_type": "code",
   "execution_count": null,
   "metadata": {
    "collapsed": false
   },
   "outputs": [],
   "source": [
    "x = torch.LongTensor({1,2,5})"
   ]
  }
 ],
 "metadata": {
  "kernelspec": {
   "display_name": "iTorch",
   "language": "lua",
   "name": "itorch"
  },
  "language_info": {
   "name": "lua",
   "version": "20100"
  }
 },
 "nbformat": 4,
 "nbformat_minor": 0
}
