{
 "cells": [
  {
   "cell_type": "code",
   "execution_count": 1,
   "metadata": {
    "collapsed": false
   },
   "outputs": [],
   "source": [
    "require 'nn'\n",
    "require 'hdf5'"
   ]
  },
  {
   "cell_type": "markdown",
   "metadata": {},
   "source": [
    "### LOADING THE DATA AND CONVERTING IT TO LOGREG FW:"
   ]
  },
  {
   "cell_type": "code",
   "execution_count": 2,
   "metadata": {
    "collapsed": false
   },
   "outputs": [],
   "source": [
    "myFile = hdf5.open('PTB.hdf5','r')"
   ]
  },
  {
   "cell_type": "code",
   "execution_count": 3,
   "metadata": {
    "collapsed": false
   },
   "outputs": [],
   "source": [
    "data = myFile:all()\n",
    "myFile:close()"
   ]
  },
  {
   "cell_type": "code",
   "execution_count": null,
   "metadata": {
    "collapsed": false
   },
   "outputs": [],
   "source": [
    "data"
   ]
  },
  {
   "cell_type": "code",
   "execution_count": 4,
   "metadata": {
    "collapsed": true
   },
   "outputs": [],
   "source": [
    "train_input_word_windows = data['train_input_word_windows']\n",
    "train_output = data['train_output']"
   ]
  },
  {
   "cell_type": "code",
   "execution_count": 5,
   "metadata": {
    "collapsed": false
   },
   "outputs": [],
   "source": [
    "train = train_input_word_windows:clone()"
   ]
  },
  {
   "cell_type": "code",
   "execution_count": 6,
   "metadata": {
    "collapsed": false
   },
   "outputs": [],
   "source": [
    "for i = 1, train:size(1) do\n",
    "    for j = 1, 5 do\n",
    "        train[i][j] = (j-1)*100002 + train[i][j]\n",
    "    end\n",
    "end"
   ]
  },
  {
   "cell_type": "code",
   "execution_count": 56,
   "metadata": {
    "collapsed": true
   },
   "outputs": [],
   "source": [
    "train_input_cap_windows = data['train_input_cap_windows']\n",
    "train_cap = train_input_cap_windows:clone()\n",
    "for i = 1, train:size(1) do\n",
    "    for j = 1, 5 do\n",
    "        train_cap[i][j] = (j-1)*4 + train_cap[i][j]\n",
    "    end\n",
    "end"
   ]
  },
  {
   "cell_type": "markdown",
   "metadata": {},
   "source": [
    "### TRAINING:"
   ]
  },
  {
   "cell_type": "code",
   "execution_count": 50,
   "metadata": {
    "collapsed": false
   },
   "outputs": [],
   "source": [
    "linreg = nn.Sequential()"
   ]
  },
  {
   "cell_type": "code",
   "execution_count": 45,
   "metadata": {
    "collapsed": true
   },
   "outputs": [],
   "source": [
    "par = nn.ParallelTable()"
   ]
  },
  {
   "cell_type": "code",
   "execution_count": 46,
   "metadata": {
    "collapsed": true
   },
   "outputs": [],
   "source": [
    "par:add(nn.LookupTable(5*data['nwords'][1],data['nclasses'][1])) -- first child\n",
    "par:add(nn.LookupTable(5*4,data['nclasses'][1])) "
   ]
  },
  {
   "cell_type": "code",
   "execution_count": 47,
   "metadata": {
    "collapsed": false
   },
   "outputs": [],
   "source": [
    "temp = nn.Sequential()\n",
    "temp:add(par)\n",
    "temp:add(nn.CAddTable())\n",
    "temp:add(nn.Sum(2))"
   ]
  },
  {
   "cell_type": "code",
   "execution_count": 36,
   "metadata": {
    "collapsed": true
   },
   "outputs": [
    {
     "data": {
      "text/plain": [
       "(1,.,.) = \n",
       " Columns 1 to 9\n",
       " -7.2710 -1.7081 -3.1657 -1.8297 -1.1900 -4.5574  0.6756 -2.2598 -2.3324\n",
       "\n",
       "Columns 10 to 18\n",
       " -1.3096  6.9826 -7.0159 -3.9894 -7.9360  5.0311  0.0208 -3.1380 -2.1154\n",
       "\n",
       "Columns 19 to 27\n",
       "  4.2404  2.9047 -1.5363 -3.3677 -2.7965  1.8091  0.6596  1.9847  7.1568\n",
       "\n",
       "Columns 28 to 36\n",
       "  3.3107  0.5776 -1.0683  1.0073 -0.3328 -0.2753 -0.3806  1.6605  1.0147\n",
       "\n",
       "Columns 37 to 45\n",
       " -1.5222  0.9538  3.0052  2.1032 -1.5745  3.9696  2.0968  5.6390 -1.2959\n",
       "\n",
       "(2,.,.) = \n",
       " Columns 1 to 9\n",
       " -3.9518 -1.1080 -3.3476  4.8042  1.0943 -5.9027  1.4511 -6.3428  3.8737\n",
       "\n",
       "Columns 10 to 18\n",
       " -0.0832  2.6380  0.2768 -6.2396 -0.1083  7.8906 -6.7006  2.5848  0.7967\n",
       "\n",
       "Columns 19 to 27\n",
       "  0.3524 -1.9435  4.4511  5.9728  1.9779  2.1402 -0.3527 -1.6950  1.2584\n",
       "\n",
       "Columns 28 to 36\n",
       " -1.0651  0.8247 -3.5832  0.2430 -1.6710  6.3113  1.1022 -0.4977 -0.1803\n",
       "\n",
       "Columns 37 to 45\n",
       "  3.1177  3.7266  1.4428 -3.7968  0.5541  2.0230 -0.1904 -2.2897 -3.4696\n",
       "[torch.DoubleTensor of size 2x1x45]\n",
       "\n"
      ]
     },
     "execution_count": 36,
     "metadata": {},
     "output_type": "execute_result"
    }
   ],
   "source": [
    "-- test2 = nn.Sequential()\n",
    "-- test2:add(nn.LookupTable(5*data['nwords'][1],data['nclasses'][1]))\n",
    "-- test2:add(nn.Sum(2))\n",
    "\n",
    "-- test3 = nn.Sequential()\n",
    "-- test3:add(nn.LookupTable(20,data['nclasses'][1]))\n",
    "-- test3:add(nn.Sum(2))\n",
    "\n",
    "-- print(test2:forward(torch.LongTensor({{1,3,6},{2,4,6}})) + test2:forward(torch.LongTensor({{1,3,6},{2,4,6}})))"
   ]
  },
  {
   "cell_type": "code",
   "execution_count": null,
   "metadata": {
    "collapsed": false
   },
   "outputs": [],
   "source": [
    "-- linreg:add(nn.LookupTable(5*data['nwords'][1],data['nclasses'][1]))\n",
    "-- linreg:add(nn.Sum(2))\n",
    "-- linreg:add(nn.Add(data['nclasses'][1]))\n",
    "-- linreg:add(nn.LogSoftMax())"
   ]
  },
  {
   "cell_type": "code",
   "execution_count": 51,
   "metadata": {
    "collapsed": false
   },
   "outputs": [],
   "source": [
    "linreg:add(temp)\n",
    "linreg:add(nn.Add(data['nclasses'][1]))\n",
    "linreg:add(nn.LogSoftMax)"
   ]
  },
  {
   "cell_type": "code",
   "execution_count": 54,
   "metadata": {
    "collapsed": false
   },
   "outputs": [
    {
     "data": {
      "text/plain": [
       "      4  100228  200089  300176  400012\n",
       "    226  100087  200174  300010  400054\n",
       "     85  100172  200008  300052  401440\n",
       "    170  100006  200050  301438  400011\n",
       "      4  100048  201436  300009  400545\n",
       "     46  101434  200007  300543  400030\n",
       "   1432  100005  200541  300028  400018\n",
       "      3  100539  200026  300016  400010\n",
       "    537  100024  200014  300008  400380\n",
       "     22  100012  200006  300378  402354\n",
       "[torch.LongTensor of size 10x5]\n",
       "\n"
      ]
     },
     "execution_count": 54,
     "metadata": {},
     "output_type": "execute_result"
    }
   ],
   "source": [
    "train:narrow(1,5, 10)"
   ]
  },
  {
   "cell_type": "code",
   "execution_count": 58,
   "metadata": {
    "collapsed": false
   },
   "outputs": [
    {
     "data": {
      "text/plain": [
       "  1   6   9  13  17\n",
       "  2   5   9  13  17\n",
       "  1   5   9  13  17\n",
       "  1   5   9  13  17\n",
       "  1   5   9  13  17\n",
       "  1   5   9  13  17\n",
       "  1   5   9  13  17\n",
       "  1   5   9  13  18\n",
       "  1   5   9  14  17\n",
       "  1   5  10  13  17\n",
       "[torch.LongTensor of size 10x5]\n",
       "\n"
      ]
     },
     "execution_count": 58,
     "metadata": {},
     "output_type": "execute_result"
    }
   ],
   "source": [
    "train_cap:narrow(1,5, 10)"
   ]
  },
  {
   "cell_type": "code",
   "execution_count": 57,
   "metadata": {
    "collapsed": false
   },
   "outputs": [
    {
     "ename": "...irgileaudi/torch/install/share/lua/5.1/nn/LogSoftMax.lua:6: attempt to index field 'output' (a nil value)\nstack traceback:\n\t...irgileaudi/torch/install/share/lua/5.1/nn/LogSoftMax.lua:6: in function 'updateOutput'\n\t...irgileaudi/torch/install/share/lua/5.1/nn/Sequential.lua:44: in function 'f'\n\t[string \"local f = function() return linreg:forward({t...\"]:1: in main chunk\n\t[C]: in function 'xpcall'\n\t.../virgileaudi/torch/install/share/lua/5.1/itorch/main.lua:179: in function <.../virgileaudi/torch/install/share/lua/5.1/itorch/main.lua:143>\n\t.../virgileaudi/torch/install/share/lua/5.1/lzmq/poller.lua:75: in function 'poll'\n\t...rgileaudi/torch/install/share/lua/5.1/lzmq/impl/loop.lua:307: in function 'poll'\n\t...rgileaudi/torch/install/share/lua/5.1/lzmq/impl/loop.lua:325: in function 'sleep_ex'\n\t...rgileaudi/torch/install/share/lua/5.1/lzmq/impl/loop.lua:370: in function 'start'\n\t.../virgileaudi/torch/install/share/lua/5.1/itorch/main.lua:350: in main chunk\n\t[C]: in function 'require'\n\t(command line):1: in main chunk\n\t[C]: at 0x010e6d6b50",
     "evalue": "",
     "output_type": "error",
     "traceback": [
      "...irgileaudi/torch/install/share/lua/5.1/nn/LogSoftMax.lua:6: attempt to index field 'output' (a nil value)\nstack traceback:\n\t...irgileaudi/torch/install/share/lua/5.1/nn/LogSoftMax.lua:6: in function 'updateOutput'\n\t...irgileaudi/torch/install/share/lua/5.1/nn/Sequential.lua:44: in function 'f'\n\t[string \"local f = function() return linreg:forward({t...\"]:1: in main chunk\n\t[C]: in function 'xpcall'\n\t.../virgileaudi/torch/install/share/lua/5.1/itorch/main.lua:179: in function <.../virgileaudi/torch/install/share/lua/5.1/itorch/main.lua:143>\n\t.../virgileaudi/torch/install/share/lua/5.1/lzmq/poller.lua:75: in function 'poll'\n\t...rgileaudi/torch/install/share/lua/5.1/lzmq/impl/loop.lua:307: in function 'poll'\n\t...rgileaudi/torch/install/share/lua/5.1/lzmq/impl/loop.lua:325: in function 'sleep_ex'\n\t...rgileaudi/torch/install/share/lua/5.1/lzmq/impl/loop.lua:370: in function 'start'\n\t.../virgileaudi/torch/install/share/lua/5.1/itorch/main.lua:350: in main chunk\n\t[C]: in function 'require'\n\t(command line):1: in main chunk\n\t[C]: at 0x010e6d6b50"
     ]
    }
   ],
   "source": [
    "linreg:forward({train:narrow(1,5, 10),train_cap:narrow(1,5, 10)})"
   ]
  },
  {
   "cell_type": "code",
   "execution_count": 52,
   "metadata": {
    "collapsed": false
   },
   "outputs": [],
   "source": [
    "criterion = nn.ClassNLLCriterion()"
   ]
  },
  {
   "cell_type": "code",
   "execution_count": null,
   "metadata": {
    "collapsed": false
   },
   "outputs": [],
   "source": [
    "train_output:size(1)"
   ]
  },
  {
   "cell_type": "code",
   "execution_count": null,
   "metadata": {
    "collapsed": false
   },
   "outputs": [],
   "source": [
    "eta = 0.01\n",
    "input = torch.Tensor(100,5)\n",
    "output = torch.Tensor(100)\n",
    "\n",
    "for i = 1,5 do\n",
    "   \n",
    "    --28520\n",
    "    for j = 1,9126 do\n",
    "        linreg:zeroGradParameters()\n",
    "        \n",
    "        input = train:narrow(1,(j-1)*100+1, 100)\n",
    "        preds = linreg:forward(input)\n",
    "        \n",
    "        output = train_output:narrow(1,(j-1)*100+1, 100)\n",
    "        \n",
    "        loss = criterion:forward(preds, output)\n",
    "        \n",
    "        if j % 500 == 0 then\n",
    "            print(loss)\n",
    "        end\n",
    "        \n",
    "        dLdpreds = criterion:backward(preds, output)\n",
    "        \n",
    "        linreg:backward(input, dLdpreds)\n",
    "        \n",
    "        linreg:updateParameters(eta)\n",
    "        \n",
    "    end\n",
    "    \n",
    "end\n"
   ]
  },
  {
   "cell_type": "markdown",
   "metadata": {},
   "source": [
    "### VALIDATION:"
   ]
  },
  {
   "cell_type": "code",
   "execution_count": null,
   "metadata": {
    "collapsed": true
   },
   "outputs": [],
   "source": [
    "val = data['valid_input_word_windows']:clone()\n",
    "for i = 1, val:size(1) do\n",
    "    for j = 1, 5 do\n",
    "        val[i][j] = (j-1)*100002 + val[i][j]\n",
    "    end\n",
    "end"
   ]
  },
  {
   "cell_type": "code",
   "execution_count": null,
   "metadata": {
    "collapsed": false
   },
   "outputs": [],
   "source": [
    "pred_val = linreg:forward(val)"
   ]
  },
  {
   "cell_type": "code",
   "execution_count": null,
   "metadata": {
    "collapsed": false
   },
   "outputs": [],
   "source": [
    "m,a = pred_val:max(2)"
   ]
  },
  {
   "cell_type": "code",
   "execution_count": null,
   "metadata": {
    "collapsed": false
   },
   "outputs": [],
   "source": [
    "acc = 0\n",
    "for i = 1, data['valid_output']:size(1) do\n",
    "    if a[i] == data['valid_output'][i] then\n",
    "        acc = acc + 1\n",
    "    end\n",
    "end\n",
    "print(acc)"
   ]
  },
  {
   "cell_type": "code",
   "execution_count": null,
   "metadata": {
    "collapsed": false
   },
   "outputs": [],
   "source": [
    "minibatch =  torch.range((j-1)*32+1, j*32):type('torch.LongTensor')"
   ]
  },
  {
   "cell_type": "code",
   "execution_count": null,
   "metadata": {
    "collapsed": false
   },
   "outputs": [],
   "source": [
    "preds = linreg:forward(train:index(1,minibatch))"
   ]
  },
  {
   "cell_type": "code",
   "execution_count": null,
   "metadata": {
    "collapsed": false
   },
   "outputs": [],
   "source": [
    "loss = mse:forward(preds, train_output:index(1,minibatch))\n",
    "        "
   ]
  },
  {
   "cell_type": "code",
   "execution_count": null,
   "metadata": {
    "collapsed": false
   },
   "outputs": [],
   "source": [
    "dLdpreds = mse:backward(preds, train_output:index(1,minibatch))"
   ]
  },
  {
   "cell_type": "code",
   "execution_count": null,
   "metadata": {
    "collapsed": false
   },
   "outputs": [],
   "source": [
    "linreg:backward(X, dLdpreds)"
   ]
  },
  {
   "cell_type": "code",
   "execution_count": null,
   "metadata": {
    "collapsed": false
   },
   "outputs": [],
   "source": [
    "x = torch.LongTensor({1,2,5})"
   ]
  }
 ],
 "metadata": {
  "kernelspec": {
   "display_name": "iTorch",
   "language": "lua",
   "name": "itorch"
  },
  "language_info": {
   "name": "lua",
   "version": "20100"
  }
 },
 "nbformat": 4,
 "nbformat_minor": 0
}
