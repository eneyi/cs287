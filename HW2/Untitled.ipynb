{
 "cells": [
  {
   "cell_type": "code",
   "execution_count": 4,
   "metadata": {
    "collapsed": false
   },
   "outputs": [],
   "source": [
    "require 'nn'\n",
    "require 'hdf5'"
   ]
  },
  {
   "cell_type": "markdown",
   "metadata": {},
   "source": [
    "### LOADING THE DATA AND CONVERTING IT TO LOGREG FW:"
   ]
  },
  {
   "cell_type": "code",
   "execution_count": 5,
   "metadata": {
    "collapsed": false
   },
   "outputs": [],
   "source": [
    "myFile = hdf5.open('PTB.hdf5','r')"
   ]
  },
  {
   "cell_type": "code",
   "execution_count": 6,
   "metadata": {
    "collapsed": false
   },
   "outputs": [],
   "source": [
    "data = myFile:all()\n",
    "myFile:close()"
   ]
  },
  {
   "cell_type": "code",
   "execution_count": 7,
   "metadata": {
    "collapsed": false
   },
   "outputs": [
    {
     "data": {
      "text/plain": [
       "{\n",
       "  train_output : LongTensor - size: 912666\n",
       "  train_input_cap_windows : LongTensor - size: 912666x5\n",
       "  test_input_word_windows : LongTensor - size: 129696x5\n",
       "  valid_output : LongTensor - size: 131808\n",
       "  valid_input_cap_windows : LongTensor - size: 131808x5\n",
       "  nwords : IntTensor - size: 1\n",
       "  test_input_cap_windows : LongTensor - size: 129696x5\n",
       "  train_input_word_windows : LongTensor - size: 912666x5\n",
       "  nclasses : IntTensor - size: 1\n",
       "  word_embeddings : DoubleTensor - size: 400002x50\n",
       "  valid_input_word_windows : LongTensor - size: 131808x5\n",
       "}\n"
      ]
     },
     "execution_count": 7,
     "metadata": {},
     "output_type": "execute_result"
    }
   ],
   "source": [
    "data"
   ]
  },
  {
   "cell_type": "code",
   "execution_count": 8,
   "metadata": {
    "collapsed": true
   },
   "outputs": [],
   "source": [
    "train_input_word_windows = data['train_input_word_windows']\n",
    "train_output = data['train_output']"
   ]
  },
  {
   "cell_type": "code",
   "execution_count": 9,
   "metadata": {
    "collapsed": false
   },
   "outputs": [],
   "source": [
    "train = train_input_word_windows:clone()"
   ]
  },
  {
   "cell_type": "code",
   "execution_count": 10,
   "metadata": {
    "collapsed": true
   },
   "outputs": [],
   "source": [
    "train_input_cap_windows = data['train_input_cap_windows']\n",
    "train_cap = train_input_cap_windows:clone()\n",
    "for j = 1, 5 do\n",
    "    train:narrow(2,j,1):add((j-1)*100002)\n",
    "end\n",
    "for j = 1, 5 do\n",
    "    train_cap:narrow(2,j,1):add((j-1)*4)\n",
    "end"
   ]
  },
  {
   "cell_type": "markdown",
   "metadata": {},
   "source": [
    "### TRAINING:"
   ]
  },
  {
   "cell_type": "code",
   "execution_count": 12,
   "metadata": {
    "collapsed": false
   },
   "outputs": [],
   "source": [
    "linreg = nn.Sequential()"
   ]
  },
  {
   "cell_type": "code",
   "execution_count": 13,
   "metadata": {
    "collapsed": true
   },
   "outputs": [],
   "source": [
    "par = nn.ParallelTable()"
   ]
  },
  {
   "cell_type": "code",
   "execution_count": 14,
   "metadata": {
    "collapsed": true
   },
   "outputs": [],
   "source": [
    "par:add(nn.LookupTable(5*data['nwords'][1],data['nclasses'][1])) -- first child\n",
    "par:add(nn.LookupTable(5*4,data['nclasses'][1])) "
   ]
  },
  {
   "cell_type": "code",
   "execution_count": 15,
   "metadata": {
    "collapsed": false
   },
   "outputs": [],
   "source": [
    "linreg_wc = nn.Sequential()\n",
    "linreg_wc:add(par)\n",
    "linreg_wc:add(nn.CAddTable())\n",
    "linreg_wc:add(nn.Sum(2))\n",
    "linreg_wc:add(nn.Add(45))\n",
    "linreg_wc:add(nn.LogSoftMax())"
   ]
  },
  {
   "cell_type": "code",
   "execution_count": 20,
   "metadata": {
    "collapsed": false
   },
   "outputs": [
    {
     "data": {
      "text/plain": [
       "Columns 1 to 8\n",
       " -6.0055  -4.9296  -8.7408  -2.8092 -10.7994  -8.2520  -7.7948  -6.6132\n",
       " -7.7342  -3.4312  -7.1430  -5.7468  -7.7104  -7.7696 -11.3573  -5.9405\n",
       "-13.8382  -5.4248 -11.5133  -4.5599 -10.2738  -4.1189 -10.6515  -8.4949\n",
       "-13.3956  -0.1216 -13.5374  -8.2611  -5.6333  -4.8360 -14.7254  -9.1043\n",
       " -8.6703  -3.8077 -11.0128  -6.3796  -9.4844  -4.4842 -10.9414 -10.0560\n",
       " -9.0265  -5.9098 -11.6009 -10.0960  -5.7907  -4.2499 -15.0949  -7.6290\n",
       " -6.3499  -0.4661  -6.2313  -3.3386 -10.1042  -3.7913 -10.3408 -10.5862\n",
       "-15.0915  -5.8688 -13.8706  -6.0483  -7.4689  -7.3352  -8.8640 -13.4190\n",
       " -8.2211  -6.3168 -11.6299  -8.0336 -10.3626  -9.8184  -8.0784 -10.2295\n",
       "-12.9501 -10.7326 -10.4127  -6.1787  -8.7891  -8.6312 -11.1573  -9.0545\n",
       "\n",
       "Columns 9 to 16\n",
       " -8.3375  -3.5441  -6.6724 -12.0109  -6.4086  -2.4705 -11.8305  -3.0104\n",
       "-12.6474  -0.5909 -12.2291  -3.7573  -6.0375 -11.3018  -9.1724  -7.3335\n",
       "-13.9362  -0.1635 -12.1281  -8.6869  -4.3848  -9.9905 -10.2757  -7.1345\n",
       "-12.6207  -3.8384 -11.3386  -6.5120  -8.3537  -5.9792 -10.2637  -3.1791\n",
       "-14.2507  -3.1799 -11.5983  -8.2752 -10.4425  -4.8876  -9.8356 -11.6717\n",
       "-11.9143  -1.1852 -12.1347 -12.1868 -10.3004  -6.1121 -12.0146  -6.1259\n",
       "-14.3638  -3.5591  -9.1422  -8.6776  -7.8135  -5.6359  -2.4899  -6.8785\n",
       "-11.6879  -0.0492  -8.9282 -10.3923 -12.9694  -5.7464  -6.5443  -4.3018\n",
       "-12.3558  -1.3443 -12.4751  -8.2303  -8.3531  -6.7692 -11.5841 -11.8043\n",
       " -9.6708  -9.5961 -12.5658 -10.0186 -11.3243 -12.5642 -13.0698  -8.8419\n",
       "\n",
       "Columns 17 to 24\n",
       " -4.6830  -5.0108  -4.5822  -3.5450  -4.7009  -3.5550  -7.5863  -5.7650\n",
       "-14.0351  -5.3706  -4.4783  -7.1844  -6.6542  -4.9684  -6.9436 -12.1960\n",
       "-10.9134  -7.2635 -10.8385 -13.0687  -5.4563 -13.3098 -10.8953 -10.0480\n",
       " -9.8869 -10.9404  -9.7436  -9.0159  -6.5363  -8.2514  -9.3469  -9.1213\n",
       "-12.8982  -5.8005 -10.8574  -9.1757  -4.5403  -0.1237 -12.1506  -6.8106\n",
       "-11.9720  -7.7541 -10.4827  -9.7444  -0.8376  -3.9827  -7.4376  -7.7258\n",
       "-10.5566  -6.1805  -7.8521  -6.7820  -4.0145  -4.3012  -6.6455  -6.1306\n",
       "-11.1529  -4.4952 -11.5101  -9.3835  -6.9926  -7.0908 -10.7330 -10.4066\n",
       " -8.4318  -3.8621  -5.7696  -9.7876  -6.4440  -7.7957  -8.5167 -11.8284\n",
       "-15.7868 -13.6890 -13.9899 -17.8159 -10.1625  -7.2768  -9.4419 -12.4304\n",
       "\n",
       "Columns 25 to 32\n",
       " -6.2180 -10.7598  -6.9686  -2.4340  -5.1881  -5.4886  -8.7881  -9.1993\n",
       " -7.6574  -8.3474  -9.1887 -10.2436  -6.3447 -13.0290  -8.7980  -6.9819\n",
       "-11.8252  -9.4032  -7.2367  -3.5442  -8.8900  -8.3993 -14.4215  -7.8735\n",
       "-13.2883  -7.2175  -5.0689  -4.4718  -8.6224 -13.2746 -13.0674  -8.3130\n",
       "-12.6556  -6.1042  -5.8753  -8.2665 -12.9582  -9.7801  -9.7667 -12.4343\n",
       "-11.1418  -5.5693  -9.5309  -7.9054 -10.0331 -11.0856 -14.0421 -12.4417\n",
       "-10.0146  -2.4846  -4.0887  -8.5483 -10.1047 -10.8489  -6.0404  -7.3582\n",
       "-11.7096  -5.9846  -6.3647  -9.1484 -13.9802 -13.2136 -16.6880 -13.5466\n",
       " -7.2318  -7.8526  -7.2156  -5.4457  -8.4687 -11.6797 -12.6712  -6.9461\n",
       "-15.3522  -0.0069 -11.2576 -13.3032 -11.6127 -11.4576 -13.9049 -11.4187\n",
       "\n",
       "Columns 33 to 40\n",
       " -6.2152  -5.2480  -7.2807  -2.6336  -1.4923  -9.2452  -1.4184  -4.9988\n",
       " -8.8204  -5.8790 -11.0268 -11.9229  -2.7968 -10.3013  -6.9113 -12.4228\n",
       "-14.1278 -11.4475  -7.0588  -5.5793  -3.3001  -9.4105  -3.5643 -16.3559\n",
       " -6.6854 -11.2155  -5.6469  -7.2822  -5.7293 -12.0591  -7.9355 -11.8889\n",
       " -9.3181  -7.2635 -10.5679  -9.0307  -4.9598  -6.9051  -7.7435 -17.5310\n",
       " -9.1944  -8.6596  -9.0882  -7.6923  -1.5811 -13.0294  -7.8905  -9.2588\n",
       " -6.4963 -13.1952  -6.5777  -6.8829  -7.7368  -5.3966  -4.5329  -6.1533\n",
       "-19.4779  -9.8119 -12.1905  -5.7648  -7.2637  -7.4916  -8.3225 -10.0736\n",
       " -9.0583  -8.4619  -8.1386  -7.4542  -0.3611  -7.4346  -7.0955  -7.4132\n",
       "-14.6838 -13.1296  -9.7598 -11.7401 -11.3001  -7.9347  -9.6500 -16.8865\n",
       "\n",
       "Columns 41 to 45\n",
       " -7.9074  -7.1571  -7.4656  -4.6537  -9.5557\n",
       "-13.4881  -8.9960  -1.2608  -8.3375  -7.3723\n",
       "-11.9494 -10.9478  -9.2742 -11.0966 -10.0135\n",
       " -7.8841 -11.6975  -5.9689 -11.0860  -6.4125\n",
       " -8.2251 -13.4143  -6.9159 -15.2427 -14.4446\n",
       "-12.0026 -11.9849  -5.3791 -12.0400 -11.8050\n",
       " -6.1795 -10.3855  -4.7207  -7.2493  -4.0192\n",
       " -9.7553 -11.8398  -8.2285  -8.7836  -9.1924\n",
       "-11.1337  -9.7448  -9.0559 -11.0"
      ]
     },
     "execution_count": 20,
     "metadata": {},
     "output_type": "execute_result"
    },
    {
     "data": {
      "text/plain": [
       "809  -8.6053\n",
       "-11.7348 -13.6495  -5.9996 -12.5039 -13.4178\n",
       "[torch.DoubleTensor of size 10x45]\n",
       "\n"
      ]
     },
     "execution_count": 20,
     "metadata": {},
     "output_type": "execute_result"
    }
   ],
   "source": [
    "-- Sanity check:\n",
    "linreg_wc:forward({train:narrow(1,5, 10),train_cap:narrow(1,5, 10)})"
   ]
  },
  {
   "cell_type": "code",
   "execution_count": null,
   "metadata": {
    "collapsed": false
   },
   "outputs": [],
   "source": [
    "-- linreg_w:add(nn.LookupTable(5*data['nwords'][1],data['nclasses'][1]))\n",
    "-- linreg_w:add(nn.Sum(2))\n",
    "-- linreg_w:add(nn.Add(data['nclasses'][1]))\n",
    "-- linreg_w:add(nn.LogSoftMax())"
   ]
  },
  {
   "cell_type": "code",
   "execution_count": 16,
   "metadata": {
    "collapsed": false
   },
   "outputs": [],
   "source": [
    "criterion = nn.ClassNLLCriterion()"
   ]
  },
  {
   "cell_type": "code",
   "execution_count": 18,
   "metadata": {
    "collapsed": false
   },
   "outputs": [
    {
     "data": {
      "text/plain": [
       "30.4222\t\n"
      ]
     },
     "execution_count": 18,
     "metadata": {},
     "output_type": "execute_result"
    }
   ],
   "source": [
    " train:size(1)/60/500"
   ]
  },
  {
   "cell_type": "code",
   "execution_count": null,
   "metadata": {
    "collapsed": true
   },
   "outputs": [],
   "source": []
  },
  {
   "cell_type": "code",
   "execution_count": 22,
   "metadata": {
    "collapsed": true
   },
   "outputs": [],
   "source": [
    "eta = 0.01\n",
    "max_e = 20\n",
    "input_w = torch.Tensor(60,5)\n",
    "input_c = torch.Tensor(60,5)\n",
    "output = torch.Tensor(60)\n",
    "preds = torch.Tensor(60,45)\n",
    "loss_tensor = torch.Tensor(15*max_e)"
   ]
  },
  {
   "cell_type": "code",
   "execution_count": 44,
   "metadata": {
    "collapsed": false
   },
   "outputs": [
    {
     "data": {
      "text/plain": [
       "EPOCH: 1\t\n"
      ]
     },
     "execution_count": 44,
     "metadata": {},
     "output_type": "execute_result"
    },
    {
     "data": {
      "text/plain": [
       "1000\t\n"
      ]
     },
     "execution_count": 44,
     "metadata": {},
     "output_type": "execute_result"
    },
    {
     "data": {
      "text/plain": [
       "2000\t\n"
      ]
     },
     "execution_count": 44,
     "metadata": {},
     "output_type": "execute_result"
    },
    {
     "data": {
      "text/plain": [
       "3000\t\n"
      ]
     },
     "execution_count": 44,
     "metadata": {},
     "output_type": "execute_result"
    },
    {
     "data": {
      "text/plain": [
       "4000\t\n"
      ]
     },
     "execution_count": 44,
     "metadata": {},
     "output_type": "execute_result"
    },
    {
     "data": {
      "text/plain": [
       "5000\t\n"
      ]
     },
     "execution_count": 44,
     "metadata": {},
     "output_type": "execute_result"
    },
    {
     "data": {
      "text/plain": [
       "6000\t\n"
      ]
     },
     "execution_count": 44,
     "metadata": {},
     "output_type": "execute_result"
    },
    {
     "data": {
      "text/plain": [
       "7000\t\n"
      ]
     },
     "execution_count": 44,
     "metadata": {},
     "output_type": "execute_result"
    },
    {
     "data": {
      "text/plain": [
       "8000\t\n"
      ]
     },
     "execution_count": 44,
     "metadata": {},
     "output_type": "execute_result"
    },
    {
     "data": {
      "text/plain": [
       "9000\t\n"
      ]
     },
     "execution_count": 44,
     "metadata": {},
     "output_type": "execute_result"
    },
    {
     "data": {
      "text/plain": [
       "10000\t\n"
      ]
     },
     "execution_count": 44,
     "metadata": {},
     "output_type": "execute_result"
    },
    {
     "data": {
      "text/plain": [
       "11000\t\n"
      ]
     },
     "execution_count": 44,
     "metadata": {},
     "output_type": "execute_result"
    },
    {
     "data": {
      "text/plain": [
       "12000\t\n"
      ]
     },
     "execution_count": 44,
     "metadata": {},
     "output_type": "execute_result"
    },
    {
     "data": {
      "text/plain": [
       "13000\t\n"
      ]
     },
     "execution_count": 44,
     "metadata": {},
     "output_type": "execute_result"
    },
    {
     "data": {
      "text/plain": [
       "14000\t\n"
      ]
     },
     "execution_count": 44,
     "metadata": {},
     "output_type": "execute_result"
    },
    {
     "data": {
      "text/plain": [
       "15000\t\n"
      ]
     },
     "execution_count": 44,
     "metadata": {},
     "output_type": "execute_result"
    },
    {
     "data": {
      "text/plain": [
       "EPOCH: 2\t\n"
      ]
     },
     "execution_count": 44,
     "metadata": {},
     "output_type": "execute_result"
    },
    {
     "data": {
      "text/plain": [
       "1000\t\n"
      ]
     },
     "execution_count": 44,
     "metadata": {},
     "output_type": "execute_result"
    },
    {
     "data": {
      "text/plain": [
       "2000\t\n"
      ]
     },
     "execution_count": 44,
     "metadata": {},
     "output_type": "execute_result"
    },
    {
     "data": {
      "text/plain": [
       "3000\t\n"
      ]
     },
     "execution_count": 44,
     "metadata": {},
     "output_type": "execute_result"
    },
    {
     "data": {
      "text/plain": [
       "4000\t\n"
      ]
     },
     "execution_count": 44,
     "metadata": {},
     "output_type": "execute_result"
    },
    {
     "data": {
      "text/plain": [
       "5000\t\n"
      ]
     },
     "execution_count": 44,
     "metadata": {},
     "output_type": "execute_result"
    },
    {
     "data": {
      "text/plain": [
       "6000\t\n"
      ]
     },
     "execution_count": 44,
     "metadata": {},
     "output_type": "execute_result"
    },
    {
     "data": {
      "text/plain": [
       "7000\t\n"
      ]
     },
     "execution_count": 44,
     "metadata": {},
     "output_type": "execute_result"
    },
    {
     "data": {
      "text/plain": [
       "8000\t\n"
      ]
     },
     "execution_count": 44,
     "metadata": {},
     "output_type": "execute_result"
    },
    {
     "data": {
      "text/plain": [
       "9000\t\n"
      ]
     },
     "execution_count": 44,
     "metadata": {},
     "output_type": "execute_result"
    },
    {
     "data": {
      "text/plain": [
       "10000\t\n"
      ]
     },
     "execution_count": 44,
     "metadata": {},
     "output_type": "execute_result"
    },
    {
     "data": {
      "text/plain": [
       "11000\t\n"
      ]
     },
     "execution_count": 44,
     "metadata": {},
     "output_type": "execute_result"
    },
    {
     "data": {
      "text/plain": [
       "12000\t\n"
      ]
     },
     "execution_count": 44,
     "metadata": {},
     "output_type": "execute_result"
    },
    {
     "data": {
      "text/plain": [
       "13000\t\n"
      ]
     },
     "execution_count": 44,
     "metadata": {},
     "output_type": "execute_result"
    },
    {
     "data": {
      "text/plain": [
       "14000\t\n"
      ]
     },
     "execution_count": 44,
     "metadata": {},
     "output_type": "execute_result"
    },
    {
     "data": {
      "text/plain": [
       "15000\t\n"
      ]
     },
     "execution_count": 44,
     "metadata": {},
     "output_type": "execute_result"
    },
    {
     "data": {
      "text/plain": [
       "EPOCH: 3\t\n"
      ]
     },
     "execution_count": 44,
     "metadata": {},
     "output_type": "execute_result"
    },
    {
     "data": {
      "text/plain": [
       "1000\t\n"
      ]
     },
     "execution_count": 44,
     "metadata": {},
     "output_type": "execute_result"
    },
    {
     "data": {
      "text/plain": [
       "2000\t\n"
      ]
     },
     "execution_count": 44,
     "metadata": {},
     "output_type": "execute_result"
    },
    {
     "data": {
      "text/plain": [
       "3000\t\n"
      ]
     },
     "execution_count": 44,
     "metadata": {},
     "output_type": "execute_result"
    },
    {
     "data": {
      "text/plain": [
       "4000\t\n"
      ]
     },
     "execution_count": 44,
     "metadata": {},
     "output_type": "execute_result"
    },
    {
     "data": {
      "text/plain": [
       "5000\t\n"
      ]
     },
     "execution_count": 44,
     "metadata": {},
     "output_type": "execute_result"
    },
    {
     "data": {
      "text/plain": [
       "6000\t\n"
      ]
     },
     "execution_count": 44,
     "metadata": {},
     "output_type": "execute_result"
    },
    {
     "data": {
      "text/plain": [
       "7000\t\n"
      ]
     },
     "execution_count": 44,
     "metadata": {},
     "output_type": "execute_result"
    },
    {
     "data": {
      "text/plain": [
       "8000\t\n"
      ]
     },
     "execution_count": 44,
     "metadata": {},
     "output_type": "execute_result"
    },
    {
     "data": {
      "text/plain": [
       "9000\t\n"
      ]
     },
     "execution_count": 44,
     "metadata": {},
     "output_type": "execute_result"
    },
    {
     "data": {
      "text/plain": [
       "10000\t\n"
      ]
     },
     "execution_count": 44,
     "metadata": {},
     "output_type": "execute_result"
    },
    {
     "data": {
      "text/plain": [
       "11000\t\n"
      ]
     },
     "execution_count": 44,
     "metadata": {},
     "output_type": "execute_result"
    },
    {
     "data": {
      "text/plain": [
       "12000\t\n"
      ]
     },
     "execution_count": 44,
     "metadata": {},
     "output_type": "execute_result"
    },
    {
     "data": {
      "text/plain": [
       "13000\t\n"
      ]
     },
     "execution_count": 44,
     "metadata": {},
     "output_type": "execute_result"
    },
    {
     "data": {
      "text/plain": [
       "14000\t\n"
      ]
     },
     "execution_count": 44,
     "metadata": {},
     "output_type": "execute_result"
    },
    {
     "data": {
      "text/plain": [
       "15000\t\n"
      ]
     },
     "execution_count": 44,
     "metadata": {},
     "output_type": "execute_result"
    },
    {
     "data": {
      "text/plain": [
       "EPOCH: 4\t\n"
      ]
     },
     "execution_count": 44,
     "metadata": {},
     "output_type": "execute_result"
    },
    {
     "data": {
      "text/plain": [
       "1000\t\n"
      ]
     },
     "execution_count": 44,
     "metadata": {},
     "output_type": "execute_result"
    },
    {
     "data": {
      "text/plain": [
       "2000\t\n"
      ]
     },
     "execution_count": 44,
     "metadata": {},
     "output_type": "execute_result"
    },
    {
     "data": {
      "text/plain": [
       "3000\t\n"
      ]
     },
     "execution_count": 44,
     "metadata": {},
     "output_type": "execute_result"
    },
    {
     "data": {
      "text/plain": [
       "4000\t\n"
      ]
     },
     "execution_count": 44,
     "metadata": {},
     "output_type": "execute_result"
    },
    {
     "data": {
      "text/plain": [
       "5000\t\n"
      ]
     },
     "execution_count": 44,
     "metadata": {},
     "output_type": "execute_result"
    },
    {
     "data": {
      "text/plain": [
       "6000\t\n"
      ]
     },
     "execution_count": 44,
     "metadata": {},
     "output_type": "execute_result"
    },
    {
     "data": {
      "text/plain": [
       "7000\t\n"
      ]
     },
     "execution_count": 44,
     "metadata": {},
     "output_type": "execute_result"
    },
    {
     "data": {
      "text/plain": [
       "8000\t\n"
      ]
     },
     "execution_count": 44,
     "metadata": {},
     "output_type": "execute_result"
    },
    {
     "data": {
      "text/plain": [
       "9000\t\n"
      ]
     },
     "execution_count": 44,
     "metadata": {},
     "output_type": "execute_result"
    },
    {
     "data": {
      "text/plain": [
       "10000\t\n"
      ]
     },
     "execution_count": 44,
     "metadata": {},
     "output_type": "execute_result"
    },
    {
     "data": {
      "text/plain": [
       "11000\t\n"
      ]
     },
     "execution_count": 44,
     "metadata": {},
     "output_type": "execute_result"
    },
    {
     "data": {
      "text/plain": [
       "12000\t\n"
      ]
     },
     "execution_count": 44,
     "metadata": {},
     "output_type": "execute_result"
    },
    {
     "data": {
      "text/plain": [
       "13000\t\n"
      ]
     },
     "execution_count": 44,
     "metadata": {},
     "output_type": "execute_result"
    },
    {
     "data": {
      "text/plain": [
       "14000\t\n"
      ]
     },
     "execution_count": 44,
     "metadata": {},
     "output_type": "execute_result"
    },
    {
     "data": {
      "text/plain": [
       "15000\t\n"
      ]
     },
     "execution_count": 44,
     "metadata": {},
     "output_type": "execute_result"
    },
    {
     "data": {
      "text/plain": [
       "EPOCH: 5\t\n"
      ]
     },
     "execution_count": 44,
     "metadata": {},
     "output_type": "execute_result"
    },
    {
     "data": {
      "text/plain": [
       "1000\t\n"
      ]
     },
     "execution_count": 44,
     "metadata": {},
     "output_type": "execute_result"
    },
    {
     "data": {
      "text/plain": [
       "2000\t\n"
      ]
     },
     "execution_count": 44,
     "metadata": {},
     "output_type": "execute_result"
    },
    {
     "data": {
      "text/plain": [
       "3000\t\n"
      ]
     },
     "execution_count": 44,
     "metadata": {},
     "output_type": "execute_result"
    },
    {
     "data": {
      "text/plain": [
       "4000\t\n"
      ]
     },
     "execution_count": 44,
     "metadata": {},
     "output_type": "execute_result"
    },
    {
     "data": {
      "text/plain": [
       "5000\t\n"
      ]
     },
     "execution_count": 44,
     "metadata": {},
     "output_type": "execute_result"
    },
    {
     "data": {
      "text/plain": [
       "6000\t\n"
      ]
     },
     "execution_count": 44,
     "metadata": {},
     "output_type": "execute_result"
    },
    {
     "data": {
      "text/plain": [
       "7000\t\n"
      ]
     },
     "execution_count": 44,
     "metadata": {},
     "output_type": "execute_result"
    },
    {
     "data": {
      "text/plain": [
       "8000\t\n"
      ]
     },
     "execution_count": 44,
     "metadata": {},
     "output_type": "execute_result"
    },
    {
     "data": {
      "text/plain": [
       "9000\t\n"
      ]
     },
     "execution_count": 44,
     "metadata": {},
     "output_type": "execute_result"
    },
    {
     "data": {
      "text/plain": [
       "10000\t\n"
      ]
     },
     "execution_count": 44,
     "metadata": {},
     "output_type": "execute_result"
    },
    {
     "data": {
      "text/plain": [
       "11000\t\n"
      ]
     },
     "execution_count": 44,
     "metadata": {},
     "output_type": "execute_result"
    },
    {
     "data": {
      "text/plain": [
       "12000\t\n"
      ]
     },
     "execution_count": 44,
     "metadata": {},
     "output_type": "execute_result"
    },
    {
     "data": {
      "text/plain": [
       "13000\t\n"
      ]
     },
     "execution_count": 44,
     "metadata": {},
     "output_type": "execute_result"
    },
    {
     "data": {
      "text/plain": [
       "14000\t\n"
      ]
     },
     "execution_count": 44,
     "metadata": {},
     "output_type": "execute_result"
    },
    {
     "data": {
      "text/plain": [
       "15000\t\n"
      ]
     },
     "execution_count": 44,
     "metadata": {},
     "output_type": "execute_result"
    }
   ],
   "source": [
    "for i = 1,max_e do\n",
    "    print(\"EPOCH: \"..i)\n",
    "    k = 1\n",
    "    --28520\n",
    "    for j = 1,15211 do\n",
    "        linreg_wc:zeroGradParameters()\n",
    "        \n",
    "        input_w:copy(train:narrow(1, (j-1)*60+1, 60))\n",
    "        input_c:copy(train_cap:narrow(1, (j-1)*60+1, 60))\n",
    "        preds:copy(linreg_wc:forward({input_w,input_c}))\n",
    "        \n",
    "        output:copy(train_output:narrow(1,(j-1)*60+1, 60))\n",
    "        \n",
    "        loss = criterion:forward(preds, output)\n",
    "        \n",
    "        if j % 1000 == 0 then\n",
    "            print(j)\n",
    "            loss_tensor[k] = loss\n",
    "            k = k + 1\n",
    "        end\n",
    "        \n",
    "        dLdpreds = criterion:backward(preds, output)\n",
    "        \n",
    "        linreg_wc:backward({input_w,input_c}, dLdpreds)\n",
    "        \n",
    "        linreg_wc:updateParameters(eta)\n",
    "        \n",
    "    end\n",
    "    \n",
    "end"
   ]
  },
  {
   "cell_type": "markdown",
   "metadata": {},
   "source": [
    "### TRAINING ACCU: "
   ]
  },
  {
   "cell_type": "code",
   "execution_count": 27,
   "metadata": {
    "collapsed": true
   },
   "outputs": [],
   "source": [
    "-- train_acc = torch.zeros(4)"
   ]
  },
  {
   "cell_type": "code",
   "execution_count": 54,
   "metadata": {
    "collapsed": true
   },
   "outputs": [],
   "source": [
    "preds_train = linreg_wc:forward({train,train_cap})"
   ]
  },
  {
   "cell_type": "code",
   "execution_count": 55,
   "metadata": {
    "collapsed": false
   },
   "outputs": [],
   "source": [
    "m,a = preds_train:max(2)"
   ]
  },
  {
   "cell_type": "code",
   "execution_count": 56,
   "metadata": {
    "collapsed": false
   },
   "outputs": [
    {
     "data": {
      "text/plain": [
       "Accuracy on train is: 0.70046216249975\t\n"
      ]
     },
     "execution_count": 56,
     "metadata": {},
     "output_type": "execute_result"
    }
   ],
   "source": [
    "acc = 0\n",
    "for i = 1, train:size(1) do\n",
    "    if a[i][1] == train_output[i] then\n",
    "        acc = acc + 1\n",
    "    end\n",
    "end\n",
    "print(\"Accuracy on train is: \"..acc/train:size(1))"
   ]
  },
  {
   "cell_type": "code",
   "execution_count": 57,
   "metadata": {
    "collapsed": true
   },
   "outputs": [],
   "source": [
    "train_acc[4] = acc/train:size(1)"
   ]
  },
  {
   "cell_type": "markdown",
   "metadata": {},
   "source": [
    "### VALIDATION:"
   ]
  },
  {
   "cell_type": "code",
   "execution_count": 33,
   "metadata": {
    "collapsed": true
   },
   "outputs": [],
   "source": [
    "-- val_acc = torch.zeros(4)"
   ]
  },
  {
   "cell_type": "code",
   "execution_count": 29,
   "metadata": {
    "collapsed": false
   },
   "outputs": [],
   "source": [
    "val_word = data['valid_input_word_windows']:clone()\n",
    "val_cap = data['valid_input_cap_windows']:clone()\n",
    "\n",
    "for j = 1, 5 do\n",
    "    val_word:narrow(2,j,1):add((j-1)*100002)\n",
    "end\n",
    "\n",
    "for j = 1, 5 do\n",
    "    val_cap:narrow(2,j,1):add((j-1)*4)\n",
    "end"
   ]
  },
  {
   "cell_type": "code",
   "execution_count": 58,
   "metadata": {
    "collapsed": false
   },
   "outputs": [],
   "source": [
    "pred_val = linreg_wc:forward({val_word,val_cap})"
   ]
  },
  {
   "cell_type": "code",
   "execution_count": 59,
   "metadata": {
    "collapsed": false
   },
   "outputs": [],
   "source": [
    "m_v,a_v = pred_val:max(2)"
   ]
  },
  {
   "cell_type": "code",
   "execution_count": 60,
   "metadata": {
    "collapsed": false
   },
   "outputs": [
    {
     "data": {
      "text/plain": [
       "Accuracy on validation is: 0.70328052925467\t\n"
      ]
     },
     "execution_count": 60,
     "metadata": {},
     "output_type": "execute_result"
    }
   ],
   "source": [
    "acc_v = 0\n",
    "for i = 1, data['valid_output']:size(1) do\n",
    "    if a_v[i][1] == data['valid_output'][i] then\n",
    "        acc_v = acc_v + 1\n",
    "    end\n",
    "end\n",
    "print(\"Accuracy on validation is: \"..acc_v/val_word:size(1))"
   ]
  },
  {
   "cell_type": "code",
   "execution_count": 62,
   "metadata": {
    "collapsed": true
   },
   "outputs": [],
   "source": [
    "val_acc[4] = acc_v/val_word:size(1)"
   ]
  },
  {
   "cell_type": "markdown",
   "metadata": {},
   "source": [
    "## Neural Network:"
   ]
  },
  {
   "cell_type": "code",
   "execution_count": 49,
   "metadata": {
    "collapsed": true
   },
   "outputs": [],
   "source": [
    "hp1 = 50"
   ]
  },
  {
   "cell_type": "code",
   "execution_count": 78,
   "metadata": {
    "collapsed": true
   },
   "outputs": [],
   "source": [
    "nn1 = nn.Sequential()"
   ]
  },
  {
   "cell_type": "code",
   "execution_count": 79,
   "metadata": {
    "collapsed": false
   },
   "outputs": [],
   "source": [
    "par2 = nn.ParallelTable()\n",
    "par2:add(nn.LookupTable(data['nwords'][1],hp1)) -- first child\n",
    "par2:add(nn.LookupTable(4,hp1)) "
   ]
  },
  {
   "cell_type": "code",
   "execution_count": 80,
   "metadata": {
    "collapsed": true
   },
   "outputs": [],
   "source": [
    "nn1:add(par2)\n",
    "nn1:add(nn.CAddTable())\n",
    "nn1:add(nn.Sum(2))\n",
    "nn1:add(nn.Add(hp1))\n",
    "nn1:add(nn.HardTanh())\n",
    "nn1:add(nn.Linear(hp1,45))"
   ]
  },
  {
   "cell_type": "code",
   "execution_count": 75,
   "metadata": {
    "collapsed": true
   },
   "outputs": [],
   "source": [
    "criterion2 = nn.ClassNLLCriterion()"
   ]
  },
  {
   "cell_type": "code",
   "execution_count": 76,
   "metadata": {
    "collapsed": false
   },
   "outputs": [
    {
     "data": {
      "text/plain": [
       "EPOCH: 1\t\n"
      ]
     },
     "execution_count": 76,
     "metadata": {},
     "output_type": "execute_result"
    },
    {
     "data": {
      "text/plain": [
       "Time elapsed for 1 epoch: 104.36425614357 seconds\t\n"
      ]
     },
     "execution_count": 76,
     "metadata": {},
     "output_type": "execute_result"
    }
   ],
   "source": [
    "timer = torch.Timer()\n",
    "\n",
    "eta = 0.01\n",
    "max_e = 1\n",
    "hp1 = 50\n",
    "batchsize = 100\n",
    "input_w = torch.Tensor(100,5)\n",
    "input_c = torch.Tensor(100,5)\n",
    "output = torch.Tensor(100)\n",
    "\n",
    "loss_tensor = torch.Tensor(18*max_e)\n",
    "\n",
    "k = 1\n",
    "\n",
    "for i = 1,max_e do\n",
    "    print(\"EPOCH: \"..i)\n",
    "    \n",
    "    for j = 1,torch.floor(train:size(1)/batchsize) do\n",
    "        nn1:zeroGradParameters()\n",
    "        \n",
    "        input_w = train_input_word_windows:narrow(1, (j-1)*batchsize+1, batchsize)\n",
    "        input_c = train_input_cap_windows:narrow(1, (j-1)*batchsize+1, batchsize)\n",
    "        preds = nn1:forward({input_w,input_c})\n",
    "        \n",
    "        output = train_output:narrow(1,(j-1)*batchsize+1, batchsize)\n",
    "        \n",
    "        loss = criterion2:forward(preds, output)\n",
    "        \n",
    "        if j % 500 == 0 then\n",
    "            loss_tensor[k] = loss\n",
    "            k = k + 1\n",
    "        end\n",
    "        \n",
    "        dLdpreds = criterion2:backward(preds, output)\n",
    "        \n",
    "        nn1:backward({input_w,input_c}, dLdpreds)\n",
    "        \n",
    "        nn1:updateParameters(eta)\n",
    "        \n",
    "    end\n",
    "    \n",
    "end\n",
    "\n",
    "print('Time elapsed for 1 epoch: ' .. timer:time().real .. ' seconds')"
   ]
  },
  {
   "cell_type": "code",
   "execution_count": 77,
   "metadata": {
    "collapsed": false
   },
   "outputs": [
    {
     "data": {
      "text/plain": [
       " -10.4673\n",
       " -20.1917\n",
       " -40.5038\n",
       " -55.5550\n",
       " -67.3850\n",
       " -94.7285\n",
       "-116.4675\n",
       "-132.2956\n",
       "-146.8417\n",
       "-142.9090\n",
       "-188.5284\n",
       "-211.0211\n",
       "-257.5870\n",
       "-231.1713\n",
       "-217.2197\n",
       "-257.8606\n",
       "-309.2840\n",
       "-330.2755\n",
       "[torch.DoubleTensor of size 18]\n",
       "\n"
      ]
     },
     "execution_count": 77,
     "metadata": {},
     "output_type": "execute_result"
    }
   ],
   "source": [
    "loss_tensor"
   ]
  },
  {
   "cell_type": "code",
   "execution_count": null,
   "metadata": {
    "collapsed": true
   },
   "outputs": [],
   "source": []
  }
 ],
 "metadata": {
  "kernelspec": {
   "display_name": "iTorch",
   "language": "lua",
   "name": "itorch"
  },
  "language_info": {
   "name": "lua",
   "version": "20100"
  }
 },
 "nbformat": 4,
 "nbformat_minor": 0
}
