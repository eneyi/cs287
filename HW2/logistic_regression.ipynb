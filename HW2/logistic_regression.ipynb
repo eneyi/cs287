{
 "cells": [
  {
   "cell_type": "code",
   "execution_count": 1,
   "metadata": {
    "collapsed": false
   },
   "outputs": [],
   "source": [
    "require 'nn'\n",
    "require 'hdf5'"
   ]
  },
  {
   "cell_type": "markdown",
   "metadata": {},
   "source": [
    "### LOADING THE DATA AND CONVERTING IT TO LOGREG FW:"
   ]
  },
  {
   "cell_type": "code",
   "execution_count": 2,
   "metadata": {
    "collapsed": false
   },
   "outputs": [],
   "source": [
    "myFile = hdf5.open('PTB.hdf5','r')"
   ]
  },
  {
   "cell_type": "code",
   "execution_count": 3,
   "metadata": {
    "collapsed": false
   },
   "outputs": [],
   "source": [
    "data = myFile:all()\n",
    "myFile:close()"
   ]
  },
  {
   "cell_type": "code",
   "execution_count": 4,
   "metadata": {
    "collapsed": false
   },
   "outputs": [
    {
     "data": {
      "text/plain": [
       "{\n",
       "  train_output : LongTensor - size: 912666\n",
       "  train_input_cap_windows : LongTensor - size: 912666x5\n",
       "  test_input_word_windows : LongTensor - size: 129696x5\n",
       "  valid_output : LongTensor - size: 131808\n",
       "  valid_input_cap_windows : LongTensor - size: 131808x5\n",
       "  nwords : IntTensor - size: 1\n",
       "  test_input_cap_windows : LongTensor - size: 129696x5\n",
       "  train_input_word_windows : LongTensor - size: 912666x5\n",
       "  nclasses : IntTensor - size: 1\n",
       "  word_embeddings : DoubleTensor - size: 400002x50\n",
       "  valid_input_word_windows : LongTensor - size: 131808x5\n",
       "}\n"
      ]
     },
     "execution_count": 4,
     "metadata": {},
     "output_type": "execute_result"
    }
   ],
   "source": [
    "data"
   ]
  },
  {
   "cell_type": "code",
   "execution_count": 5,
   "metadata": {
    "collapsed": true
   },
   "outputs": [],
   "source": [
    "train_input_word_windows = data['train_input_word_windows']\n",
    "train_input_cap_windows = data['train_input_cap_windows']\n",
    "\n",
    "train = train_input_word_windows:clone()\n",
    "train_cap = train_input_cap_windows:clone()\n",
    "train_output = data['train_output']"
   ]
  },
  {
   "cell_type": "code",
   "execution_count": 6,
   "metadata": {
    "collapsed": false
   },
   "outputs": [],
   "source": [
    "train_cap = train_input_cap_windows:clone()\n",
    "for j = 1, 5 do\n",
    "    train:narrow(2,j,1):add((j-1)*100002)\n",
    "end\n",
    "for j = 1, 5 do\n",
    "    train_cap:narrow(2,j,1):add((j-1)*4)\n",
    "end"
   ]
  },
  {
   "cell_type": "code",
   "execution_count": 7,
   "metadata": {
    "collapsed": false
   },
   "outputs": [
    {
     "data": {
      "text/plain": [
       "  2\n",
       "  6\n",
       " 11\n",
       " 14\n",
       " 17\n",
       "[torch.LongTensor of size 5]\n",
       "\n"
      ]
     },
     "execution_count": 7,
     "metadata": {},
     "output_type": "execute_result"
    }
   ],
   "source": [
    "train_cap[1]"
   ]
  },
  {
   "cell_type": "code",
   "execution_count": 8,
   "metadata": {
    "collapsed": false
   },
   "outputs": [
    {
     "data": {
      "text/plain": [
       "100002\t\n"
      ]
     },
     "execution_count": 8,
     "metadata": {},
     "output_type": "execute_result"
    }
   ],
   "source": [
    "data['nwords'][1]"
   ]
  },
  {
   "cell_type": "code",
   "execution_count": 9,
   "metadata": {
    "collapsed": false
   },
   "outputs": [
    {
     "data": {
      "text/plain": [
       "45\t\n"
      ]
     },
     "execution_count": 9,
     "metadata": {},
     "output_type": "execute_result"
    }
   ],
   "source": [
    "data['nclasses'][1]"
   ]
  },
  {
   "cell_type": "markdown",
   "metadata": {},
   "source": [
    "### TRAINING:"
   ]
  },
  {
   "cell_type": "code",
   "execution_count": 74,
   "metadata": {
    "collapsed": false
   },
   "outputs": [],
   "source": [
    "\n",
    "par = nn.ParallelTable()\n",
    "\n",
    "par:add(nn.LookupTable(5*data['nwords'][1],data['nclasses'][1])) -- first child\n",
    "par:add(nn.LookupTable(5*4,data['nclasses'][1])) \n",
    "\n",
    "-- Logistic regression pipeline\n",
    "--Define the module\n",
    "linreg_wc = nn.Sequential()\n",
    "--Include the lookup tables\n",
    "linreg_wc:add(par)\n",
    "--Sum the lookup table per entry\n",
    "linreg_wc:add(nn.CAddTable())\n",
    "linreg_wc:add(nn.Sum(2))\n",
    "-- Add the bias b\n",
    "linreg_wc:add(nn.Add(45))\n",
    "linreg_wc:add(nn.LogSoftMax())\n",
    "\n",
    "-- Defining the criterion\n",
    "criterion = nn.ClassNLLCriterion()"
   ]
  },
  {
   "cell_type": "code",
   "execution_count": 72,
   "metadata": {
    "collapsed": false
   },
   "outputs": [],
   "source": [
    "-- Sanity check:\n",
    "preds = linreg_wc:forward({train:narrow(1,5, 10),train_cap:narrow(1,5, 10)})"
   ]
  },
  {
   "cell_type": "code",
   "execution_count": 73,
   "metadata": {
    "collapsed": false
   },
   "outputs": [
    {
     "data": {
      "text/plain": [
       " 0.9997\n",
       " 0.9996\n",
       " 0.9998\n",
       " 0.9997\n",
       " 0.9997\n",
       " 0.9997\n",
       " 0.9998\n",
       " 0.9997\n",
       " 0.9997\n",
       " 0.9998\n",
       "[torch.DoubleTensor of size 10x1]\n",
       "\n"
      ]
     },
     "execution_count": 73,
     "metadata": {},
     "output_type": "execute_result"
    }
   ],
   "source": [
    "preds:exp():sum(2)"
   ]
  },
  {
   "cell_type": "code",
   "execution_count": 18,
   "metadata": {
    "collapsed": false
   },
   "outputs": [
    {
     "data": {
      "text/plain": [
       "8.5759885310946\t\n"
      ]
     },
     "execution_count": 18,
     "metadata": {},
     "output_type": "execute_result"
    },
    {
     "data": {
      "text/plain": [
       "6.7818050887484\t\n"
      ]
     },
     "execution_count": 18,
     "metadata": {},
     "output_type": "execute_result"
    },
    {
     "data": {
      "text/plain": [
       "6.0842318276842\t\n"
      ]
     },
     "execution_count": 18,
     "metadata": {},
     "output_type": "execute_result"
    },
    {
     "data": {
      "text/plain": [
       "5.1755214683275\t\n"
      ]
     },
     "execution_count": 18,
     "metadata": {},
     "output_type": "execute_result"
    },
    {
     "data": {
      "text/plain": [
       "5.228723004582\t\n"
      ]
     },
     "execution_count": 18,
     "metadata": {},
     "output_type": "execute_result"
    },
    {
     "data": {
      "text/plain": [
       "5.0174404883134\t\n"
      ]
     },
     "execution_count": 18,
     "metadata": {},
     "output_type": "execute_result"
    },
    {
     "data": {
      "text/plain": [
       "5.1613892500926\t\n"
      ]
     },
     "execution_count": 18,
     "metadata": {},
     "output_type": "execute_result"
    },
    {
     "data": {
      "text/plain": [
       "4.6790277431305\t\n"
      ]
     },
     "execution_count": 18,
     "metadata": {},
     "output_type": "execute_result"
    },
    {
     "data": {
      "text/plain": [
       "4.0471138986201\t\n"
      ]
     },
     "execution_count": 18,
     "metadata": {},
     "output_type": "execute_result"
    },
    {
     "data": {
      "text/plain": [
       "3.8357703021543\t\n"
      ]
     },
     "execution_count": 18,
     "metadata": {},
     "output_type": "execute_result"
    },
    {
     "data": {
      "text/plain": [
       "3.817613050954\t\n"
      ]
     },
     "execution_count": 18,
     "metadata": {},
     "output_type": "execute_result"
    },
    {
     "data": {
      "text/plain": [
       "4.3769468180343\t\n"
      ]
     },
     "execution_count": 18,
     "metadata": {},
     "output_type": "execute_result"
    },
    {
     "data": {
      "text/plain": [
       "3.7315103678902\t\n"
      ]
     },
     "execution_count": 18,
     "metadata": {},
     "output_type": "execute_result"
    },
    {
     "data": {
      "text/plain": [
       "3.7802154694901\t\n"
      ]
     },
     "execution_count": 18,
     "metadata": {},
     "output_type": "execute_result"
    },
    {
     "data": {
      "text/plain": [
       "3.9288410165105\t\n"
      ]
     },
     "execution_count": 18,
     "metadata": {},
     "output_type": "execute_result"
    },
    {
     "data": {
      "text/plain": [
       "3.6936996131465\t\n"
      ]
     },
     "execution_count": 18,
     "metadata": {},
     "output_type": "execute_result"
    },
    {
     "data": {
      "text/plain": [
       "3.363783605287\t\n"
      ]
     },
     "execution_count": 18,
     "metadata": {},
     "output_type": "execute_result"
    },
    {
     "data": {
      "text/plain": [
       "3.5276212550741\t\n"
      ]
     },
     "execution_count": 18,
     "metadata": {},
     "output_type": "execute_result"
    },
    {
     "data": {
      "text/plain": [
       "3.113692175301\t\n"
      ]
     },
     "execution_count": 18,
     "metadata": {},
     "output_type": "execute_result"
    },
    {
     "ename": "[string \"-- SGD ...\"]:14: bad argument #3 to 'narrow' (out of range at /Users/nicolasdrizard/torch/pkg/torch/lib/TH/generic/THTensor.c:351)\nstack traceback:\n\t[C]: in function 'narrow'\n\t[string \"-- SGD ...\"]:14: in main chunk\n\t[C]: in function 'xpcall'\n\t...colasdrizard/torch/install/share/lua/5.1/itorch/main.lua:179: in function <...colasdrizard/torch/install/share/lua/5.1/itorch/main.lua:143>\n\t...colasdrizard/torch/install/share/lua/5.1/lzmq/poller.lua:75: in function 'poll'\n\t...asdrizard/torch/install/share/lua/5.1/lzmq/impl/loop.lua:307: in function 'poll'\n\t...asdrizard/torch/install/share/lua/5.1/lzmq/impl/loop.lua:325: in function 'sleep_ex'\n\t...asdrizard/torch/install/share/lua/5.1/lzmq/impl/loop.lua:370: in function 'start'\n\t...colasdrizard/torch/install/share/lua/5.1/itorch/main.lua:350: in main chunk\n\t[C]: in function 'require'\n\t(command line):1: in main chunk\n\t[C]: at 0x010b30fbb0",
     "evalue": "",
     "output_type": "error",
     "traceback": [
      "[string \"-- SGD ...\"]:14: bad argument #3 to 'narrow' (out of range at /Users/nicolasdrizard/torch/pkg/torch/lib/TH/generic/THTensor.c:351)\nstack traceback:\n\t[C]: in function 'narrow'\n\t[string \"-- SGD ...\"]:14: in main chunk\n\t[C]: in function 'xpcall'\n\t...colasdrizard/torch/install/share/lua/5.1/itorch/main.lua:179: in function <...colasdrizard/torch/install/share/lua/5.1/itorch/main.lua:143>\n\t...colasdrizard/torch/install/share/lua/5.1/lzmq/poller.lua:75: in function 'poll'\n\t...asdrizard/torch/install/share/lua/5.1/lzmq/impl/loop.lua:307: in function 'poll'\n\t...asdrizard/torch/install/share/lua/5.1/lzmq/impl/loop.lua:325: in function 'sleep_ex'\n\t...asdrizard/torch/install/share/lua/5.1/lzmq/impl/loop.lua:370: in function 'start'\n\t...colasdrizard/torch/install/share/lua/5.1/itorch/main.lua:350: in main chunk\n\t[C]: in function 'require'\n\t(command line):1: in main chunk\n\t[C]: at 0x010b30fbb0"
     ]
    }
   ],
   "source": [
    "-- SGD on log reg\n",
    "eta = 0.01\n",
    "batch_size = 100\n",
    "input_w = torch.Tensor(batch_size,5)\n",
    "input_c = torch.Tensor(batch_size,5)\n",
    "targets = torch.Tensor(batch_size)\n",
    "\n",
    "for ep = 1,1 do\n",
    "    timer = torch.Timer()\n",
    "    for j = 1,train:size(1) - train:size(1) % batch_size, batch_size do\n",
    "        linreg_wc:zeroGradParameters()\n",
    "        input_w = train:narrow(1, j, batch_size)\n",
    "        input_c = train_cap:narrow(1, j, batch_size)\n",
    "        targets = train_output:narrow(1,j, batch_size)  \n",
    "        -- Forward pass\n",
    "        preds = linreg_wc:forward({input_w,input_c})\n",
    "        loss = criterion:forward(preds, targets)\n",
    "        \n",
    "        if j % 501 == 0 then\n",
    "            print(loss)\n",
    "        end\n",
    "        -- Backward pass\n",
    "        dLdpreds = criterion:backward(preds, targets)\n",
    "        linreg_wc:backward({input_w,input_c}, dLdpreds)\n",
    "        --- Updating parameters\n",
    "        linreg_wc:updateParameters(eta) \n",
    "    end\n",
    "    print('Time elapsed for epoch ' .. ep ..': ' .. timer:time().real .. ' seconds',\"\\n\")\n",
    "\n",
    "end"
   ]
  },
  {
   "cell_type": "code",
   "execution_count": 38,
   "metadata": {
    "collapsed": true
   },
   "outputs": [],
   "source": [
    "-- Log leg with only word feature\n",
    "--Define the module\n",
    "linreg_w = nn.Sequential()\n",
    "--Include the lookup tables\n",
    "linreg_w:add(nn.LookupTable(5*data['nwords'][1],data['nclasses'][1]))\n",
    "linreg_w:add(nn.Sum(2))\n",
    "-- Add the bias b\n",
    "linreg_w:add(nn.Add(45))\n",
    "linreg_w:add(nn.LogSoftMax())\n",
    "\n",
    "-- Defining the criterion\n",
    "criterion = nn.ClassNLLCriterion()"
   ]
  },
  {
   "cell_type": "code",
   "execution_count": 62,
   "metadata": {
    "collapsed": false
   },
   "outputs": [],
   "source": [
    "-- Sanity check:\n",
    "preds = linreg_w:forward(train[1]:view(1,5))"
   ]
  },
  {
   "cell_type": "code",
   "execution_count": 61,
   "metadata": {
    "collapsed": false
   },
   "outputs": [],
   "source": [
    "-- Building the dataset\n",
    "dataset={};\n",
    "for i=1,train:size(1) do \n",
    "  dataset[i] = {train[i]:view(1,5), train_output[i]}\n",
    "end\n",
    "function dataset:size() return train:size(1) end -- 100 examples\n"
   ]
  },
  {
   "cell_type": "code",
   "execution_count": 63,
   "metadata": {
    "collapsed": false
   },
   "outputs": [
    {
     "data": {
      "text/plain": [
       "{\n",
       "  1 : LongTensor - size: 1x5\n",
       "  2 : 11\n",
       "}\n"
      ]
     },
     "execution_count": 63,
     "metadata": {},
     "output_type": "execute_result"
    }
   ],
   "source": [
    "dataset[dataset:size()]"
   ]
  },
  {
   "cell_type": "code",
   "execution_count": 64,
   "metadata": {
    "collapsed": false
   },
   "outputs": [
    {
     "data": {
      "text/plain": [
       "# StochasticGradient: training\t\n"
      ]
     },
     "execution_count": 64,
     "metadata": {},
     "output_type": "execute_result"
    },
    {
     "data": {
      "text/plain": [
       "# current error = 1.3794849209672\t\n"
      ]
     },
     "execution_count": 64,
     "metadata": {},
     "output_type": "execute_result"
    },
    {
     "data": {
      "text/plain": [
       "# current error = 0.76052419663021\t\n"
      ]
     },
     "execution_count": 64,
     "metadata": {},
     "output_type": "execute_result"
    },
    {
     "data": {
      "text/plain": [
       "# current error = 0.61227595531347\t\n"
      ]
     },
     "execution_count": 64,
     "metadata": {},
     "output_type": "execute_result"
    },
    {
     "data": {
      "text/plain": [
       "# current error = 0.52964826351044\t\n"
      ]
     },
     "execution_count": 64,
     "metadata": {},
     "output_type": "execute_result"
    },
    {
     "data": {
      "text/plain": [
       "# current error = 0.47433221174542\t\n"
      ]
     },
     "execution_count": 64,
     "metadata": {},
     "output_type": "execute_result"
    },
    {
     "data": {
      "text/plain": [
       "# current error = 0.4337290418635\t\n"
      ]
     },
     "execution_count": 64,
     "metadata": {},
     "output_type": "execute_result"
    },
    {
     "data": {
      "text/plain": [
       "# current error = 0.40218224908772\t\n"
      ]
     },
     "execution_count": 64,
     "metadata": {},
     "output_type": "execute_result"
    },
    {
     "data": {
      "text/plain": [
       "# current error = 0.37669916538154\t\n"
      ]
     },
     "execution_count": 64,
     "metadata": {},
     "output_type": "execute_result"
    },
    {
     "data": {
      "text/plain": [
       "# current error = 0.35551716059799\t\n"
      ]
     },
     "execution_count": 64,
     "metadata": {},
     "output_type": "execute_result"
    },
    {
     "data": {
      "text/plain": [
       "# current error = 0.33752287632374\t\n"
      ]
     },
     "execution_count": 64,
     "metadata": {},
     "output_type": "execute_result"
    },
    {
     "data": {
      "text/plain": [
       "# current error = 0.32197378525984\t\n"
      ]
     },
     "execution_count": 64,
     "metadata": {},
     "output_type": "execute_result"
    },
    {
     "data": {
      "text/plain": [
       "# current error = 0.30835092001758\t\n"
      ]
     },
     "execution_count": 64,
     "metadata": {},
     "output_type": "execute_result"
    },
    {
     "data": {
      "text/plain": [
       "# current error = 0.2962778218484\t\n"
      ]
     },
     "execution_count": 64,
     "metadata": {},
     "output_type": "execute_result"
    },
    {
     "data": {
      "text/plain": [
       "# current error = 0.28547382819134\t\n"
      ]
     },
     "execution_count": 64,
     "metadata": {},
     "output_type": "execute_result"
    },
    {
     "data": {
      "text/plain": [
       "# current error = 0.27572522468948\t\n"
      ]
     },
     "execution_count": 64,
     "metadata": {},
     "output_type": "execute_result"
    },
    {
     "data": {
      "text/plain": [
       "# current error = 0.26686623912229\t\n"
      ]
     },
     "execution_count": 64,
     "metadata": {},
     "output_type": "execute_result"
    },
    {
     "data": {
      "text/plain": [
       "# current error = 0.25876604690913\t\n"
      ]
     },
     "execution_count": 64,
     "metadata": {},
     "output_type": "execute_result"
    },
    {
     "data": {
      "text/plain": [
       "# current error = 0.25131973564641\t\n"
      ]
     },
     "execution_count": 64,
     "metadata": {},
     "output_type": "execute_result"
    },
    {
     "data": {
      "text/plain": [
       "# current error = 0.24444194696155\t\n"
      ]
     },
     "execution_count": 64,
     "metadata": {},
     "output_type": "execute_result"
    },
    {
     "data": {
      "text/plain": [
       "# current error = 0.23806232528917\t\n"
      ]
     },
     "execution_count": 64,
     "metadata": {},
     "output_type": "execute_result"
    },
    {
     "data": {
      "text/plain": [
       "# current error = 0.23212223993658\t\n"
      ]
     },
     "execution_count": 64,
     "metadata": {},
     "output_type": "execute_result"
    },
    {
     "data": {
      "text/plain": [
       "# current error = 0.22657236499832\t\n"
      ]
     },
     "execution_count": 64,
     "metadata": {},
     "output_type": "execute_result"
    },
    {
     "data": {
      "text/plain": [
       "# current error = 0.22137086189557\t\n"
      ]
     },
     "execution_count": 64,
     "metadata": {},
     "output_type": "execute_result"
    },
    {
     "data": {
      "text/plain": [
       "# current error = 0.21648197102891\t\n"
      ]
     },
     "execution_count": 64,
     "metadata": {},
     "output_type": "execute_result"
    },
    {
     "data": {
      "text/plain": [
       "# current error = 0.2118749270897\t\n",
       "# StochasticGradient: you have reached the maximum number of iterations\t\n",
       "# training error = 0.2118749270897\t\n",
       "Time elapsed to train 5713.0099458694 seconds\t\n",
       "\t\n"
      ]
     },
     "execution_count": 64,
     "metadata": {},
     "output_type": "execute_result"
    }
   ],
   "source": [
    "-- Training using StochasticGradient\n",
    "timer = torch.Timer()\n",
    "\n",
    "trainer = nn.StochasticGradient(linreg_w, criterion)\n",
    "trainer.learningRate = 0.01\n",
    "trainer:train(dataset)\n",
    "\n",
    "print('Time elapsed to train ' .. timer:time().real .. ' seconds',\"\\n\")\n"
   ]
  },
  {
   "cell_type": "code",
   "execution_count": null,
   "metadata": {
    "collapsed": false
   },
   "outputs": [],
   "source": [
    "-- Computing the accuracy score\n",
    "\n",
    "val_word = data['valid_input_word_windows']:clone()\n",
    "for j = 1, 5 do\n",
    "    val_word:narrow(2,j,1):add((j-1)*100002)\n",
    "end\n",
    "\n",
    "train_word = train_input_word_windows:clone()\n",
    "for j = 1, 5 do\n",
    "    train_word:narrow(2,j,1):add((j-1)*100002)\n",
    "end\n",
    "\n",
    "val_output = data['valid_output']\n",
    "pred_validate = torch.Tensor(val_output:size(1), 45)    \n",
    "pred_train = torch.Tensor(train_output:size(1), 45)    \n",
    "\n",
    "pred_validate = linreg_w:forward(val_word)\n",
    "pred_train = linreg_w:forward(train_word)\n",
    "\n",
    "max,argmax_val = pred_validate:max(2)\n",
    "max,argmax_train = pred_train:max(2)\n",
    "\n",
    "acc_validate = 0\n",
    "for i = 1, val_output:size(1) do\n",
    "    if argmax_val[i][1] == val_output[i] then\n",
    "        acc_validate = acc_validate + 1\n",
    "    end\n",
    "end\n",
    "\n",
    "acc_train = 0\n",
    "for i = 1, train_output:size(1) do\n",
    "    if argmax_train[i][1] == train_output[i] then\n",
    "        acc_train = acc_train + 1\n",
    "    end\n",
    "end\n",
    "score_val = acc_validate/val_output:size(1)\n",
    "score_train = acc_train/train_output:size(1)\n",
    "print('Validation Score on Train is '..score_train)\n",
    "print('Validation Score on Validation is '..score_val)"
   ]
  },
  {
   "cell_type": "code",
   "execution_count": 78,
   "metadata": {
    "collapsed": false
   },
   "outputs": [
    {
     "data": {
      "text/plain": [
       "\n"
      ]
     },
     "execution_count": 78,
     "metadata": {},
     "output_type": "execute_result"
    }
   ],
   "source": [
    "--saving the model\n",
    "torch.save('model/log_reg_words_sgdmodule', linreg_w)"
   ]
  },
  {
   "cell_type": "code",
   "execution_count": 10,
   "metadata": {
    "collapsed": true
   },
   "outputs": [],
   "source": [
    "--loading the model\n",
    "linreg_w2 = torch.load('model/log_reg_words_sgdmodule')"
   ]
  },
  {
   "cell_type": "code",
   "execution_count": 11,
   "metadata": {
    "collapsed": false
   },
   "outputs": [],
   "source": [
    "-- Prediction on test with submission\n",
    "test_word = data['test_input_word_windows']:clone()\n",
    "for j = 1, 5 do\n",
    "    test_word:narrow(2,j,1):add((j-1)*100002)\n",
    "end  \n",
    "\n",
    "pred_val = linreg_w2:forward(test_word)\n",
    "max,argmax = pred_val:max(2)\n",
    "pred_test = argmax:view(argmax:size(1))\n",
    "\n",
    "myFile = hdf5.open('submission/pred_test_lgrw2.h5', 'w')\n",
    "myFile:write('Testpred', pred_test)\n",
    "myFile:close()"
   ]
  },
  {
   "cell_type": "code",
   "execution_count": 12,
   "metadata": {
    "collapsed": false
   },
   "outputs": [
    {
     "data": {
      "text/plain": [
       " 129696\n",
       "      5\n",
       "[torch.LongStorage of size 2]\n",
       "\n"
      ]
     },
     "execution_count": 12,
     "metadata": {},
     "output_type": "execute_result"
    }
   ],
   "source": [
    "test_word:size()"
   ]
  },
  {
   "cell_type": "markdown",
   "metadata": {},
   "source": [
    "# Neural Network"
   ]
  },
  {
   "cell_type": "code",
   "execution_count": 13,
   "metadata": {
    "collapsed": true
   },
   "outputs": [],
   "source": [
    "-- We consider the built feature here\n",
    "train = train_input_word_windows:clone()\n",
    "train_cap = train_input_cap_windows:clone()"
   ]
  },
  {
   "cell_type": "code",
   "execution_count": 14,
   "metadata": {
    "collapsed": false
   },
   "outputs": [],
   "source": [
    "dim_hidden = 50\n",
    "--Define the module\n",
    "neuralnet = nn.Sequential()\n",
    "\n",
    "--Include the lookup tables\n",
    "par = nn.ParallelTable()\n",
    "par:add(nn.LookupTable(data['nwords'][1],dim_hidden)) -- first child\n",
    "par:add(nn.LookupTable(4,dim_hidden)) \n",
    "neuralnet:add(par)\n",
    "neuralnet:add(nn.JoinTable(2))\n",
    "neuralnet:add(nn.Sum(2))\n",
    "neuralnet:add(nn.Add(dim_hidden))\n",
    "\n",
    "neuralnet:add(nn.HardTanh())\n",
    "\n",
    "neuralnet:add(nn.Linear(dim_hidden, data['nclasses'][1]))\n",
    "\n",
    "neuralnet:add(nn.LogSoftMax())"
   ]
  },
  {
   "cell_type": "code",
   "execution_count": 16,
   "metadata": {
    "collapsed": false
   },
   "outputs": [
    {
     "data": {
      "text/plain": [
       "-180.6292\n",
       "-179.4826\n",
       "-177.2327\n",
       "-178.4308\n",
       "-177.1351\n",
       "-176.5015\n",
       "-176.3860\n",
       "-179.1067\n",
       "-178.3210\n",
       "-177.3904\n",
       "[torch.DoubleTensor of size 10x1]\n",
       "\n"
      ]
     },
     "execution_count": 16,
     "metadata": {},
     "output_type": "execute_result"
    }
   ],
   "source": [
    "-- Test\n",
    "-- Batch with 10 element\n",
    "neuralnet:forward({train:narrow(1,5, 10),train_cap:narrow(1,5, 10)}):sum(2)"
   ]
  },
  {
   "cell_type": "code",
   "execution_count": 70,
   "metadata": {
    "collapsed": false
   },
   "outputs": [
    {
     "data": {
      "text/plain": [
       "3.8898707998767\t\n"
      ]
     },
     "execution_count": 70,
     "metadata": {},
     "output_type": "execute_result"
    },
    {
     "data": {
      "text/plain": [
       "2.8758456393912\t\n"
      ]
     },
     "execution_count": 70,
     "metadata": {},
     "output_type": "execute_result"
    },
    {
     "data": {
      "text/plain": [
       "3.2050669027685\t\n"
      ]
     },
     "execution_count": 70,
     "metadata": {},
     "output_type": "execute_result"
    },
    {
     "data": {
      "text/plain": [
       "2.6489577068804\t\n"
      ]
     },
     "execution_count": 70,
     "metadata": {},
     "output_type": "execute_result"
    },
    {
     "data": {
      "text/plain": [
       "2.7498094002453\t\n"
      ]
     },
     "execution_count": 70,
     "metadata": {},
     "output_type": "execute_result"
    },
    {
     "data": {
      "text/plain": [
       "2.6825000064236\t\n"
      ]
     },
     "execution_count": 70,
     "metadata": {},
     "output_type": "execute_result"
    },
    {
     "data": {
      "text/plain": [
       "2.824666045155\t\n"
      ]
     },
     "execution_count": 70,
     "metadata": {},
     "output_type": "execute_result"
    },
    {
     "data": {
      "text/plain": [
       "2.8477612160101\t\n"
      ]
     },
     "execution_count": 70,
     "metadata": {},
     "output_type": "execute_result"
    },
    {
     "data": {
      "text/plain": [
       "2.5235147998269\t\n"
      ]
     },
     "execution_count": 70,
     "metadata": {},
     "output_type": "execute_result"
    },
    {
     "data": {
      "text/plain": [
       "2.4288681396417\t\n"
      ]
     },
     "execution_count": 70,
     "metadata": {},
     "output_type": "execute_result"
    },
    {
     "data": {
      "text/plain": [
       "2.0892679645625\t\n"
      ]
     },
     "execution_count": 70,
     "metadata": {},
     "output_type": "execute_result"
    },
    {
     "data": {
      "text/plain": [
       "2.3904251976955\t\n"
      ]
     },
     "execution_count": 70,
     "metadata": {},
     "output_type": "execute_result"
    },
    {
     "data": {
      "text/plain": [
       "2.3317229213979\t\n"
      ]
     },
     "execution_count": 70,
     "metadata": {},
     "output_type": "execute_result"
    },
    {
     "data": {
      "text/plain": [
       "2.279531009562\t"
      ]
     },
     "execution_count": 70,
     "metadata": {},
     "output_type": "execute_result"
    },
    {
     "data": {
      "text/plain": [
       "\n"
      ]
     },
     "execution_count": 70,
     "metadata": {},
     "output_type": "execute_result"
    },
    {
     "data": {
      "text/plain": [
       "2.2933153697501\t\n"
      ]
     },
     "execution_count": 70,
     "metadata": {},
     "output_type": "execute_result"
    },
    {
     "data": {
      "text/plain": [
       "2.4274080248097\t\n"
      ]
     },
     "execution_count": 70,
     "metadata": {},
     "output_type": "execute_result"
    },
    {
     "data": {
      "text/plain": [
       "2.3171917513797\t\n"
      ]
     },
     "execution_count": 70,
     "metadata": {},
     "output_type": "execute_result"
    },
    {
     "data": {
      "text/plain": [
       "2.5087745416034\t\n"
      ]
     },
     "execution_count": 70,
     "metadata": {},
     "output_type": "execute_result"
    },
    {
     "data": {
      "text/plain": [
       "2.6062318466591\t\n"
      ]
     },
     "execution_count": 70,
     "metadata": {},
     "output_type": "execute_result"
    },
    {
     "data": {
      "text/plain": [
       "Time elapsed for epoch 1: 133.19005703926 seconds\t\n",
       "\t\n"
      ]
     },
     "execution_count": 70,
     "metadata": {},
     "output_type": "execute_result"
    },
    {
     "data": {
      "text/plain": [
       "Validation Score is 0.27003672007769\t\n"
      ]
     },
     "execution_count": 70,
     "metadata": {},
     "output_type": "execute_result"
    },
    {
     "data": {
      "text/plain": [
       "2.5026424602521\t\n"
      ]
     },
     "execution_count": 70,
     "metadata": {},
     "output_type": "execute_result"
    },
    {
     "data": {
      "text/plain": [
       "2.4207418009544\t\n"
      ]
     },
     "execution_count": 70,
     "metadata": {},
     "output_type": "execute_result"
    },
    {
     "data": {
      "text/plain": [
       "2.9260936587252\t\n"
      ]
     },
     "execution_count": 70,
     "metadata": {},
     "output_type": "execute_result"
    },
    {
     "data": {
      "text/plain": [
       "2.3913462837156\t\n"
      ]
     },
     "execution_count": 70,
     "metadata": {},
     "output_type": "execute_result"
    },
    {
     "data": {
      "text/plain": [
       "2.5835910207376\t\n"
      ]
     },
     "execution_count": 70,
     "metadata": {},
     "output_type": "execute_result"
    },
    {
     "data": {
      "text/plain": [
       "2.5235448919277\t\n"
      ]
     },
     "execution_count": 70,
     "metadata": {},
     "output_type": "execute_result"
    },
    {
     "data": {
      "text/plain": [
       "2.5935075353371\t\n"
      ]
     },
     "execution_count": 70,
     "metadata": {},
     "output_type": "execute_result"
    },
    {
     "data": {
      "text/plain": [
       "2.6714172192295\t\n"
      ]
     },
     "execution_count": 70,
     "metadata": {},
     "output_type": "execute_result"
    },
    {
     "data": {
      "text/plain": [
       "2.3902954409781\t\n"
      ]
     },
     "execution_count": 70,
     "metadata": {},
     "output_type": "execute_result"
    },
    {
     "data": {
      "text/plain": [
       "2.3054344427427\t\n"
      ]
     },
     "execution_count": 70,
     "metadata": {},
     "output_type": "execute_result"
    },
    {
     "data": {
      "text/plain": [
       "1.9977375704705\t\n"
      ]
     },
     "execution_count": 70,
     "metadata": {},
     "output_type": "execute_result"
    },
    {
     "data": {
      "text/plain": [
       "2.2906179356041\t\n"
      ]
     },
     "execution_count": 70,
     "metadata": {},
     "output_type": "execute_result"
    },
    {
     "data": {
      "text/plain": [
       "2.173673214273\t\n"
      ]
     },
     "execution_count": 70,
     "metadata": {},
     "output_type": "execute_result"
    },
    {
     "data": {
      "text/plain": [
       "2.1916890646751\t\n"
      ]
     },
     "execution_count": 70,
     "metadata": {},
     "output_type": "execute_result"
    },
    {
     "data": {
      "text/plain": [
       "2.2449466234562\t\n"
      ]
     },
     "execution_count": 70,
     "metadata": {},
     "output_type": "execute_result"
    },
    {
     "data": {
      "text/plain": [
       "2.3427394296164\t\n"
      ]
     },
     "execution_count": 70,
     "metadata": {},
     "output_type": "execute_result"
    },
    {
     "data": {
      "text/plain": [
       "2.2413542832905\t\n"
      ]
     },
     "execution_count": 70,
     "metadata": {},
     "output_type": "execute_result"
    },
    {
     "data": {
      "text/plain": [
       "2.4428794219126\t\n"
      ]
     },
     "execution_count": 70,
     "metadata": {},
     "output_type": "execute_result"
    },
    {
     "data": {
      "text/plain": [
       "2.5008728137761\t\n"
      ]
     },
     "execution_count": 70,
     "metadata": {},
     "output_type": "execute_result"
    },
    {
     "data": {
      "text/plain": [
       "Time elapsed for epoch 2: 135.79912805557 seconds\t\n",
       "\t\n"
      ]
     },
     "execution_count": 70,
     "metadata": {},
     "output_type": "execute_result"
    },
    {
     "data": {
      "text/plain": [
       "Validation Score is 0.27895878854091\t\n"
      ]
     },
     "execution_count": 70,
     "metadata": {},
     "output_type": "execute_result"
    },
    {
     "data": {
      "text/plain": [
       "2.4426967223651\t\n"
      ]
     },
     "execution_count": 70,
     "metadata": {},
     "output_type": "execute_result"
    },
    {
     "data": {
      "text/plain": [
       "2.2807296625277\t\n"
      ]
     },
     "execution_count": 70,
     "metadata": {},
     "output_type": "execute_result"
    },
    {
     "data": {
      "text/plain": [
       "2.8485047489928\t\n"
      ]
     },
     "execution_count": 70,
     "metadata": {},
     "output_type": "execute_result"
    },
    {
     "data": {
      "text/plain": [
       "2.3209873936175\t\n"
      ]
     },
     "execution_count": 70,
     "metadata": {},
     "output_type": "execute_result"
    },
    {
     "data": {
      "text/plain": [
       "2.5085282929789\t\n"
      ]
     },
     "execution_count": 70,
     "metadata": {},
     "output_type": "execute_result"
    },
    {
     "data": {
      "text/plain": [
       "2.4711013919259\t\n"
      ]
     },
     "execution_count": 70,
     "metadata": {},
     "output_type": "execute_result"
    },
    {
     "data": {
      "text/plain": [
       "2.511446725365\t\n"
      ]
     },
     "execution_count": 70,
     "metadata": {},
     "output_type": "execute_result"
    },
    {
     "data": {
      "text/plain": [
       "2.6047166009476\t\n"
      ]
     },
     "execution_count": 70,
     "metadata": {},
     "output_type": "execute_result"
    },
    {
     "data": {
      "text/plain": [
       "2.3006343727676\t\n"
      ]
     },
     "execution_count": 70,
     "metadata": {},
     "output_type": "execute_result"
    },
    {
     "data": {
      "text/plain": [
       "2.237735474894\t\n"
      ]
     },
     "execution_count": 70,
     "metadata": {},
     "output_type": "execute_result"
    },
    {
     "data": {
      "text/plain": [
       "1.9444604691873\t\n"
      ]
     },
     "execution_count": 70,
     "metadata": {},
     "output_type": "execute_result"
    },
    {
     "data": {
      "text/plain": [
       "2.2483355673351\t\n"
      ]
     },
     "execution_count": 70,
     "metadata": {},
     "output_type": "execute_result"
    },
    {
     "data": {
      "text/plain": [
       "2.1229075250767\t\n"
      ]
     },
     "execution_count": 70,
     "metadata": {},
     "output_type": "execute_result"
    },
    {
     "data": {
      "text/plain": [
       "2.16289014247\t\n"
      ]
     },
     "execution_count": 70,
     "metadata": {},
     "output_type": "execute_result"
    },
    {
     "data": {
      "text/plain": [
       "2.2093800835072\t\n"
      ]
     },
     "execution_count": 70,
     "metadata": {},
     "output_type": "execute_result"
    },
    {
     "data": {
      "text/plain": [
       "2.3294113295806\t\n"
      ]
     },
     "execution_count": 70,
     "metadata": {},
     "output_type": "execute_result"
    },
    {
     "data": {
      "text/plain": [
       "2.1884962024668\t\n"
      ]
     },
     "execution_count": 70,
     "metadata": {},
     "output_type": "execute_result"
    },
    {
     "data": {
      "text/plain": [
       "2.4100095277122\t\n"
      ]
     },
     "execution_count": 70,
     "metadata": {},
     "output_type": "execute_result"
    },
    {
     "data": {
      "text/plain": [
       "2.4478439951989\t\n"
      ]
     },
     "execution_count": 70,
     "metadata": {},
     "output_type": "execute_result"
    },
    {
     "data": {
      "text/plain": [
       "Time elapsed for epoch 3: 137.39781308174 seconds\t\n",
       "\t\n"
      ]
     },
     "execution_count": 70,
     "metadata": {},
     "output_type": "execute_result"
    },
    {
     "data": {
      "text/plain": [
       "Validation Score is 0.28297978878369\t\n"
      ]
     },
     "execution_count": 70,
     "metadata": {},
     "output_type": "execute_result"
    },
    {
     "data": {
      "text/plain": [
       "2.4137918961129\t\n"
      ]
     },
     "execution_count": 70,
     "metadata": {},
     "output_type": "execute_result"
    },
    {
     "data": {
      "text/plain": [
       "2.221003558904\t\n"
      ]
     },
     "execution_count": 70,
     "metadata": {},
     "output_type": "execute_result"
    },
    {
     "data": {
      "text/plain": [
       "2.800579300496\t\n"
      ]
     },
     "execution_count": 70,
     "metadata": {},
     "output_type": "execute_result"
    },
    {
     "data": {
      "text/plain": [
       "2.2728064140365\t\n"
      ]
     },
     "execution_count": 70,
     "metadata": {},
     "output_type": "execute_result"
    },
    {
     "data": {
      "text/plain": [
       "2.4554092595734\t\n"
      ]
     },
     "execution_count": 70,
     "metadata": {},
     "output_type": "execute_result"
    },
    {
     "data": {
      "text/plain": [
       "2.435090223665\t\n"
      ]
     },
     "execution_count": 70,
     "metadata": {},
     "output_type": "execute_result"
    },
    {
     "data": {
      "text/plain": [
       "2.4375065388558\t\n"
      ]
     },
     "execution_count": 70,
     "metadata": {},
     "output_type": "execute_result"
    },
    {
     "data": {
      "text/plain": [
       "2.5698927281729\t\n"
      ]
     },
     "execution_count": 70,
     "metadata": {},
     "output_type": "execute_result"
    },
    {
     "data": {
      "text/plain": [
       "2.266079469031\t\n"
      ]
     },
     "execution_count": 70,
     "metadata": {},
     "output_type": "execute_result"
    },
    {
     "data": {
      "text/plain": [
       "2.2246176394618\t\n"
      ]
     },
     "execution_count": 70,
     "metadata": {},
     "output_type": "execute_result"
    },
    {
     "data": {
      "text/plain": [
       "1.9169782289405\t\n"
      ]
     },
     "execution_count": 70,
     "metadata": {},
     "output_type": "execute_result"
    },
    {
     "data": {
      "text/plain": [
       "2.2189973124291\t\n"
      ]
     },
     "execution_count": 70,
     "metadata": {},
     "output_type": "execute_result"
    },
    {
     "data": {
      "text/plain": [
       "2.089657313294\t\n"
      ]
     },
     "execution_count": 70,
     "metadata": {},
     "output_type": "execute_result"
    },
    {
     "data": {
      "text/plain": [
       "2.1506508859938\t\n"
      ]
     },
     "execution_count": 70,
     "metadata": {},
     "output_type": "execute_result"
    },
    {
     "data": {
      "text/plain": [
       "2.176215433173\t\n"
      ]
     },
     "execution_count": 70,
     "metadata": {},
     "output_type": "execute_result"
    },
    {
     "data": {
      "text/plain": [
       "2.2970164518705\t\n"
      ]
     },
     "execution_count": 70,
     "metadata": {},
     "output_type": "execute_result"
    },
    {
     "data": {
      "text/plain": [
       "2.1496671113838\t\n"
      ]
     },
     "execution_count": 70,
     "metadata": {},
     "output_type": "execute_result"
    },
    {
     "data": {
      "text/plain": [
       "2.3967529970368\t\n"
      ]
     },
     "execution_count": 70,
     "metadata": {},
     "output_type": "execute_result"
    },
    {
     "data": {
      "text/plain": [
       "2.4053921924961\t\n"
      ]
     },
     "execution_count": 70,
     "metadata": {},
     "output_type": "execute_result"
    },
    {
     "data": {
      "text/plain": [
       "Time elapsed for epoch 4: 128.47289800644 seconds\t\n",
       "\t\n"
      ]
     },
     "execution_count": 70,
     "metadata": {},
     "output_type": "execute_result"
    },
    {
     "data": {
      "text/plain": [
       "Validation Score is 0.28690216071862\t\n"
      ]
     },
     "execution_count": 70,
     "metadata": {},
     "output_type": "execute_result"
    },
    {
     "data": {
      "text/plain": [
       "2.3846665795851\t\n"
      ]
     },
     "execution_count": 70,
     "metadata": {},
     "output_type": "execute_result"
    },
    {
     "data": {
      "text/plain": [
       "2.1726820256113\t\n"
      ]
     },
     "execution_count": 70,
     "metadata": {},
     "output_type": "execute_result"
    },
    {
     "data": {
      "text/plain": [
       "2.7494483592059\t\n"
      ]
     },
     "execution_count": 70,
     "metadata": {},
     "output_type": "execute_result"
    },
    {
     "data": {
      "text/plain": [
       "2.2367228155743\t\n"
      ]
     },
     "execution_count": 70,
     "metadata": {},
     "output_type": "execute_result"
    },
    {
     "data": {
      "text/plain": [
       "2.4231323891795\t\n"
      ]
     },
     "execution_count": 70,
     "metadata": {},
     "output_type": "execute_result"
    },
    {
     "data": {
      "text/plain": [
       "2.4146110312395\t\n"
      ]
     },
     "execution_count": 70,
     "metadata": {},
     "output_type": "execute_result"
    },
    {
     "data": {
      "text/plain": [
       "2.3846809001856\t\n"
      ]
     },
     "execution_count": 70,
     "metadata": {},
     "output_type": "execute_result"
    },
    {
     "data": {
      "text/plain": [
       "2.5437790932748\t\n"
      ]
     },
     "execution_count": 70,
     "metadata": {},
     "output_type": "execute_result"
    },
    {
     "data": {
      "text/plain": [
       "2.248394048677\t\n"
      ]
     },
     "execution_count": 70,
     "metadata": {},
     "output_type": "execute_result"
    },
    {
     "data": {
      "text/plain": [
       "2.2121803073311\t\n"
      ]
     },
     "execution_count": 70,
     "metadata": {},
     "output_type": "execute_result"
    },
    {
     "data": {
      "text/plain": [
       "1.9011909215113\t\n"
      ]
     },
     "execution_count": 70,
     "metadata": {},
     "output_type": "execute_result"
    },
    {
     "data": {
      "text/plain": [
       "2.203171600584\t\n"
      ]
     },
     "execution_count": 70,
     "metadata": {},
     "output_type": "execute_result"
    },
    {
     "data": {
      "text/plain": [
       "2.0703786126542\t\n"
      ]
     },
     "execution_count": 70,
     "metadata": {},
     "output_type": "execute_result"
    },
    {
     "data": {
      "text/plain": [
       "2.1415262288633\t\n"
      ]
     },
     "execution_count": 70,
     "metadata": {},
     "output_type": "execute_result"
    },
    {
     "data": {
      "text/plain": [
       "2.1514558319843\t\n"
      ]
     },
     "execution_count": 70,
     "metadata": {},
     "output_type": "execute_result"
    },
    {
     "data": {
      "text/plain": [
       "2.2566647599768\t\n"
      ]
     },
     "execution_count": 70,
     "metadata": {},
     "output_type": "execute_result"
    },
    {
     "data": {
      "text/plain": [
       "2.1380294547215\t\n"
      ]
     },
     "execution_count": 70,
     "metadata": {},
     "output_type": "execute_result"
    },
    {
     "data": {
      "text/plain": [
       "2.3833049599876\t\n"
      ]
     },
     "execution_count": 70,
     "metadata": {},
     "output_type": "execute_result"
    },
    {
     "data": {
      "text/plain": [
       "2.3712172783666\t\n"
      ]
     },
     "execution_count": 70,
     "metadata": {},
     "output_type": "execute_result"
    },
    {
     "data": {
      "text/plain": [
       "Time elapsed for epoch 5: 135.55886483192 seconds\t\n",
       "\t\n"
      ]
     },
     "execution_count": 70,
     "metadata": {},
     "output_type": "execute_result"
    },
    {
     "data": {
      "text/plain": [
       "Validation Score is 0.28950443068706\t\n"
      ]
     },
     "execution_count": 70,
     "metadata": {},
     "output_type": "execute_result"
    }
   ],
   "source": [
    "-- SGD on neuralnet\n",
    "eta = 0.01\n",
    "batch_size = 100\n",
    "input_w = torch.Tensor(batch_size,5)\n",
    "input_c = torch.Tensor(batch_size,5)\n",
    "targets = torch.Tensor(batch_size)\n",
    "\n",
    "-- For the Accuracy on the validation set\n",
    "val_word = data['valid_input_word_windows']:clone()\n",
    "val_cap = data['valid_input_cap_windows']:clone()\n",
    "\n",
    "val_output = data['valid_output']\n",
    "pred_val = torch.Tensor(val_output:size(1), 45)\n",
    "\n",
    "criterion = nn.ClassNLLCriterion()\n",
    "\n",
    "for ep = 1,5 do\n",
    "    timer = torch.Timer()\n",
    "    -- To be sure to consider only batch of the same size\n",
    "    for j = 1,train:size(1) - train:size(1) % batch_size, batch_size do\n",
    "        neuralnet:zeroGradParameters()\n",
    "        input_w = train:narrow(1, j, batch_size)\n",
    "        input_c = train_cap:narrow(1, j, batch_size)\n",
    "        targets = train_output:narrow(1,j, batch_size)  \n",
    "        -- Forward pass\n",
    "        preds = neuralnet:forward({input_w,input_c})\n",
    "        loss = criterion:forward(preds, targets)\n",
    "        \n",
    "        if j % 501 == 0 then\n",
    "            print(loss)\n",
    "        end\n",
    "        -- Backward pass\n",
    "        dLdpreds = criterion:backward(preds, targets)\n",
    "        neuralnet:backward({input_w,input_c}, dLdpreds)\n",
    "        --- Updating parameters\n",
    "        neuralnet:updateParameters(eta) \n",
    "    end\n",
    "    print('Time elapsed for epoch ' .. ep ..': ' .. timer:time().real .. ' seconds',\"\\n\")\n",
    "    -- Evaluating the accuracy on the validation set\n",
    "    pred_val = neuralnet:forward({val_word, val_cap})\n",
    "    max,argmax = pred_val:max(2)\n",
    "\n",
    "    acc = 0\n",
    "    for i = 1, val_output:size(1) do\n",
    "        if argmax[i][1] == val_output[i] then\n",
    "            acc = acc + 1\n",
    "        end\n",
    "    end\n",
    "    score = acc/val_output:size(1)\n",
    "    print('Validation Score is '..score)\n",
    "\n",
    "end"
   ]
  },
  {
   "cell_type": "code",
   "execution_count": 6,
   "metadata": {
    "collapsed": false
   },
   "outputs": [],
   "source": [
    "-- Use of the stochasticgradient module\n",
    "-- Only words feature first\n",
    "\n",
    "-- Building the dataset\n",
    "dataset={};\n",
    "for i=1,train:size(1) do \n",
    "  dataset[i] = {train[i]:view(1,5), train_output[i]}\n",
    "end\n",
    "function dataset:size() return train:size(1) end -- 100 examples"
   ]
  },
  {
   "cell_type": "code",
   "execution_count": 11,
   "metadata": {
    "collapsed": false
   },
   "outputs": [
    {
     "data": {
      "text/plain": [
       "{\n",
       "  1 : LongTensor - size: 1x5\n",
       "  2 : 1\n",
       "}\n",
       "    1     1  5032     2     4\n",
       "[torch.LongTensor of size 1x5]\n",
       "\n"
      ]
     },
     "execution_count": 11,
     "metadata": {},
     "output_type": "execute_result"
    }
   ],
   "source": [
    "--Check\n",
    "print(dataset[1])\n",
    "print(dataset[1][1])"
   ]
  },
  {
   "cell_type": "code",
   "execution_count": 29,
   "metadata": {
    "collapsed": true
   },
   "outputs": [],
   "source": [
    "dim_hidden = 50\n",
    "--Define the module\n",
    "neuralnet_w = nn.Sequential()\n",
    "\n",
    "--Include the lookup tables\n",
    "neuralnet_w:add(nn.LookupTable(data['nwords'][1],dim_hidden))\n",
    "neuralnet_w:add(nn.Sum(2))\n",
    "neuralnet_w:add(nn.Add(dim_hidden))\n",
    "\n",
    "neuralnet_w:add(nn.HardTanh())\n",
    "\n",
    "neuralnet_w:add(nn.Linear(dim_hidden, data['nclasses'][1]))\n",
    "\n",
    "--neuralnet_w:add(nn.LogSoftMax())\n",
    "\n",
    "-- Defining the criterion\n",
    "criterion = nn.ClassNLLCriterion()"
   ]
  },
  {
   "cell_type": "code",
   "execution_count": 30,
   "metadata": {
    "collapsed": false
   },
   "outputs": [
    {
     "data": {
      "text/plain": [
       "Columns 1 to 10\n",
       "-0.4656 -0.2358 -0.2387  0.7646  1.4196  0.1271 -0.5708  0.5629 -0.1456 -0.1834\n",
       "\n",
       "Columns 11 to 20\n",
       " 0.1106 -0.1164 -0.1584 -0.4165  0.9461 -1.3635 -0.5184 -0.4090 -0.8857 -0.8798\n",
       "\n",
       "Columns 21 to 30\n",
       " 0.6350 -0.0262 -0.6443  0.2792 -0.2837 -1.0278 -0.0088 -0.1556  1.0539  0.8953\n",
       "\n",
       "Columns 31 to 40\n",
       " 0.3359  0.4260 -0.1281  0.2132  0.4996  1.5266  0.3289 -0.3932  0.3782 -0.9084\n",
       "\n",
       "Columns 41 to 45\n",
       " 0.1558  0.1407  0.2678  0.3221  0.0584\n",
       "[torch.DoubleTensor of size 1x45]\n",
       "\n"
      ]
     },
     "execution_count": 30,
     "metadata": {},
     "output_type": "execute_result"
    }
   ],
   "source": [
    "-- Test the module\n",
    "neuralnet_w:forward(dataset[1][1])"
   ]
  },
  {
   "cell_type": "code",
   "execution_count": 23,
   "metadata": {
    "collapsed": false
   },
   "outputs": [
    {
     "data": {
      "text/plain": [
       "# StochasticGradient: training\t\n"
      ]
     },
     "execution_count": 23,
     "metadata": {},
     "output_type": "execute_result"
    },
    {
     "data": {
      "text/plain": [
       "# current error = 2.0096873995551\t\n"
      ]
     },
     "execution_count": 23,
     "metadata": {},
     "output_type": "execute_result"
    },
    {
     "data": {
      "text/plain": [
       "# current error = 1.9225598150036\t\n"
      ]
     },
     "execution_count": 23,
     "metadata": {},
     "output_type": "execute_result"
    },
    {
     "data": {
      "text/plain": [
       "# current error = 1.8669479596766\t\n"
      ]
     },
     "execution_count": 23,
     "metadata": {},
     "output_type": "execute_result"
    },
    {
     "data": {
      "text/plain": [
       "# current error = 1.8257884102976\t\n",
       "# StochasticGradient: you have reached the maximum number of iterations\t\n",
       "# training error = 1.8257884102976\t\n",
       "Time elapsed to train 802.30167603493 seconds\t\n",
       "\t\n"
      ]
     },
     "execution_count": 23,
     "metadata": {},
     "output_type": "execute_result"
    }
   ],
   "source": [
    "-- Training using StochasticGradient\n",
    "timer = torch.Timer()\n",
    "\n",
    "trainer = nn.StochasticGradient(neuralnet_w, criterion)\n",
    "trainer.learningRate = 0.01\n",
    "trainer.maxIteration = 5\n",
    "trainer:train(dataset)\n",
    "\n",
    "print('Time elapsed to train ' .. timer:time().real .. ' seconds',\"\\n\")\n"
   ]
  },
  {
   "cell_type": "code",
   "execution_count": 33,
   "metadata": {
    "collapsed": false
   },
   "outputs": [
    {
     "data": {
      "text/plain": [
       "# StochasticGradient: training\t\n"
      ]
     },
     "execution_count": 33,
     "metadata": {},
     "output_type": "execute_result"
    },
    {
     "data": {
      "text/plain": [
       "# current error = -172126.08958512\t\n"
      ]
     },
     "execution_count": 33,
     "metadata": {},
     "output_type": "execute_result"
    },
    {
     "data": {
      "text/plain": [
       "# current error = -203435.45737267\t\n"
      ]
     },
     "execution_count": 33,
     "metadata": {},
     "output_type": "execute_result"
    },
    {
     "data": {
      "text/plain": [
       "# current error = -234744.82516024\t\n"
      ]
     },
     "execution_count": 33,
     "metadata": {},
     "output_type": "execute_result"
    },
    {
     "data": {
      "text/plain": [
       "# current error = -266054.19294777\t\n"
      ]
     },
     "execution_count": 33,
     "metadata": {},
     "output_type": "execute_result"
    },
    {
     "data": {
      "text/plain": [
       "# current error = -297363.56073544\t\n",
       "# StochasticGradient: you have reached the maximum number of iterations\t\n",
       "# training error = -297363.56073544\t\n",
       "Time elapsed to train 1143.8174819946 seconds\t\n",
       "\t\n"
      ]
     },
     "execution_count": 33,
     "metadata": {},
     "output_type": "execute_result"
    }
   ],
   "source": [
    "-- Training using StochasticGradient\n",
    "timer = torch.Timer()\n",
    "\n",
    "trainer = nn.StochasticGradient(neuralnet_w, criterion)\n",
    "trainer.learningRate = 0.01\n",
    "trainer.maxIteration = 5\n",
    "trainer:train(dataset)\n",
    "\n",
    "print('Time elapsed to train ' .. timer:time().real .. ' seconds',\"\\n\")\n"
   ]
  },
  {
   "cell_type": "code",
   "execution_count": 32,
   "metadata": {
    "collapsed": false
   },
   "outputs": [
    {
     "data": {
      "text/plain": [
       "Validation Score on Train is 0.13979374711011\t\n",
       "Validation Score on Validation is 0.14067431415392\t\n"
      ]
     },
     "execution_count": 32,
     "metadata": {},
     "output_type": "execute_result"
    }
   ],
   "source": [
    "-- Computing the accuracy score\n",
    "\n",
    "val_word = data['valid_input_word_windows']\n",
    "val_output = data['valid_output']\n",
    "\n",
    "pred_validate = torch.Tensor(val_output:size(1), 45)    \n",
    "pred_train = torch.Tensor(train_output:size(1), 45)    \n",
    "\n",
    "pred_validate = neuralnet_w:forward(val_word)\n",
    "pred_train = neuralnet_w:forward(train)\n",
    "\n",
    "max,argmax_val = pred_validate:max(2)\n",
    "max,argmax_train = pred_train:max(2)\n",
    "\n",
    "acc_validate = 0\n",
    "for i = 1, val_output:size(1) do\n",
    "    if argmax_val[i][1] == val_output[i] then\n",
    "        acc_validate = acc_validate + 1\n",
    "    end\n",
    "end\n",
    "\n",
    "acc_train = 0\n",
    "for i = 1, train_output:size(1) do\n",
    "    if argmax_train[i][1] == train_output[i] then\n",
    "        acc_train = acc_train + 1\n",
    "    end\n",
    "end\n",
    "score_val = acc_validate/val_output:size(1)\n",
    "score_train = acc_train/train_output:size(1)\n",
    "print('Validation Score on Train is '..score_train)\n",
    "print('Validation Score on Validation is '..score_val)"
   ]
  },
  {
   "cell_type": "code",
   "execution_count": 27,
   "metadata": {
    "collapsed": false
   },
   "outputs": [
    {
     "data": {
      "text/plain": [
       "  1\n",
       "  1\n",
       "  2\n",
       "  3\n",
       "  4\n",
       "  5\n",
       "  2\n",
       "  6\n",
       "  7\n",
       "  8\n",
       "  9\n",
       " 10\n",
       "  8\n",
       "  5\n",
       "  9\n",
       "  1\n",
       "  3\n",
       " 11\n",
       "  1\n",
       "  1\n",
       "[torch.LongTensor of size 20]\n",
       "\n"
      ]
     },
     "execution_count": 27,
     "metadata": {},
     "output_type": "execute_result"
    }
   ],
   "source": [
    "train_output:narrow(1, 1, 20)"
   ]
  },
  {
   "cell_type": "code",
   "execution_count": 28,
   "metadata": {
    "collapsed": false
   },
   "outputs": [
    {
     "data": {
      "text/plain": [
       "  1\n",
       "  2\n",
       "  2\n",
       "  3\n",
       "  3\n",
       "  4\n",
       "  4\n",
       "  8\n",
       "  8\n",
       "  8\n",
       "  9\n",
       "  9\n",
       "  8\n",
       "  8\n",
       "  8\n",
       "  1\n",
       "  1\n",
       " 11\n",
       "  1\n",
       "  1\n",
       "[torch.LongTensor of size 20x1]\n",
       "\n"
      ]
     },
     "execution_count": 28,
     "metadata": {},
     "output_type": "execute_result"
    }
   ],
   "source": [
    "argmax_train:narrow(1, 1, 20)"
   ]
  },
  {
   "cell_type": "markdown",
   "metadata": {},
   "source": [
    "# Neural Network with pretrained embeddings"
   ]
  },
  {
   "cell_type": "code",
   "execution_count": null,
   "metadata": {
    "collapsed": true
   },
   "outputs": [],
   "source": []
  }
 ],
 "metadata": {
  "kernelspec": {
   "display_name": "iTorch",
   "language": "lua",
   "name": "itorch"
  },
  "language_info": {
   "name": "lua",
   "version": "20100"
  }
 },
 "nbformat": 4,
 "nbformat_minor": 0
}
