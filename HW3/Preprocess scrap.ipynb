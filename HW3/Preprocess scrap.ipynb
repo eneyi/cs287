{
 "cells": [
  {
   "cell_type": "code",
   "execution_count": 1,
   "metadata": {
    "collapsed": true
   },
   "outputs": [],
   "source": [
    "import numpy as np\n",
    "import h5py\n",
    "import argparse\n",
    "import sys\n",
    "import re\n",
    "import codecs"
   ]
  },
  {
   "cell_type": "code",
   "execution_count": 63,
   "metadata": {
    "collapsed": true
   },
   "outputs": [],
   "source": [
    "words2index = {}\n",
    "with open('data/words.dict') as f:\n",
    "    for line in f:\n",
    "        (val, key, num) = line.split()\n",
    "        words2index[key] = int(val)"
   ]
  },
  {
   "cell_type": "code",
   "execution_count": 64,
   "metadata": {
    "collapsed": true
   },
   "outputs": [],
   "source": [
    "index2words = {}\n",
    "with open('data/words.dict') as f:\n",
    "    for line in f:\n",
    "        (val, key, num) = line.split()\n",
    "        index2words[int(val)] = key"
   ]
  },
  {
   "cell_type": "code",
   "execution_count": 81,
   "metadata": {
    "collapsed": false
   },
   "outputs": [],
   "source": [
    "def train_get_Ngram(filepath,N):\n",
    "    results = []\n",
    "    with open(filepath) as f:\n",
    "        for line in f:\n",
    "            lsplit = [words2index[x] for x in line.split()]\n",
    "            l = np.append(np.repeat(words2index['<s>'],N-1),lsplit)\n",
    "\n",
    "            for i in range(len(lsplit)):\n",
    "                g = l[i:N-1+i]\n",
    "                v = lsplit[i]\n",
    "                results.append((g,v))\n",
    "            results.append((l[-N+1:],words2index['</s>']))\n",
    "    return results"
   ]
  },
  {
   "cell_type": "code",
   "execution_count": 82,
   "metadata": {
    "collapsed": false
   },
   "outputs": [],
   "source": [
    "bigrams = train_get_Ngram('data/train.txt',2)"
   ]
  },
  {
   "cell_type": "code",
   "execution_count": null,
   "metadata": {
    "collapsed": true
   },
   "outputs": [],
   "source": []
  },
  {
   "cell_type": "code",
   "execution_count": 83,
   "metadata": {
    "collapsed": true
   },
   "outputs": [],
   "source": [
    "trigrams = train_get_Ngram('data/train.txt',3)"
   ]
  },
  {
   "cell_type": "code",
   "execution_count": 84,
   "metadata": {
    "collapsed": false
   },
   "outputs": [
    {
     "data": {
      "text/plain": [
       "(array([3, 3]), 9981)"
      ]
     },
     "execution_count": 84,
     "metadata": {},
     "output_type": "execute_result"
    }
   ],
   "source": [
    "trigrams[0]"
   ]
  },
  {
   "cell_type": "code",
   "execution_count": 105,
   "metadata": {
    "collapsed": false
   },
   "outputs": [],
   "source": [
    "def valid_test_Ngram(filepath,N):\n",
    "    results = []\n",
    "    with open(filepath) as f:\n",
    "        i=1\n",
    "        for line in f:\n",
    "            lsplit = line.split()\n",
    "            if i == 1:\n",
    "                topredict = np.array([words2index[x] for x in lsplit[1:]])\n",
    "                i+=1\n",
    "            if i == 2:\n",
    "                l = np.append(np.repeat(words2index['<s>'],N-1),[words2index[x] for x in lsplit[1:]])\n",
    "                lastNgram =  l[-N+1:]\n",
    "                results.append([lastNgram,topredict])\n",
    "                i = 1\n",
    "    return results"
   ]
  },
  {
   "cell_type": "code",
   "execution_count": 106,
   "metadata": {
    "collapsed": false
   },
   "outputs": [],
   "source": [
    "test = valid_test_Ngram('data/valid_blanks.txt',3)"
   ]
  },
  {
   "cell_type": "code",
   "execution_count": 107,
   "metadata": {
    "collapsed": false
   },
   "outputs": [
    {
     "data": {
      "text/plain": [
       "[array([6710, 4194]),\n",
       " array([ 407, 6937, 1655,  224, 1573, 6613, 8345, 8618,  297, 9494, 9085,\n",
       "        2261, 7107, 5195, 8009, 5554, 6273,  922, 7771, 5130, 2408, 9824,\n",
       "         660, 8177, 5070, 9016, 5779, 1460, 4601, 1555, 4583, 8021, 5839,\n",
       "        5433, 2645, 5701, 5699, 8434, 4013, 7236,    5,    6, 7391, 3700,\n",
       "        8474, 2839, 7576,  844, 6710, 4194])]"
      ]
     },
     "execution_count": 107,
     "metadata": {},
     "output_type": "execute_result"
    }
   ],
   "source": [
    "test[0]"
   ]
  },
  {
   "cell_type": "code",
   "execution_count": null,
   "metadata": {
    "collapsed": true
   },
   "outputs": [],
   "source": []
  }
 ],
 "metadata": {
  "kernelspec": {
   "display_name": "Python 2",
   "language": "python",
   "name": "python2"
  },
  "language_info": {
   "codemirror_mode": {
    "name": "ipython",
    "version": 2
   },
   "file_extension": ".py",
   "mimetype": "text/x-python",
   "name": "python",
   "nbconvert_exporter": "python",
   "pygments_lexer": "ipython2",
   "version": "2.7.11"
  }
 },
 "nbformat": 4,
 "nbformat_minor": 0
}
