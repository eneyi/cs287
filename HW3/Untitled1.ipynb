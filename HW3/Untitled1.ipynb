{
 "cells": [
  {
   "cell_type": "code",
   "execution_count": 1,
   "metadata": {
    "collapsed": true
   },
   "outputs": [],
   "source": [
    "require 'nn'\n",
    "require 'hdf5'\n",
    "require 'optim'\n"
   ]
  },
  {
   "cell_type": "code",
   "execution_count": 2,
   "metadata": {
    "collapsed": false
   },
   "outputs": [
    {
     "data": {
      "text/plain": [
       "{\n",
       "  test : LongTensor - size: 3761x55\n",
       "  nwords : LongTensor - size: 1\n",
       "  train_1000_nocounts : LongTensor - size: 696825x7\n",
       "  train_nocounts : DoubleTensor - size: 887522x6\n",
       "  train_1000 : DoubleTensor - size: 887522x6\n",
       "  train : LongTensor - size: 772670x7\n",
       "  valid : LongTensor - size: 3370x55\n",
       "  valid_txt : DoubleTensor - size: 70391x6\n",
       "  valid_output : LongTensor - size: 3370x50\n",
       "}\n"
      ]
     },
     "execution_count": 2,
     "metadata": {},
     "output_type": "execute_result"
    }
   ],
   "source": [
    "myFile = hdf5.open('6-grams.hdf5','r')\n",
    "data = myFile:all()\n",
    "myFile:close()\n",
    "print(data)"
   ]
  },
  {
   "cell_type": "code",
   "execution_count": 3,
   "metadata": {
    "collapsed": false
   },
   "outputs": [],
   "source": [
    "train = data['train_nocounts']:narrow(2,1,6)\n",
    "train_input = train:narrow(2,1,5)\n",
    "train_output = train:narrow(2,6,1)\n",
    "\n",
    "valid_txt = data['valid_txt']:narrow(2,1,6)\n",
    "valid_txt_input = valid_txt:narrow(2,1,5)\n",
    "valid_txt_output = valid_txt:narrow(2,6,1)\n",
    "\n",
    "valid_topredict = data['valid']:narrow(2,1,50)\n",
    "valid_input = data['valid']:narrow(2,51,5)\n",
    "valid_output = data['valid_output']"
   ]
  },
  {
   "cell_type": "code",
   "execution_count": 4,
   "metadata": {
    "collapsed": true
   },
   "outputs": [],
   "source": [
    "-- Model\n",
    "nwords = 10001\n",
    "N = 5\n",
    "dwin = N\n",
    "hid1 = 30\n",
    "hid2 = 100\n",
    "\n",
    "-- To store the whole model\n",
    "nnlm = nn.Sequential()\n",
    "\n",
    "-- Layer to embedd (and put the words along the window into one vector)\n",
    "LT = nn.Sequential()\n",
    "LT_ = nn.LookupTable(nwords,hid1)\n",
    "LT:add(LT_)\n",
    "LT:add(nn.View(-1, hid1*dwin))\n",
    "\n",
    "nnlm:add(LT)\n",
    "\n",
    "concat = nn.ConcatTable()\n",
    "\n",
    "lin_tanh = nn.Sequential()\n",
    "lin_tanh:add(nn.Linear(hid1*dwin,hid2))\n",
    "lin_tanh:add(nn.Tanh())\n",
    "\n",
    "id = nn.Identity()\n",
    "\n",
    "concat:add(lin_tanh)\n",
    "concat:add(id)\n",
    "\n",
    "nnlm:add(concat)\n",
    "nnlm:add(nn.JoinTable(2))\n",
    "nnlm:add(nn.Linear(hid1*dwin + hid2, nwords))\n",
    "nnlm:add(nn.LogSoftMax())\n",
    "\n",
    "-- Loss\n",
    "criterion = nn.ClassNLLCriterion()\n",
    "\n",
    "\n",
    "nEpochs = 1\n",
    "batchSize = 32\n",
    "eta = 0.01\n",
    "av_L = 0\n",
    "\n",
    "inputs_batch = torch.DoubleTensor(batchSize,dwin)\n",
    "targets_batch = torch.DoubleTensor(batchSize)\n",
    "outputs = torch.DoubleTensor(batchSize, nwords)\n",
    "dL_do = torch.DoubleTensor(batchSize, nwords)\n",
    "\n",
    "kag_pred_valid = torch.Tensor(valid_input:size(1),50)\n",
    "norm_mat = torch.Tensor(valid_input:size(1),50)"
   ]
  },
  {
   "cell_type": "code",
   "execution_count": 5,
   "metadata": {
    "collapsed": true
   },
   "outputs": [],
   "source": [
    "parameters, gradParameters = nnlm:getParameters()"
   ]
  },
  {
   "cell_type": "code",
   "execution_count": 7,
   "metadata": {
    "collapsed": false
   },
   "outputs": [
    {
     "data": {
      "text/plain": [
       "Epoch 1: 817.29979610443\t\n",
       "Average Perplexity on train: 1038.2426267938\t\n"
      ]
     },
     "execution_count": 7,
     "metadata": {},
     "output_type": "execute_result"
    },
    {
     "ename": "/Users/virgileaudi/torch/install/share/lua/5.1/nn/THNN.lua:1091: multi-target not supported at /tmp/luarocks_nn-scm-1-9848/nn/lib/THNN/generic/ClassNLLCriterion.c:18\nstack traceback:\n\t[C]: in function 'v'\n\t/Users/virgileaudi/torch/install/share/lua/5.1/nn/THNN.lua:1091: in function 'ClassNLLCriterion_updateOutput'\n\t...udi/torch/install/share/lua/5.1/nn/ClassNLLCriterion.lua:41: in function 'forward'\n\t[string \"for i = 1, 1 do...\"]:41: in main chunk\n\t[C]: in function 'xpcall'\n\t.../virgileaudi/torch/install/share/lua/5.1/itorch/main.lua:179: in function <.../virgileaudi/torch/install/share/lua/5.1/itorch/main.lua:143>\n\t.../virgileaudi/torch/install/share/lua/5.1/lzmq/poller.lua:75: in function 'poll'\n\t...rgileaudi/torch/install/share/lua/5.1/lzmq/impl/loop.lua:307: in function 'poll'\n\t...rgileaudi/torch/install/share/lua/5.1/lzmq/impl/loop.lua:325: in function 'sleep_ex'\n\t...rgileaudi/torch/install/share/lua/5.1/lzmq/impl/loop.lua:370: in function 'start'\n\t.../virgileaudi/torch/install/share/lua/5.1/itorch/main.lua:350: in main chunk\n\t[C]: in function 'require'\n\t(command line):1: in main chunk\n\t[C]: at 0x0102352b50",
     "evalue": "",
     "output_type": "error",
     "traceback": [
      "/Users/virgileaudi/torch/install/share/lua/5.1/nn/THNN.lua:1091: multi-target not supported at /tmp/luarocks_nn-scm-1-9848/nn/lib/THNN/generic/ClassNLLCriterion.c:18\nstack traceback:\n\t[C]: in function 'v'\n\t/Users/virgileaudi/torch/install/share/lua/5.1/nn/THNN.lua:1091: in function 'ClassNLLCriterion_updateOutput'\n\t...udi/torch/install/share/lua/5.1/nn/ClassNLLCriterion.lua:41: in function 'forward'\n\t[string \"for i = 1, 1 do...\"]:41: in main chunk\n\t[C]: in function 'xpcall'\n\t.../virgileaudi/torch/install/share/lua/5.1/itorch/main.lua:179: in function <.../virgileaudi/torch/install/share/lua/5.1/itorch/main.lua:143>\n\t.../virgileaudi/torch/install/share/lua/5.1/lzmq/poller.lua:75: in function 'poll'\n\t...rgileaudi/torch/install/share/lua/5.1/lzmq/impl/loop.lua:307: in function 'poll'\n\t...rgileaudi/torch/install/share/lua/5.1/lzmq/impl/loop.lua:325: in function 'sleep_ex'\n\t...rgileaudi/torch/install/share/lua/5.1/lzmq/impl/loop.lua:370: in function 'start'\n\t.../virgileaudi/torch/install/share/lua/5.1/itorch/main.lua:350: in main chunk\n\t[C]: in function 'require'\n\t(command line):1: in main chunk\n\t[C]: at 0x0102352b50"
     ]
    }
   ],
   "source": [
    "for i = 1, 1 do\n",
    "    -- timing the epoch\n",
    "    timer = torch.Timer()\n",
    "    av_L = 0\n",
    "    \n",
    "    -- max renorm\n",
    "    LT_.weight:renorm(2,1,1)\n",
    "    \n",
    "    -- mini batch loop\n",
    "    for t = 1, train_input:size(1), batchSize do\n",
    "        -- Mini batch data\n",
    "        current_batch_size = math.min(batchSize,train_input:size(1)-t)\n",
    "        inputs_batch:narrow(1,1,current_batch_size):copy(train_input:narrow(1,t,current_batch_size))\n",
    "        targets_batch:narrow(1,1,current_batch_size):copy(train_output:narrow(1,t,current_batch_size))\n",
    "        \n",
    "        -- reset gradients\n",
    "        nnlm:zeroGradParameters()\n",
    "        --gradParameters:zero()\n",
    "\n",
    "        -- Forward pass (selection of inputs_batch in case the batch is not full, ie last batch)\n",
    "        outputs:narrow(1,1,current_batch_size):copy(nnlm:forward(inputs_batch:narrow(1,1,current_batch_size)))\n",
    "\n",
    "        -- Average loss computation\n",
    "        L = criterion:forward(outputs:narrow(1,1,current_batch_size), targets_batch:narrow(1,1,current_batch_size))\n",
    "        av_L = av_L + L\n",
    "\n",
    "        -- Backward pass\n",
    "        dL_do:narrow(1,1,current_batch_size):copy(criterion:backward(outputs:narrow(1,1,current_batch_size),\n",
    "                targets_batch:narrow(1,1,current_batch_size)))\n",
    "        nnlm:backward(inputs_batch:narrow(1,1,current_batch_size), dL_do:narrow(1,1,current_batch_size))\n",
    "        nnlm:updateParameters(eta)\n",
    "        \n",
    "    end\n",
    "        \n",
    "    print('Epoch '..i..': '..timer:time().real)\n",
    "    print('Average Perplexity on train: '.. math.exp(av_L/math.floor(train_input:size(1)/batchSize)))\n",
    "    \n",
    "    \n",
    "    -- Evaluating perplexity on valiadation_txt:\n",
    "    \n",
    "    print('Perplexity on valid.txt: '..math.exp(criterion:forward(nnlm:forward(valid_txt_input),valid_txt_output:squeeze())))\n",
    "    \n",
    "    -- Evaluatin perplexity on validation kaggle:\n",
    "    kag_pred_valid:zero()\n",
    "\n",
    "    for ii = 1, valid_input:size(1) do\n",
    "        kag_pred_valid[ii]:copy(nnlm:forward(valid_input[ii]):index(2, valid_topredict[ii])):exp()\n",
    "    end\n",
    "    \n",
    "    norm_mat:zero()\n",
    "    norm_mat:copy(torch.expandAs(kag_pred_valid:sum(2), kag_pred_valid))\n",
    "    kag_pred_valid:cdiv(norm_mat)\n",
    "    \n",
    "    CE = 0\n",
    "    for iii = 1, valid_input:size(1) do\n",
    "        mm,aa = valid_output[iii]:max(1)\n",
    "        CE = CE + math.log(kag_pred_valid[iii][aa[1]])\n",
    "    end\n",
    "    \n",
    "    val_res = math.exp(-CE/kag_pred_valid:size(1))\n",
    "    print('Perplexity on valid: '..val_res)\n",
    "    \n",
    "    \n",
    "    \n",
    "end"
   ]
  },
  {
   "cell_type": "code",
   "execution_count": 16,
   "metadata": {
    "collapsed": false
   },
   "outputs": [
    {
     "data": {
      "text/plain": [
       "6.4636394432108\t70391\t\n"
      ]
     },
     "execution_count": 16,
     "metadata": {},
     "output_type": "execute_result"
    }
   ],
   "source": [
    "print (criterion:forward(nnlm:forward(valid_txt_input),valid_txt_output:squeeze()))"
   ]
  },
  {
   "cell_type": "code",
   "execution_count": 28,
   "metadata": {
    "collapsed": false
   },
   "outputs": [
    {
     "data": {
      "text/plain": [
       "     1\n",
       " 10001\n",
       "[torch.LongStorage of size 2]\n",
       "\n"
      ]
     },
     "execution_count": 28,
     "metadata": {},
     "output_type": "execute_result"
    }
   ],
   "source": [
    "nnlm:forward(valid_input[1]):size()"
   ]
  },
  {
   "cell_type": "code",
   "execution_count": 30,
   "metadata": {
    "collapsed": false
   },
   "outputs": [
    {
     "data": {
      "text/plain": [
       "Perplexity on valid: 8.0082783571626\t\n"
      ]
     },
     "execution_count": 30,
     "metadata": {},
     "output_type": "execute_result"
    }
   ],
   "source": [
    "kag_pred_valid:zero()\n",
    "for ii = 1, valid_input:size(1) do\n",
    "    kag_pred_valid[ii]:copy(nnlm:forward(valid_input[ii]):index(2, valid_topredict[ii])):exp()\n",
    "end\n",
    "\n",
    "norm_mat:zero()\n",
    "norm_mat:copy(torch.expandAs(kag_pred_valid:sum(2), kag_pred_valid))\n",
    "kag_pred_valid:cdiv(norm_mat)\n",
    "\n",
    "CE = 0\n",
    "for iii = 1, valid_input:size(1) do\n",
    "    mm,aa = valid_output[iii]:max(1)\n",
    "    CE = CE + math.log(kag_pred_valid[iii][aa[1]])\n",
    "end\n",
    "\n",
    "val_res = math.exp(-CE/kag_pred_valid:size(1))\n",
    "print('Perplexity on valid: '..val_res)\n",
    "\n"
   ]
  },
  {
   "cell_type": "markdown",
   "metadata": {},
   "source": [
    "### NCE:"
   ]
  },
  {
   "cell_type": "code",
   "execution_count": 31,
   "metadata": {
    "collapsed": false
   },
   "outputs": [
    {
     "data": {
      "text/plain": [
       "Epoch 1: 837.54529905319\t\n",
       "Average Perplexity on train: 601.86348771938\t\n"
      ]
     },
     "execution_count": 31,
     "metadata": {},
     "output_type": "execute_result"
    },
    {
     "data": {
      "text/plain": [
       "Perplexity on valid.txt: 544.09100456299\t\n"
      ]
     },
     "execution_count": 31,
     "metadata": {},
     "output_type": "execute_result"
    },
    {
     "data": {
      "text/plain": [
       "Perplexity on valid: 7.5411670975744\t\n"
      ]
     },
     "execution_count": 31,
     "metadata": {},
     "output_type": "execute_result"
    }
   ],
   "source": [
    "for i = 1, 1 do\n",
    "    -- timing the epoch\n",
    "    timer = torch.Timer()\n",
    "    av_L = 0\n",
    "    \n",
    "    -- max renorm\n",
    "    LT_.weight:renorm(2,1,1)\n",
    "    \n",
    "    -- mini batch loop\n",
    "    for t = 1, train_input:size(1), batchSize do\n",
    "        -- Mini batch data\n",
    "        current_batch_size = math.min(batchSize,train_input:size(1)-t)\n",
    "        inputs_batch:narrow(1,1,current_batch_size):copy(train_input:narrow(1,t,current_batch_size))\n",
    "        targets_batch:narrow(1,1,current_batch_size):copy(train_output:narrow(1,t,current_batch_size))\n",
    "        \n",
    "        -- reset gradients\n",
    "        nnlm:zeroGradParameters()\n",
    "        --gradParameters:zero()\n",
    "\n",
    "        -- Forward pass (selection of inputs_batch in case the batch is not full, ie last batch)\n",
    "        outputs:narrow(1,1,current_batch_size):copy(nnlm:forward(inputs_batch:narrow(1,1,current_batch_size)))\n",
    "\n",
    "        -- Average loss computation\n",
    "        L = criterion:forward(outputs:narrow(1,1,current_batch_size), targets_batch:narrow(1,1,current_batch_size))\n",
    "        av_L = av_L + L\n",
    "\n",
    "        -- Backward pass\n",
    "        dL_do:narrow(1,1,current_batch_size):copy(criterion:backward(outputs:narrow(1,1,current_batch_size),\n",
    "                targets_batch:narrow(1,1,current_batch_size)))\n",
    "        nnlm:backward(inputs_batch:narrow(1,1,current_batch_size), dL_do:narrow(1,1,current_batch_size))\n",
    "        nnlm:updateParameters(eta)\n",
    "        \n",
    "    end\n",
    "        \n",
    "    print('Epoch '..i..': '..timer:time().real)\n",
    "    print('Average Perplexity on train: '.. math.exp(av_L/math.floor(train_input:size(1)/batchSize)))\n",
    "    \n",
    "    \n",
    "    -- Evaluating perplexity on valiadation_txt:\n",
    "    \n",
    "    print('Perplexity on valid.txt: '..math.exp(criterion:forward(nnlm:forward(valid_txt_input),valid_txt_output:squeeze())))\n",
    "    \n",
    "    -- Evaluatin perplexity on validation kaggle:\n",
    "    kag_pred_valid:zero()\n",
    "\n",
    "    for ii = 1, valid_input:size(1) do\n",
    "        kag_pred_valid[ii]:copy(nnlm:forward(valid_input[ii]):index(2, valid_topredict[ii])):exp()\n",
    "    end\n",
    "    \n",
    "    norm_mat:zero()\n",
    "    norm_mat:copy(torch.expandAs(kag_pred_valid:sum(2), kag_pred_valid))\n",
    "    kag_pred_valid:cdiv(norm_mat)\n",
    "    \n",
    "    CE = 0\n",
    "    for iii = 1, valid_input:size(1) do\n",
    "        mm,aa = valid_output[iii]:max(1)\n",
    "        CE = CE + math.log(kag_pred_valid[iii][aa[1]])\n",
    "    end\n",
    "    \n",
    "    val_res = math.exp(-CE/kag_pred_valid:size(1))\n",
    "    print('Perplexity on valid: '..val_res)\n",
    "    \n",
    "end"
   ]
  },
  {
   "cell_type": "code",
   "execution_count": 32,
   "metadata": {
    "collapsed": false
   },
   "outputs": [
    {
     "data": {
      "text/plain": [
       "Epoch 3: 825.9562330246\t\n",
       "Average Perplexity on train: 527.4359496501\t\n"
      ]
     },
     "execution_count": 32,
     "metadata": {},
     "output_type": "execute_result"
    },
    {
     "data": {
      "text/plain": [
       "Perplexity on valid.txt: 490.41028578536\t\n"
      ]
     },
     "execution_count": 32,
     "metadata": {},
     "output_type": "execute_result"
    },
    {
     "data": {
      "text/plain": [
       "Perplexity on valid: 7.3124630553358\t\n"
      ]
     },
     "execution_count": 32,
     "metadata": {},
     "output_type": "execute_result"
    },
    {
     "data": {
      "text/plain": [
       "Epoch 4: 810.81244516373\t\n",
       "Average Perplexity on train: 478.24240750295\t\n"
      ]
     },
     "execution_count": 32,
     "metadata": {},
     "output_type": "execute_result"
    },
    {
     "data": {
      "text/plain": [
       "Perplexity on valid.txt: 451.28884307244\t\n"
      ]
     },
     "execution_count": 32,
     "metadata": {},
     "output_type": "execute_result"
    },
    {
     "data": {
      "text/plain": [
       "Perplexity on valid: 7.1345689871114\t\n"
      ]
     },
     "execution_count": 32,
     "metadata": {},
     "output_type": "execute_result"
    },
    {
     "data": {
      "text/plain": [
       "Epoch 5: 809.59715104103\t\n",
       "Average Perplexity on train: 441.10636934143\t\n"
      ]
     },
     "execution_count": 32,
     "metadata": {},
     "output_type": "execute_result"
    },
    {
     "data": {
      "text/plain": [
       "Perplexity on valid.txt: 421.14663777603\t\n"
      ]
     },
     "execution_count": 32,
     "metadata": {},
     "output_type": "execute_result"
    },
    {
     "data": {
      "text/plain": [
       "Perplexity on valid: 6.9774349905299\t\n"
      ]
     },
     "execution_count": 32,
     "metadata": {},
     "output_type": "execute_result"
    },
    {
     "data": {
      "text/plain": [
       "Epoch 6: 815.37426805496\t\n",
       "Average Perplexity on train: 411.90963927563\t\n"
      ]
     },
     "execution_count": 32,
     "metadata": {},
     "output_type": "execute_result"
    },
    {
     "data": {
      "text/plain": [
       "Perplexity on valid.txt: 397.32171347555\t\n"
      ]
     },
     "execution_count": 32,
     "metadata": {},
     "output_type": "execute_result"
    },
    {
     "data": {
      "text/plain": [
       "Perplexity on valid: 6.8419065078654\t\n"
      ]
     },
     "execution_count": 32,
     "metadata": {},
     "output_type": "execute_result"
    },
    {
     "data": {
      "text/plain": [
       "Epoch 7: 810.07148694992\t\n",
       "Average Perplexity on train: 388.22452792996\t\n"
      ]
     },
     "execution_count": 32,
     "metadata": {},
     "output_type": "execute_result"
    },
    {
     "data": {
      "text/plain": [
       "Perplexity on valid.txt: 377.90359626936\t\n"
      ]
     },
     "execution_count": 32,
     "metadata": {},
     "output_type": "execute_result"
    },
    {
     "data": {
      "text/plain": [
       "Perplexity on valid: 6.7242994567635\t\n"
      ]
     },
     "execution_count": 32,
     "metadata": {},
     "output_type": "execute_result"
    },
    {
     "data": {
      "text/plain": [
       "Epoch 8: 843.48118114471\t\n",
       "Average Perplexity on train: 368.57023037956\t\n"
      ]
     },
     "execution_count": 32,
     "metadata": {},
     "output_type": "execute_result"
    },
    {
     "data": {
      "text/plain": [
       "Perplexity on valid.txt: 361.76307273096\t\n"
      ]
     },
     "execution_count": 32,
     "metadata": {},
     "output_type": "execute_result"
    },
    {
     "data": {
      "text/plain": [
       "Perplexity on valid: 6.6223244922863\t\n"
      ]
     },
     "execution_count": 32,
     "metadata": {},
     "output_type": "execute_result"
    }
   ],
   "source": [
    "for i = 3, 8 do\n",
    "    -- timing the epoch\n",
    "    timer = torch.Timer()\n",
    "    av_L = 0\n",
    "    \n",
    "    -- max renorm\n",
    "    LT_.weight:renorm(2,1,1)\n",
    "    \n",
    "    -- mini batch loop\n",
    "    for t = 1, train_input:size(1), batchSize do\n",
    "        -- Mini batch data\n",
    "        current_batch_size = math.min(batchSize,train_input:size(1)-t)\n",
    "        inputs_batch:narrow(1,1,current_batch_size):copy(train_input:narrow(1,t,current_batch_size))\n",
    "        targets_batch:narrow(1,1,current_batch_size):copy(train_output:narrow(1,t,current_batch_size))\n",
    "        \n",
    "        -- reset gradients\n",
    "        nnlm:zeroGradParameters()\n",
    "        --gradParameters:zero()\n",
    "\n",
    "        -- Forward pass (selection of inputs_batch in case the batch is not full, ie last batch)\n",
    "        outputs:narrow(1,1,current_batch_size):copy(nnlm:forward(inputs_batch:narrow(1,1,current_batch_size)))\n",
    "\n",
    "        -- Average loss computation\n",
    "        L = criterion:forward(outputs:narrow(1,1,current_batch_size), targets_batch:narrow(1,1,current_batch_size))\n",
    "        av_L = av_L + L\n",
    "\n",
    "        -- Backward pass\n",
    "        dL_do:narrow(1,1,current_batch_size):copy(criterion:backward(outputs:narrow(1,1,current_batch_size),\n",
    "                targets_batch:narrow(1,1,current_batch_size)))\n",
    "        nnlm:backward(inputs_batch:narrow(1,1,current_batch_size), dL_do:narrow(1,1,current_batch_size))\n",
    "        nnlm:updateParameters(eta)\n",
    "        \n",
    "    end\n",
    "        \n",
    "    print('Epoch '..i..': '..timer:time().real)\n",
    "    print('Average Perplexity on train: '.. math.exp(av_L/math.floor(train_input:size(1)/batchSize)))\n",
    "    \n",
    "    \n",
    "    -- Evaluating perplexity on valiadation_txt:\n",
    "    \n",
    "    print('Perplexity on valid.txt: '..math.exp(criterion:forward(nnlm:forward(valid_txt_input),valid_txt_output:squeeze())))\n",
    "    \n",
    "    -- Evaluatin perplexity on validation kaggle:\n",
    "    kag_pred_valid:zero()\n",
    "\n",
    "    for ii = 1, valid_input:size(1) do\n",
    "        kag_pred_valid[ii]:copy(nnlm:forward(valid_input[ii]):index(2, valid_topredict[ii])):exp()\n",
    "    end\n",
    "    \n",
    "    norm_mat:zero()\n",
    "    norm_mat:copy(torch.expandAs(kag_pred_valid:sum(2), kag_pred_valid))\n",
    "    kag_pred_valid:cdiv(norm_mat)\n",
    "    \n",
    "    CE = 0\n",
    "    for iii = 1, valid_input:size(1) do\n",
    "        mm,aa = valid_output[iii]:max(1)\n",
    "        CE = CE + math.log(kag_pred_valid[iii][aa[1]])\n",
    "    end\n",
    "    \n",
    "    val_res = math.exp(-CE/kag_pred_valid:size(1))\n",
    "    print('Perplexity on valid: '..val_res)\n",
    "    \n",
    "end"
   ]
  },
  {
   "cell_type": "code",
   "execution_count": 33,
   "metadata": {
    "collapsed": false
   },
   "outputs": [
    {
     "data": {
      "text/plain": [
       "Epoch 9: 827.41940593719\t\n",
       "Average Perplexity on train: 351.92530292078\t\n"
      ]
     },
     "execution_count": 33,
     "metadata": {},
     "output_type": "execute_result"
    },
    {
     "data": {
      "text/plain": [
       "Perplexity on valid.txt: 348.08247912807\t\n"
      ]
     },
     "execution_count": 33,
     "metadata": {},
     "output_type": "execute_result"
    },
    {
     "data": {
      "text/plain": [
       "Perplexity on valid: 6.5329550483487\t\n"
      ]
     },
     "execution_count": 33,
     "metadata": {},
     "output_type": "execute_result"
    },
    {
     "data": {
      "text/plain": [
       "Epoch 10: 818.73921298981\t\n",
       "Average Perplexity on train: 337.5367575987\t\n"
      ]
     },
     "execution_count": 33,
     "metadata": {},
     "output_type": "execute_result"
    },
    {
     "data": {
      "text/plain": [
       "Perplexity on valid.txt: 336.26468217226\t\n"
      ]
     },
     "execution_count": 33,
     "metadata": {},
     "output_type": "execute_result"
    },
    {
     "data": {
      "text/plain": [
       "Perplexity on valid: 6.4530105725527\t\n"
      ]
     },
     "execution_count": 33,
     "metadata": {},
     "output_type": "execute_result"
    },
    {
     "data": {
      "text/plain": [
       "Epoch 11: 810.9077231884\t\n",
       "Average Perplexity on train: 324.88169664599\t\n"
      ]
     },
     "execution_count": 33,
     "metadata": {},
     "output_type": "execute_result"
    },
    {
     "data": {
      "text/plain": [
       "Perplexity on valid.txt: 325.9017569163\t\n"
      ]
     },
     "execution_count": 33,
     "metadata": {},
     "output_type": "execute_result"
    },
    {
     "data": {
      "text/plain": [
       "Perplexity on valid: 6.3802435933612\t\n"
      ]
     },
     "execution_count": 33,
     "metadata": {},
     "output_type": "execute_result"
    },
    {
     "data": {
      "text/plain": [
       "Epoch 12: 818.34377193451\t\n",
       "Average Perplexity on train: 313.59659021479\t\n"
      ]
     },
     "execution_count": 33,
     "metadata": {},
     "output_type": "execute_result"
    },
    {
     "data": {
      "text/plain": [
       "Perplexity on valid.txt: 316.70651340805\t\n"
      ]
     },
     "execution_count": 33,
     "metadata": {},
     "output_type": "execute_result"
    },
    {
     "data": {
      "text/plain": [
       "Perplexity on valid: 6.3133236716505\t\n"
      ]
     },
     "execution_count": 33,
     "metadata": {},
     "output_type": "execute_result"
    },
    {
     "data": {
      "text/plain": [
       "Epoch 13: 875.60341501236\t\n",
       "Average Perplexity on train: 303.4203653605\t\n"
      ]
     },
     "execution_count": 33,
     "metadata": {},
     "output_type": "execute_result"
    },
    {
     "data": {
      "text/plain": [
       "Perplexity on valid.txt: 308.46612556472\t\n"
      ]
     },
     "execution_count": 33,
     "metadata": {},
     "output_type": "execute_result"
    },
    {
     "data": {
      "text/plain": [
       "Perplexity on valid: 6.2514416608928\t\n"
      ]
     },
     "execution_count": 33,
     "metadata": {},
     "output_type": "execute_result"
    },
    {
     "data": {
      "text/plain": [
       "Epoch 14: 931.39901995659\t\n",
       "Average Perplexity on train: 294.15795710215\t\n"
      ]
     },
     "execution_count": 33,
     "metadata": {},
     "output_type": "execute_result"
    },
    {
     "data": {
      "text/plain": [
       "Perplexity on valid.txt: 301.02181851019\t\n"
      ]
     },
     "execution_count": 33,
     "metadata": {},
     "output_type": "execute_result"
    },
    {
     "data": {
      "text/plain": [
       "Perplexity on valid: 6.1939794227997\t\n"
      ]
     },
     "execution_count": 33,
     "metadata": {},
     "output_type": "execute_result"
    },
    {
     "data": {
      "text/plain": [
       "Epoch 15: 947.89197707176\t\n",
       "Average Perplexity on train: 285.66596548785\t\n"
      ]
     },
     "execution_count": 33,
     "metadata": {},
     "output_type": "execute_result"
    },
    {
     "data": {
      "text/plain": [
       "Perplexity on valid.txt: 294.25169224865\t\n"
      ]
     },
     "execution_count": 33,
     "metadata": {},
     "output_type": "execute_result"
    },
    {
     "data": {
      "text/plain": [
       "Perplexity on valid: 6.1404268036459\t\n"
      ]
     },
     "execution_count": 33,
     "metadata": {},
     "output_type": "execute_result"
    }
   ],
   "source": [
    "for i = 9, 15 do\n",
    "    -- timing the epoch\n",
    "    timer = torch.Timer()\n",
    "    av_L = 0\n",
    "    \n",
    "    -- max renorm\n",
    "    LT_.weight:renorm(2,1,1)\n",
    "    \n",
    "    -- mini batch loop\n",
    "    for t = 1, train_input:size(1), batchSize do\n",
    "        -- Mini batch data\n",
    "        current_batch_size = math.min(batchSize,train_input:size(1)-t)\n",
    "        inputs_batch:narrow(1,1,current_batch_size):copy(train_input:narrow(1,t,current_batch_size))\n",
    "        targets_batch:narrow(1,1,current_batch_size):copy(train_output:narrow(1,t,current_batch_size))\n",
    "        \n",
    "        -- reset gradients\n",
    "        nnlm:zeroGradParameters()\n",
    "        --gradParameters:zero()\n",
    "\n",
    "        -- Forward pass (selection of inputs_batch in case the batch is not full, ie last batch)\n",
    "        outputs:narrow(1,1,current_batch_size):copy(nnlm:forward(inputs_batch:narrow(1,1,current_batch_size)))\n",
    "\n",
    "        -- Average loss computation\n",
    "        L = criterion:forward(outputs:narrow(1,1,current_batch_size), targets_batch:narrow(1,1,current_batch_size))\n",
    "        av_L = av_L + L\n",
    "\n",
    "        -- Backward pass\n",
    "        dL_do:narrow(1,1,current_batch_size):copy(criterion:backward(outputs:narrow(1,1,current_batch_size),\n",
    "                targets_batch:narrow(1,1,current_batch_size)))\n",
    "        nnlm:backward(inputs_batch:narrow(1,1,current_batch_size), dL_do:narrow(1,1,current_batch_size))\n",
    "        nnlm:updateParameters(eta)\n",
    "        \n",
    "    end\n",
    "        \n",
    "    print('Epoch '..i..': '..timer:time().real)\n",
    "    print('Average Perplexity on train: '.. math.exp(av_L/math.floor(train_input:size(1)/batchSize)))\n",
    "    \n",
    "    \n",
    "    -- Evaluating perplexity on valiadation_txt:\n",
    "    \n",
    "    print('Perplexity on valid.txt: '..math.exp(criterion:forward(nnlm:forward(valid_txt_input),valid_txt_output:squeeze())))\n",
    "    \n",
    "    -- Evaluatin perplexity on validation kaggle:\n",
    "    kag_pred_valid:zero()\n",
    "\n",
    "    for ii = 1, valid_input:size(1) do\n",
    "        kag_pred_valid[ii]:copy(nnlm:forward(valid_input[ii]):index(2, valid_topredict[ii])):exp()\n",
    "    end\n",
    "    \n",
    "    norm_mat:zero()\n",
    "    norm_mat:copy(torch.expandAs(kag_pred_valid:sum(2), kag_pred_valid))\n",
    "    kag_pred_valid:cdiv(norm_mat)\n",
    "    \n",
    "    CE = 0\n",
    "    for iii = 1, valid_input:size(1) do\n",
    "        mm,aa = valid_output[iii]:max(1)\n",
    "        CE = CE + math.log(kag_pred_valid[iii][aa[1]])\n",
    "    end\n",
    "    \n",
    "    val_res = math.exp(-CE/kag_pred_valid:size(1))\n",
    "    print('Perplexity on valid: '..val_res)\n",
    "    \n",
    "end"
   ]
  },
  {
   "cell_type": "code",
   "execution_count": null,
   "metadata": {
    "collapsed": true
   },
   "outputs": [],
   "source": [
    "for i = 16, 20 do\n",
    "    -- timing the epoch\n",
    "    timer = torch.Timer()\n",
    "    av_L = 0\n",
    "    \n",
    "    -- max renorm\n",
    "    LT_.weight:renorm(2,1,1)\n",
    "    \n",
    "    -- mini batch loop\n",
    "    for t = 1, train_input:size(1), batchSize do\n",
    "        -- Mini batch data\n",
    "        current_batch_size = math.min(batchSize,train_input:size(1)-t)\n",
    "        inputs_batch:narrow(1,1,current_batch_size):copy(train_input:narrow(1,t,current_batch_size))\n",
    "        targets_batch:narrow(1,1,current_batch_size):copy(train_output:narrow(1,t,current_batch_size))\n",
    "        \n",
    "        -- reset gradients\n",
    "        nnlm:zeroGradParameters()\n",
    "        --gradParameters:zero()\n",
    "\n",
    "        -- Forward pass (selection of inputs_batch in case the batch is not full, ie last batch)\n",
    "        outputs:narrow(1,1,current_batch_size):copy(nnlm:forward(inputs_batch:narrow(1,1,current_batch_size)))\n",
    "\n",
    "        -- Average loss computation\n",
    "        L = criterion:forward(outputs:narrow(1,1,current_batch_size), targets_batch:narrow(1,1,current_batch_size))\n",
    "        av_L = av_L + L\n",
    "\n",
    "        -- Backward pass\n",
    "        dL_do:narrow(1,1,current_batch_size):copy(criterion:backward(outputs:narrow(1,1,current_batch_size),\n",
    "                targets_batch:narrow(1,1,current_batch_size)))\n",
    "        nnlm:backward(inputs_batch:narrow(1,1,current_batch_size), dL_do:narrow(1,1,current_batch_size))\n",
    "        nnlm:updateParameters(0.001)\n",
    "        \n",
    "    end\n",
    "        \n",
    "    print('Epoch '..i..': '..timer:time().real)\n",
    "    print('Average Perplexity on train: '.. math.exp(av_L/math.floor(train_input:size(1)/batchSize)))\n",
    "    \n",
    "    \n",
    "    -- Evaluating perplexity on valiadation_txt:\n",
    "    \n",
    "    print('Perplexity on valid.txt: '..math.exp(criterion:forward(nnlm:forward(valid_txt_input),valid_txt_output:squeeze())))\n",
    "    \n",
    "    -- Evaluatin perplexity on validation kaggle:\n",
    "    kag_pred_valid:zero()\n",
    "\n",
    "    for ii = 1, valid_input:size(1) do\n",
    "        kag_pred_valid[ii]:copy(nnlm:forward(valid_input[ii]):index(2, valid_topredict[ii])):exp()\n",
    "    end\n",
    "    \n",
    "    norm_mat:zero()\n",
    "    norm_mat:copy(torch.expandAs(kag_pred_valid:sum(2), kag_pred_valid))\n",
    "    kag_pred_valid:cdiv(norm_mat)\n",
    "    \n",
    "    CE = 0\n",
    "    for iii = 1, valid_input:size(1) do\n",
    "        mm,aa = valid_output[iii]:max(1)\n",
    "        CE = CE + math.log(kag_pred_valid[iii][aa[1]])\n",
    "    end\n",
    "    \n",
    "    val_res = math.exp(-CE/kag_pred_valid:size(1))\n",
    "    print('Perplexity on valid: '..val_res)\n",
    "    \n",
    "end"
   ]
  },
  {
   "cell_type": "code",
   "execution_count": null,
   "metadata": {
    "collapsed": true
   },
   "outputs": [],
   "source": []
  }
 ],
 "metadata": {
  "kernelspec": {
   "display_name": "iTorch",
   "language": "lua",
   "name": "itorch"
  },
  "language_info": {
   "name": "lua",
   "version": "20100"
  }
 },
 "nbformat": 4,
 "nbformat_minor": 0
}
