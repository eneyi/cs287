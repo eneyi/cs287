{
 "cells": [
  {
   "cell_type": "code",
   "execution_count": 1,
   "metadata": {
    "collapsed": true
   },
   "outputs": [],
   "source": [
    "require 'nn'\n",
    "require 'hdf5'\n",
    "require 'optim'"
   ]
  },
  {
   "cell_type": "code",
   "execution_count": 23,
   "metadata": {
    "collapsed": true
   },
   "outputs": [],
   "source": [
    "myFile = hdf5.open('6-grams.hdf5','r')\n",
    "data = myFile:all()\n",
    "myFile:close()\n",
    "\n",
    "train = data['train_nocounts']:narrow(2,1,6)\n",
    "train_input = train:narrow(2,1,5)\n",
    "train_output = train:narrow(2,6,1)\n",
    "\n",
    "valid_topredict = data['valid']:narrow(2,1,50)\n",
    "valid_input = data['valid']:narrow(2,51,5)\n",
    "valid_output = data['valid_output']"
   ]
  },
  {
   "cell_type": "code",
   "execution_count": 18,
   "metadata": {
    "collapsed": false
   },
   "outputs": [],
   "source": [
    "nwords = data['nwords'][1]\n",
    "\n",
    "N = 6\n",
    "dwin = N-1\n",
    "hid1 = 30.\n",
    "hid2 = 100\n",
    "\n",
    "nnlm = nn.Sequential()\n",
    "\n",
    "LT = nn.LookupTable(nwords,hid1)\n",
    "\n",
    "nnlm:add(LT)\n",
    "nnlm:add(nn.View(1,-1,hid1*dwin))\n",
    "nnlm:add(nn.Squeeze())\n",
    "nnlm:add(nn.Linear(hid1*dwin,hid2))\n",
    "nnlm:add(nn.Tanh())\n",
    "nnlm:add(nn.Linear(hid2, nwords))\n",
    "nnlm:add(nn.LogSoftMax())"
   ]
  },
  {
   "cell_type": "code",
   "execution_count": 19,
   "metadata": {
    "collapsed": true
   },
   "outputs": [],
   "source": [
    "criterion = nn.ClassNLLCriterion()"
   ]
  },
  {
   "cell_type": "code",
   "execution_count": 16,
   "metadata": {
    "collapsed": true
   },
   "outputs": [],
   "source": [
    "dataset={};\n",
    "for i=1,train:size(1) do \n",
    "  dataset[i] = {train_input[i]:view(1,5), train_output[i]}\n",
    "end\n",
    "function dataset:size() return train:size(1) end"
   ]
  },
  {
   "cell_type": "code",
   "execution_count": 20,
   "metadata": {
    "collapsed": false
   },
   "outputs": [
    {
     "data": {
      "text/plain": [
       "# StochasticGradient: training\t\n"
      ]
     },
     "execution_count": 20,
     "metadata": {},
     "output_type": "execute_result"
    },
    {
     "data": {
      "text/plain": [
       "# current error = 6.0455673012034\t\n",
       "# StochasticGradient: you have reached the maximum number of iterations\t\n",
       "# training error = 6.0455673012034\t\n",
       "Epoch 1: 2320.9671299458\t\n"
      ]
     },
     "execution_count": 20,
     "metadata": {},
     "output_type": "execute_result"
    }
   ],
   "source": [
    "for i = 1, 1 do\n",
    "    \n",
    "    timer = torch.Timer()\n",
    "    LT.weight:renorm(2,1,1)\n",
    "    trainer = nn.StochasticGradient(nnlm, criterion)\n",
    "    trainer.learningRate = 0.005\n",
    "    trainer.maxIteration = 1\n",
    "    trainer:train(dataset)\n",
    "    print('Epoch '..i..': '..timer:time().real)\n",
    "    \n",
    "end"
   ]
  },
  {
   "cell_type": "code",
   "execution_count": 24,
   "metadata": {
    "collapsed": false
   },
   "outputs": [
    {
     "data": {
      "text/plain": [
       "Perplexity on valid: 5.637808509993\t\n"
      ]
     },
     "execution_count": 24,
     "metadata": {},
     "output_type": "execute_result"
    }
   ],
   "source": [
    "kag_pred_valid = torch.Tensor(valid_input:size(1),50)\n",
    "norm_mat = torch.zeros(valid_input:size(1),50)\n",
    "\n",
    "for i = 1, valid_input:size(1) do\n",
    "    kag_pred_valid[i]:copy(nnlm:forward(valid_input[i]):index(1, valid_topredict[i])):exp()\n",
    "end\n",
    "\n",
    "norm_mat:zero()\n",
    "norm_mat:copy(torch.expandAs(kag_pred_valid:sum(2), kag_pred_valid))\n",
    "kag_pred_valid:cdiv(norm_mat)\n",
    "\n",
    "CE = 0\n",
    "for i = 1, valid_input:size(1) do\n",
    "    mm,aa = valid_output[i]:max(1)\n",
    "    CE = CE + math.log(kag_pred_valid[i][aa[1]])\n",
    "end\n",
    "\n",
    "val_res = math.exp(-CE/kag_pred_valid:size(1))\n",
    "print('Perplexity on valid: '..val_res)"
   ]
  },
  {
   "cell_type": "markdown",
   "metadata": {},
   "source": [
    "## by hand:"
   ]
  },
  {
   "cell_type": "code",
   "execution_count": 25,
   "metadata": {
    "collapsed": true
   },
   "outputs": [],
   "source": [
    "parameters, gradParameters = nnlm:getParameters()"
   ]
  },
  {
   "cell_type": "code",
   "execution_count": 26,
   "metadata": {
    "collapsed": false
   },
   "outputs": [
    {
     "ename": "[string \"batchSize = 32...\"]:53: attempt to perform arithmetic on global 'L' (a nil value)\nstack traceback:\n\t[string \"batchSize = 32...\"]:53: in main chunk\n\t[C]: in function 'xpcall'\n\t.../virgileaudi/torch/install/share/lua/5.1/itorch/main.lua:179: in function <.../virgileaudi/torch/install/share/lua/5.1/itorch/main.lua:143>\n\t.../virgileaudi/torch/install/share/lua/5.1/lzmq/poller.lua:75: in function 'poll'\n\t...rgileaudi/torch/install/share/lua/5.1/lzmq/impl/loop.lua:307: in function 'poll'\n\t...rgileaudi/torch/install/share/lua/5.1/lzmq/impl/loop.lua:325: in function 'sleep_ex'\n\t...rgileaudi/torch/install/share/lua/5.1/lzmq/impl/loop.lua:370: in function 'start'\n\t.../virgileaudi/torch/install/share/lua/5.1/itorch/main.lua:350: in main chunk\n\t[C]: in function 'require'\n\t(command line):1: in main chunk\n\t[C]: at 0x010860eb50",
     "evalue": "",
     "output_type": "error",
     "traceback": [
      "[string \"batchSize = 32...\"]:53: attempt to perform arithmetic on global 'L' (a nil value)\nstack traceback:\n\t[string \"batchSize = 32...\"]:53: in main chunk\n\t[C]: in function 'xpcall'\n\t.../virgileaudi/torch/install/share/lua/5.1/itorch/main.lua:179: in function <.../virgileaudi/torch/install/share/lua/5.1/itorch/main.lua:143>\n\t.../virgileaudi/torch/install/share/lua/5.1/lzmq/poller.lua:75: in function 'poll'\n\t...rgileaudi/torch/install/share/lua/5.1/lzmq/impl/loop.lua:307: in function 'poll'\n\t...rgileaudi/torch/install/share/lua/5.1/lzmq/impl/loop.lua:325: in function 'sleep_ex'\n\t...rgileaudi/torch/install/share/lua/5.1/lzmq/impl/loop.lua:370: in function 'start'\n\t.../virgileaudi/torch/install/share/lua/5.1/itorch/main.lua:350: in main chunk\n\t[C]: in function 'require'\n\t(command line):1: in main chunk\n\t[C]: at 0x010860eb50"
     ]
    }
   ],
   "source": [
    "batchSize = 32\n",
    "kag_pred_valid = torch.Tensor(valid_input:size(1),50)\n",
    "norm_mat = torch.zeros(valid_input:size(1),50)\n",
    "\n",
    "for i = 1,1  do\n",
    "    \n",
    "    timer = torch.Timer()\n",
    "    \n",
    "    LT.weight:renorm(2,1,1)\n",
    "    \n",
    "    av_L = 0\n",
    "    for t = 1, train_input:size(1), batchSize do\n",
    "      -- create mini batch\n",
    "        inputs = torch.Tensor(batchSize,dwin)\n",
    "        targets = torch.Tensor(batchSize)\n",
    "        k = 1\n",
    "        for j = t,math.min(t+batchSize-1,train_input:size(1)) do\n",
    "         -- load new sample\n",
    "            inputs[k] = train_input[j]\n",
    "            targets[k] = train_output[j]\n",
    "            k = k + 1\n",
    "        end\n",
    "        \n",
    "        \n",
    "        function feval(x)\n",
    "            -- just in case:\n",
    "            collectgarbage()\n",
    "\n",
    "            -- get new parameters\n",
    "            if x ~= parameters then\n",
    "            parameters:copy(x)\n",
    "            end\n",
    "\n",
    "            -- reset gradients\n",
    "            gradParameters:zero()\n",
    "\n",
    "            -- evaluate function for complete mini batch\n",
    "            local outputs = nnlm:forward(inputs:narrow(1,1,k-1))\n",
    "            local f = criterion:forward(outputs:narrow(1,1,k-1), targets:narrow(1,1,k-1))\n",
    "            av_L = av_L +f\n",
    "            \n",
    "            -- estimate df/dW\n",
    "            local df_do = criterion:backward(outputs:narrow(1,1,k-1), targets:narrow(1,1,k-1))\n",
    "            nnlm:backward(inputs:narrow(1,1,k-1), df_do)\n",
    "\n",
    "            -- return f and df/dX\n",
    "            return f,gradParameters\n",
    "        end\n",
    "        \n",
    "        sgdState = {\n",
    "            learningRate = 0.005,\n",
    "            momentum = 0,\n",
    "            learningRateDecay = 5e-7\n",
    "         }\n",
    "    \n",
    "        optim.sgd(feval, parameters, sgdState)\n",
    "        \n",
    "    end\n",
    "    \n",
    "    \n",
    "        \n",
    "    print('Epoch '..i..': '..timer:time().real)\n",
    "    print('Average Loss: '..av_L/math.floor(train_input:size(1)/batchSize))\n",
    "    \n",
    "    -- Evaluatin perplexity on validation:\n",
    "    kag_pred_valid:zero()\n",
    "\n",
    "    for ii = 1, valid_input:size(1) do\n",
    "        kag_pred_valid[i]:copy(nnlm:forward(valid_input[ii]):index(1, valid_topredict[ii])):exp()\n",
    "    end\n",
    "    \n",
    "    norm_mat:zero()\n",
    "    norm_mat:copy(torch.expandAs(kag_pred_valid:sum(2), kag_pred_valid))\n",
    "    kag_pred_valid:cdiv(norm_mat)\n",
    "    \n",
    "    CE = 0\n",
    "    for iii = 1, valid_input:size(1) do\n",
    "        mm,aa = valid_output[iii]:max(1)\n",
    "        CE = CE + math.log(kag_pred_valid[iii][aa[1]])\n",
    "    end\n",
    "    \n",
    "    val_res = math.exp(-CE/kag_pred_valid:size(1))\n",
    "    print('Perplexity on valid: '..val_res)\n",
    "    \n",
    "end"
   ]
  },
  {
   "cell_type": "code",
   "execution_count": null,
   "metadata": {
    "collapsed": true
   },
   "outputs": [],
   "source": []
  }
 ],
 "metadata": {
  "kernelspec": {
   "display_name": "iTorch",
   "language": "lua",
   "name": "itorch"
  },
  "language_info": {
   "name": "lua",
   "version": "20100"
  }
 },
 "nbformat": 4,
 "nbformat_minor": 0
}
