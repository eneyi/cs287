{
 "cells": [
  {
   "cell_type": "code",
   "execution_count": 1,
   "metadata": {
    "collapsed": true
   },
   "outputs": [],
   "source": [
    "require 'nn'\n",
    "require 'hdf5'\n",
    "require 'optim'"
   ]
  },
  {
   "cell_type": "code",
   "execution_count": 7,
   "metadata": {
    "collapsed": false
   },
   "outputs": [
    {
     "data": {
      "text/plain": [
       "{\n"
      ]
     },
     "execution_count": 7,
     "metadata": {},
     "output_type": "execute_result"
    },
    {
     "data": {
      "text/plain": [
       "  test : LongTensor - size: 3761x55\n",
       "  nwords : LongTensor - size: 1\n",
       "  train_1000_nocounts : LongTensor - size: 696825x7\n",
       "  train_nocounts : DoubleTensor - size: 887522x6\n",
       "  train_1000 : DoubleTensor - size: 887522x6\n",
       "  train : LongTensor - size: 772670x7\n",
       "  valid : LongTensor - size: 3370x55\n",
       "  valid_txt : DoubleTensor - size: 70391x6\n",
       "  valid_output : LongTensor - size: 3370x50\n",
       "}\n"
      ]
     },
     "execution_count": 7,
     "metadata": {},
     "output_type": "execute_result"
    }
   ],
   "source": [
    "myFile = hdf5.open('6-grams.hdf5','r')\n",
    "data = myFile:all()\n",
    "myFile:close()\n",
    "print(data)"
   ]
  },
  {
   "cell_type": "code",
   "execution_count": 9,
   "metadata": {
    "collapsed": false
   },
   "outputs": [],
   "source": [
    "train = data['train_nocounts']:narrow(2,1,6)\n",
    "train_input = train:narrow(2,1,5)\n",
    "train_output = train:narrow(2,6,1)\n",
    "\n",
    "valid_txt = data['valid_txt']:narrow(2,1,6)\n",
    "valid_txt_input = valid_txt:narrow(2,1,5)\n",
    "valid_txt_output = valid_txt:narrow(2,6,1)\n",
    "\n",
    "valid_topredict = data['valid']:narrow(2,1,50)\n",
    "valid_input = data['valid']:narrow(2,51,5)\n",
    "valid_output = data['valid_output']"
   ]
  },
  {
   "cell_type": "code",
   "execution_count": 13,
   "metadata": {
    "collapsed": true
   },
   "outputs": [],
   "source": [
    "-- Model\n",
    "nwords = 10001\n",
    "N = 5\n",
    "dwin = N\n",
    "hid1 = 30\n",
    "hid2 = 100\n",
    "\n",
    "-- To store the whole model\n",
    "nnlm = nn.Sequential()\n",
    "\n",
    "-- Layer to embedd (and put the words along the window into one vector)\n",
    "LT = nn.Sequential()\n",
    "LT_ = nn.LookupTable(nwords,hid1)\n",
    "LT:add(LT_)\n",
    "LT:add(nn.View(-1, hid1*dwin))\n",
    "\n",
    "nnlm:add(LT)\n",
    "\n",
    "concat = nn.ConcatTable()\n",
    "\n",
    "lin_tanh = nn.Sequential()\n",
    "lin_tanh:add(nn.Linear(hid1*dwin,hid2))\n",
    "lin_tanh:add(nn.Tanh())\n",
    "\n",
    "id = nn.Identity()\n",
    "\n",
    "concat:add(lin_tanh)\n",
    "concat:add(id)\n",
    "\n",
    "nnlm:add(concat)\n",
    "nnlm:add(nn.JoinTable(2))\n",
    "nnlm:add(nn.Linear(hid1*dwin + hid2, nwords))\n",
    "nnlm:add(nn.LogSoftMax())\n",
    "\n",
    "-- Loss\n",
    "criterion = nn.ClassNLLCriterion()\n",
    "\n",
    "\n",
    "nEpochs = 1\n",
    "batchSize = 32\n",
    "eta = 0.01\n",
    "av_L = 0\n",
    "\n",
    "inputs_batch = torch.DoubleTensor(batchSize,dwin)\n",
    "targets_batch = torch.DoubleTensor(batchSize)\n",
    "outputs = torch.DoubleTensor(batchSize, nwords)\n",
    "dL_do = torch.DoubleTensor(batchSize, nwords)\n",
    "\n",
    "kag_pred_valid = torch.Tensor(valid_input:size(1),50)\n",
    "norm_mat = torch.Tensor(valid_input:size(1),50)"
   ]
  },
  {
   "cell_type": "code",
   "execution_count": 14,
   "metadata": {
    "collapsed": true
   },
   "outputs": [],
   "source": [
    "parameters, gradParameters = nnlm:getParameters()"
   ]
  },
  {
   "cell_type": "code",
   "execution_count": 15,
   "metadata": {
    "collapsed": false
   },
   "outputs": [],
   "source": [
    "for i = 1, 1 do\n",
    "    -- timing the epoch\n",
    "    timer = torch.Timer()\n",
    "    av_L = 0\n",
    "    \n",
    "    -- max renorm\n",
    "    LT_.weight:renorm(2,1,1)\n",
    "    \n",
    "    -- mini batch loop\n",
    "    for t = 1, train_input:size(1), batchSize do\n",
    "        -- Mini batch data\n",
    "        current_batch_size = math.min(batchSize,train_input:size(1)-t)\n",
    "        inputs_batch:narrow(1,1,current_batch_size):copy(train_input:narrow(1,t,current_batch_size))\n",
    "        targets_batch:narrow(1,1,current_batch_size):copy(train_output:narrow(1,t,current_batch_size))\n",
    "        \n",
    "        -- reset gradients\n",
    "        nnlm:zeroGradParameters()\n",
    "        --gradParameters:zero()\n",
    "\n",
    "        -- Forward pass (selection of inputs_batch in case the batch is not full, ie last batch)\n",
    "        outputs:narrow(1,1,current_batch_size):copy(nnlm:forward(inputs_batch:narrow(1,1,current_batch_size)))\n",
    "\n",
    "        -- Average loss computation\n",
    "        L = criterion:forward(outputs:narrow(1,1,current_batch_size), targets_batch:narrow(1,1,current_batch_size))\n",
    "        av_L = av_L + L\n",
    "\n",
    "        -- Backward pass\n",
    "        dL_do:narrow(1,1,current_batch_size):copy(criterion:backward(outputs:narrow(1,1,current_batch_size),\n",
    "                targets_batch:narrow(1,1,current_batch_size)))\n",
    "        nnlm:backward(inputs_batch:narrow(1,1,current_batch_size), df_do:narrow(1,1,current_batch_size))\n",
    "        nnlm:updateParameters(eta)\n",
    "        \n",
    "    end\n",
    "        \n",
    "    print('Epoch '..i..': '..timer:time().real)\n",
    "    print('Average Perplexity on train: '.. math.exp(av_L/math.floor(train_input:size(1)/batchSize)))\n",
    "    \n",
    "    \n",
    "    -- Evaluating perplexity on valiadation_txt:\n",
    "    \n",
    "    print('Perplexity on valid.txt: '..math.exp(criterion:forward(nnlm:forward(valid_txt_input),valid_txt_output)))\n",
    "    -- Evaluatin perplexity on validation kaggle:\n",
    "    kag_pred_valid:zero()\n",
    "\n",
    "    for ii = 1, valid_input:size(1) do\n",
    "        kag_pred_valid[i]:copy(nnlm:forward(valid_input[ii]):index(1, valid_topredict[ii])):exp()\n",
    "    end\n",
    "    \n",
    "    norm_mat:zero()\n",
    "    norm_mat:copy(torch.expandAs(kag_pred_valid:sum(2), kag_pred_valid))\n",
    "    kag_pred_valid:cdiv(norm_mat)\n",
    "    \n",
    "    CE = 0\n",
    "    for iii = 1, valid_input:size(1) do\n",
    "        mm,aa = valid_output[iii]:max(1)\n",
    "        CE = CE + math.log(kag_pred_valid[iii][aa[1]])\n",
    "    end\n",
    "    \n",
    "    val_res = math.exp(-CE/kag_pred_valid:size(1))\n",
    "    print('Perplexity on valid: '..val_res)\n",
    "    \n",
    "    \n",
    "    \n",
    "end\n",
    "\n",
    "for i = 1,1  do\n",
    "    \n",
    "    timer = torch.Timer()\n",
    "    \n",
    "    LT.weight:renorm(2,1,1)\n",
    "    \n",
    "    av_L = 0\n",
    "--     for t = 1, train_input:size(1), batchSize do\n",
    "    for t = 1, train_input:size(1), batchSize do\n",
    "      -- create mini batch\n",
    "        inputs = torch.Tensor(batchSize,dwin)\n",
    "        targets = torch.Tensor(batchSize)\n",
    "        k = 1\n",
    "        for j = t,math.min(t+batchSize-1,train_input:size(1)) do\n",
    "         -- load new sample\n",
    "            inputs[k] = train_input[j]\n",
    "            targets[k] = train_output[j]\n",
    "            k = k + 1\n",
    "        end\n",
    "        -- reset gradients\n",
    "        gradParameters:zero()\n",
    "\n",
    "        -- evaluate function for complete mini batch\n",
    "        outputs = nnlm:forward(inputs:narrow(1,1,k-1))\n",
    "        f = criterion:forward(outputs:narrow(1,1,k-1), targets:narrow(1,1,k-1))\n",
    "        av_L = av_L +f\n",
    "        df_do = criterion:backward(outputs:narrow(1,1,k-1), targets:narrow(1,1,k-1))\n",
    "        nnlm:backward(inputs:narrow(1,1,k-1), df_do)\n",
    "        nnlm:updateParameters(0.01)\n",
    "        \n",
    "    end\n",
    "        \n",
    "    print('Epoch '..i..': '..timer:time().real)\n",
    "    print('Average Loss: '..av_L/math.floor(train_input:size(1)/batchSize))\n",
    "    \n",
    "    -- Evaluatin perplexity on validation:\n",
    "    kag_pred_valid:zero()\n",
    "\n",
    "    for ii = 1, valid_input:size(1) do\n",
    "        kag_pred_valid[i]:copy(nnlm:forward(valid_input[ii]):index(1, valid_topredict[ii])):exp()\n",
    "    end\n",
    "    \n",
    "    norm_mat:zero()\n",
    "    norm_mat:copy(torch.expandAs(kag_pred_valid:sum(2), kag_pred_valid))\n",
    "    kag_pred_valid:cdiv(norm_mat)\n",
    "    \n",
    "    CE = 0\n",
    "    for iii = 1, valid_input:size(1) do\n",
    "        mm,aa = valid_output[iii]:max(1)\n",
    "        CE = CE + math.log(kag_pred_valid[iii][aa[1]])\n",
    "    end\n",
    "    \n",
    "    val_res = math.exp(-CE/kag_pred_valid:size(1))\n",
    "    print('Perplexity on valid: '..val_res)\n",
    "    \n",
    "end"
   ]
  },
  {
   "cell_type": "code",
   "execution_count": 8,
   "metadata": {
    "collapsed": false
   },
   "outputs": [
    {
     "data": {
      "text/plain": [
       "887522\t\n"
      ]
     },
     "execution_count": 8,
     "metadata": {},
     "output_type": "execute_result"
    }
   ],
   "source": [
    "train_input:size(1)"
   ]
  },
  {
   "cell_type": "markdown",
   "metadata": {},
   "source": [
    "### NCE:"
   ]
  },
  {
   "cell_type": "code",
   "execution_count": null,
   "metadata": {
    "collapsed": true
   },
   "outputs": [],
   "source": [
    "N = 6\n",
    "dwin = N-1\n",
    "hid1 = 30.\n",
    "hid2 = 100\n",
    "\n",
    "nnlm = nn.Sequential()\n",
    "\n",
    "LT = nn.LookupTable(nwords,hid1)\n",
    "\n",
    "nnlm:add(LT)\n",
    "nnlm:add(nn.View(1,-1,hid1*dwin))\n",
    "nnlm:add(nn.Squeeze())\n",
    "nnlm:add(nn.Linear(hid1*dwin,hid2))\n",
    "nnlm:add(nn.Tanh())\n",
    "\n",
    "final_lin =  nn.Linear(hid2, nwords)\n",
    "\n",
    "nnlm:add(final_lin)\n",
    "\n",
    "nnlm:add(nn.LogSoftMax())\n",
    "\n",
    "\n",
    "nce = nn.Sequential()\n"
   ]
  }
 ],
 "metadata": {
  "kernelspec": {
   "display_name": "iTorch",
   "language": "lua",
   "name": "itorch"
  },
  "language_info": {
   "name": "lua",
   "version": "20100"
  }
 },
 "nbformat": 4,
 "nbformat_minor": 0
}
