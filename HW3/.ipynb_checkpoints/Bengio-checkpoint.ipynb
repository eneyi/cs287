{
 "cells": [
  {
   "cell_type": "code",
   "execution_count": 1,
   "metadata": {
    "collapsed": true
   },
   "outputs": [],
   "source": [
    "require 'nn'\n",
    "require 'hdf5'\n",
    "require 'optim'"
   ]
  },
  {
   "cell_type": "code",
   "execution_count": 2,
   "metadata": {
    "collapsed": true
   },
   "outputs": [],
   "source": [
    "myFile = hdf5.open('5-grams.hdf5','r')\n",
    "data = myFile:all()\n",
    "myFile:close()"
   ]
  },
  {
   "cell_type": "code",
   "execution_count": 3,
   "metadata": {
    "collapsed": false
   },
   "outputs": [
    {
     "data": {
      "text/plain": [
       "{\n",
       "  train_nocounts : DoubleTensor - size: 887522x5\n",
       "  train_1000 : DoubleTensor - size: 887522x5\n",
       "  test : LongTensor - size: 3761x54\n",
       "  train : LongTensor - size: 754037x6\n",
       "  nwords : LongTensor - size: 1\n",
       "  valid : LongTensor - size: 3370x54\n",
       "  train_1000_nocounts : LongTensor - size: 620208x6\n",
       "  valid_output : LongTensor - size: 3370x50\n",
       "}\n"
      ]
     },
     "execution_count": 3,
     "metadata": {},
     "output_type": "execute_result"
    }
   ],
   "source": [
    "data"
   ]
  },
  {
   "cell_type": "code",
   "execution_count": 48,
   "metadata": {
    "collapsed": true
   },
   "outputs": [],
   "source": [
    "nwords = 10001\n",
    "train = data['train_nocounts']:narrow(2,1,5)\n",
    "train_input = train:narrow(2,1,4)\n",
    "train_output = train:narrow(2,5,1)\n",
    "\n",
    "valid_topredict = data['valid']:narrow(2,1,50)\n",
    "valid_input = data['valid']:narrow(2,51,4)\n",
    "valid_output = data['valid_output']"
   ]
  },
  {
   "cell_type": "code",
   "execution_count": 53,
   "metadata": {
    "collapsed": true
   },
   "outputs": [],
   "source": [
    "dataset={};\n",
    "for i=1,train:size(1) do \n",
    "  dataset[i] = {train_input[i]:view(1,4), train_output[i]}\n",
    "end\n",
    "function dataset:size() return train:size(1) end"
   ]
  },
  {
   "cell_type": "code",
   "execution_count": 54,
   "metadata": {
    "collapsed": true
   },
   "outputs": [],
   "source": [
    "N = 5\n",
    "dwin = N-1\n",
    "hid1 = 25.\n",
    "hid2 = 80\n",
    "dnnlm = nn.Sequential()\n",
    "\n",
    "LT = nn.Sequential()\n",
    "LT_ = nn.LookupTable(nwords,hid1)\n",
    "LT:add(LT_)\n",
    "LT:add(nn.View(1,-1,hid1*dwin))\n",
    "LT:add(nn.Squeeze()) \n",
    "\n",
    "dnnlm:add(LT)\n",
    "\n",
    "concat = nn.ConcatTable()\n",
    "\n",
    "lin_tanh = nn.Sequential()\n",
    "lin_tanh:add(nn.Linear(hid1*dwin,hid2))\n",
    "lin_tanh:add(nn.Tanh())\n",
    "\n",
    "id = nn.Identity()\n",
    "\n",
    "concat:add(lin_tanh)\n",
    "concat:add(id)\n",
    "\n",
    "dnnlm:add(concat)\n",
    "dnnlm:add(nn.JoinTable(1))\n",
    "dnnlm:add(nn.Linear(hid2+hid1*dwin, nwords))\n",
    "dnnlm:add(nn.LogSoftMax())"
   ]
  },
  {
   "cell_type": "code",
   "execution_count": 55,
   "metadata": {
    "collapsed": true
   },
   "outputs": [],
   "source": [
    "criterion = nn.ClassNLLCriterion()"
   ]
  },
  {
   "cell_type": "code",
   "execution_count": 51,
   "metadata": {
    "collapsed": true
   },
   "outputs": [],
   "source": [
    "kag_pred_valid = torch.Tensor(valid_input:size(1),50)\n",
    "norm_mat = torch.zeros(valid_input:size(1),50)"
   ]
  },
  {
   "cell_type": "code",
   "execution_count": 57,
   "metadata": {
    "collapsed": false
   },
   "outputs": [
    {
     "data": {
      "text/plain": [
       "# StochasticGradient: training\t\n"
      ]
     },
     "execution_count": 57,
     "metadata": {},
     "output_type": "execute_result"
    },
    {
     "data": {
      "text/plain": [
       "# current error = 6.0318624286766\t\n",
       "# StochasticGradient: you have reached the maximum number of iterations\t\n",
       "# training error = 6.0318624286766\t\n",
       "Epoch 1: 3777.7758259773\t\n"
      ]
     },
     "execution_count": 57,
     "metadata": {},
     "output_type": "execute_result"
    },
    {
     "data": {
      "text/plain": [
       "Perplexity on valid: 5.8055104706363\t\n"
      ]
     },
     "execution_count": 57,
     "metadata": {},
     "output_type": "execute_result"
    }
   ],
   "source": [
    "for i = 1, 1 do\n",
    "    \n",
    "    timer = torch.Timer()\n",
    "    \n",
    "    LT_.weight:renorm(2,1,1)\n",
    "    \n",
    "    trainer = nn.StochasticGradient(dnnlm, criterion)\n",
    "    trainer.learningRate = 0.005\n",
    "    trainer.maxIteration = 1\n",
    "    trainer:train(dataset)\n",
    "    print('Epoch '..i..': '..timer:time().real)\n",
    "    \n",
    "    -- Evaluatin perplexity on validation:\n",
    "    kag_pred_valid:zero()\n",
    "\n",
    "    for i = 1, valid_input:size(1) do\n",
    "        kag_pred_valid[i]:copy(dnnlm:forward(valid_input[i]):index(1, valid_topredict[i])):exp()\n",
    "    end\n",
    "    \n",
    "    norm_mat:zero()\n",
    "    norm_mat:copy(torch.expandAs(kag_pred_valid:sum(2), kag_pred_valid))\n",
    "    kag_pred_valid:cdiv(norm_mat)\n",
    "    \n",
    "    CE = 0\n",
    "    for i = 1, valid_input:size(1) do\n",
    "        mm,aa = valid_output[i]:max(1)\n",
    "        CE = CE + math.log(kag_pred_valid[i][aa[1]])\n",
    "    end\n",
    "    \n",
    "    val_res = math.exp(-CE/kag_pred_valid:size(1))\n",
    "    print('Perplexity on valid: '..val_res)\n",
    "    \n",
    "end"
   ]
  },
  {
   "cell_type": "code",
   "execution_count": 58,
   "metadata": {
    "collapsed": false
   },
   "outputs": [
    {
     "data": {
      "text/plain": [
       "# StochasticGradient: training\t\n"
      ]
     },
     "execution_count": 58,
     "metadata": {},
     "output_type": "execute_result"
    },
    {
     "data": {
      "text/plain": [
       "# current error = 5.5262946470065\t\n",
       "# StochasticGradient: you have reached the maximum number of iterations\t\n",
       "# training error = 5.5262946470065\t\n",
       "Epoch 2: 3650.7690629959\t\n"
      ]
     },
     "execution_count": 58,
     "metadata": {},
     "output_type": "execute_result"
    },
    {
     "data": {
      "text/plain": [
       "Perplexity on valid: 5.367000690273\t\n"
      ]
     },
     "execution_count": 58,
     "metadata": {},
     "output_type": "execute_result"
    },
    {
     "data": {
      "text/plain": [
       "# StochasticGradient: training\t\n"
      ]
     },
     "execution_count": 58,
     "metadata": {},
     "output_type": "execute_result"
    },
    {
     "data": {
      "text/plain": [
       "# current error = 5.3135841631288\t\n",
       "# StochasticGradient: you have reached the maximum number of iterations\t\n",
       "# training error = 5.3135841631288\t\n",
       "Epoch 3: 3620.9383718967\t\n"
      ]
     },
     "execution_count": 58,
     "metadata": {},
     "output_type": "execute_result"
    },
    {
     "data": {
      "text/plain": [
       "Perplexity on valid: 5.1739799494824\t\n"
      ]
     },
     "execution_count": 58,
     "metadata": {},
     "output_type": "execute_result"
    },
    {
     "data": {
      "text/plain": [
       "# StochasticGradient: training\t\n"
      ]
     },
     "execution_count": 58,
     "metadata": {},
     "output_type": "execute_result"
    },
    {
     "data": {
      "text/plain": [
       "# current error = 5.1731558547035\t\n",
       "# StochasticGradient: you have reached the maximum number of iterations\t\n",
       "# training error = 5.1731558547035\t\n",
       "Epoch 4: 3621.2016150951\t\n"
      ]
     },
     "execution_count": 58,
     "metadata": {},
     "output_type": "execute_result"
    },
    {
     "data": {
      "text/plain": [
       "Perplexity on valid: 5.0952584824508\t\n"
      ]
     },
     "execution_count": 58,
     "metadata": {},
     "output_type": "execute_result"
    },
    {
     "data": {
      "text/plain": [
       "# StochasticGradient: training\t\n"
      ]
     },
     "execution_count": 58,
     "metadata": {},
     "output_type": "execute_result"
    },
    {
     "data": {
      "text/plain": [
       "# current error = 5.0705901211415\t\n",
       "# StochasticGradient: you have reached the maximum number of iterations\t\n",
       "# training error = 5.0705901211415\t\n",
       "Epoch 5: 3621.7603421211\t\n"
      ]
     },
     "execution_count": 58,
     "metadata": {},
     "output_type": "execute_result"
    },
    {
     "data": {
      "text/plain": [
       "Perplexity on valid: 5.0733376594642\t\n"
      ]
     },
     "execution_count": 58,
     "metadata": {},
     "output_type": "execute_result"
    },
    {
     "data": {
      "text/plain": [
       "# StochasticGradient: training\t\n"
      ]
     },
     "execution_count": 58,
     "metadata": {},
     "output_type": "execute_result"
    },
    {
     "data": {
      "text/plain": [
       "# current error = 4.990063610058\t\n",
       "# StochasticGradient: you have reached the maximum number of iterations\t\n",
       "# training error = 4.990063610058\t\n",
       "Epoch 6: 3621.431210041\t\n"
      ]
     },
     "execution_count": 58,
     "metadata": {},
     "output_type": "execute_result"
    },
    {
     "data": {
      "text/plain": [
       "Perplexity on valid: 5.0518462706023\t\n"
      ]
     },
     "execution_count": 58,
     "metadata": {},
     "output_type": "execute_result"
    },
    {
     "data": {
      "text/plain": [
       "# StochasticGradient: training\t\n"
      ]
     },
     "execution_count": 58,
     "metadata": {},
     "output_type": "execute_result"
    },
    {
     "data": {
      "text/plain": [
       "# current error = 4.924878490994\t\n",
       "# StochasticGradient: you have reached the maximum number of iterations\t\n",
       "# training error = 4.924878490994\t\n",
       "Epoch 7: 3621.6165070534\t\n"
      ]
     },
     "execution_count": 58,
     "metadata": {},
     "output_type": "execute_result"
    },
    {
     "data": {
      "text/plain": [
       "Perplexity on valid: 5.0917286919629\t\n"
      ]
     },
     "execution_count": 58,
     "metadata": {},
     "output_type": "execute_result"
    },
    {
     "data": {
      "text/plain": [
       "# StochasticGradient: training\t\n"
      ]
     },
     "execution_count": 58,
     "metadata": {},
     "output_type": "execute_result"
    },
    {
     "data": {
      "text/plain": [
       "# current error = 4.8692454295903\t\n",
       "# StochasticGradient: you have reached the maximum number of iterations\t\n",
       "# training error = 4.8692454295903\t\n",
       "Epoch 8: 3622.6675741673\t\n"
      ]
     },
     "execution_count": 58,
     "metadata": {},
     "output_type": "execute_result"
    },
    {
     "data": {
      "text/plain": [
       "Perplexity on valid: 5.0872367119564\t\n"
      ]
     },
     "execution_count": 58,
     "metadata": {},
     "output_type": "execute_result"
    },
    {
     "data": {
      "text/plain": [
       "# StochasticGradient: training\t\n"
      ]
     },
     "execution_count": 58,
     "metadata": {},
     "output_type": "execute_result"
    },
    {
     "data": {
      "text/plain": [
       "# current error = 4.8223222568596\t\n",
       "# StochasticGradient: you have reached the maximum number of iterations\t\n",
       "# training error = 4.8223222568596\t\n",
       "Epoch 9: 3623.1487159729\t\n"
      ]
     },
     "execution_count": 58,
     "metadata": {},
     "output_type": "execute_result"
    },
    {
     "data": {
      "text/plain": [
       "Perplexity on valid: 5.0862021600192\t\n"
      ]
     },
     "execution_count": 58,
     "metadata": {},
     "output_type": "execute_result"
    }
   ],
   "source": [
    "for i = 2, 9 do\n",
    "    \n",
    "    timer = torch.Timer()\n",
    "    \n",
    "    LT_.weight:renorm(2,1,1)\n",
    "    \n",
    "    trainer = nn.StochasticGradient(dnnlm, criterion)\n",
    "    trainer.learningRate = 0.005\n",
    "    trainer.maxIteration = 1\n",
    "    trainer:train(dataset)\n",
    "    print('Epoch '..i..': '..timer:time().real)\n",
    "    \n",
    "    -- Evaluatin perplexity on validation:\n",
    "    kag_pred_valid:zero()\n",
    "\n",
    "    for i = 1, valid_input:size(1) do\n",
    "        kag_pred_valid[i]:copy(dnnlm:forward(valid_input[i]):index(1, valid_topredict[i])):exp()\n",
    "    end\n",
    "    \n",
    "    norm_mat:zero()\n",
    "    norm_mat:copy(torch.expandAs(kag_pred_valid:sum(2), kag_pred_valid))\n",
    "    kag_pred_valid:cdiv(norm_mat)\n",
    "    \n",
    "    CE = 0\n",
    "    for i = 1, valid_input:size(1) do\n",
    "        mm,aa = valid_output[i]:max(1)\n",
    "        CE = CE + math.log(kag_pred_valid[i][aa[1]])\n",
    "    end\n",
    "    \n",
    "    val_res = math.exp(-CE/kag_pred_valid:size(1))\n",
    "    print('Perplexity on valid: '..val_res)\n",
    "    \n",
    "end"
   ]
  },
  {
   "cell_type": "code",
   "execution_count": null,
   "metadata": {
    "collapsed": true
   },
   "outputs": [],
   "source": []
  }
 ],
 "metadata": {
  "kernelspec": {
   "display_name": "iTorch",
   "language": "lua",
   "name": "itorch"
  },
  "language_info": {
   "name": "lua",
   "version": "20100"
  }
 },
 "nbformat": 4,
 "nbformat_minor": 0
}
