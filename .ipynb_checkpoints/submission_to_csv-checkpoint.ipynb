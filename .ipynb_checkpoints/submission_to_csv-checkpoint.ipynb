{
 "cells": [
  {
   "cell_type": "code",
   "execution_count": 1,
   "metadata": {
    "collapsed": true
   },
   "outputs": [],
   "source": [
    "import numpy as np"
   ]
  },
  {
   "cell_type": "code",
<<<<<<< HEAD
   "execution_count": 3,
=======
   "execution_count": 2,
>>>>>>> f57ba326a750e973076ddfc7a8b3e39fe4d1daa4
   "metadata": {
    "collapsed": false
   },
   "outputs": [],
   "source": [
    "import h5py"
   ]
  },
  {
   "cell_type": "code",
<<<<<<< HEAD
   "execution_count": 4,
=======
   "execution_count": 3,
>>>>>>> f57ba326a750e973076ddfc7a8b3e39fe4d1daa4
   "metadata": {
    "collapsed": false
   },
   "outputs": [
    {
     "name": "stdout",
     "output_type": "stream",
     "text": [
<<<<<<< HEAD
      "('List of arrays in this file: \\n', [u'Testpred'])\n"
=======
      "('List of arrays in this file: \\n', [u'dataset1'])\n"
>>>>>>> f57ba326a750e973076ddfc7a8b3e39fe4d1daa4
     ]
    }
   ],
   "source": [
<<<<<<< HEAD
    "with h5py.File('nbsubmissionnb.h','r') as hf:\n",
    "    print('List of arrays in this file: \\n', hf.keys())\n",
    "    data = hf.get('Testpred')\n",
=======
    "with h5py.File('test_svm.h5','r') as hf:\n",
    "    print('List of arrays in this file: \\n', hf.keys())\n",
    "    data = hf.get('dataset1')\n",
>>>>>>> f57ba326a750e973076ddfc7a8b3e39fe4d1daa4
    "    np_data = np.array(data)"
   ]
  },
  {
   "cell_type": "code",
<<<<<<< HEAD
   "execution_count": 39,
=======
   "execution_count": 4,
>>>>>>> f57ba326a750e973076ddfc7a8b3e39fe4d1daa4
   "metadata": {
    "collapsed": false
   },
   "outputs": [
    {
     "data": {
      "text/plain": [
       "2210"
      ]
     },
<<<<<<< HEAD
     "execution_count": 39,
=======
     "execution_count": 4,
>>>>>>> f57ba326a750e973076ddfc7a8b3e39fe4d1daa4
     "metadata": {},
     "output_type": "execute_result"
    }
   ],
   "source": [
    "len(np_data)"
   ]
  },
  {
   "cell_type": "code",
<<<<<<< HEAD
   "execution_count": 35,
=======
   "execution_count": 5,
>>>>>>> f57ba326a750e973076ddfc7a8b3e39fe4d1daa4
   "metadata": {
    "collapsed": false
   },
   "outputs": [],
   "source": [
    "tocsv = np.transpose(np.array([np.linspace(1,len(np_data),len(np_data)),np_data]).astype(long))"
   ]
  },
  {
   "cell_type": "code",
<<<<<<< HEAD
   "execution_count": 45,
=======
   "execution_count": 7,
>>>>>>> f57ba326a750e973076ddfc7a8b3e39fe4d1daa4
   "metadata": {
    "collapsed": false
   },
   "outputs": [],
   "source": [
<<<<<<< HEAD
    "np.savetxt(\"submission_1.csv\", tocsv, delimiter=\",\",fmt='%1d',header='ID,Category')"
=======
    "np.savetxt(\"submission_2.csv\", tocsv, delimiter=\",\",fmt='%1d',header='ID,Category')"
>>>>>>> f57ba326a750e973076ddfc7a8b3e39fe4d1daa4
   ]
  },
  {
   "cell_type": "code",
<<<<<<< HEAD
   "execution_count": 44,
=======
   "execution_count": 8,
>>>>>>> f57ba326a750e973076ddfc7a8b3e39fe4d1daa4
   "metadata": {
    "collapsed": false
   },
   "outputs": [
    {
     "data": {
      "text/plain": [
       "(2210, 2)"
      ]
     },
<<<<<<< HEAD
     "execution_count": 44,
=======
     "execution_count": 8,
>>>>>>> f57ba326a750e973076ddfc7a8b3e39fe4d1daa4
     "metadata": {},
     "output_type": "execute_result"
    }
   ],
   "source": [
    "tocsv.shape"
   ]
  },
  {
   "cell_type": "code",
   "execution_count": null,
   "metadata": {
    "collapsed": true
   },
   "outputs": [],
   "source": []
  }
 ],
 "metadata": {
  "kernelspec": {
<<<<<<< HEAD
   "display_name": "Python 3",
   "language": "python",
   "name": "python3"
=======
   "display_name": "Python 2",
   "language": "python",
   "name": "python2"
>>>>>>> f57ba326a750e973076ddfc7a8b3e39fe4d1daa4
  },
  "language_info": {
   "codemirror_mode": {
    "name": "ipython",
<<<<<<< HEAD
    "version": 3
=======
    "version": 2
>>>>>>> f57ba326a750e973076ddfc7a8b3e39fe4d1daa4
   },
   "file_extension": ".py",
   "mimetype": "text/x-python",
   "name": "python",
   "nbconvert_exporter": "python",
<<<<<<< HEAD
   "pygments_lexer": "ipython3",
   "version": "3.5.1"
=======
   "pygments_lexer": "ipython2",
   "version": "2.7.11"
>>>>>>> f57ba326a750e973076ddfc7a8b3e39fe4d1daa4
  }
 },
 "nbformat": 4,
 "nbformat_minor": 0
}
