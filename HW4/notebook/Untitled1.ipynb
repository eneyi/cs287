{
 "cells": [
  {
   "cell_type": "code",
   "execution_count": 4,
   "metadata": {
    "collapsed": false
   },
   "outputs": [],
   "source": [
    "require 'hdf5';\n",
    "require 'nn';"
   ]
  },
  {
   "cell_type": "code",
   "execution_count": 6,
   "metadata": {
    "collapsed": false
   },
   "outputs": [],
   "source": [
    "function build_model(dwin, nchar, nclass, hid1, hid2)\n",
    "    -- Model with skip layer from Bengio, standards parameters\n",
    "    -- should be:\n",
    "    -- dwin = 5\n",
    "    -- hid1 = 30\n",
    "    -- hid2 = 100\n",
    "\n",
    "    -- To store the whole model\n",
    "    local dnnlm = nn.Sequential()\n",
    "\n",
    "    -- Layer to embedd (and put the words along the window into one vector)\n",
    "    local LT = nn.Sequential()\n",
    "    local LT_ = nn.LookupTable(nchar,hid1)\n",
    "    LT:add(LT_)\n",
    "    LT:add(nn.View(-1, hid1*dwin))\n",
    "\n",
    "    dnnlm:add(LT)\n",
    "\n",
    "    local concat = nn.ConcatTable()\n",
    "\n",
    "    local lin_tanh = nn.Sequential()\n",
    "    lin_tanh:add(nn.Linear(hid1*dwin,hid2))\n",
    "    lin_tanh:add(nn.Tanh())\n",
    "\n",
    "    local id = nn.Identity()\n",
    "\n",
    "    concat:add(lin_tanh)\n",
    "    concat:add(id)\n",
    "\n",
    "    dnnlm:add(concat)\n",
    "    dnnlm:add(nn.JoinTable(2))\n",
    "    dnnlm:add(nn.Linear(hid1*dwin + hid2, nclass))\n",
    "    dnnlm:add(nn.LogSoftMax())\n",
    "\n",
    "    -- Loss\n",
    "    local criterion = nn.ClassNLLCriterion()\n",
    "\n",
    "    return dnnlm, criterion\n",
    "end\n",
    "\n",
    "\n",
    "function train_model(train_input, train_output, dnnlm, criterion, dwin, nclass, eta, nEpochs, batchSize, val_space, val)\n",
    "    -- Train the model with a mini batch SGD\n",
    "    -- standard parameters are\n",
    "    -- nEpochs = 1\n",
    "    -- batchSize = 32\n",
    "    -- eta = 0.01\n",
    "\n",
    "    -- To store the loss\n",
    "    local av_L = 0\n",
    "\n",
    "    -- Memory allocation\n",
    "    local inputs_batch = torch.DoubleTensor(batchSize,dwin)\n",
    "    local targets_batch = torch.DoubleTensor(batchSize)\n",
    "    local outputs = torch.DoubleTensor(batchSize, nclass)\n",
    "    local df_do = torch.DoubleTensor(batchSize, nclass)\n",
    "    \n",
    "    local true_kag = predict_kaggle(val_space)\n",
    "    \n",
    "    local tr = torch.Tensor(nEpochs)\n",
    "    local vrmse = torch.Tensor(nEpochs)\n",
    "    \n",
    "    \n",
    "    for i = 1, nEpochs do\n",
    "        -- timing the epoch\n",
    "        local timer = torch.Timer()\n",
    "\n",
    "        av_L = 0\n",
    "        \n",
    "        -- max renorm of the lookup table\n",
    "        dnnlm:get(1):get(1).weight:renorm(2,1,1)\n",
    "        \n",
    "        -- mini batch loop\n",
    "        for t = 1, train_input:size(1), batchSize do\n",
    "            -- Mini batch data\n",
    "            local current_batch_size = math.min(batchSize,train_input:size(1)-t)\n",
    "            inputs_batch:narrow(1,1,current_batch_size):copy(train_input:narrow(1,t,current_batch_size))\n",
    "            targets_batch:narrow(1,1,current_batch_size):copy(train_output:narrow(1,t,current_batch_size))\n",
    "            \n",
    "            -- reset gradients\n",
    "            dnnlm:zeroGradParameters()\n",
    "            --gradParameters:zero()\n",
    "\n",
    "            -- Forward pass (selection of inputs_batch in case the batch is not full, ie last batch)\n",
    "            outputs:narrow(1,1,current_batch_size):copy(dnnlm:forward(inputs_batch:narrow(1,1,current_batch_size)))\n",
    "\n",
    "            -- Average loss computation\n",
    "            local f = criterion:forward(outputs:narrow(1,1,current_batch_size), targets_batch:narrow(1,1,current_batch_size))\n",
    "            av_L = av_L +f\n",
    "\n",
    "            -- Backward pass\n",
    "            df_do:narrow(1,1,current_batch_size):copy(criterion:backward(outputs:narrow(1,1,current_batch_size), targets_batch:narrow(1,1,current_batch_size)))\n",
    "            dnnlm:backward(inputs_batch:narrow(1,1,current_batch_size), df_do:narrow(1,1,current_batch_size))\n",
    "            dnnlm:updateParameters(eta)\n",
    "            \n",
    "        end\n",
    "        Av = av_L/math.floor(train_input:size(1)/batchSize)\n",
    "        tr[i] = Av\n",
    "        print('Average Loss: '.. Av)\n",
    "        \n",
    "        tt = predict_space(dnnlm, val, dwin)\n",
    "        tt_k = predict_kaggle(tt)\n",
    "        \n",
    "        rmse = torch.sqrt(torch.mean(torch.pow(tt_k:narrow(2,2,1)-true_kag:narrow(2,2,1),2)))\n",
    "        vrmse[i] = rmse\n",
    "        print('RMSE on valid: '.. rmse)\n",
    "        \n",
    "        print('Epoch '..i..': '..timer:time().real)\n",
    "        \n",
    "    end\n",
    "    \n",
    "    return tr, vrmse\n",
    "end"
   ]
  },
  {
   "cell_type": "code",
   "execution_count": 7,
   "metadata": {
    "collapsed": false
   },
   "outputs": [],
   "source": [
    "function predict_space(nnlm, dat, Nwin)\n",
    "\n",
    "    local dat_nospace = dat\n",
    "    local s = dat:size(1)\n",
    "    local it = 1\n",
    "    local i = 1\n",
    "    local nextpred = torch.Tensor(2)\n",
    "\n",
    "    while it<s-(Nwin-1) do\n",
    "        it = it + 1\n",
    "        nextpred:copy(nnlm:forward(dat_nospace:narrow(1,i,Nwin)));\n",
    "        m, argm = nextpred:max(1)\n",
    "\n",
    "        if argm[1] == 2 then\n",
    "            i = i + 1\n",
    "        elseif argm[1] == 1 then \n",
    "            local dat_nospace_ = torch.LongTensor(dat_nospace:size(1)+1)\n",
    "            dat_nospace_:narrow(1,1,i+(Nwin-1)):copy(dat_nospace:narrow(1,1,i+(Nwin-1)))\n",
    "            dat_nospace_[i+Nwin] = 1\n",
    "            dat_nospace_:narrow(1,i+(Nwin-1)+2,dat_nospace:size(1)-i-(Nwin-1)):copy(dat_nospace:narrow(1,i+(Nwin-1)+1,dat_nospace:size(1)-i-(Nwin-1)))\n",
    "            dat_nospace = dat_nospace_\n",
    "            i = i + 2\n",
    "        end \n",
    "    end\n",
    "    return dat_nospace\n",
    "end"
   ]
  },
  {
   "cell_type": "code",
   "execution_count": 8,
   "metadata": {
    "collapsed": false
   },
   "outputs": [],
   "source": [
    "function predict_kaggle(dat_space)\n",
    "    local num_sent = 0\n",
    "\n",
    "    for i = 5,dat_space:size(1) do\n",
    "        if dat_space[i] == 2 then\n",
    "            num_sent = num_sent + 1\n",
    "        end\n",
    "    end\n",
    "\n",
    "    local num_spaces = torch.DoubleTensor(num_sent,2)\n",
    "    local row = 1\n",
    "    local count_space = 0\n",
    "\n",
    "    for i=5,dat_space:size(1) do\n",
    "        if dat_space[i] == 2 then\n",
    "            num_spaces[{row, 1}] = row\n",
    "            num_spaces[{row, 2}] = count_space\n",
    "            count_space = 0\n",
    "            row = row + 1\n",
    "        elseif dat_space[i] == 1 then\n",
    "            count_space = count_space + 1\n",
    "        end\n",
    "    end\n",
    "\n",
    "    return num_spaces\n",
    "end"
   ]
  },
  {
   "cell_type": "code",
   "execution_count": 9,
   "metadata": {
    "collapsed": false
   },
   "outputs": [],
   "source": [
    "myFile = hdf5.open('../data_preprocessed/4-grams.hdf5','r')\n",
    "data = myFile:all()\n",
    "myFile:close()\n",
    "\n",
    "N = 4\n",
    "\n",
    "train_input = data['input_matrix_train']\n",
    "train_output = data['output_matrix_train']\n",
    "input_data_train = data['input_data_train']\n",
    "\n",
    "input_data_valid = data['input_data_valid_nospace']:clone()\n",
    "input_data_valid_space = data['input_data_valid']\n",
    "input_data_test = data['input_data_test']:clone()"
   ]
  },
  {
   "cell_type": "code",
   "execution_count": 10,
   "metadata": {
    "collapsed": false
   },
   "outputs": [
    {
     "data": {
      "text/plain": [
       "Average Loss: 0.2999279016966\t\n"
      ]
     },
     "execution_count": 10,
     "metadata": {},
     "output_type": "execute_result"
    },
    {
     "data": {
      "text/plain": [
       "RMSE on valid: 8.0990007022626\t\n",
       "Epoch 1: 37.549407958984\t\n"
      ]
     },
     "execution_count": 10,
     "metadata": {},
     "output_type": "execute_result"
    },
    {
     "data": {
      "text/plain": [
       "Average Loss: 0.26833430403236\t\n"
      ]
     },
     "execution_count": 10,
     "metadata": {},
     "output_type": "execute_result"
    },
    {
     "data": {
      "text/plain": [
       "RMSE on valid: 7.2910685526007\t\n",
       "Epoch 2: 37.056308031082\t\n"
      ]
     },
     "execution_count": 10,
     "metadata": {},
     "output_type": "execute_result"
    },
    {
     "data": {
      "text/plain": [
       "Average Loss: 0.24193435098863\t\n"
      ]
     },
     "execution_count": 10,
     "metadata": {},
     "output_type": "execute_result"
    },
    {
     "data": {
      "text/plain": [
       "RMSE on valid: 6.1446307477299\t\n",
       "Epoch 3: 40.801877975464\t\n"
      ]
     },
     "execution_count": 10,
     "metadata": {},
     "output_type": "execute_result"
    },
    {
     "data": {
      "text/plain": [
       "Average Loss: 0.22844307013896\t\n"
      ]
     },
     "execution_count": 10,
     "metadata": {},
     "output_type": "execute_result"
    },
    {
     "data": {
      "text/plain": [
       "RMSE on valid: 6.0093905224322\t\n",
       "Epoch 4: 38.326804876328\t\n"
      ]
     },
     "execution_count": 10,
     "metadata": {},
     "output_type": "execute_result"
    },
    {
     "data": {
      "text/plain": [
       "Average Loss: 0.21732259188103\t\n"
      ]
     },
     "execution_count": 10,
     "metadata": {},
     "output_type": "execute_result"
    },
    {
     "data": {
      "text/plain": [
       "RMSE on valid: 5.0090736032997\t\n",
       "Epoch 5: 40.018903017044\t"
      ]
     },
     "execution_count": 10,
     "metadata": {},
     "output_type": "execute_result"
    },
    {
     "data": {
      "text/plain": [
       "\n"
      ]
     },
     "execution_count": 10,
     "metadata": {},
     "output_type": "execute_result"
    },
    {
     "data": {
      "text/plain": [
       "Average Loss: 0.20984310688726\t\n"
      ]
     },
     "execution_count": 10,
     "metadata": {},
     "output_type": "execute_result"
    },
    {
     "data": {
      "text/plain": [
       "RMSE on valid: 4.8695559192086\t\n",
       "Epoch 6: 41.548266887665\t\n"
      ]
     },
     "execution_count": 10,
     "metadata": {},
     "output_type": "execute_result"
    },
    {
     "data": {
      "text/plain": [
       "Average Loss: 0.20524385023812\t\n"
      ]
     },
     "execution_count": 10,
     "metadata": {},
     "output_type": "execute_result"
    },
    {
     "data": {
      "text/plain": [
       "RMSE on valid: 4.809857642272\t\n",
       "Epoch 7: 37.679234981537\t\n"
      ]
     },
     "execution_count": 10,
     "metadata": {},
     "output_type": "execute_result"
    },
    {
     "data": {
      "text/plain": [
       "Average Loss: 0.2020497821542\t\n"
      ]
     },
     "execution_count": 10,
     "metadata": {},
     "output_type": "execute_result"
    },
    {
     "data": {
      "text/plain": [
       "RMSE on valid: 4.9241755645001\t\n",
       "Epoch 8: 37.560721874237\t\n"
      ]
     },
     "execution_count": 10,
     "metadata": {},
     "output_type": "execute_result"
    },
    {
     "data": {
      "text/plain": [
       "Average Loss: 0.19964882002223\t\n"
      ]
     },
     "execution_count": 10,
     "metadata": {},
     "output_type": "execute_result"
    },
    {
     "data": {
      "text/plain": [
       "RMSE on valid: 4.8606325208757\t\n",
       "Epoch 9: 37.713301897049\t\n"
      ]
     },
     "execution_count": 10,
     "metadata": {},
     "output_type": "execute_result"
    },
    {
     "data": {
      "text/plain": [
       "Average Loss: 0.19777197601831\t\n"
      ]
     },
     "execution_count": 10,
     "metadata": {},
     "output_type": "execute_result"
    },
    {
     "data": {
      "text/plain": [
       "RMSE on valid: 4.5511069917438\t\n",
       "Epoch 10: 37.841428041458\t\n"
      ]
     },
     "execution_count": 10,
     "metadata": {},
     "output_type": "execute_result"
    },
    {
     "data": {
      "text/plain": [
       "Average Loss: 0.19617452139248\t\n"
      ]
     },
     "execution_count": 10,
     "metadata": {},
     "output_type": "execute_result"
    },
    {
     "data": {
      "text/plain": [
       "RMSE on valid: 4.4446024589342\t\n",
       "Epoch 11: 37.712862968445\t\n"
      ]
     },
     "execution_count": 10,
     "metadata": {},
     "output_type": "execute_result"
    },
    {
     "data": {
      "text/plain": [
       "Average Loss: 0.19464074499331\t\n"
      ]
     },
     "execution_count": 10,
     "metadata": {},
     "output_type": "execute_result"
    },
    {
     "data": {
      "text/plain": [
       "RMSE on valid: 4.3843534175771\t\n",
       "Epoch 12: 38.203027009964\t\n"
      ]
     },
     "execution_count": 10,
     "metadata": {},
     "output_type": "execute_result"
    },
    {
     "data": {
      "text/plain": [
       "Average Loss: 0.19310638144052\t\n"
      ]
     },
     "execution_count": 10,
     "metadata": {},
     "output_type": "execute_result"
    },
    {
     "data": {
      "text/plain": [
       "RMSE on valid: 4.408529203773\t\n",
       "Epoch 13: 38.824916124344\t\n"
      ]
     },
     "execution_count": 10,
     "metadata": {},
     "output_type": "execute_result"
    },
    {
     "data": {
      "text/plain": [
       "Average Loss: 0.19163403265493\t\n"
      ]
     },
     "execution_count": 10,
     "metadata": {},
     "output_type": "execute_result"
    },
    {
     "data": {
      "text/plain": [
       "RMSE on valid: 4.3576394935891\t\n",
       "Epoch 14: 37.849529027939\t\n"
      ]
     },
     "execution_count": 10,
     "metadata": {},
     "output_type": "execute_result"
    },
    {
     "data": {
      "text/plain": [
       "Average Loss: 0.19025300134216\t\n"
      ]
     },
     "execution_count": 10,
     "metadata": {},
     "output_type": "execute_result"
    }
   ],
   "source": [
    "torch.manualSeed(1)\n",
    "nnlm1, crit = build_model(N-1, 49, 2, 16, 80)\n",
    "perp_train_3, rmse_valid_3 = train_model(train_input, train_output, nnlm1, crit, N-1, 2, 0.01, 15, 20,input_data_valid_space, input_data_valid)"
   ]
  },
  {
   "cell_type": "code",
   "execution_count": 11,
   "metadata": {
    "collapsed": true
   },
   "outputs": [],
   "source": [
    "myFile = hdf5.open('../data_preprocessed/5-grams.hdf5','r')\n",
    "data = myFile:all()\n",
    "myFile:close()\n",
    "\n",
    "N = 5\n",
    "\n",
    "train_input = data['input_matrix_train']\n",
    "train_output = data['output_matrix_train']\n",
    "input_data_train = data['input_data_train']\n",
    "\n",
    "input_data_valid = data['input_data_valid_nospace']:clone()\n",
    "input_data_valid_space = data['input_data_valid']\n",
    "input_data_test = data['input_data_test']:clone()"
   ]
  },
  {
   "cell_type": "code",
   "execution_count": 12,
   "metadata": {
    "collapsed": false
   },
   "outputs": [
    {
     "data": {
      "text/plain": [
       "Average Loss: 0.29443654451786\t\n"
      ]
     },
     "execution_count": 12,
     "metadata": {},
     "output_type": "execute_result"
    },
    {
     "data": {
      "text/plain": [
       "RMSE on valid: 7.5064842229383\t\n",
       "Epoch 1: 36.957608938217\t\n"
      ]
     },
     "execution_count": 12,
     "metadata": {},
     "output_type": "execute_result"
    },
    {
     "data": {
      "text/plain": [
       "Average Loss: 0.27378908120055\t\n"
      ]
     },
     "execution_count": 12,
     "metadata": {},
     "output_type": "execute_result"
    },
    {
     "data": {
      "text/plain": [
       "RMSE on valid: 7.0633008969517\t\n",
       "Epoch 2: 38.712803840637\t\n"
      ]
     },
     "execution_count": 12,
     "metadata": {},
     "output_type": "execute_result"
    },
    {
     "data": {
      "text/plain": [
       "Average Loss: 0.24403272683775\t\n"
      ]
     },
     "execution_count": 12,
     "metadata": {},
     "output_type": "execute_result"
    },
    {
     "data": {
      "text/plain": [
       "RMSE on valid: 5.9641309747048\t\n",
       "Epoch 3: 37.881150007248\t\n"
      ]
     },
     "execution_count": 12,
     "metadata": {},
     "output_type": "execute_result"
    },
    {
     "data": {
      "text/plain": [
       "Average Loss: 0.22213200721034\t\n"
      ]
     },
     "execution_count": 12,
     "metadata": {},
     "output_type": "execute_result"
    },
    {
     "data": {
      "text/plain": [
       "RMSE on valid: 5.4555909903412\t\n",
       "Epoch 4: 38.152885913849\t\n"
      ]
     },
     "execution_count": 12,
     "metadata": {},
     "output_type": "execute_result"
    },
    {
     "data": {
      "text/plain": [
       "Average Loss: 0.20911243675907\t\n"
      ]
     },
     "execution_count": 12,
     "metadata": {},
     "output_type": "execute_result"
    },
    {
     "data": {
      "text/plain": [
       "RMSE on valid: 5.8734151894808\t\n",
       "Epoch 5: 38.157357931137\t\n"
      ]
     },
     "execution_count": 12,
     "metadata": {},
     "output_type": "execute_result"
    },
    {
     "data": {
      "text/plain": [
       "Average Loss: 0.19831868559116\t\n"
      ]
     },
     "execution_count": 12,
     "metadata": {},
     "output_type": "execute_result"
    },
    {
     "data": {
      "text/plain": [
       "RMSE on valid: 5.2946136905101\t\n",
       "Epoch 6: 38.767784833908\t\n"
      ]
     },
     "execution_count": 12,
     "metadata": {},
     "output_type": "execute_result"
    },
    {
     "data": {
      "text/plain": [
       "Average Loss: 0.18999367837257\t\n"
      ]
     },
     "execution_count": 12,
     "metadata": {},
     "output_type": "execute_result"
    },
    {
     "data": {
      "text/plain": [
       "RMSE on valid: 4.8250841573747\t\n",
       "Epoch 7: 38.72487282753\t\n"
      ]
     },
     "execution_count": 12,
     "metadata": {},
     "output_type": "execute_result"
    },
    {
     "data": {
      "text/plain": [
       "Average Loss: 0.18388471579704\t\n"
      ]
     },
     "execution_count": 12,
     "metadata": {},
     "output_type": "execute_result"
    },
    {
     "data": {
      "text/plain": [
       "RMSE on valid: 4.7520349669742\t\n",
       "Epoch 8: 38.782788038254\t\n"
      ]
     },
     "execution_count": 12,
     "metadata": {},
     "output_type": "execute_result"
    },
    {
     "data": {
      "text/plain": [
       "Average Loss: 0.17968586361457\t\n"
      ]
     },
     "execution_count": 12,
     "metadata": {},
     "output_type": "execute_result"
    },
    {
     "data": {
      "text/plain": [
       "RMSE on valid: 4.5683979118546\t\n",
       "Epoch 9: 37.913828134537\t\n"
      ]
     },
     "execution_count": 12,
     "metadata": {},
     "output_type": "execute_result"
    },
    {
     "data": {
      "text/plain": [
       "Average Loss: 0.17670111663555\t\n"
      ]
     },
     "execution_count": 12,
     "metadata": {},
     "output_type": "execute_result"
    },
    {
     "data": {
      "text/plain": [
       "RMSE on valid: 4.5283537874102\t\n",
       "Epoch 10: 37.803889036179\t\n"
      ]
     },
     "execution_count": 12,
     "metadata": {},
     "output_type": "execute_result"
    },
    {
     "data": {
      "text/plain": [
       "Average Loss: 0.17436727230211\t\n"
      ]
     },
     "execution_count": 12,
     "metadata": {},
     "output_type": "execute_result"
    },
    {
     "data": {
      "text/plain": [
       "RMSE on valid: 4.4941745393809\t\n",
       "Epoch 11: 37.829329967499\t\n"
      ]
     },
     "execution_count": 12,
     "metadata": {},
     "output_type": "execute_result"
    },
    {
     "data": {
      "text/plain": [
       "Average Loss: 0.17243752242786\t\n"
      ]
     },
     "execution_count": 12,
     "metadata": {},
     "output_type": "execute_result"
    },
    {
     "data": {
      "text/plain": [
       "RMSE on valid: 4.4028660598431\t\n",
       "Epoch 12: 37.775954008102\t\n"
      ]
     },
     "execution_count": 12,
     "metadata": {},
     "output_type": "execute_result"
    },
    {
     "data": {
      "text/plain": [
       "Average Loss: 0.17078575326792\t"
      ]
     },
     "execution_count": 12,
     "metadata": {},
     "output_type": "execute_result"
    },
    {
     "data": {
      "text/plain": [
       "\n"
      ]
     },
     "execution_count": 12,
     "metadata": {},
     "output_type": "execute_result"
    },
    {
     "data": {
      "text/plain": [
       "RMSE on valid: 4.3477803087063\t\n",
       "Epoch 13: 41.250059127808\t\n"
      ]
     },
     "execution_count": 12,
     "metadata": {},
     "output_type": "execute_result"
    },
    {
     "data": {
      "text/plain": [
       "Average Loss: 0.16932815903052\t\n"
      ]
     },
     "execution_count": 12,
     "metadata": {},
     "output_type": "execute_result"
    },
    {
     "data": {
      "text/plain": [
       "RMSE on valid: 4.3262647707078\t\n",
       "Epoch 14: 38.601723909378\t\n"
      ]
     },
     "execution_count": 12,
     "metadata": {},
     "output_type": "execute_result"
    },
    {
     "data": {
      "text/plain": [
       "Average Loss: 0.16800128690437\t\n"
      ]
     },
     "execution_count": 12,
     "metadata": {},
     "output_type": "execute_result"
    },
    {
     "data": {
      "text/plain": [
       "RMSE on valid: 4.3135584413736\t\n",
       "Epoch 15: 39.222057104111\t\n"
      ]
     },
     "execution_count": 12,
     "metadata": {},
     "output_type": "execute_result"
    }
   ],
   "source": [
    "torch.manualSeed(1)\n",
    "nnlm2, crit = build_model(N-1, 49, 2, 16, 80)\n",
    "perp_train_4, rmse_valid_4 = train_model(train_input, train_output, nnlm2, crit, N-1, 2, 0.01, 15, 20, input_data_valid_space, input_data_valid)"
   ]
  },
  {
   "cell_type": "code",
   "execution_count": 13,
   "metadata": {
    "collapsed": true
   },
   "outputs": [],
   "source": [
    "myFile = hdf5.open('../data_preprocessed/6-grams.hdf5','r')\n",
    "data = myFile:all()\n",
    "myFile:close()\n",
    "\n",
    "N = 6\n",
    "\n",
    "train_input = data['input_matrix_train']\n",
    "train_output = data['output_matrix_train']\n",
    "input_data_train = data['input_data_train']\n",
    "\n",
    "input_data_valid = data['input_data_valid_nospace']:clone()\n",
    "input_data_valid_space = data['input_data_valid']\n",
    "input_data_test = data['input_data_test']:clone()"
   ]
  },
  {
   "cell_type": "code",
   "execution_count": 14,
   "metadata": {
    "collapsed": false
   },
   "outputs": [
    {
     "data": {
      "text/plain": [
       "Average Loss: 0.295621389953\t\n"
      ]
     },
     "execution_count": 14,
     "metadata": {},
     "output_type": "execute_result"
    },
    {
     "data": {
      "text/plain": [
       "RMSE on valid: 7.0153808779193\t\n",
       "Epoch 1: 38.690722942352\t\n"
      ]
     },
     "execution_count": 14,
     "metadata": {},
     "output_type": "execute_result"
    },
    {
     "data": {
      "text/plain": [
       "Average Loss: 0.27468023492365\t\n"
      ]
     },
     "execution_count": 14,
     "metadata": {},
     "output_type": "execute_result"
    },
    {
     "data": {
      "text/plain": [
       "RMSE on valid: 6.7282583985638\t\n",
       "Epoch 2: 38.674744129181\t\n"
      ]
     },
     "execution_count": 14,
     "metadata": {},
     "output_type": "execute_result"
    },
    {
     "data": {
      "text/plain": [
       "Average Loss: 0.25618872109793\t\n"
      ]
     },
     "execution_count": 14,
     "metadata": {},
     "output_type": "execute_result"
    },
    {
     "data": {
      "text/plain": [
       "RMSE on valid: 5.7129435977347\t\n",
       "Epoch 3: 37.893794059753\t\n"
      ]
     },
     "execution_count": 14,
     "metadata": {},
     "output_type": "execute_result"
    },
    {
     "data": {
      "text/plain": [
       "Average Loss: 0.22655003590524\t\n"
      ]
     },
     "execution_count": 14,
     "metadata": {},
     "output_type": "execute_result"
    },
    {
     "data": {
      "text/plain": [
       "RMSE on valid: 5.1633979744655\t\n",
       "Epoch 4: 41.063241958618\t\n"
      ]
     },
     "execution_count": 14,
     "metadata": {},
     "output_type": "execute_result"
    },
    {
     "data": {
      "text/plain": [
       "Average Loss: 0.20997346406349\t\n"
      ]
     },
     "execution_count": 14,
     "metadata": {},
     "output_type": "execute_result"
    },
    {
     "data": {
      "text/plain": [
       "RMSE on valid: 4.9524686882185\t\n",
       "Epoch 5: 41.743567943573\t\n"
      ]
     },
     "execution_count": 14,
     "metadata": {},
     "output_type": "execute_result"
    },
    {
     "data": {
      "text/plain": [
       "Average Loss: 0.19872725299921\t\n"
      ]
     },
     "execution_count": 14,
     "metadata": {},
     "output_type": "execute_result"
    },
    {
     "data": {
      "text/plain": [
       "RMSE on valid: 4.7067709328977\t\n",
       "Epoch 6: 39.319875001907\t\n"
      ]
     },
     "execution_count": 14,
     "metadata": {},
     "output_type": "execute_result"
    },
    {
     "data": {
      "text/plain": [
       "Average Loss: 0.18992938442935\t\n"
      ]
     },
     "execution_count": 14,
     "metadata": {},
     "output_type": "execute_result"
    },
    {
     "data": {
      "text/plain": [
       "RMSE on valid: 4.5704727935834\t\n",
       "Epoch 7: 39.163685798645\t\n"
      ]
     },
     "execution_count": 14,
     "metadata": {},
     "output_type": "execute_result"
    },
    {
     "data": {
      "text/plain": [
       "Average Loss: 0.18301274359037\t\n"
      ]
     },
     "execution_count": 14,
     "metadata": {},
     "output_type": "execute_result"
    },
    {
     "data": {
      "text/plain": [
       "RMSE on valid: 4.4053587400736\t\n",
       "Epoch 8: 39.138303995132\t\n"
      ]
     },
     "execution_count": 14,
     "metadata": {},
     "output_type": "execute_result"
    },
    {
     "data": {
      "text/plain": [
       "Average Loss: 0.17770018348404\t\n"
      ]
     },
     "execution_count": 14,
     "metadata": {},
     "output_type": "execute_result"
    },
    {
     "data": {
      "text/plain": [
       "RMSE on valid: 4.3321432420755\t\n",
       "Epoch 9: 42.224860906601\t\n"
      ]
     },
     "execution_count": 14,
     "metadata": {},
     "output_type": "execute_result"
    },
    {
     "data": {
      "text/plain": [
       "Average Loss: 0.17367809783134\t\n"
      ]
     },
     "execution_count": 14,
     "metadata": {},
     "output_type": "execute_result"
    },
    {
     "data": {
      "text/plain": [
       "RMSE on valid: 4.2078009485187\t\n",
       "Epoch 10: 38.793121099472\t\n"
      ]
     },
     "execution_count": 14,
     "metadata": {},
     "output_type": "execute_result"
    },
    {
     "data": {
      "text/plain": [
       "Average Loss: 0.1704792645748\t\n"
      ]
     },
     "execution_count": 14,
     "metadata": {},
     "output_type": "execute_result"
    },
    {
     "data": {
      "text/plain": [
       "RMSE on valid: 4.1479620083066\t\n",
       "Epoch 11: 38.455412149429\t\n"
      ]
     },
     "execution_count": 14,
     "metadata": {},
     "output_type": "execute_result"
    },
    {
     "data": {
      "text/plain": [
       "Average Loss: 0.16774662850185\t\n"
      ]
     },
     "execution_count": 14,
     "metadata": {},
     "output_type": "execute_result"
    },
    {
     "data": {
      "text/plain": [
       "RMSE on valid: 4.2105276289524\t\n",
       "Epoch 12: 38.431823968887\t\n"
      ]
     },
     "execution_count": 14,
     "metadata": {},
     "output_type": "execute_result"
    },
    {
     "data": {
      "text/plain": [
       "Average Loss: 0.16530856897846\t\n"
      ]
     },
     "execution_count": 14,
     "metadata": {},
     "output_type": "execute_result"
    },
    {
     "data": {
      "text/plain": [
       "RMSE on valid: 4.2452274483029\t\n",
       "Epoch 13: 38.151856184006\t\n"
      ]
     },
     "execution_count": 14,
     "metadata": {},
     "output_type": "execute_result"
    },
    {
     "data": {
      "text/plain": [
       "Average Loss: 0.16307442759655\t\n"
      ]
     },
     "execution_count": 14,
     "metadata": {},
     "output_type": "execute_result"
    },
    {
     "data": {
      "text/plain": [
       "RMSE on valid: 4.2755630181014\t\n",
       "Epoch 14: 42.683506965637\t\n"
      ]
     },
     "execution_count": 14,
     "metadata": {},
     "output_type": "execute_result"
    },
    {
     "data": {
      "text/plain": [
       "Average Loss: 0.16100459655088\t\n"
      ]
     },
     "execution_count": 14,
     "metadata": {},
     "output_type": "execute_result"
    },
    {
     "data": {
      "text/plain": [
       "RMSE on valid: 4.2954741070563\t\n",
       "Epoch 15: 38.342741966248\t\n"
      ]
     },
     "execution_count": 14,
     "metadata": {},
     "output_type": "execute_result"
    }
   ],
   "source": [
    "torch.manualSeed(1)\n",
    "nnlm3, crit = build_model(N-1, 49, 2, 16, 80)\n",
    "perp_train_5, rmse_valid_5 = train_model(train_input, train_output, nnlm3, crit, N-1, 2, 0.01, 15, 20, input_data_valid_space, input_data_valid)"
   ]
  },
  {
   "cell_type": "code",
   "execution_count": 15,
   "metadata": {
    "collapsed": false
   },
   "outputs": [],
   "source": [
    "myFile = hdf5.open('toplot.f5', 'w')\n",
    "myFile:write('perp3', perp_train_3)\n",
    "myFile:write('rmse3', rmse_valid_3)\n",
    "myFile:write('perp4', perp_train_4)\n",
    "myFile:write('rmse4', rmse_valid_4)\n",
    "myFile:write('perp5', perp_train_5)\n",
    "myFile:write('rmse5', rmse_valid_5)\n",
    "myFile:close()"
   ]
  },
  {
   "cell_type": "code",
   "execution_count": 16,
   "metadata": {
    "collapsed": false
   },
   "outputs": [
    {
     "data": {
      "text/plain": [
       "Average Loss: 0.2949427931284\t\n"
      ]
     },
     "execution_count": 16,
     "metadata": {},
     "output_type": "execute_result"
    },
    {
     "data": {
      "text/plain": [
       "RMSE on valid: 6.8002583020097\t\n",
       "Epoch 1: 38.400814056396\t\n"
      ]
     },
     "execution_count": 16,
     "metadata": {},
     "output_type": "execute_result"
    },
    {
     "data": {
      "text/plain": [
       "Average Loss: 0.27373425207181\t\n"
      ]
     },
     "execution_count": 16,
     "metadata": {},
     "output_type": "execute_result"
    },
    {
     "data": {
      "text/plain": [
       "RMSE on valid: 6.4982724558285\t\n",
       "Epoch 2: 43.661610126495\t\n"
      ]
     },
     "execution_count": 16,
     "metadata": {},
     "output_type": "execute_result"
    },
    {
     "data": {
      "text/plain": [
       "Average Loss: 0.25465911687678\t\n"
      ]
     },
     "execution_count": 16,
     "metadata": {},
     "output_type": "execute_result"
    },
    {
     "data": {
      "text/plain": [
       "RMSE on valid: 5.3498372389292\t\n",
       "Epoch 3: 43.709435224533\t\n"
      ]
     },
     "execution_count": 16,
     "metadata": {},
     "output_type": "execute_result"
    },
    {
     "data": {
      "text/plain": [
       "Average Loss: 0.22699203202076\t\n"
      ]
     },
     "execution_count": 16,
     "metadata": {},
     "output_type": "execute_result"
    },
    {
     "data": {
      "text/plain": [
       "RMSE on valid: 5.2213480108014\t\n",
       "Epoch 4: 44.140863895416\t\n"
      ]
     },
     "execution_count": 16,
     "metadata": {},
     "output_type": "execute_result"
    },
    {
     "data": {
      "text/plain": [
       "Average Loss: 0.2091878452534\t\n"
      ]
     },
     "execution_count": 16,
     "metadata": {},
     "output_type": "execute_result"
    },
    {
     "data": {
      "text/plain": [
       "RMSE on valid: 5.1808606780408\t\n",
       "Epoch 5: 50.186378955841\t\n"
      ]
     },
     "execution_count": 16,
     "metadata": {},
     "output_type": "execute_result"
    },
    {
     "data": {
      "text/plain": [
       "Average Loss: 0.19638709598742\t\n"
      ]
     },
     "execution_count": 16,
     "metadata": {},
     "output_type": "execute_result"
    },
    {
     "data": {
      "text/plain": [
       "RMSE on valid: 4.912507967519\t\n",
       "Epoch 6: 48.567532062531\t\n"
      ]
     },
     "execution_count": 16,
     "metadata": {},
     "output_type": "execute_result"
    },
    {
     "data": {
      "text/plain": [
       "Average Loss: 0.18749549196501\t\n"
      ]
     },
     "execution_count": 16,
     "metadata": {},
     "output_type": "execute_result"
    },
    {
     "data": {
      "text/plain": [
       "RMSE on valid: 4.7041197385877\t\n",
       "Epoch 7: 43.146628141403\t\n"
      ]
     },
     "execution_count": 16,
     "metadata": {},
     "output_type": "execute_result"
    },
    {
     "data": {
      "text/plain": [
       "Average Loss: 0.18116075302491\t\n"
      ]
     },
     "execution_count": 16,
     "metadata": {},
     "output_type": "execute_result"
    },
    {
     "data": {
      "text/plain": [
       "RMSE on valid: 4.6562472789313\t\n",
       "Epoch 8: 39.406399965286\t\n"
      ]
     },
     "execution_count": 16,
     "metadata": {},
     "output_type": "execute_result"
    },
    {
     "data": {
      "text/plain": [
       "Average Loss: 0.17661182813815\t\n"
      ]
     },
     "execution_count": 16,
     "metadata": {},
     "output_type": "execute_result"
    },
    {
     "data": {
      "text/plain": [
       "RMSE on valid: 4.5200816059614\t\n",
       "Epoch 9: 38.942988872528\t\n"
      ]
     },
     "execution_count": 16,
     "metadata": {},
     "output_type": "execute_result"
    },
    {
     "data": {
      "text/plain": [
       "Average Loss: 0.17311597855571\t\n"
      ]
     },
     "execution_count": 16,
     "metadata": {},
     "output_type": "execute_result"
    },
    {
     "data": {
      "text/plain": [
       "RMSE on valid: 4.352139446809\t\n",
       "Epoch 10: 39.03311085701\t\n"
      ]
     },
     "execution_count": 16,
     "metadata": {},
     "output_type": "execute_result"
    },
    {
     "data": {
      "text/plain": [
       "Average Loss: 0.17022321592714\t\n"
      ]
     },
     "execution_count": 16,
     "metadata": {},
     "output_type": "execute_result"
    },
    {
     "data": {
      "text/plain": [
       "RMSE on valid: 4.2453449909067\t\n",
       "Epoch 11: 39.844140052795\t\n"
      ]
     },
     "execution_count": 16,
     "metadata": {},
     "output_type": "execute_result"
    },
    {
     "data": {
      "text/plain": [
       "Average Loss: 0.16776687335378\t\n"
      ]
     },
     "execution_count": 16,
     "metadata": {},
     "output_type": "execute_result"
    },
    {
     "data": {
      "text/plain": [
       "RMSE on valid: 4.1000462487046\t\n",
       "Epoch 12: 39.717175006866\t\n"
      ]
     },
     "execution_count": 16,
     "metadata": {},
     "output_type": "execute_result"
    },
    {
     "data": {
      "text/plain": [
       "Average Loss: 0.16568973068901\t\n"
      ]
     },
     "execution_count": 16,
     "metadata": {},
     "output_type": "execute_result"
    },
    {
     "data": {
      "text/plain": [
       "RMSE on valid: 4.0737953290799\t\n"
      ]
     },
     "execution_count": 16,
     "metadata": {},
     "output_type": "execute_result"
    },
    {
     "data": {
      "text/plain": [
       "Epoch 13: 42.313410043716\t\n"
      ]
     },
     "execution_count": 16,
     "metadata": {},
     "output_type": "execute_result"
    },
    {
     "data": {
      "text/plain": [
       "Average Loss: 0.16392057574123\t\n"
      ]
     },
     "execution_count": 16,
     "metadata": {},
     "output_type": "execute_result"
    },
    {
     "data": {
      "text/plain": [
       "RMSE on valid: 3.9816194460513\t\n",
       "Epoch 14: 43.537487983704\t\n"
      ]
     },
     "execution_count": 16,
     "metadata": {},
     "output_type": "execute_result"
    },
    {
     "data": {
      "text/plain": [
       "Average Loss: 0.16237699344759\t\n"
      ]
     },
     "execution_count": 16,
     "metadata": {},
     "output_type": "execute_result"
    },
    {
     "data": {
      "text/plain": [
       "RMSE on valid: 3.9523105246215\t\n",
       "Epoch 15: 39.288264036179\t\n"
      ]
     },
     "execution_count": 16,
     "metadata": {},
     "output_type": "execute_result"
    }
   ],
   "source": [
    "torch.manualSeed(1)\n",
    "nnlm4, crit = build_model(N-1, 49, 2, 20, 80)\n",
    "perp_train_6, rmse_valid_6 = train_model(train_input, train_output, nnlm4, crit, N-1, 2, 0.01, 15, 20, input_data_valid_space, input_data_valid)"
   ]
  },
  {
   "cell_type": "code",
   "execution_count": 17,
   "metadata": {
    "collapsed": true
   },
   "outputs": [],
   "source": [
    "myFile = hdf5.open('toplot2.f5', 'w')\n",
    "myFile:write('perp6', perp_train_6)\n",
    "myFile:write('rmse6', rmse_valid_6)\n",
    "myFile:close()"
   ]
  },
  {
   "cell_type": "code",
   "execution_count": null,
   "metadata": {
    "collapsed": true
   },
   "outputs": [],
   "source": []
  }
 ],
 "metadata": {
  "kernelspec": {
   "display_name": "iTorch",
   "language": "lua",
   "name": "itorch"
  },
  "language_info": {
   "name": "lua",
   "version": "20100"
  }
 },
 "nbformat": 4,
 "nbformat_minor": 0
}
