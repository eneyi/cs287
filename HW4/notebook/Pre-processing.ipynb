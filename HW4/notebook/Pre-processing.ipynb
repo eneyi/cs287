{
 "cells": [
  {
   "cell_type": "code",
   "execution_count": 12,
   "metadata": {
    "collapsed": true
   },
   "outputs": [],
   "source": [
    "import numpy as np\n",
    "from collections import Counter"
   ]
  },
  {
   "cell_type": "code",
   "execution_count": 6,
   "metadata": {
    "collapsed": false
   },
   "outputs": [],
   "source": [
    "# Contain the list of characters indices in the data\n",
    "input_data = []\n",
    "# Index of <space> set to 0\n",
    "char_to_ind = {'<space>':0}\n",
    "count = 1\n",
    "with open('../data/train_chars.txt', 'r') as f:\n",
    "    # Loop to index the char and store them inside the input\n",
    "    for line in f:\n",
    "        for c in line[:-1].split(' '):\n",
    "            # Input data\n",
    "            if c in char_to_ind:\n",
    "                input_data.append(char_to_ind[c])\n",
    "            else:\n",
    "                char_to_ind[c] = count\n",
    "                count += 1\n",
    "                input_data.append(char_to_ind[c])\n"
   ]
  },
  {
   "cell_type": "code",
   "execution_count": 7,
   "metadata": {
    "collapsed": false
   },
   "outputs": [
    {
     "ename": "NameError",
     "evalue": "name 'n' is not defined",
     "output_type": "error",
     "traceback": [
      "\u001b[0;31m---------------------------------------------------------------------------\u001b[0m",
      "\u001b[0;31mNameError\u001b[0m                                 Traceback (most recent call last)",
      "\u001b[0;32m<ipython-input-7-bed082e8492d>\u001b[0m in \u001b[0;36m<module>\u001b[0;34m()\u001b[0m\n\u001b[1;32m      1\u001b[0m \u001b[0;31m# Build the input matrix: (num_records, n-1)\u001b[0m\u001b[0;34m\u001b[0m\u001b[0;34m\u001b[0m\u001b[0m\n\u001b[1;32m      2\u001b[0m \u001b[0;31m# and output (num_records,1) which stores the output for the given (n-1)gram\u001b[0m\u001b[0;34m\u001b[0m\u001b[0;34m\u001b[0m\u001b[0m\n\u001b[0;32m----> 3\u001b[0;31m \u001b[0minput_matrix\u001b[0m \u001b[0;34m=\u001b[0m \u001b[0mnp\u001b[0m\u001b[0;34m.\u001b[0m\u001b[0mzeros\u001b[0m\u001b[0;34m(\u001b[0m\u001b[0;34m(\u001b[0m\u001b[0mlen\u001b[0m\u001b[0;34m(\u001b[0m\u001b[0minput_data\u001b[0m\u001b[0;34m)\u001b[0m\u001b[0;34m-\u001b[0m\u001b[0mn\u001b[0m\u001b[0;34m,\u001b[0m \u001b[0mn\u001b[0m\u001b[0;34m-\u001b[0m\u001b[0;36m1\u001b[0m\u001b[0;34m)\u001b[0m\u001b[0;34m)\u001b[0m\u001b[0;34m\u001b[0m\u001b[0m\n\u001b[0m\u001b[1;32m      4\u001b[0m \u001b[0moutput_matrix\u001b[0m \u001b[0;34m=\u001b[0m \u001b[0mnp\u001b[0m\u001b[0;34m.\u001b[0m\u001b[0mzeros\u001b[0m\u001b[0;34m(\u001b[0m\u001b[0mlen\u001b[0m\u001b[0;34m(\u001b[0m\u001b[0minput_data\u001b[0m\u001b[0;34m)\u001b[0m\u001b[0;34m-\u001b[0m\u001b[0mn\u001b[0m\u001b[0;34m)\u001b[0m\u001b[0;34m\u001b[0m\u001b[0m\n\u001b[1;32m      5\u001b[0m \u001b[0;32mfor\u001b[0m \u001b[0mi\u001b[0m \u001b[0;32min\u001b[0m \u001b[0mxrange\u001b[0m\u001b[0;34m(\u001b[0m\u001b[0mlen\u001b[0m\u001b[0;34m(\u001b[0m\u001b[0minput_data\u001b[0m\u001b[0;34m)\u001b[0m\u001b[0;34m-\u001b[0m\u001b[0mn\u001b[0m\u001b[0;34m)\u001b[0m\u001b[0;34m:\u001b[0m\u001b[0;34m\u001b[0m\u001b[0m\n",
      "\u001b[0;31mNameError\u001b[0m: name 'n' is not defined"
     ]
    }
   ],
   "source": [
    "# Build the input matrix: (num_records, n-1)\n",
    "# and output (num_records,1) which stores the output for the given (n-1)gram\n",
    "input_matrix = np.zeros((len(input_data)-n, n-1))\n",
    "output_matrix = np.zeros(len(input_data)-n)\n",
    "for i in xrange(len(input_data)-n):\n",
    "    # Countext is a (n-1)gram\n",
    "    w = input_data[i:i+(n-1)]\n",
    "    input_matrix[i,:] = w\n",
    "    output_matrix[i] = (1 if input_data[i+n]==0 else 2)"
   ]
  },
  {
   "cell_type": "code",
   "execution_count": 9,
   "metadata": {
    "collapsed": true
   },
   "outputs": [],
   "source": [
    "def get_input(filename,n,char_to_ind=None):\n",
    "    # Contain the list of characters indices in the data\n",
    "    # initialized with a padding\n",
    "    if n > 2:\n",
    "        input_data = [1]*(n-2)\n",
    "    else:\n",
    "        input_data = []\n",
    "    if char_to_ind is None:\n",
    "        # Map each character to an index with\n",
    "        # Index of <space> set to 0\n",
    "        char_to_ind = {'<space>':0, '</s>':1}\n",
    "        count = 2\n",
    "    with open(filename, 'r') as f:\n",
    "        # Loop to index the char and store them inside the input\n",
    "        for line in f:\n",
    "            for c in line[:-1].split(' '):\n",
    "                # Input data\n",
    "                if c in char_to_ind:\n",
    "                    input_data.append(char_to_ind[c])\n",
    "                else:\n",
    "                    char_to_ind[c] = count\n",
    "                    count += 1\n",
    "                    input_data.append(char_to_ind[c])\n",
    "    return input_data, char_to_ind"
   ]
  },
  {
   "cell_type": "code",
   "execution_count": 91,
   "metadata": {
    "collapsed": true
   },
   "outputs": [],
   "source": [
    "input_data, char_to_ind = get_input('../data/train_chars.txt',n=4)"
   ]
  },
  {
   "cell_type": "code",
   "execution_count": 10,
   "metadata": {
    "collapsed": true
   },
   "outputs": [],
   "source": [
    "def get_input(filename, n, char_to_ind=None):\n",
    "    # Contain the list of characters indices in the data\n",
    "    # initialized with a padding\n",
    "    if n > 2:\n",
    "        input_data = [2]*(n-2)\n",
    "    else:\n",
    "        input_data = []\n",
    "    if char_to_ind is None:\n",
    "        # Map each character to an index with\n",
    "        # Index of <space> set to 1\n",
    "        char_to_ind = {'<space>': 1, '</s>': 2}\n",
    "        count = 3\n",
    "    with open(filename, 'r') as f:\n",
    "        # Loop to index the char and store them inside the input\n",
    "        for line in f:\n",
    "            for c in line[:-1].split(' '):\n",
    "                # Input data\n",
    "                if c in char_to_ind:\n",
    "                    input_data.append(char_to_ind[c])\n",
    "                else:\n",
    "                    char_to_ind[c] = count\n",
    "                    count += 1\n",
    "                    input_data.append(char_to_ind[c])\n",
    "    return input_data, char_to_ind\n",
    "\n",
    "\n",
    "def build_train_data(input_data, n):\n",
    "    # Build the input matrix: (num_records, n-1)\n",
    "    # and the output vector (num_records,1)\n",
    "    # which stores the output for the given (n-1)gram\n",
    "    input_matrix = np.zeros((len(input_data)-n, n-1))\n",
    "    output_matrix = np.zeros(len(input_data)-n)\n",
    "    for i in xrange(len(input_data)-n):\n",
    "        # Countext is a (n-1)gram\n",
    "        w = input_data[i:i+(n-1)]\n",
    "        input_matrix[i, :] = w\n",
    "        output_matrix[i] = (1 if input_data[i+(n-1)] == 1 else 2)\n",
    "    return input_matrix, output_matrix\n",
    "\n",
    "\n",
    "def build_count_matrix(input_matrix, output_matrix, n):\n",
    "    count_matrix_raw = np.concatenate((input_matrix,\n",
    "                                       output_matrix.reshape(output_matrix.shape[0], 1)), axis=1)\n",
    "\n",
    "    num_rows = len(set([tuple(s) for s in input_matrix]))\n",
    "    count = Counter([tuple(s) for s in count_matrix_raw])\n",
    "\n",
    "    # count matrix: (num_(n-1grams, 2))\n",
    "    F = np.zeros((num_rows, n + 1))\n",
    "    gram_to_ind = {}\n",
    "    i = 0\n",
    "    for k, v in count.iteritems():\n",
    "        gram = k[:(n-1)]\n",
    "        if gram not in gram_to_ind:\n",
    "            gram_to_ind[gram] = i\n",
    "            i += 1\n",
    "        F[gram_to_ind[gram], n-1 + int(k[-1]) - 1] = v\n",
    "        F[gram_to_ind[gram], :n-1] = list(gram)\n",
    "\n",
    "    return F"
   ]
  },
  {
   "cell_type": "code",
   "execution_count": 13,
   "metadata": {
    "collapsed": false
   },
   "outputs": [],
   "source": [
    "train = '../data/train_chars.txt'\n",
    "valid = '../data/valid_chars.txt'\n",
    "N = 2\n",
    "\n",
    "input_data_train, char_to_ind = get_input(train, N)\n",
    "input_data_valid, char_to_ind = get_input(valid, N, char_to_ind)\n",
    "input_matrix_train, output_matrix_train = build_train_data(\n",
    "    input_data_train, N)\n",
    "F_train = build_count_matrix(input_matrix_train, output_matrix_train, N)\n"
   ]
  },
  {
   "cell_type": "code",
   "execution_count": 14,
   "metadata": {
    "collapsed": false
   },
   "outputs": [
    {
     "data": {
      "text/plain": [
       "{'#': 47,\n",
       " '$': 40,\n",
       " '&': 39,\n",
       " \"'\": 34,\n",
       " '-': 24,\n",
       " '.': 33,\n",
       " '/': 49,\n",
       " '0': 38,\n",
       " '1': 35,\n",
       " '2': 42,\n",
       " '3': 41,\n",
       " '4': 43,\n",
       " '5': 37,\n",
       " '6': 45,\n",
       " '7': 46,\n",
       " '8': 44,\n",
       " '9': 36,\n",
       " '<': 28,\n",
       " '</s>': 2,\n",
       " '<space>': 1,\n",
       " '>': 29,\n",
       " 'N': 30,\n",
       " '\\\\': 48,\n",
       " 'a': 3,\n",
       " 'b': 6,\n",
       " 'c': 14,\n",
       " 'd': 23,\n",
       " 'e': 4,\n",
       " 'f': 19,\n",
       " 'g': 21,\n",
       " 'h': 22,\n",
       " 'i': 12,\n",
       " 'j': 31,\n",
       " 'k': 8,\n",
       " 'l': 11,\n",
       " 'm': 20,\n",
       " 'n': 7,\n",
       " 'o': 9,\n",
       " 'p': 26,\n",
       " 'q': 25,\n",
       " 'r': 5,\n",
       " 's': 18,\n",
       " 't': 10,\n",
       " 'u': 17,\n",
       " 'v': 32,\n",
       " 'w': 15,\n",
       " 'x': 27,\n",
       " 'y': 16,\n",
       " 'z': 13}"
      ]
     },
     "execution_count": 14,
     "metadata": {},
     "output_type": "execute_result"
    }
   ],
   "source": [
    "char_to_ind"
   ]
  },
  {
   "cell_type": "code",
   "execution_count": 153,
   "metadata": {
    "collapsed": false
   },
   "outputs": [
    {
     "data": {
      "text/plain": [
       "array([[ 18.,  18.,  16.,   1.,   0.,   6.],\n",
       "       [  4.,   6.,   4.,   7.,   0.,  11.],\n",
       "       [  4.,   4.,  10.,  18.,   9.,   3.],\n",
       "       ..., \n",
       "       [  9.,  10.,   1.,  17.,   0.,   2.],\n",
       "       [ 14.,   1.,  19.,   3.,   0.,   2.],\n",
       "       [ 25.,  17.,   3.,  10.,   0.,   6.]])"
      ]
     },
     "execution_count": 153,
     "metadata": {},
     "output_type": "execute_result"
    }
   ],
   "source": [
    "F_train"
   ]
  },
  {
   "cell_type": "code",
   "execution_count": 184,
   "metadata": {
    "collapsed": false
   },
   "outputs": [
    {
     "data": {
      "text/plain": [
       "{'#': 47,\n",
       " '$': 40,\n",
       " '&': 39,\n",
       " \"'\": 34,\n",
       " '-': 24,\n",
       " '.': 33,\n",
       " '/': 49,\n",
       " '0': 38,\n",
       " '1': 35,\n",
       " '2': 42,\n",
       " '3': 41,\n",
       " '4': 43,\n",
       " '5': 37,\n",
       " '6': 45,\n",
       " '7': 46,\n",
       " '8': 44,\n",
       " '9': 36,\n",
       " '<': 28,\n",
       " '</s>': 2,\n",
       " '<space>': 1,\n",
       " '>': 29,\n",
       " 'N': 30,\n",
       " '\\\\': 48,\n",
       " 'a': 3,\n",
       " 'b': 6,\n",
       " 'c': 14,\n",
       " 'd': 23,\n",
       " 'e': 4,\n",
       " 'f': 19,\n",
       " 'g': 21,\n",
       " 'h': 22,\n",
       " 'i': 12,\n",
       " 'j': 31,\n",
       " 'k': 8,\n",
       " 'l': 11,\n",
       " 'm': 20,\n",
       " 'n': 7,\n",
       " 'o': 9,\n",
       " 'p': 26,\n",
       " 'q': 25,\n",
       " 'r': 5,\n",
       " 's': 18,\n",
       " 't': 10,\n",
       " 'u': 17,\n",
       " 'v': 32,\n",
       " 'w': 15,\n",
       " 'x': 27,\n",
       " 'y': 16,\n",
       " 'z': 13}"
      ]
     },
     "execution_count": 184,
     "metadata": {},
     "output_type": "execute_result"
    }
   ],
   "source": [
    "char_to_ind"
   ]
  },
  {
   "cell_type": "code",
   "execution_count": null,
   "metadata": {
    "collapsed": true
   },
   "outputs": [],
   "source": []
  }
 ],
 "metadata": {
  "kernelspec": {
   "display_name": "Python 2",
   "language": "python",
   "name": "python2"
  },
  "language_info": {
   "codemirror_mode": {
    "name": "ipython",
    "version": 2
   },
   "file_extension": ".py",
   "mimetype": "text/x-python",
   "name": "python",
   "nbconvert_exporter": "python",
   "pygments_lexer": "ipython2",
   "version": "2.7.11"
  }
 },
 "nbformat": 4,
 "nbformat_minor": 0
}
