{
 "cells": [
  {
   "cell_type": "code",
   "execution_count": 1,
   "metadata": {
    "collapsed": true
   },
   "outputs": [],
   "source": [
    "require 'hdf5'\n",
    "require 'rnn'"
   ]
  },
  {
   "cell_type": "code",
   "execution_count": 2,
   "metadata": {
    "collapsed": false
   },
   "outputs": [],
   "source": [
    "N = 2\n",
    "myFile = hdf5.open('../data_preprocessed/'..tostring(N)..'-grams.hdf5','r')\n",
    "data = myFile:all()\n",
    "F_train = data['F_train']\n",
    "input_data_valid = data['input_data_valid']\n",
    "output_matrix_train = data['output_matrix_train']\n",
    "input_matrix_train = data['input_matrix_train']\n",
    "input_data_train = data['input_data_train']\n",
    "input_data_valid_nospace = data['input_data_valid_nospace']\n",
    "input_data_test = data['input_data_test']\n",
    "myFile:close()"
   ]
  },
  {
   "cell_type": "code",
   "execution_count": 3,
   "metadata": {
    "collapsed": false
   },
   "outputs": [
    {
     "data": {
      "text/plain": [
       " 599903\n",
       "      1\n",
       "[torch.LongStorage of size 2]\n",
       "\n",
       " 599903\n",
       "[torch.LongStorage of size 1]\n",
       "\n",
       " 599905\n",
       "[torch.LongStorage of size 1]\n",
       "\n"
      ]
     },
     "execution_count": 3,
     "metadata": {},
     "output_type": "execute_result"
    }
   ],
   "source": [
    "print(input_matrix_train:size())\n",
    "print(output_matrix_train:size())\n",
    "print(input_data_train:size())"
   ]
  },
  {
   "cell_type": "code",
   "execution_count": 449,
   "metadata": {
    "collapsed": true
   },
   "outputs": [],
   "source": [
    "-- Formating the input\n",
    "-- input is a 1d tensor\n",
    "function get_train_input(input, len, batch_size)\n",
    "    -- Building output (we put predict a padding at the end)\n",
    "    local n = input:size(1)\n",
    "    \n",
    "    -- Get the closer multiple of batch_size*len below n\n",
    "    local factor = -math.floor(-n/(len*batch_size))\n",
    "    local n_new = factor*len*batch_size\n",
    "    local input_new = torch.DoubleTensor(n_new)\n",
    "    local t_input, t_output\n",
    "    input_new:narrow(1,1,n):copy(input)\n",
    "    input_new:narrow(1,n,n_new-n+1):fill(2) -- Filling with padding\n",
    "    \n",
    "    -- Building output\n",
    "    local output = get_output(input_new)\n",
    "\n",
    "    -- Issue with last sequence if batch_size does not divide n\n",
    "    t_input = torch.split(input_new:view(batch_size,n_new/batch_size),len, 2)\n",
    "    t_output = torch.split(output:view(batch_size,n_new/batch_size),len, 2)\n",
    "    return t_input, t_output\n",
    "end \n",
    "\n",
    "function get_output(input)\n",
    "    local n = input:size(1)\n",
    "    local output = torch.DoubleTensor(n)\n",
    "    for i=2, n do\n",
    "        if input_new[i] ~= 1 then\n",
    "            output[i-1] = 2\n",
    "        else\n",
    "            output[i-1] = input[i]\n",
    "        end\n",
    "    end\n",
    "    output[n] = 2\n",
    "    return output\n",
    "end"
   ]
  },
  {
   "cell_type": "code",
   "execution_count": 281,
   "metadata": {
    "collapsed": false
   },
   "outputs": [],
   "source": [
    "function build_RNN(embed_dim, rho)\n",
    "    return nn.Recurrent(embed_dim, nn.Linear(embed_dim, embed_dim),nn.Linear(embed_dim, embed_dim), nn.Tanh(), rho)\n",
    "end\n",
    "\n",
    "function build_LSTM(embed_dim, rho)\n",
    "    return nn.FastLSTM(embed_dim, embed_dim, rho)\n",
    "end\n",
    "\n",
    "function build_GRU(embed_dim, rho, dropout_p)\n",
    "    return nn.GRU(embed_dim, embed_dim, rho,dropout_p)\n",
    "end\n",
    "\n",
    "function build_rnn(embed_dim, vocab_size, batch_size, recurrent_model, len)\n",
    "    local batchRNN\n",
    "    local params\n",
    "    local grad_params\n",
    "    -- generic RNN transduced\n",
    "    batchRNN = nn.Sequential()\n",
    "        :add(nn.LookupTable(vocab_size, embed_dim))\n",
    "        :add(nn.SplitTable(1, batch_size))\n",
    "    local rec = nn.Sequencer(recurrent_model)\n",
    "    rec:remember('both')\n",
    "    \n",
    "    batchRNN:add(rec)\n",
    "    \n",
    "    -- Output\n",
    "    batchRNN:add(nn.Sequencer(nn.Linear(embed_dim, 2)))\n",
    "    batchRNN:add(nn.Sequencer(nn.LogSoftMax()))\n",
    "\n",
    "    -- Retrieve parameters (To do only once!!!)\n",
    "    params, grad_params = batchRNN:getParameters()\n",
    "    -- Initializing all the parameters between -0.05 and 0.05\n",
    "    for k=1,params:size(1) do\n",
    "        params[k] = torch.uniform(-0.05,0.05)\n",
    "    end\n",
    "    \n",
    "    return batchRNN, params, grad_params\n",
    "end"
   ]
  },
  {
   "cell_type": "code",
   "execution_count": 158,
   "metadata": {
    "collapsed": false
   },
   "outputs": [],
   "source": [
    "-- Building output valid matrix\n",
    "output_valid = torch.DoubleTensor(input_data_valid:size(1))\n",
    "for i=2, input_data_valid:size(1) do\n",
    "    if input_data_valid[i] ~= 1 then\n",
    "        output_valid[i-1] = 2\n",
    "    else\n",
    "        output_valid[i-1] = input_data_valid[i]\n",
    "    end\n",
    "end"
   ]
  },
  {
   "cell_type": "markdown",
   "metadata": {},
   "source": [
    "# Training"
   ]
  },
  {
   "cell_type": "code",
   "execution_count": 8,
   "metadata": {
    "collapsed": false
   },
   "outputs": [],
   "source": [
    "function train_model(t_input, t_output, model, params, grad_params,\n",
    "                     criterion, eta, nEpochs, batch_size, len, n)\n",
    "    -- Train the model with a mini batch SGD\n",
    "    -- standard parameters are\n",
    "    -- nEpochs = 1\n",
    "    -- batchSize = 32\n",
    "    -- eta = 0.01\n",
    "    local timer\n",
    "    local pred\n",
    "    local loss\n",
    "    local dLdPred\n",
    "    local t_inputT = torch.DoubleTensor(len,batch_size)\n",
    "    local t_output_table\n",
    "    local delta = 0.2\n",
    "\n",
    "    -- To store the loss\n",
    "    local av_L = 0\n",
    "\n",
    "    for i = 1, nEpochs do\n",
    "        -- timing the epoch\n",
    "        timer = torch.Timer()\n",
    "        old_L = av_L\n",
    "        av_L = 0\n",
    "        \n",
    "        -- mini batch loop\n",
    "        for k = 1, n/(batch_size * len) do\n",
    "            -- Mini batch data\n",
    "                \n",
    "            t_inputT:copy(t_input[k]:t())\n",
    "            t_output_table = torch.split(t_output[k],1,2)\n",
    "            --format the output\n",
    "            for j=1,len do\n",
    "                t_output_table[j] = t_output_table[j]:squeeze()\n",
    "            end \n",
    "            \n",
    "            -- reset gradients\n",
    "            grad_params:zero()\n",
    "            \n",
    "            -- Forward loop\n",
    "            pred = model:forward(t_inputT)\n",
    "            loss = criterion:forward(pred, t_output_table)\n",
    "            av_L = av_L + loss\n",
    "\n",
    "            -- Backward loop\n",
    "            dLdPred = criterion:backward(pred, t_output_table)\n",
    "            model:backward(t_inputT, dLdPred)\n",
    "            \n",
    "            -- gradient normalization with max norm 5 (l2 norm)\n",
    "            grad_params:view(grad_params:size(1),1):renorm(1,2,5)\n",
    "            model:updateParameters(eta)\n",
    "            \n",
    "        end\n",
    "            \n",
    "        print('Epoch '..i..': '..timer:time().real)\n",
    "        print('Average Loss: '..av_L/math.floor(n/batch_size))\n",
    "        \n",
    "    end\n",
    "    \n",
    "    if (old_L - av_L) < delta then\n",
    "        eta = eta/2\n",
    "        delta = delta/2\n",
    "    end\n",
    "    \n",
    "    if (eta < 0.001) then eta = 0.1 end\n",
    "end"
   ]
  },
  {
   "cell_type": "code",
   "execution_count": 198,
   "metadata": {
    "collapsed": true
   },
   "outputs": [],
   "source": [
    "function train_model_with_perp(t_input, t_output, model, model_flattened, params_flattened,\n",
    "        params, grad_params, criterion, eta, nEpochs, batch_size, len, n, input_valid, output_valid, step)\n",
    "    -- Train the model with a mini batch SGD\n",
    "    -- standard parameters are\n",
    "    -- nEpochs = 1\n",
    "    -- batchSize = 32\n",
    "    -- eta = 0.01\n",
    "    local timer\n",
    "    local pred\n",
    "    local loss\n",
    "    local dLdPred\n",
    "    local t_inputT = torch.DoubleTensor(len,batch_size)\n",
    "    local t_output_table\n",
    "    local size\n",
    "\n",
    "    -- To store the loss\n",
    "    local av_L = 0\n",
    "    local perp = 0\n",
    "    local old_perp = 0\n",
    "\n",
    "    for i = 1, nEpochs do\n",
    "        -- timing the epoch\n",
    "        timer = torch.Timer()\n",
    "        old_L = av_L\n",
    "        old_perp = perp\n",
    "        av_L = 0\n",
    "        \n",
    "        -- mini batch loop\n",
    "        for k = 1, n/(batch_size * len) do\n",
    "            -- Mini batch data\n",
    "                \n",
    "            t_inputT:copy(t_input[k]:t())\n",
    "            t_output_table = torch.split(t_output[k],1,2)\n",
    "            --format the output\n",
    "            for j=1,len do\n",
    "                t_output_table[j] = t_output_table[j]:squeeze()\n",
    "            end \n",
    "            \n",
    "            -- reset gradients\n",
    "            grad_params:zero()\n",
    "            \n",
    "            -- Forward loop\n",
    "            pred = model:forward(t_inputT)\n",
    "            loss = criterion:forward(pred, t_output_table)\n",
    "            av_L = av_L + loss\n",
    "\n",
    "            -- Backward loop\n",
    "            dLdPred = criterion:backward(pred, t_output_table)\n",
    "            model:backward(t_inputT, dLdPred)\n",
    "            \n",
    "            -- gradient normalization with max norm 5 (l2 norm)\n",
    "            grad_params:view(grad_params:size(1),1):renorm(1,2,5)\n",
    "            model:updateParameters(eta)\n",
    "            \n",
    "        end\n",
    "            \n",
    "        print('Epoch '..i..': '..timer:time().real)\n",
    "        print('Average Loss: '..av_L/math.floor(n/batch_size))\n",
    "        -- Print perplexity validity every step of iteration\n",
    "        if (i%step == 0) then\n",
    "            size = input_valid:size(1) - 1\n",
    "            params_flattened:copy(params)\n",
    "            perp = compute_perplexity(input_valid:narrow(1,1,size):view(size,1), output_valid, model_flattened)\n",
    "            print('Valid perplexity: '..perp)\n",
    "            \n",
    "            if old_perp - perp < 0 then\n",
    "                eta = eta/2\n",
    "            end\n",
    "\n",
    "            if (eta < 0.0001) then eta = 0.1 end\n",
    "\n",
    "        end\n",
    "    end\n",
    "end"
   ]
  },
  {
   "cell_type": "code",
   "execution_count": 142,
   "metadata": {
    "collapsed": true
   },
   "outputs": [],
   "source": [
    "-- Building model\n",
    "batchRNN, params, grad_params = build_rnn(embed_dim, vocab_size, len)\n",
    "batchRNN_valid, params_valid, grad_params_valid = build_rnn(embed_dim, vocab_size, 1, len)\n",
    "\n",
    "crit = nn.SequencerCriterion(nn.ClassNLLCriterion())"
   ]
  },
  {
   "cell_type": "code",
   "execution_count": 19,
   "metadata": {
    "collapsed": false
   },
   "outputs": [
    {
     "data": {
      "text/plain": [
       "Epoch 1: 6.8074369430542\t\n",
       "Average Loss: 0.31228050204274\t\n"
      ]
     },
     "execution_count": 19,
     "metadata": {},
     "output_type": "execute_result"
    },
    {
     "data": {
      "text/plain": [
       "Epoch 2: 6.7043259143829\t\n",
       "Average Loss: 0.26151257461365\t\n"
      ]
     },
     "execution_count": 19,
     "metadata": {},
     "output_type": "execute_result"
    },
    {
     "data": {
      "text/plain": [
       "Epoch 3: 6.2467911243439\t\n",
       "Average Loss: 0.23146731025455\t\n"
      ]
     },
     "execution_count": 19,
     "metadata": {},
     "output_type": "execute_result"
    }
   ],
   "source": [
    "nEpochs = 3\n",
    "train_model(t_input, t_output, batchRNN, params, grad_params,\n",
    "                     crit, eta, nEpochs, batch_size, len, n_new)"
   ]
  },
  {
   "cell_type": "code",
   "execution_count": 94,
   "metadata": {
    "collapsed": false
   },
   "outputs": [
    {
     "data": {
      "text/plain": [
       "Epoch 1: 6.0373430252075\t\n",
       "Average Loss: 0.31127603024063\t\n"
      ]
     },
     "execution_count": 94,
     "metadata": {},
     "output_type": "execute_result"
    },
    {
     "data": {
      "text/plain": [
       "Valid perplexity: 1.3167066034457\t\n"
      ]
     },
     "execution_count": 94,
     "metadata": {},
     "output_type": "execute_result"
    },
    {
     "data": {
      "text/plain": [
       "Epoch 2: 6.0228929519653\t\n",
       "Average Loss: 0.2595806616951\t\n"
      ]
     },
     "execution_count": 94,
     "metadata": {},
     "output_type": "execute_result"
    },
    {
     "data": {
      "text/plain": [
       "Valid perplexity: 1.272589419065\t\n"
      ]
     },
     "execution_count": 94,
     "metadata": {},
     "output_type": "execute_result"
    },
    {
     "data": {
      "text/plain": [
       "Epoch 3: 6.0724031925201\t\n",
       "Average Loss: 0.23316074090171\t\n"
      ]
     },
     "execution_count": 94,
     "metadata": {},
     "output_type": "execute_result"
    },
    {
     "data": {
      "text/plain": [
       "Valid perplexity: 1.2505899734403\t\n"
      ]
     },
     "execution_count": 94,
     "metadata": {},
     "output_type": "execute_result"
    },
    {
     "data": {
      "text/plain": [
       "Epoch 4: 6.7879350185394\t\n",
       "Average Loss: 0.21455134532284\t\n"
      ]
     },
     "execution_count": 94,
     "metadata": {},
     "output_type": "execute_result"
    },
    {
     "data": {
      "text/plain": [
       "Valid perplexity: 1.2305572804994\t\n"
      ]
     },
     "execution_count": 94,
     "metadata": {},
     "output_type": "execute_result"
    },
    {
     "data": {
      "text/plain": [
       "Epoch 5: 6.1380410194397\t\n",
       "Average Loss: 0.20159015092112\t\n"
      ]
     },
     "execution_count": 94,
     "metadata": {},
     "output_type": "execute_result"
    },
    {
     "data": {
      "text/plain": [
       "Valid perplexity: 1.2191191235031\t\n"
      ]
     },
     "execution_count": 94,
     "metadata": {},
     "output_type": "execute_result"
    },
    {
     "data": {
      "text/plain": [
       "Epoch 6: 6.0522859096527\t\n",
       "Average Loss: 0.19299361409045\t\n"
      ]
     },
     "execution_count": 94,
     "metadata": {},
     "output_type": "execute_result"
    },
    {
     "data": {
      "text/plain": [
       "Valid perplexity: 1.2106942406731\t\n"
      ]
     },
     "execution_count": 94,
     "metadata": {},
     "output_type": "execute_result"
    },
    {
     "data": {
      "text/plain": [
       "Epoch 7: 6.0655410289764\t\n",
       "Average Loss: 0.18630843005958\t\n"
      ]
     },
     "execution_count": 94,
     "metadata": {},
     "output_type": "execute_result"
    },
    {
     "data": {
      "text/plain": [
       "Valid perplexity: 1.2040019027776\t\n"
      ]
     },
     "execution_count": 94,
     "metadata": {},
     "output_type": "execute_result"
    },
    {
     "data": {
      "text/plain": [
       "Epoch 8: 6.0618779659271\t\n",
       "Average Loss: 0.18083623497307\t\n"
      ]
     },
     "execution_count": 94,
     "metadata": {},
     "output_type": "execute_result"
    },
    {
     "data": {
      "text/plain": [
       "Valid perplexity: 1.1988415676649\t\n"
      ]
     },
     "execution_count": 94,
     "metadata": {},
     "output_type": "execute_result"
    },
    {
     "data": {
      "text/plain": [
       "Epoch 9: 6.0254361629486\t\n",
       "Average Loss: 0.17666558202226\t\n"
      ]
     },
     "execution_count": 94,
     "metadata": {},
     "output_type": "execute_result"
    },
    {
     "data": {
      "text/plain": [
       "Valid perplexity: 1.1948545425466\t\n"
      ]
     },
     "execution_count": 94,
     "metadata": {},
     "output_type": "execute_result"
    },
    {
     "data": {
      "text/plain": [
       "Epoch 10: 6.0559229850769\t\n",
       "Average Loss: 0.17341161985071\t\n"
      ]
     },
     "execution_count": 94,
     "metadata": {},
     "output_type": "execute_result"
    },
    {
     "data": {
      "text/plain": [
       "Valid perplexity: 1.191752075552\t\n"
      ]
     },
     "execution_count": 94,
     "metadata": {},
     "output_type": "execute_result"
    }
   ],
   "source": [
    "nEpochs = 10\n",
    "train_model_with_perp(t_input, t_output, batchRNN, batchRNN_valid, params_valid,\n",
    "        params, grad_params, crit, eta, nEpochs, batch_size, len, n, input_data_valid, output_valid)"
   ]
  },
  {
   "cell_type": "code",
   "execution_count": 96,
   "metadata": {
    "collapsed": false
   },
   "outputs": [
    {
     "data": {
      "text/plain": [
       "Epoch 1: 6.1608598232269\t\n",
       "Average Loss: 0.17066010915357\t\n"
      ]
     },
     "execution_count": 96,
     "metadata": {},
     "output_type": "execute_result"
    },
    {
     "data": {
      "text/plain": [
       "Valid perplexity: 1.1893514698956\t\n"
      ]
     },
     "execution_count": 96,
     "metadata": {},
     "output_type": "execute_result"
    },
    {
     "data": {
      "text/plain": [
       "Epoch 2: 6.0460610389709\t\n",
       "Average Loss: 0.16842283821082\t\n"
      ]
     },
     "execution_count": 96,
     "metadata": {},
     "output_type": "execute_result"
    },
    {
     "data": {
      "text/plain": [
       "Valid perplexity: 1.1876828130608\t\n"
      ]
     },
     "execution_count": 96,
     "metadata": {},
     "output_type": "execute_result"
    },
    {
     "data": {
      "text/plain": [
       "Epoch 3: 6.1154489517212\t\n",
       "Average Loss: 0.16659270468897\t\n"
      ]
     },
     "execution_count": 96,
     "metadata": {},
     "output_type": "execute_result"
    },
    {
     "data": {
      "text/plain": [
       "Valid perplexity: 1.1864067460075\t\n"
      ]
     },
     "execution_count": 96,
     "metadata": {},
     "output_type": "execute_result"
    },
    {
     "data": {
      "text/plain": [
       "Epoch 4: 6.0670311450958\t\n",
       "Average Loss: 0.16518998250815\t\n"
      ]
     },
     "execution_count": 96,
     "metadata": {},
     "output_type": "execute_result"
    },
    {
     "data": {
      "text/plain": [
       "Valid perplexity: 1.1853287486702\t\n"
      ]
     },
     "execution_count": 96,
     "metadata": {},
     "output_type": "execute_result"
    },
    {
     "data": {
      "text/plain": [
       "Epoch 5: 6.1075801849365\t\n",
       "Average Loss: 0.16408510411659\t\n"
      ]
     },
     "execution_count": 96,
     "metadata": {},
     "output_type": "execute_result"
    },
    {
     "data": {
      "text/plain": [
       "Valid perplexity: 1.1845620295284\t\n"
      ]
     },
     "execution_count": 96,
     "metadata": {},
     "output_type": "execute_result"
    },
    {
     "data": {
      "text/plain": [
       "Epoch 6: 6.3404068946838\t\n",
       "Average Loss: 0.16316840120459\t\n"
      ]
     },
     "execution_count": 96,
     "metadata": {},
     "output_type": "execute_result"
    },
    {
     "data": {
      "text/plain": [
       "Valid perplexity: 1.1840970283144\t\n"
      ]
     },
     "execution_count": 96,
     "metadata": {},
     "output_type": "execute_result"
    },
    {
     "data": {
      "text/plain": [
       "Epoch 7: 6.0670158863068\t\n",
       "Average Loss: 0.16239600637254\t\n"
      ]
     },
     "execution_count": 96,
     "metadata": {},
     "output_type": "execute_result"
    },
    {
     "data": {
      "text/plain": [
       "Valid perplexity: 1.1837860540369\t\n"
      ]
     },
     "execution_count": 96,
     "metadata": {},
     "output_type": "execute_result"
    },
    {
     "data": {
      "text/plain": [
       "Epoch 8: 6.0414438247681\t\n"
      ]
     },
     "execution_count": 96,
     "metadata": {},
     "output_type": "execute_result"
    },
    {
     "data": {
      "text/plain": [
       "Average Loss: 0.16169741966653\t\n"
      ]
     },
     "execution_count": 96,
     "metadata": {},
     "output_type": "execute_result"
    },
    {
     "data": {
      "text/plain": [
       "Valid perplexity: 1.1833747002796\t\n"
      ]
     },
     "execution_count": 96,
     "metadata": {},
     "output_type": "execute_result"
    },
    {
     "data": {
      "text/plain": [
       "Epoch 9: 6.0382349491119\t\n",
       "Average Loss: 0.16102260010531\t\n"
      ]
     },
     "execution_count": 96,
     "metadata": {},
     "output_type": "execute_result"
    },
    {
     "data": {
      "text/plain": [
       "Valid perplexity: 1.1828553687182\t\n"
      ]
     },
     "execution_count": 96,
     "metadata": {},
     "output_type": "execute_result"
    },
    {
     "data": {
      "text/plain": [
       "Epoch 10: 6.026673078537\t\n",
       "Average Loss: 0.16036868317739\t\n"
      ]
     },
     "execution_count": 96,
     "metadata": {},
     "output_type": "execute_result"
    },
    {
     "data": {
      "text/plain": [
       "Valid perplexity: 1.1826217175028\t\n"
      ]
     },
     "execution_count": 96,
     "metadata": {},
     "output_type": "execute_result"
    }
   ],
   "source": [
    "nEpochs = 10\n",
    "train_model_with_perp(t_input, t_output, batchRNN, batchRNN_valid, params_valid,\n",
    "        params, grad_params, crit, eta, nEpochs, batch_size, len, n, input_data_valid, output_valid)"
   ]
  },
  {
   "cell_type": "code",
   "execution_count": 97,
   "metadata": {
    "collapsed": false
   },
   "outputs": [
    {
     "data": {
      "text/plain": [
       "Epoch 1: 6.1355979442596\t\n",
       "Average Loss: 0.15972079728122\t\n"
      ]
     },
     "execution_count": 97,
     "metadata": {},
     "output_type": "execute_result"
    },
    {
     "data": {
      "text/plain": [
       "Valid perplexity: 1.1824428813963\t\n"
      ]
     },
     "execution_count": 97,
     "metadata": {},
     "output_type": "execute_result"
    },
    {
     "data": {
      "text/plain": [
       "Epoch 2: 6.4839720726013\t\n",
       "Average Loss: 0.15909980418245\t\n"
      ]
     },
     "execution_count": 97,
     "metadata": {},
     "output_type": "execute_result"
    },
    {
     "data": {
      "text/plain": [
       "Valid perplexity: 1.182109999531\t\n"
      ]
     },
     "execution_count": 97,
     "metadata": {},
     "output_type": "execute_result"
    },
    {
     "data": {
      "text/plain": [
       "Epoch 3: 6.2839608192444\t\n",
       "Average Loss: 0.15852116560753\t\n"
      ]
     },
     "execution_count": 97,
     "metadata": {},
     "output_type": "execute_result"
    },
    {
     "data": {
      "text/plain": [
       "Valid perplexity: 1.181668471896\t\n"
      ]
     },
     "execution_count": 97,
     "metadata": {},
     "output_type": "execute_result"
    },
    {
     "data": {
      "text/plain": [
       "Epoch 4: 6.2338001728058\t\n",
       "Average Loss: 0.15796460040097\t\n"
      ]
     },
     "execution_count": 97,
     "metadata": {},
     "output_type": "execute_result"
    },
    {
     "data": {
      "text/plain": [
       "Valid perplexity: 1.1811241082699\t\n"
      ]
     },
     "execution_count": 97,
     "metadata": {},
     "output_type": "execute_result"
    },
    {
     "data": {
      "text/plain": [
       "Epoch 5: 6.8121101856232\t\n",
       "Average Loss: 0.15744148391804\t\n"
      ]
     },
     "execution_count": 97,
     "metadata": {},
     "output_type": "execute_result"
    },
    {
     "data": {
      "text/plain": [
       "Valid perplexity: 1.1806673353204\t\n"
      ]
     },
     "execution_count": 97,
     "metadata": {},
     "output_type": "execute_result"
    },
    {
     "data": {
      "text/plain": [
       "Epoch 6: 6.2398941516876\t\n",
       "Average Loss: 0.15692715807122\t\n"
      ]
     },
     "execution_count": 97,
     "metadata": {},
     "output_type": "execute_result"
    },
    {
     "data": {
      "text/plain": [
       "Valid perplexity: 1.1801969411692\t\n"
      ]
     },
     "execution_count": 97,
     "metadata": {},
     "output_type": "execute_result"
    },
    {
     "data": {
      "text/plain": [
       "Epoch 7: 6.1931447982788\t\n",
       "Average Loss: 0.15642420072222\t\n"
      ]
     },
     "execution_count": 97,
     "metadata": {},
     "output_type": "execute_result"
    },
    {
     "data": {
      "text/plain": [
       "Valid perplexity: 1.1797258097392\t\n"
      ]
     },
     "execution_count": 97,
     "metadata": {},
     "output_type": "execute_result"
    },
    {
     "data": {
      "text/plain": [
       "Epoch 8: 6.2221410274506\t\n",
       "Average Loss: 0.15592075426583\t\n"
      ]
     },
     "execution_count": 97,
     "metadata": {},
     "output_type": "execute_result"
    },
    {
     "data": {
      "text/plain": [
       "Valid perplexity: 1.1796751236756\t\n"
      ]
     },
     "execution_count": 97,
     "metadata": {},
     "output_type": "execute_result"
    },
    {
     "data": {
      "text/plain": [
       "Epoch 9: 6.2164981365204\t\n",
       "Average Loss: 0.15546064818585\t\n"
      ]
     },
     "execution_count": 97,
     "metadata": {},
     "output_type": "execute_result"
    },
    {
     "data": {
      "text/plain": [
       "Valid perplexity: 1.179654980452\t\n"
      ]
     },
     "execution_count": 97,
     "metadata": {},
     "output_type": "execute_result"
    },
    {
     "data": {
      "text/plain": [
       "Epoch 10: 6.8618688583374\t\n",
       "Average Loss: 0.15505075502542\t\n"
      ]
     },
     "execution_count": 97,
     "metadata": {},
     "output_type": "execute_result"
    },
    {
     "data": {
      "text/plain": [
       "Valid perplexity: 1.1795317990726\t\n"
      ]
     },
     "execution_count": 97,
     "metadata": {},
     "output_type": "execute_result"
    }
   ],
   "source": [
    "nEpochs = 10\n",
    "train_model_with_perp(t_input, t_output, batchRNN, batchRNN_valid, params_valid,\n",
    "        params, grad_params, crit, eta, nEpochs, batch_size, len, n, input_data_valid, output_valid)"
   ]
  },
  {
   "cell_type": "markdown",
   "metadata": {},
   "source": [
    "# EXP RNN"
   ]
  },
  {
   "cell_type": "code",
   "execution_count": 436,
   "metadata": {
    "collapsed": false
   },
   "outputs": [],
   "source": [
    "len = 50\n",
    "batch_size = 4\n",
    "vocab_size = 49\n",
    "embed_dim = 20\n",
    "eta = 0.5\n",
    "nEpochs = 40\n",
    "\n",
    "t_input_new, t_output_new = get_train_input(input_data_train, len, batch_size)\n",
    "n_new = len * batch_size *(#t_input_new)\n",
    "print('Input size is '..n_new)"
   ]
  },
  {
   "cell_type": "code",
   "execution_count": 270,
   "metadata": {
    "collapsed": false
   },
   "outputs": [
    {
     "data": {
      "text/plain": [
       "Input size is 600000\t\n"
      ]
     },
     "execution_count": 270,
     "metadata": {},
     "output_type": "execute_result"
    }
   ],
   "source": [
    "-- Building model\n",
    "batchRNN, params, grad_params = build_rnn(embed_dim, vocab_size, batch_size, build_RNN(embed_dim, len), len)\n",
    "batchRNN_valid, params_valid, grad_params_valid = build_rnn(embed_dim, vocab_size, 1,build_RNN(embed_dim))\n",
    "\n",
    "crit = nn.SequencerCriterion(nn.ClassNLLCriterion())"
   ]
  },
  {
   "cell_type": "code",
   "execution_count": 271,
   "metadata": {
    "collapsed": false
   },
   "outputs": [
    {
     "data": {
      "text/plain": [
       "Epoch 1: 25.876962900162\t\n",
       "Average Loss: 0.26690913494538\t\n"
      ]
     },
     "execution_count": 271,
     "metadata": {},
     "output_type": "execute_result"
    },
    {
     "data": {
      "text/plain": [
       "Epoch 2: 25.171590089798\t\n",
       "Average Loss: 0.20740503567645\t\n"
      ]
     },
     "execution_count": 271,
     "metadata": {},
     "output_type": "execute_result"
    },
    {
     "data": {
      "text/plain": [
       "Epoch 3: 24.630791187286\t\n",
       "Average Loss: 0.18643517302651\t\n"
      ]
     },
     "execution_count": 271,
     "metadata": {},
     "output_type": "execute_result"
    },
    {
     "data": {
      "text/plain": [
       "Epoch 4: 25.385226964951\t\n",
       "Average Loss: 0.17807200826734\t\n"
      ]
     },
     "execution_count": 271,
     "metadata": {},
     "output_type": "execute_result"
    },
    {
     "data": {
      "text/plain": [
       "Epoch 5: 26.317702054977\t\n",
       "Average Loss: 0.17290693506462\t\n"
      ]
     },
     "execution_count": 271,
     "metadata": {},
     "output_type": "execute_result"
    },
    {
     "data": {
      "text/plain": [
       "Valid perplexity: 1.1970421011916\t\n"
      ]
     },
     "execution_count": 271,
     "metadata": {},
     "output_type": "execute_result"
    },
    {
     "data": {
      "text/plain": [
       "Epoch 6: 24.52170085907\t\n",
       "Average Loss: 0.1673060464136\t\n"
      ]
     },
     "execution_count": 271,
     "metadata": {},
     "output_type": "execute_result"
    },
    {
     "data": {
      "text/plain": [
       "Epoch 7: 24.278975009918\t\n",
       "Average Loss: 0.16566674484942\t\n"
      ]
     },
     "execution_count": 271,
     "metadata": {},
     "output_type": "execute_result"
    },
    {
     "data": {
      "text/plain": [
       "Epoch 8: 28.287208080292\t\n",
       "Average Loss: 0.16435510963808\t\n"
      ]
     },
     "execution_count": 271,
     "metadata": {},
     "output_type": "execute_result"
    },
    {
     "data": {
      "text/plain": [
       "Epoch 9: 32.050582170486\t\n",
       "Average Loss: 0.16316460718602\t"
      ]
     },
     "execution_count": 271,
     "metadata": {},
     "output_type": "execute_result"
    },
    {
     "data": {
      "text/plain": [
       "\n"
      ]
     },
     "execution_count": 271,
     "metadata": {},
     "output_type": "execute_result"
    },
    {
     "data": {
      "text/plain": [
       "Epoch 10: 25.480005025864\t\n",
       "Average Loss: 0.16213567361777\t\n"
      ]
     },
     "execution_count": 271,
     "metadata": {},
     "output_type": "execute_result"
    },
    {
     "data": {
      "text/plain": [
       "Valid perplexity: 1.1868415078835\t\n"
      ]
     },
     "execution_count": 271,
     "metadata": {},
     "output_type": "execute_result"
    },
    {
     "data": {
      "text/plain": [
       "Epoch 11: 24.611994981766\t\n",
       "Average Loss: 0.16118626629998\t\n"
      ]
     },
     "execution_count": 271,
     "metadata": {},
     "output_type": "execute_result"
    },
    {
     "data": {
      "text/plain": [
       "Epoch 12: 26.228096961975\t\n",
       "Average Loss: 0.16037952564425\t\n"
      ]
     },
     "execution_count": 271,
     "metadata": {},
     "output_type": "execute_result"
    },
    {
     "data": {
      "text/plain": [
       "Epoch 13: 31.00887298584\t\n",
       "Average Loss: 0.1597093858762\t\n"
      ]
     },
     "execution_count": 271,
     "metadata": {},
     "output_type": "execute_result"
    },
    {
     "data": {
      "text/plain": [
       "Epoch 14: 25.062748908997\t\n",
       "Average Loss: 0.15915718304179\t\n"
      ]
     },
     "execution_count": 271,
     "metadata": {},
     "output_type": "execute_result"
    },
    {
     "data": {
      "text/plain": [
       "Epoch 15: 25.973461866379\t\n",
       "Average Loss: 0.15864680840978\t\n"
      ]
     },
     "execution_count": 271,
     "metadata": {},
     "output_type": "execute_result"
    },
    {
     "data": {
      "text/plain": [
       "Valid perplexity: 1.1839163119006\t\n"
      ]
     },
     "execution_count": 271,
     "metadata": {},
     "output_type": "execute_result"
    },
    {
     "data": {
      "text/plain": [
       "Epoch 16: 26.059950113297\t\n",
       "Average Loss: 0.15818557140883\t\n"
      ]
     },
     "execution_count": 271,
     "metadata": {},
     "output_type": "execute_result"
    },
    {
     "data": {
      "text/plain": [
       "Epoch 17: 25.154232025146\t\n",
       "Average Loss: 0.15776211477455\t\n"
      ]
     },
     "execution_count": 271,
     "metadata": {},
     "output_type": "execute_result"
    },
    {
     "data": {
      "text/plain": [
       "Epoch 18: 25.887181043625\t\n",
       "Average Loss: 0.15734244795882\t\n"
      ]
     },
     "execution_count": 271,
     "metadata": {},
     "output_type": "execute_result"
    },
    {
     "data": {
      "text/plain": [
       "Epoch 19: 27.179241895676\t\n",
       "Average Loss: 0.15696521569348\t\n"
      ]
     },
     "execution_count": 271,
     "metadata": {},
     "output_type": "execute_result"
    },
    {
     "data": {
      "text/plain": [
       "Epoch 20: 27.432199001312\t\n",
       "Average Loss: 0.15663540902626\t\n"
      ]
     },
     "execution_count": 271,
     "metadata": {},
     "output_type": "execute_result"
    },
    {
     "data": {
      "text/plain": [
       "Valid perplexity: 1.1824420394642\t\n"
      ]
     },
     "execution_count": 271,
     "metadata": {},
     "output_type": "execute_result"
    }
   ],
   "source": [
    "-- Adaptive learning rate\n",
    "nEpochs = 20\n",
    "step = 1\n",
    "train_model_with_perp(t_input_new, t_output_new, batchRNN, batchRNN_valid, params_valid,\n",
    "        params, grad_params, crit, eta, nEpochs, batch_size, len, n_new, input_data_valid, output_valid, 5)"
   ]
  },
  {
   "cell_type": "code",
   "execution_count": 272,
   "metadata": {
    "collapsed": false
   },
   "outputs": [
    {
     "data": {
      "text/plain": [
       "Epoch 1: 27.619936943054\t\n",
       "Average Loss: 0.15974601422568\t\n"
      ]
     },
     "execution_count": 272,
     "metadata": {},
     "output_type": "execute_result"
    },
    {
     "data": {
      "text/plain": [
       "Valid perplexity: 1.1855367178374\t\n"
      ]
     },
     "execution_count": 272,
     "metadata": {},
     "output_type": "execute_result"
    },
    {
     "data": {
      "text/plain": [
       "Epoch 2: 24.746417045593\t\n",
       "Average Loss: 0.15638448991217\t\n"
      ]
     },
     "execution_count": 272,
     "metadata": {},
     "output_type": "execute_result"
    },
    {
     "data": {
      "text/plain": [
       "Valid perplexity: 1.1824438751704\t\n"
      ]
     },
     "execution_count": 272,
     "metadata": {},
     "output_type": "execute_result"
    },
    {
     "data": {
      "text/plain": [
       "Epoch 3: 25.023906946182\t\n",
       "Average Loss: 0.15573398220736\t\n"
      ]
     },
     "execution_count": 272,
     "metadata": {},
     "output_type": "execute_result"
    },
    {
     "data": {
      "text/plain": [
       "Valid perplexity: 1.1819785736185\t\n"
      ]
     },
     "execution_count": 272,
     "metadata": {},
     "output_type": "execute_result"
    },
    {
     "data": {
      "text/plain": [
       "Epoch 4: 25.480671167374\t\n",
       "Average Loss: 0.15540230367625\t\n"
      ]
     },
     "execution_count": 272,
     "metadata": {},
     "output_type": "execute_result"
    },
    {
     "data": {
      "text/plain": [
       "Valid perplexity: 1.1813094890523\t\n"
      ]
     },
     "execution_count": 272,
     "metadata": {},
     "output_type": "execute_result"
    },
    {
     "data": {
      "text/plain": [
       "Epoch 5: 24.604247093201\t\n",
       "Average Loss: 0.15510953272084\t\n"
      ]
     },
     "execution_count": 272,
     "metadata": {},
     "output_type": "execute_result"
    },
    {
     "data": {
      "text/plain": [
       "Valid perplexity: 1.1811523704405\t\n"
      ]
     },
     "execution_count": 272,
     "metadata": {},
     "output_type": "execute_result"
    },
    {
     "data": {
      "text/plain": [
       "Epoch 6: 24.404500007629\t\n",
       "Average Loss: 0.15480920641107\t\n"
      ]
     },
     "execution_count": 272,
     "metadata": {},
     "output_type": "execute_result"
    },
    {
     "data": {
      "text/plain": [
       "Valid perplexity: 1.180707110681\t\n"
      ]
     },
     "execution_count": 272,
     "metadata": {},
     "output_type": "execute_result"
    },
    {
     "data": {
      "text/plain": [
       "Epoch 7: 25.181984901428\t\n",
       "Average Loss: 0.15454848056418\t\n"
      ]
     },
     "execution_count": 272,
     "metadata": {},
     "output_type": "execute_result"
    },
    {
     "data": {
      "text/plain": [
       "Valid perplexity: 1.1808885187157\t\n"
      ]
     },
     "execution_count": 272,
     "metadata": {},
     "output_type": "execute_result"
    },
    {
     "data": {
      "text/plain": [
       "Epoch 8: 26.033724784851\t\n",
       "Average Loss: 0.15324498182009\t\n"
      ]
     },
     "execution_count": 272,
     "metadata": {},
     "output_type": "execute_result"
    },
    {
     "data": {
      "text/plain": [
       "Valid perplexity: 1.1788202946797\t\n"
      ]
     },
     "execution_count": 272,
     "metadata": {},
     "output_type": "execute_result"
    },
    {
     "data": {
      "text/plain": [
       "Epoch 9: 24.985551118851\t\n",
       "Average Loss: 0.15289153281754\t\n"
      ]
     },
     "execution_count": 272,
     "metadata": {},
     "output_type": "execute_result"
    },
    {
     "data": {
      "text/plain": [
       "Valid perplexity: 1.1785937593155\t\n"
      ]
     },
     "execution_count": 272,
     "metadata": {},
     "output_type": "execute_result"
    },
    {
     "data": {
      "text/plain": [
       "Epoch 10: 26.281076908112\t\n",
       "Average Loss: 0.15275839278728\t\n"
      ]
     },
     "execution_count": 272,
     "metadata": {},
     "output_type": "execute_result"
    },
    {
     "data": {
      "text/plain": [
       "Valid perplexity: 1.1785445168725\t\n"
      ]
     },
     "execution_count": 272,
     "metadata": {},
     "output_type": "execute_result"
    }
   ],
   "source": [
    "-- Adaptive learning rate\n",
    "nEpochs = 10\n",
    "step = 1\n",
    "train_model_with_perp(t_input_new, t_output_new, batchRNN, batchRNN_valid, params_valid,\n",
    "        params, grad_params, crit, eta, nEpochs, batch_size, len, n_new, input_data_valid, output_valid, step)"
   ]
  },
  {
   "cell_type": "code",
   "execution_count": 393,
   "metadata": {
    "collapsed": false
   },
   "outputs": [
    {
     "data": {
      "text/plain": [
       "Epoch 1: 25.253405094147\t\n",
       "Average Loss: 0.15771314623241\t\n"
      ]
     },
     "execution_count": 393,
     "metadata": {},
     "output_type": "execute_result"
    },
    {
     "data": {
      "text/plain": [
       "Valid perplexity: 1.1839716613607\t\n"
      ]
     },
     "execution_count": 393,
     "metadata": {},
     "output_type": "execute_result"
    },
    {
     "data": {
      "text/plain": [
       "Epoch 2: 23.995304822922\t\n",
       "Average Loss: 0.15447399569549\t\n"
      ]
     },
     "execution_count": 393,
     "metadata": {},
     "output_type": "execute_result"
    },
    {
     "data": {
      "text/plain": [
       "Valid perplexity: 1.1807325957025\t\n"
      ]
     },
     "execution_count": 393,
     "metadata": {},
     "output_type": "execute_result"
    },
    {
     "data": {
      "text/plain": [
       "Epoch 3: 23.647886991501\t\n",
       "Average Loss: 0.15392232752519\t\n"
      ]
     },
     "execution_count": 393,
     "metadata": {},
     "output_type": "execute_result"
    },
    {
     "data": {
      "text/plain": [
       "Valid perplexity: 1.1804579521235\t\n"
      ]
     },
     "execution_count": 393,
     "metadata": {},
     "output_type": "execute_result"
    },
    {
     "data": {
      "text/plain": [
       "Epoch 4: 24.548258066177\t\n",
       "Average Loss: 0.15368239953165\t\n"
      ]
     },
     "execution_count": 393,
     "metadata": {},
     "output_type": "execute_result"
    },
    {
     "data": {
      "text/plain": [
       "Valid perplexity: 1.1801014532801\t\n"
      ]
     },
     "execution_count": 393,
     "metadata": {},
     "output_type": "execute_result"
    },
    {
     "data": {
      "text/plain": [
       "Epoch 5: 23.791232824326\t\n",
       "Average Loss: 0.15351510321408\t\n"
      ]
     },
     "execution_count": 393,
     "metadata": {},
     "output_type": "execute_result"
    },
    {
     "data": {
      "text/plain": [
       "Valid perplexity: 1.1804442996589\t\n"
      ]
     },
     "execution_count": 393,
     "metadata": {},
     "output_type": "execute_result"
    },
    {
     "data": {
      "text/plain": [
       "Epoch 6: 23.86344408989\t\n",
       "Average Loss: 0.15224096155613\t\n"
      ]
     },
     "execution_count": 393,
     "metadata": {},
     "output_type": "execute_result"
    },
    {
     "data": {
      "text/plain": [
       "Valid perplexity: 1.1786706140464\t\n"
      ]
     },
     "execution_count": 393,
     "metadata": {},
     "output_type": "execute_result"
    },
    {
     "data": {
      "text/plain": [
       "Epoch 7: 24.195983171463\t\n",
       "Average Loss: 0.15184575294419\t\n"
      ]
     },
     "execution_count": 393,
     "metadata": {},
     "output_type": "execute_result"
    },
    {
     "data": {
      "text/plain": [
       "Valid perplexity: 1.1785939836208\t\n"
      ]
     },
     "execution_count": 393,
     "metadata": {},
     "output_type": "execute_result"
    },
    {
     "data": {
      "text/plain": [
       "Epoch 8: 23.519762992859\t\n",
       "Average Loss: 0.15167006138082\t\n"
      ]
     },
     "execution_count": 393,
     "metadata": {},
     "output_type": "execute_result"
    },
    {
     "data": {
      "text/plain": [
       "Valid perplexity: 1.1785269433268\t\n"
      ]
     },
     "execution_count": 393,
     "metadata": {},
     "output_type": "execute_result"
    },
    {
     "data": {
      "text/plain": [
       "Epoch 9: 23.866048812866\t\n",
       "Average Loss: 0.15154694132977\t\n"
      ]
     },
     "execution_count": 393,
     "metadata": {},
     "output_type": "execute_result"
    },
    {
     "data": {
      "text/plain": [
       "Valid perplexity: 1.1784334320309\t\n"
      ]
     },
     "execution_count": 393,
     "metadata": {},
     "output_type": "execute_result"
    },
    {
     "data": {
      "text/plain": [
       "Epoch 10: 26.384864091873\t\n",
       "Average Loss: 0.15144445357836\t\n"
      ]
     },
     "execution_count": 393,
     "metadata": {},
     "output_type": "execute_result"
    },
    {
     "data": {
      "text/plain": [
       "Valid perplexity: 1.1783925081262\t\n"
      ]
     },
     "execution_count": 393,
     "metadata": {},
     "output_type": "execute_result"
    }
   ],
   "source": [
    "-- Adaptive learning rate\n",
    "nEpochs = 10\n",
    "step = 1\n",
    "train_model_with_perp(t_input_new, t_output_new, batchRNN, batchRNN_valid, params_valid,\n",
    "        params, grad_params, crit, eta, nEpochs, batch_size, len, n_new, input_data_valid, output_valid, step)"
   ]
  },
  {
   "cell_type": "code",
   "execution_count": 437,
   "metadata": {
    "collapsed": false,
    "scrolled": false
   },
   "outputs": [
    {
     "data": {
      "text/plain": [
       "Epoch 1: 21.719220876694\t\n",
       "Average Loss: 0.15689811962053\t\n"
      ]
     },
     "execution_count": 437,
     "metadata": {},
     "output_type": "execute_result"
    },
    {
     "data": {
      "text/plain": [
       "Valid perplexity: 1.1842437217005\t\n"
      ]
     },
     "execution_count": 437,
     "metadata": {},
     "output_type": "execute_result"
    },
    {
     "data": {
      "text/plain": [
       "Epoch 2: 21.722026109695\t\n",
       "Average Loss: 0.15356608958168\t\n"
      ]
     },
     "execution_count": 437,
     "metadata": {},
     "output_type": "execute_result"
    },
    {
     "data": {
      "text/plain": [
       "Valid perplexity: 1.1808923302031\t\n"
      ]
     },
     "execution_count": 437,
     "metadata": {},
     "output_type": "execute_result"
    },
    {
     "data": {
      "text/plain": [
       "Epoch 3: 21.343563079834\t\n",
       "Average Loss: 0.15301084694261\t\n"
      ]
     },
     "execution_count": 437,
     "metadata": {},
     "output_type": "execute_result"
    },
    {
     "data": {
      "text/plain": [
       "Valid perplexity: 1.1809537246896\t\n"
      ]
     },
     "execution_count": 437,
     "metadata": {},
     "output_type": "execute_result"
    },
    {
     "data": {
      "text/plain": [
       "Epoch 4: 21.706805944443\t\n",
       "Average Loss: 0.15160807894879\t\n"
      ]
     },
     "execution_count": 437,
     "metadata": {},
     "output_type": "execute_result"
    },
    {
     "data": {
      "text/plain": [
       "Valid perplexity: 1.1789912494094\t\n"
      ]
     },
     "execution_count": 437,
     "metadata": {},
     "output_type": "execute_result"
    },
    {
     "data": {
      "text/plain": [
       "Epoch 5: 21.725275039673\t\n",
       "Average Loss: 0.15122900219879\t\n"
      ]
     },
     "execution_count": 437,
     "metadata": {},
     "output_type": "execute_result"
    },
    {
     "data": {
      "text/plain": [
       "Valid perplexity: 1.17894341248\t\n"
      ]
     },
     "execution_count": 437,
     "metadata": {},
     "output_type": "execute_result"
    },
    {
     "data": {
      "text/plain": [
       "Epoch 6: 21.33686208725\t\n",
       "Average Loss: 0.15106889003526\t\n"
      ]
     },
     "execution_count": 437,
     "metadata": {},
     "output_type": "execute_result"
    },
    {
     "data": {
      "text/plain": [
       "Valid perplexity: 1.1789821769288\t\n"
      ]
     },
     "execution_count": 437,
     "metadata": {},
     "output_type": "execute_result"
    },
    {
     "data": {
      "text/plain": [
       "Epoch 7: 21.558689117432\t\n",
       "Average Loss: 0.15055884068169\t\n"
      ]
     },
     "execution_count": 437,
     "metadata": {},
     "output_type": "execute_result"
    },
    {
     "data": {
      "text/plain": [
       "Valid perplexity: 1.1772660102498\t\n"
      ]
     },
     "execution_count": 437,
     "metadata": {},
     "output_type": "execute_result"
    },
    {
     "data": {
      "text/plain": [
       "Epoch 8: 21.472780942917\t\n",
       "Average Loss: 0.15028504399298\t\n"
      ]
     },
     "execution_count": 437,
     "metadata": {},
     "output_type": "execute_result"
    },
    {
     "data": {
      "text/plain": [
       "Valid perplexity: 1.1772023418004\t\n"
      ]
     },
     "execution_count": 437,
     "metadata": {},
     "output_type": "execute_result"
    },
    {
     "data": {
      "text/plain": [
       "Epoch 9: 21.333541870117\t\n",
       "Average Loss: 0.15017658374267\t\n"
      ]
     },
     "execution_count": 437,
     "metadata": {},
     "output_type": "execute_result"
    },
    {
     "data": {
      "text/plain": [
       "Valid perplexity: 1.1771255688993\t\n"
      ]
     },
     "execution_count": 437,
     "metadata": {},
     "output_type": "execute_result"
    },
    {
     "data": {
      "text/plain": [
       "Epoch 10: 21.446371078491\t\n",
       "Average Loss: 0.1500902816845\t\n"
      ]
     },
     "execution_count": 437,
     "metadata": {},
     "output_type": "execute_result"
    },
    {
     "data": {
      "text/plain": [
       "Valid perplexity: 1.1770369227487\t\n"
      ]
     },
     "execution_count": 437,
     "metadata": {},
     "output_type": "execute_result"
    },
    {
     "data": {
      "text/plain": [
       "Epoch 11: 21.294255971909\t\n",
       "Average Loss: 0.15002059206453\t\n"
      ]
     },
     "execution_count": 437,
     "metadata": {},
     "output_type": "execute_result"
    },
    {
     "data": {
      "text/plain": [
       "Valid perplexity: 1.1769549192897\t\n"
      ]
     },
     "execution_count": 437,
     "metadata": {},
     "output_type": "execute_result"
    },
    {
     "data": {
      "text/plain": [
       "Epoch 12: 21.73224401474\t\n",
       "Average Loss: 0.14995563766069\t\n"
      ]
     },
     "execution_count": 437,
     "metadata": {},
     "output_type": "execute_result"
    },
    {
     "data": {
      "text/plain": [
       "Valid perplexity: 1.176859639195\t\n"
      ]
     },
     "execution_count": 437,
     "metadata": {},
     "output_type": "execute_result"
    },
    {
     "data": {
      "text/plain": [
       "Epoch 13: 21.382279157639\t\n",
       "Average Loss: 0.14990382980889\t\n"
      ]
     },
     "execution_count": 437,
     "metadata": {},
     "output_type": "execute_result"
    },
    {
     "data": {
      "text/plain": [
       "Valid perplexity: 1.1767470959066\t\n"
      ]
     },
     "execution_count": 437,
     "metadata": {},
     "output_type": "execute_result"
    },
    {
     "data": {
      "text/plain": [
       "Epoch 14: 21.540013074875\t\n",
       "Average Loss: 0.14985475559785\t\n"
      ]
     },
     "execution_count": 437,
     "metadata": {},
     "output_type": "execute_result"
    },
    {
     "data": {
      "text/plain": [
       "Valid perplexity: 1.1766603569458\t\n"
      ]
     },
     "execution_count": 437,
     "metadata": {},
     "output_type": "execute_result"
    },
    {
     "data": {
      "text/plain": [
       "Epoch 15: 21.774622917175\t\n",
       "Average Loss: 0.14981071480267\t\n"
      ]
     },
     "execution_count": 437,
     "metadata": {},
     "output_type": "execute_result"
    },
    {
     "data": {
      "text/plain": [
       "Valid perplexity: 1.1766129663334\t\n"
      ]
     },
     "execution_count": 437,
     "metadata": {},
     "output_type": "execute_result"
    },
    {
     "data": {
      "text/plain": [
       "Epoch 16: 21.564834117889\t\n",
       "Average Loss: 0.14977153708231\t\n"
      ]
     },
     "execution_count": 437,
     "metadata": {},
     "output_type": "execute_result"
    },
    {
     "data": {
      "text/plain": [
       "Valid perplexity: 1.1765854601873\t\n"
      ]
     },
     "execution_count": 437,
     "metadata": {},
     "output_type": "execute_result"
    },
    {
     "data": {
      "text/plain": [
       "Epoch 17: 21.572744846344\t\n",
       "Average Loss: 0.14973317940366\t\n"
      ]
     },
     "execution_count": 437,
     "metadata": {},
     "output_type": "execute_result"
    },
    {
     "data": {
      "text/plain": [
       "Valid perplexity: 1.1765641031732\t\n"
      ]
     },
     "execution_count": 437,
     "metadata": {},
     "output_type": "execute_result"
    },
    {
     "data": {
      "text/plain": [
       "Epoch 18: 22.059585809708\t\n",
       "Average Loss: 0.14969934404772\t\n"
      ]
     },
     "execution_count": 437,
     "metadata": {},
     "output_type": "execute_result"
    },
    {
     "data": {
      "text/plain": [
       "Valid perplexity: 1.1765454361888\t\n"
      ]
     },
     "execution_count": 437,
     "metadata": {},
     "output_type": "execute_result"
    },
    {
     "data": {
      "text/plain": [
       "Epoch 19: 21.441600084305\t\n",
       "Average Loss: 0.14966801845249\t\n"
      ]
     },
     "execution_count": 437,
     "metadata": {},
     "output_type": "execute_result"
    },
    {
     "data": {
      "text/plain": [
       "Valid perplexity: 1.176538584222\t\n"
      ]
     },
     "execution_count": 437,
     "metadata": {},
     "output_type": "execute_result"
    },
    {
     "data": {
      "text/plain": [
       "Epoch 20: 21.413302898407\t\n",
       "Average Loss: 0.14963902808282\t\n"
      ]
     },
     "execution_count": 437,
     "metadata": {},
     "output_type": "execute_result"
    },
    {
     "data": {
      "text/plain": [
       "Valid perplexity: 1.1765128918736\t\n"
      ]
     },
     "execution_count": 437,
     "metadata": {},
     "output_type": "execute_result"
    },
    {
     "data": {
      "text/plain": [
       "Epoch 21: 21.699162006378\t\n",
       "Average Loss: 0.1496195874093\t\n"
      ]
     },
     "execution_count": 437,
     "metadata": {},
     "output_type": "execute_result"
    },
    {
     "data": {
      "text/plain": [
       "Valid perplexity: 1.1764858703943\t\n"
      ]
     },
     "execution_count": 437,
     "metadata": {},
     "output_type": "execute_result"
    },
    {
     "data": {
      "text/plain": [
       "Epoch 22: 21.594708204269\t\n",
       "Average Loss: 0.14958149222437\t\n"
      ]
     },
     "execution_count": 437,
     "metadata": {},
     "output_type": "execute_result"
    },
    {
     "data": {
      "text/plain": [
       "Valid perplexity: 1.1764864350997\t\n"
      ]
     },
     "execution_count": 437,
     "metadata": {},
     "output_type": "execute_result"
    },
    {
     "data": {
      "text/plain": [
       "Epoch 23: 21.603829145432\t\n",
       "Average Loss: 0.14945840063325\t\n"
      ]
     },
     "execution_count": 437,
     "metadata": {},
     "output_type": "execute_result"
    },
    {
     "data": {
      "text/plain": [
       "Valid perplexity: 1.1756358227596\t\n"
      ]
     },
     "execution_count": 437,
     "metadata": {},
     "output_type": "execute_result"
    },
    {
     "data": {
      "text/plain": [
       "Epoch 24: 21.659424066544\t\n",
       "Average Loss: 0.14933916229026\t\n"
      ]
     },
     "execution_count": 437,
     "metadata": {},
     "output_type": "execute_result"
    },
    {
     "data": {
      "text/plain": [
       "Valid perplexity: 1.1756099828327\t\n"
      ]
     },
     "execution_count": 437,
     "metadata": {},
     "output_type": "execute_result"
    },
    {
     "data": {
      "text/plain": [
       "Epoch 25: 21.775097846985\t\n",
       "Average Loss: 0.14930694256307\t\n"
      ]
     },
     "execution_count": 437,
     "metadata": {},
     "output_type": "execute_result"
    },
    {
     "data": {
      "text/plain": [
       "Valid perplexity: 1.1755988106141\t\n"
      ]
     },
     "execution_count": 437,
     "metadata": {},
     "output_type": "execute_result"
    },
    {
     "data": {
      "text/plain": [
       "Epoch 26: 21.561806201935\t\n",
       "Average Loss: 0.14928219571779\t\n"
      ]
     },
     "execution_count": 437,
     "metadata": {},
     "output_type": "execute_result"
    },
    {
     "data": {
      "text/plain": [
       "Valid perplexity: 1.1755876247153\t\n"
      ]
     },
     "execution_count": 437,
     "metadata": {},
     "output_type": "execute_result"
    },
    {
     "data": {
      "text/plain": [
       "Epoch 27: 21.666564941406\t\n",
       "Average Loss: 0.1492600891572\t\n"
      ]
     },
     "execution_count": 437,
     "metadata": {},
     "output_type": "execute_result"
    },
    {
     "data": {
      "text/plain": [
       "Valid perplexity: 1.1755768424659\t\n"
      ]
     },
     "execution_count": 437,
     "metadata": {},
     "output_type": "execute_result"
    },
    {
     "data": {
      "text/plain": [
       "Epoch 28: 21.698348045349\t\n",
       "Average Loss: 0.14923962499977\t\n"
      ]
     },
     "execution_count": 437,
     "metadata": {},
     "output_type": "execute_result"
    },
    {
     "data": {
      "text/plain": [
       "Valid perplexity: 1.1755660135406\t\n"
      ]
     },
     "execution_count": 437,
     "metadata": {},
     "output_type": "execute_result"
    },
    {
     "data": {
      "text/plain": [
       "Epoch 29: 21.581326961517\t\n",
       "Average Loss: 0.14921974991479\t\n"
      ]
     },
     "execution_count": 437,
     "metadata": {},
     "output_type": "execute_result"
    },
    {
     "data": {
      "text/plain": [
       "Valid perplexity: 1.175554895517\t\n"
      ]
     },
     "execution_count": 437,
     "metadata": {},
     "output_type": "execute_result"
    },
    {
     "data": {
      "text/plain": [
       "Epoch 30: 21.868991851807\t\n",
       "Average Loss: 0.1491997391868\t\n"
      ]
     },
     "execution_count": 437,
     "metadata": {},
     "output_type": "execute_result"
    },
    {
     "data": {
      "text/plain": [
       "Valid perplexity: 1.1755435210753\t\n"
      ]
     },
     "execution_count": 437,
     "metadata": {},
     "output_type": "execute_result"
    },
    {
     "data": {
      "text/plain": [
       "Epoch 31: 21.347149133682\t\n",
       "Average Loss: 0.14917984816595\t\n"
      ]
     },
     "execution_count": 437,
     "metadata": {},
     "output_type": "execute_result"
    },
    {
     "data": {
      "text/plain": [
       "Valid perplexity: 1.1755316438223\t\n"
      ]
     },
     "execution_count": 437,
     "metadata": {},
     "output_type": "execute_result"
    },
    {
     "data": {
      "text/plain": [
       "Epoch 32: 21.483412981033\t\n",
       "Average Loss: 0.14916063952008\t\n"
      ]
     },
     "execution_count": 437,
     "metadata": {},
     "output_type": "execute_result"
    },
    {
     "data": {
      "text/plain": [
       "Valid perplexity: 1.1755201378522\t\n"
      ]
     },
     "execution_count": 437,
     "metadata": {},
     "output_type": "execute_result"
    },
    {
     "data": {
      "text/plain": [
       "Epoch 33: 21.77991604805\t\n",
       "Average Loss: 0.1491433237317\t\n"
      ]
     },
     "execution_count": 437,
     "metadata": {},
     "output_type": "execute_result"
    },
    {
     "data": {
      "text/plain": [
       "Valid perplexity: 1.1755103427461\t\n"
      ]
     },
     "execution_count": 437,
     "metadata": {},
     "output_type": "execute_result"
    },
    {
     "data": {
      "text/plain": [
       "Epoch 34: 21.545578956604\t\n",
       "Average Loss: 0.14912683170528\t\n"
      ]
     },
     "execution_count": 437,
     "metadata": {},
     "output_type": "execute_result"
    },
    {
     "data": {
      "text/plain": [
       "Valid perplexity: 1.1755024104665\t\n"
      ]
     },
     "execution_count": 437,
     "metadata": {},
     "output_type": "execute_result"
    },
    {
     "data": {
      "text/plain": [
       "Epoch 35: 21.487411022186\t\n",
       "Average Loss: 0.1491104025071\t\n"
      ]
     },
     "execution_count": 437,
     "metadata": {},
     "output_type": "execute_result"
    },
    {
     "data": {
      "text/plain": [
       "Valid perplexity: 1.1754961563868\t\n"
      ]
     },
     "execution_count": 437,
     "metadata": {},
     "output_type": "execute_result"
    },
    {
     "data": {
      "text/plain": [
       "Epoch 36: 21.877942800522\t\n",
       "Average Loss: 0.14909427502322\t\n"
      ]
     },
     "execution_count": 437,
     "metadata": {},
     "output_type": "execute_result"
    },
    {
     "data": {
      "text/plain": [
       "Valid perplexity: 1.1754903562773\t\n"
      ]
     },
     "execution_count": 437,
     "metadata": {},
     "output_type": "execute_result"
    },
    {
     "data": {
      "text/plain": [
       "Epoch 37: 21.767980098724\t\n",
       "Average Loss: 0.14907838368809\t\n"
      ]
     },
     "execution_count": 437,
     "metadata": {},
     "output_type": "execute_result"
    },
    {
     "data": {
      "text/plain": [
       "Valid perplexity: 1.1754846621247\t\n"
      ]
     },
     "execution_count": 437,
     "metadata": {},
     "output_type": "execute_result"
    },
    {
     "data": {
      "text/plain": [
       "Epoch 38: 21.345844984055\t\n",
       "Average Loss: 0.14906256543047\t\n"
      ]
     },
     "execution_count": 437,
     "metadata": {},
     "output_type": "execute_result"
    },
    {
     "data": {
      "text/plain": [
       "Valid perplexity: 1.1754801129528\t\n"
      ]
     },
     "execution_count": 437,
     "metadata": {},
     "output_type": "execute_result"
    },
    {
     "data": {
      "text/plain": [
       "Epoch 39: 21.84116601944\t\n",
       "Average Loss: 0.14904692402982\t\n"
      ]
     },
     "execution_count": 437,
     "metadata": {},
     "output_type": "execute_result"
    },
    {
     "data": {
      "text/plain": [
       "Valid perplexity: 1.1754766933934\t\n"
      ]
     },
     "execution_count": 437,
     "metadata": {},
     "output_type": "execute_result"
    },
    {
     "data": {
      "text/plain": [
       "Epoch 40: 21.455403089523\t\n",
       "Average Loss: 0.14903146513328\t\n"
      ]
     },
     "execution_count": 437,
     "metadata": {},
     "output_type": "execute_result"
    },
    {
     "data": {
      "text/plain": [
       "Valid perplexity: 1.1754741103934\t\n"
      ]
     },
     "execution_count": 437,
     "metadata": {},
     "output_type": "execute_result"
    },
    {
     "data": {
      "text/plain": [
       "Epoch 41: 21.476200819016\t\n",
       "Average Loss: 0.14901623102906\t\n"
      ]
     },
     "execution_count": 437,
     "metadata": {},
     "output_type": "execute_result"
    },
    {
     "data": {
      "text/plain": [
       "Valid perplexity: 1.1754720856263\t\n"
      ]
     },
     "execution_count": 437,
     "metadata": {},
     "output_type": "execute_result"
    },
    {
     "data": {
      "text/plain": [
       "Epoch 42: 22.002566814423\t\n",
       "Average Loss: 0.14900131006046\t\n"
      ]
     },
     "execution_count": 437,
     "metadata": {},
     "output_type": "execute_result"
    },
    {
     "data": {
      "text/plain": [
       "Valid perplexity: 1.1754705721973\t\n"
      ]
     },
     "execution_count": 437,
     "metadata": {},
     "output_type": "execute_result"
    },
    {
     "data": {
      "text/plain": [
       "Epoch 43: 21.62292098999\t\n",
       "Average Loss: 0.14898682624922\t\n"
      ]
     },
     "execution_count": 437,
     "metadata": {},
     "output_type": "execute_result"
    },
    {
     "data": {
      "text/plain": [
       "Valid perplexity: 1.1754697047155\t\n"
      ]
     },
     "execution_count": 437,
     "metadata": {},
     "output_type": "execute_result"
    },
    {
     "data": {
      "text/plain": [
       "Epoch 44: 21.4644780159\t\n",
       "Average Loss: 0.14897289343368\t\n"
      ]
     },
     "execution_count": 437,
     "metadata": {},
     "output_type": "execute_result"
    },
    {
     "data": {
      "text/plain": [
       "Valid perplexity: 1.1754694973263\t\n"
      ]
     },
     "execution_count": 437,
     "metadata": {},
     "output_type": "execute_result"
    },
    {
     "data": {
      "text/plain": [
       "Epoch 45: 21.959088087082\t\n",
       "Average Loss: 0.14895982864724\t\n"
      ]
     },
     "execution_count": 437,
     "metadata": {},
     "output_type": "execute_result"
    },
    {
     "data": {
      "text/plain": [
       "Valid perplexity: 1.175470599683\t\n"
      ]
     },
     "execution_count": 437,
     "metadata": {},
     "output_type": "execute_result"
    },
    {
     "data": {
      "text/plain": [
       "Epoch 46: 21.710016012192\t\n",
       "Average Loss: 0.14889305136423\t\n"
      ]
     },
     "execution_count": 437,
     "metadata": {},
     "output_type": "execute_result"
    },
    {
     "data": {
      "text/plain": [
       "Valid perplexity: 1.1750535006313\t\n"
      ]
     },
     "execution_count": 437,
     "metadata": {},
     "output_type": "execute_result"
    },
    {
     "data": {
      "text/plain": [
       "Epoch 47: 21.291453838348\t\n",
       "Average Loss: 0.14880877755448\t\n"
      ]
     },
     "execution_count": 437,
     "metadata": {},
     "output_type": "execute_result"
    },
    {
     "data": {
      "text/plain": [
       "Valid perplexity: 1.1750379690751\t\n"
      ]
     },
     "execution_count": 437,
     "metadata": {},
     "output_type": "execute_result"
    },
    {
     "data": {
      "text/plain": [
       "Epoch 48: 22.145624876022\t\n",
       "Average Loss: 0.14878852608752\t\n"
      ]
     },
     "execution_count": 437,
     "metadata": {},
     "output_type": "execute_result"
    },
    {
     "data": {
      "text/plain": [
       "Valid perplexity: 1.1750346872347\t\n"
      ]
     },
     "execution_count": 437,
     "metadata": {},
     "output_type": "execute_result"
    },
    {
     "data": {
      "text/plain": [
       "Epoch 49: 21.986148118973\t\n",
       "Average Loss: 0.14877507737668\t\n"
      ]
     },
     "execution_count": 437,
     "metadata": {},
     "output_type": "execute_result"
    },
    {
     "data": {
      "text/plain": [
       "Valid perplexity: 1.1750337723498\t\n"
      ]
     },
     "execution_count": 437,
     "metadata": {},
     "output_type": "execute_result"
    },
    {
     "data": {
      "text/plain": [
       "Epoch 50: 21.43184709549\t\n",
       "Average Loss: 0.14876382690758\t\n"
      ]
     },
     "execution_count": 437,
     "metadata": {},
     "output_type": "execute_result"
    },
    {
     "data": {
      "text/plain": [
       "Valid perplexity: 1.1750337011524\t\n"
      ]
     },
     "execution_count": 437,
     "metadata": {},
     "output_type": "execute_result"
    },
    {
     "data": {
      "text/plain": [
       "Epoch 51: 22.018103122711\t\n",
       "Average Loss: 0.14875303060422\t\n"
      ]
     },
     "execution_count": 437,
     "metadata": {},
     "output_type": "execute_result"
    },
    {
     "data": {
      "text/plain": [
       "Valid perplexity: 1.175036670517\t\n"
      ]
     },
     "execution_count": 437,
     "metadata": {},
     "output_type": "execute_result"
    },
    {
     "data": {
      "text/plain": [
       "Epoch 52: 21.34930896759\t\n",
       "Average Loss: 0.14871456560879\t\n"
      ]
     },
     "execution_count": 437,
     "metadata": {},
     "output_type": "execute_result"
    },
    {
     "data": {
      "text/plain": [
       "Valid perplexity: 1.1747791113792\t\n"
      ]
     },
     "execution_count": 437,
     "metadata": {},
     "output_type": "execute_result"
    },
    {
     "data": {
      "text/plain": [
       "Epoch 53: 21.352594852448\t\n",
       "Average Loss: 0.14866870143634\t\n"
      ]
     },
     "execution_count": 437,
     "metadata": {},
     "output_type": "execute_result"
    },
    {
     "data": {
      "text/plain": [
       "Valid perplexity: 1.174754179846\t\n"
      ]
     },
     "execution_count": 437,
     "metadata": {},
     "output_type": "execute_result"
    },
    {
     "data": {
      "text/plain": [
       "Epoch 54: 22.077701091766\t\n",
       "Average Loss: 0.14865565205041\t\n"
      ]
     },
     "execution_count": 437,
     "metadata": {},
     "output_type": "execute_result"
    },
    {
     "data": {
      "text/plain": [
       "Valid perplexity: 1.1747454816825\t\n"
      ]
     },
     "execution_count": 437,
     "metadata": {},
     "output_type": "execute_result"
    },
    {
     "data": {
      "text/plain": [
       "Epoch 55: 21.63525390625\t\n",
       "Average Loss: 0.14864699158851\t\n"
      ]
     },
     "execution_count": 437,
     "metadata": {},
     "output_type": "execute_result"
    },
    {
     "data": {
      "text/plain": [
       "Valid perplexity: 1.1747401157792\t\n"
      ]
     },
     "execution_count": 437,
     "metadata": {},
     "output_type": "execute_result"
    },
    {
     "data": {
      "text/plain": [
       "Epoch 56: 21.325155973434\t\n",
       "Average Loss: 0.14863988625477\t\n"
      ]
     },
     "execution_count": 437,
     "metadata": {},
     "output_type": "execute_result"
    },
    {
     "data": {
      "text/plain": [
       "Valid perplexity: 1.1747361951757\t\n"
      ]
     },
     "execution_count": 437,
     "metadata": {},
     "output_type": "execute_result"
    },
    {
     "data": {
      "text/plain": [
       "Epoch 57: 21.859908103943\t\n",
       "Average Loss: 0.14863354874777\t\n"
      ]
     },
     "execution_count": 437,
     "metadata": {},
     "output_type": "execute_result"
    },
    {
     "data": {
      "text/plain": [
       "Valid perplexity: 1.1747330936992\t\n"
      ]
     },
     "execution_count": 437,
     "metadata": {},
     "output_type": "execute_result"
    },
    {
     "data": {
      "text/plain": [
       "Epoch 58: 21.521472930908\t\n",
       "Average Loss: 0.14862767794584\t\n"
      ]
     },
     "execution_count": 437,
     "metadata": {},
     "output_type": "execute_result"
    },
    {
     "data": {
      "text/plain": [
       "Valid perplexity: 1.1747305371508\t\n"
      ]
     },
     "execution_count": 437,
     "metadata": {},
     "output_type": "execute_result"
    },
    {
     "data": {
      "text/plain": [
       "Epoch 59: 21.484534978867\t\n",
       "Average Loss: 0.14862212546123\t\n"
      ]
     },
     "execution_count": 437,
     "metadata": {},
     "output_type": "execute_result"
    },
    {
     "data": {
      "text/plain": [
       "Valid perplexity: 1.1747283682897\t\n"
      ]
     },
     "execution_count": 437,
     "metadata": {},
     "output_type": "execute_result"
    },
    {
     "data": {
      "text/plain": [
       "Epoch 60: 22.211394071579\t\n",
       "Average Loss: 0.14861681050548\t\n"
      ]
     },
     "execution_count": 437,
     "metadata": {},
     "output_type": "execute_result"
    },
    {
     "data": {
      "text/plain": [
       "Valid perplexity: 1.1747264858516\t\n"
      ]
     },
     "execution_count": 437,
     "metadata": {},
     "output_type": "execute_result"
    },
    {
     "data": {
      "text/plain": [
       "Epoch 61: 21.688897848129\t\n",
       "Average Loss: 0.148611682535\t\n"
      ]
     },
     "execution_count": 437,
     "metadata": {},
     "output_type": "execute_result"
    },
    {
     "data": {
      "text/plain": [
       "Valid perplexity: 1.1747248309859\t\n"
      ]
     },
     "execution_count": 437,
     "metadata": {},
     "output_type": "execute_result"
    },
    {
     "data": {
      "text/plain": [
       "Epoch 62: 21.312862157822\t\n",
       "Average Loss: 0.14860670832485\t\n"
      ]
     },
     "execution_count": 437,
     "metadata": {},
     "output_type": "execute_result"
    },
    {
     "data": {
      "text/plain": [
       "Valid perplexity: 1.1747233602946\t\n"
      ]
     },
     "execution_count": 437,
     "metadata": {},
     "output_type": "execute_result"
    },
    {
     "data": {
      "text/plain": [
       "Epoch 63: 22.145065069199\t\n",
       "Average Loss: 0.14860186368881\t\n"
      ]
     },
     "execution_count": 437,
     "metadata": {},
     "output_type": "execute_result"
    },
    {
     "data": {
      "text/plain": [
       "Valid perplexity: 1.1747220436715\t\n"
      ]
     },
     "execution_count": 437,
     "metadata": {},
     "output_type": "execute_result"
    },
    {
     "data": {
      "text/plain": [
       "Epoch 64: 21.593657970428\t\n",
       "Average Loss: 0.14859713216141\t\n"
      ]
     },
     "execution_count": 437,
     "metadata": {},
     "output_type": "execute_result"
    },
    {
     "data": {
      "text/plain": [
       "Valid perplexity: 1.1747208579438\t\n"
      ]
     },
     "execution_count": 437,
     "metadata": {},
     "output_type": "execute_result"
    },
    {
     "data": {
      "text/plain": [
       "Epoch 65: 21.338545084\t\n",
       "Average Loss: 0.14859250110177\t\n"
      ]
     },
     "execution_count": 437,
     "metadata": {},
     "output_type": "execute_result"
    },
    {
     "data": {
      "text/plain": [
       "Valid perplexity: 1.1747197791188\t\n"
      ]
     },
     "execution_count": 437,
     "metadata": {},
     "output_type": "execute_result"
    },
    {
     "data": {
      "text/plain": [
       "Epoch 66: 21.691913843155\t\n",
       "Average Loss: 0.14858795893604\t\n"
      ]
     },
     "execution_count": 437,
     "metadata": {},
     "output_type": "execute_result"
    },
    {
     "data": {
      "text/plain": [
       "Valid perplexity: 1.1747187939348\t\n"
      ]
     },
     "execution_count": 437,
     "metadata": {},
     "output_type": "execute_result"
    },
    {
     "data": {
      "text/plain": [
       "Epoch 67: 21.660136938095\t\n",
       "Average Loss: 0.14858349830421\t\n"
      ]
     },
     "execution_count": 437,
     "metadata": {},
     "output_type": "execute_result"
    },
    {
     "data": {
      "text/plain": [
       "Valid perplexity: 1.1747178840256\t\n"
      ]
     },
     "execution_count": 437,
     "metadata": {},
     "output_type": "execute_result"
    },
    {
     "data": {
      "text/plain": [
       "Epoch 68: 21.455639123917\t\n",
       "Average Loss: 0.14857911148424\t\n"
      ]
     },
     "execution_count": 437,
     "metadata": {},
     "output_type": "execute_result"
    },
    {
     "data": {
      "text/plain": [
       "Valid perplexity: 1.1747170362046\t\n"
      ]
     },
     "execution_count": 437,
     "metadata": {},
     "output_type": "execute_result"
    },
    {
     "data": {
      "text/plain": [
       "Epoch 69: 21.832186937332\t\n",
       "Average Loss: 0.14857479204466\t\n"
      ]
     },
     "execution_count": 437,
     "metadata": {},
     "output_type": "execute_result"
    },
    {
     "data": {
      "text/plain": [
       "Valid perplexity: 1.1747162400579\t\n"
      ]
     },
     "execution_count": 437,
     "metadata": {},
     "output_type": "execute_result"
    },
    {
     "data": {
      "text/plain": [
       "Epoch 70: 21.586074113846\t\n",
       "Average Loss: 0.14857053555664\t\n"
      ]
     },
     "execution_count": 437,
     "metadata": {},
     "output_type": "execute_result"
    },
    {
     "data": {
      "text/plain": [
       "Valid perplexity: 1.1747154806975\t\n"
      ]
     },
     "execution_count": 437,
     "metadata": {},
     "output_type": "execute_result"
    },
    {
     "data": {
      "text/plain": [
       "Epoch 71: 21.68038392067\t\n",
       "Average Loss: 0.14856633846048\t\n"
      ]
     },
     "execution_count": 437,
     "metadata": {},
     "output_type": "execute_result"
    },
    {
     "data": {
      "text/plain": [
       "Valid perplexity: 1.1747147483121\t\n"
      ]
     },
     "execution_count": 437,
     "metadata": {},
     "output_type": "execute_result"
    },
    {
     "data": {
      "text/plain": [
       "Epoch 72: 21.511492013931\t\n",
       "Average Loss: 0.14856219639642\t\n"
      ]
     },
     "execution_count": 437,
     "metadata": {},
     "output_type": "execute_result"
    },
    {
     "data": {
      "text/plain": [
       "Valid perplexity: 1.1747140419061\t\n"
      ]
     },
     "execution_count": 437,
     "metadata": {},
     "output_type": "execute_result"
    },
    {
     "data": {
      "text/plain": [
       "Epoch 73: 21.461521863937\t\n",
       "Average Loss: 0.14855810688345\t\n"
      ]
     },
     "execution_count": 437,
     "metadata": {},
     "output_type": "execute_result"
    },
    {
     "data": {
      "text/plain": [
       "Valid perplexity: 1.1747133530605\t\n"
      ]
     },
     "execution_count": 437,
     "metadata": {},
     "output_type": "execute_result"
    },
    {
     "data": {
      "text/plain": [
       "Epoch 74: 21.843383789062\t\n",
       "Average Loss: 0.14855406739173\t\n"
      ]
     },
     "execution_count": 437,
     "metadata": {},
     "output_type": "execute_result"
    },
    {
     "data": {
      "text/plain": [
       "Valid perplexity: 1.1747126741339\t\n"
      ]
     },
     "execution_count": 437,
     "metadata": {},
     "output_type": "execute_result"
    },
    {
     "data": {
      "text/plain": [
       "Epoch 75: 21.895905017853\t\n",
       "Average Loss: 0.14855007562944\t\n"
      ]
     },
     "execution_count": 437,
     "metadata": {},
     "output_type": "execute_result"
    },
    {
     "data": {
      "text/plain": [
       "Valid perplexity: 1.174712001549\t\n"
      ]
     },
     "execution_count": 437,
     "metadata": {},
     "output_type": "execute_result"
    },
    {
     "data": {
      "text/plain": [
       "Epoch 76: 21.459775924683\t\n",
       "Average Loss: 0.1485461304211\t\n"
      ]
     },
     "execution_count": 437,
     "metadata": {},
     "output_type": "execute_result"
    },
    {
     "data": {
      "text/plain": [
       "Valid perplexity: 1.174711327613\t\n"
      ]
     },
     "execution_count": 437,
     "metadata": {},
     "output_type": "execute_result"
    },
    {
     "data": {
      "text/plain": [
       "Epoch 77: 21.811365842819\t\n",
       "Average Loss: 0.14854223041817\t\n"
      ]
     },
     "execution_count": 437,
     "metadata": {},
     "output_type": "execute_result"
    },
    {
     "data": {
      "text/plain": [
       "Valid perplexity: 1.1747106499364\t\n"
      ]
     },
     "execution_count": 437,
     "metadata": {},
     "output_type": "execute_result"
    },
    {
     "data": {
      "text/plain": [
       "Epoch 78: 21.438086986542\t\n",
       "Average Loss: 0.14853837451788\t\n"
      ]
     },
     "execution_count": 437,
     "metadata": {},
     "output_type": "execute_result"
    },
    {
     "data": {
      "text/plain": [
       "Valid perplexity: 1.1747099629708\t\n"
      ]
     },
     "execution_count": 437,
     "metadata": {},
     "output_type": "execute_result"
    },
    {
     "data": {
      "text/plain": [
       "Epoch 79: 21.490134954453\t\n",
       "Average Loss: 0.14853456169082\t\n"
      ]
     },
     "execution_count": 437,
     "metadata": {},
     "output_type": "execute_result"
    },
    {
     "data": {
      "text/plain": [
       "Valid perplexity: 1.1747092631868\t\n"
      ]
     },
     "execution_count": 437,
     "metadata": {},
     "output_type": "execute_result"
    },
    {
     "data": {
      "text/plain": [
       "Epoch 80: 22.223862171173\t\n",
       "Average Loss: 0.1485307899488\t\n"
      ]
     },
     "execution_count": 437,
     "metadata": {},
     "output_type": "execute_result"
    },
    {
     "data": {
      "text/plain": [
       "Valid perplexity: 1.1747085486967\t\n"
      ]
     },
     "execution_count": 437,
     "metadata": {},
     "output_type": "execute_result"
    },
    {
     "data": {
      "text/plain": [
       "Epoch 81: 21.749552965164\t\n",
       "Average Loss: 0.14852705795711\t\n"
      ]
     },
     "execution_count": 437,
     "metadata": {},
     "output_type": "execute_result"
    },
    {
     "data": {
      "text/plain": [
       "Valid perplexity: 1.1747078176764\t\n"
      ]
     },
     "execution_count": 437,
     "metadata": {},
     "output_type": "execute_result"
    },
    {
     "data": {
      "text/plain": [
       "Epoch 82: 21.879874944687\t\n",
       "Average Loss: 0.14852336454209\t\n"
      ]
     },
     "execution_count": 437,
     "metadata": {},
     "output_type": "execute_result"
    },
    {
     "data": {
      "text/plain": [
       "Valid perplexity: 1.1747070656907\t\n"
      ]
     },
     "execution_count": 437,
     "metadata": {},
     "output_type": "execute_result"
    },
    {
     "data": {
      "text/plain": [
       "Epoch 83: 21.884669065475\t\n",
       "Average Loss: 0.14851970856204\t\n"
      ]
     },
     "execution_count": 437,
     "metadata": {},
     "output_type": "execute_result"
    },
    {
     "data": {
      "text/plain": [
       "Valid perplexity: 1.1747062938037\t\n"
      ]
     },
     "execution_count": 437,
     "metadata": {},
     "output_type": "execute_result"
    },
    {
     "data": {
      "text/plain": [
       "Epoch 84: 21.799702167511\t\n",
       "Average Loss: 0.14851608800529\t\n"
      ]
     },
     "execution_count": 437,
     "metadata": {},
     "output_type": "execute_result"
    },
    {
     "data": {
      "text/plain": [
       "Valid perplexity: 1.1747055049801\t\n"
      ]
     },
     "execution_count": 437,
     "metadata": {},
     "output_type": "execute_result"
    },
    {
     "data": {
      "text/plain": [
       "Epoch 85: 21.783530950546\t\n",
       "Average Loss: 0.14851250159205\t\n"
      ]
     },
     "execution_count": 437,
     "metadata": {},
     "output_type": "execute_result"
    },
    {
     "data": {
      "text/plain": [
       "Valid perplexity: 1.1747047003501\t\n"
      ]
     },
     "execution_count": 437,
     "metadata": {},
     "output_type": "execute_result"
    },
    {
     "data": {
      "text/plain": [
       "Epoch 86: 21.941658973694\t\n",
       "Average Loss: 0.1485089481083\t\n"
      ]
     },
     "execution_count": 437,
     "metadata": {},
     "output_type": "execute_result"
    },
    {
     "data": {
      "text/plain": [
       "Valid perplexity: 1.174703883358\t\n"
      ]
     },
     "execution_count": 437,
     "metadata": {},
     "output_type": "execute_result"
    },
    {
     "data": {
      "text/plain": [
       "Epoch 87: 21.761537075043\t\n",
       "Average Loss: 0.1485054261555\t\n"
      ]
     },
     "execution_count": 437,
     "metadata": {},
     "output_type": "execute_result"
    },
    {
     "data": {
      "text/plain": [
       "Valid perplexity: 1.1747030585672\t\n"
      ]
     },
     "execution_count": 437,
     "metadata": {},
     "output_type": "execute_result"
    },
    {
     "data": {
      "text/plain": [
       "Epoch 88: 21.526441812515\t\n",
       "Average Loss: 0.14850193425149\t\n"
      ]
     },
     "execution_count": 437,
     "metadata": {},
     "output_type": "execute_result"
    },
    {
     "data": {
      "text/plain": [
       "Valid perplexity: 1.1747022305719\t\n"
      ]
     },
     "execution_count": 437,
     "metadata": {},
     "output_type": "execute_result"
    },
    {
     "data": {
      "text/plain": [
       "Epoch 89: 21.986881017685\t\n",
       "Average Loss: 0.14849847106689\t\n"
      ]
     },
     "execution_count": 437,
     "metadata": {},
     "output_type": "execute_result"
    },
    {
     "data": {
      "text/plain": [
       "Valid perplexity: 1.1747014034383\t\n"
      ]
     },
     "execution_count": 437,
     "metadata": {},
     "output_type": "execute_result"
    },
    {
     "data": {
      "text/plain": [
       "Epoch 90: 21.543953895569\t\n",
       "Average Loss: 0.1484950356035\t\n"
      ]
     },
     "execution_count": 437,
     "metadata": {},
     "output_type": "execute_result"
    },
    {
     "data": {
      "text/plain": [
       "Valid perplexity: 1.1747005784578\t\n"
      ]
     },
     "execution_count": 437,
     "metadata": {},
     "output_type": "execute_result"
    },
    {
     "data": {
      "text/plain": [
       "Epoch 91: 21.65407204628\t\n",
       "Average Loss: 0.14849162721175\t\n"
      ]
     },
     "execution_count": 437,
     "metadata": {},
     "output_type": "execute_result"
    },
    {
     "data": {
      "text/plain": [
       "Valid perplexity: 1.1746997606291\t\n"
      ]
     },
     "execution_count": 437,
     "metadata": {},
     "output_type": "execute_result"
    },
    {
     "data": {
      "text/plain": [
       "Epoch 92: 21.973047971725\t\n",
       "Average Loss: 0.14848824515601\t\n"
      ]
     },
     "execution_count": 437,
     "metadata": {},
     "output_type": "execute_result"
    },
    {
     "data": {
      "text/plain": [
       "Valid perplexity: 1.1746989574815\t\n"
      ]
     },
     "execution_count": 437,
     "metadata": {},
     "output_type": "execute_result"
    },
    {
     "data": {
      "text/plain": [
       "Epoch 93: 21.997791051865\t\n",
       "Average Loss: 0.14848488900667\t\n"
      ]
     },
     "execution_count": 437,
     "metadata": {},
     "output_type": "execute_result"
    },
    {
     "data": {
      "text/plain": [
       "Valid perplexity: 1.1746981736236\t\n"
      ]
     },
     "execution_count": 437,
     "metadata": {},
     "output_type": "execute_result"
    },
    {
     "data": {
      "text/plain": [
       "Epoch 94: 21.603292942047\t\n",
       "Average Loss: 0.14848155768053\t\n"
      ]
     },
     "execution_count": 437,
     "metadata": {},
     "output_type": "execute_result"
    },
    {
     "data": {
      "text/plain": [
       "Valid perplexity: 1.174697416186\t\n"
      ]
     },
     "execution_count": 437,
     "metadata": {},
     "output_type": "execute_result"
    },
    {
     "data": {
      "text/plain": [
       "Epoch 95: 22.018551826477\t\n",
       "Average Loss: 0.14847825065402\t\n"
      ]
     },
     "execution_count": 437,
     "metadata": {},
     "output_type": "execute_result"
    },
    {
     "data": {
      "text/plain": [
       "Valid perplexity: 1.1746966923183\t\n"
      ]
     },
     "execution_count": 437,
     "metadata": {},
     "output_type": "execute_result"
    },
    {
     "data": {
      "text/plain": [
       "Epoch 96: 22.044064998627\t\n",
       "Average Loss: 0.14847496772535\t\n"
      ]
     },
     "execution_count": 437,
     "metadata": {},
     "output_type": "execute_result"
    },
    {
     "data": {
      "text/plain": [
       "Valid perplexity: 1.1746960061698\t\n"
      ]
     },
     "execution_count": 437,
     "metadata": {},
     "output_type": "execute_result"
    },
    {
     "data": {
      "text/plain": [
       "Epoch 97: 21.366548776627\t\n",
       "Average Loss: 0.14847170678551\t\n"
      ]
     },
     "execution_count": 437,
     "metadata": {},
     "output_type": "execute_result"
    },
    {
     "data": {
      "text/plain": [
       "Valid perplexity: 1.1746953645739\t\n"
      ]
     },
     "execution_count": 437,
     "metadata": {},
     "output_type": "execute_result"
    },
    {
     "data": {
      "text/plain": [
       "Epoch 98: 21.842739105225\t\n",
       "Average Loss: 0.14846846726539\t\n"
      ]
     },
     "execution_count": 437,
     "metadata": {},
     "output_type": "execute_result"
    },
    {
     "data": {
      "text/plain": [
       "Valid perplexity: 1.1746947784759\t\n"
      ]
     },
     "execution_count": 437,
     "metadata": {},
     "output_type": "execute_result"
    },
    {
     "data": {
      "text/plain": [
       "Epoch 99: 21.523818016052\t\n",
       "Average Loss: 0.14846524731972\t\n"
      ]
     },
     "execution_count": 437,
     "metadata": {},
     "output_type": "execute_result"
    },
    {
     "data": {
      "text/plain": [
       "Valid perplexity: 1.1746942578123\t\n"
      ]
     },
     "execution_count": 437,
     "metadata": {},
     "output_type": "execute_result"
    },
    {
     "data": {
      "text/plain": [
       "Epoch 100: 21.534806013107\t\n",
       "Average Loss: 0.14846204548934\t\n"
      ]
     },
     "execution_count": 437,
     "metadata": {},
     "output_type": "execute_result"
    },
    {
     "data": {
      "text/plain": [
       "Valid perplexity: 1.1746938016246\t\n"
      ]
     },
     "execution_count": 437,
     "metadata": {},
     "output_type": "execute_result"
    }
   ],
   "source": [
    "-- Adaptive learning rate\n",
    "nEpochs = 100\n",
    "step = 1\n",
    "train_model_with_perp(t_input_new, t_output_new, batchRNN, batchRNN_valid, params_valid,\n",
    "        params, grad_params, crit, eta, nEpochs, batch_size, len, n_new, input_data_valid, output_valid, step)"
   ]
  },
  {
   "cell_type": "markdown",
   "metadata": {},
   "source": [
    "# EXP GRU"
   ]
  },
  {
   "cell_type": "code",
   "execution_count": 434,
   "metadata": {
    "collapsed": false
   },
   "outputs": [
    {
     "data": {
      "text/plain": [
       "Input size is 600000\t\n"
      ]
     },
     "execution_count": 434,
     "metadata": {},
     "output_type": "execute_result"
    }
   ],
   "source": [
    "len = 30\n",
    "batch_size = 16\n",
    "vocab_size = 49\n",
    "embed_dim = 20\n",
    "eta = 0.5\n",
    "nEpochs = 40\n",
    "\n",
    "t_input_new, t_output_new = get_train_input(input_data_train, len, batch_size)\n",
    "n_new = len * batch_size *(#t_input_new)\n",
    "print('Input size is '..n_new)"
   ]
  },
  {
   "cell_type": "code",
   "execution_count": 282,
   "metadata": {
    "collapsed": false
   },
   "outputs": [
    {
     "data": {
      "text/plain": [
       "Input size is 600000\t\n"
      ]
     },
     "execution_count": 282,
     "metadata": {},
     "output_type": "execute_result"
    }
   ],
   "source": [
    "-- Building model\n",
    "batchGRU, params_gru, grad_params_gru = build_rnn(embed_dim, vocab_size, batch_size, build_GRU(embed_dim, len), len)\n",
    "batchGRU_valid, params_valid_gru, grad_params_valid_gru = build_rnn(embed_dim, vocab_size, 1,build_GRU(embed_dim))\n",
    "\n",
    "crit = nn.SequencerCriterion(nn.ClassNLLCriterion())"
   ]
  },
  {
   "cell_type": "code",
   "execution_count": 283,
   "metadata": {
    "collapsed": false
   },
   "outputs": [
    {
     "data": {
      "text/plain": [
       "Epoch 1: 21.985914945602\t\n",
       "Average Loss: 0.34754894743853\t\n"
      ]
     },
     "execution_count": 283,
     "metadata": {},
     "output_type": "execute_result"
    },
    {
     "data": {
      "text/plain": [
       "Epoch 2: 20.822425127029\t\n",
       "Average Loss: 0.24662751444763\t\n"
      ]
     },
     "execution_count": 283,
     "metadata": {},
     "output_type": "execute_result"
    },
    {
     "data": {
      "text/plain": [
       "Epoch 3: 20.380235910416\t\n",
       "Average Loss: 0.22644992760149\t\n"
      ]
     },
     "execution_count": 283,
     "metadata": {},
     "output_type": "execute_result"
    },
    {
     "data": {
      "text/plain": [
       "Epoch 4: 20.386257171631\t\n",
       "Average Loss: 0.21586756464063\t\n"
      ]
     },
     "execution_count": 283,
     "metadata": {},
     "output_type": "execute_result"
    },
    {
     "data": {
      "text/plain": [
       "Epoch 5: 20.260949134827\t\n",
       "Average Loss: 0.20588786611453\t\n"
      ]
     },
     "execution_count": 283,
     "metadata": {},
     "output_type": "execute_result"
    },
    {
     "data": {
      "text/plain": [
       "Valid perplexity: 1.2267422844996\t\n"
      ]
     },
     "execution_count": 283,
     "metadata": {},
     "output_type": "execute_result"
    }
   ],
   "source": [
    "-- Adaptive learning (remember changed position)\n",
    "nEpochs = 5\n",
    "step = 1\n",
    "train_model_with_perp(t_input_new, t_output_new, batchGRU, batchGRU_valid, params_valid_gru,\n",
    "        params_gru, grad_params_gru, crit, eta, nEpochs, batch_size, len, n_new, input_data_valid, output_valid, 5)"
   ]
  },
  {
   "cell_type": "code",
   "execution_count": 284,
   "metadata": {
    "collapsed": false
   },
   "outputs": [
    {
     "data": {
      "text/plain": [
       "Epoch 1: 20.033187150955\t\n",
       "Average Loss: 0.19548649256202\t\n"
      ]
     },
     "execution_count": 284,
     "metadata": {},
     "output_type": "execute_result"
    },
    {
     "data": {
      "text/plain": [
       "Epoch 2: 20.111010074615\t\n",
       "Average Loss: 0.18753432665153\t\n"
      ]
     },
     "execution_count": 284,
     "metadata": {},
     "output_type": "execute_result"
    },
    {
     "data": {
      "text/plain": [
       "Valid perplexity: 1.2088579236428\t\n"
      ]
     },
     "execution_count": 284,
     "metadata": {},
     "output_type": "execute_result"
    },
    {
     "data": {
      "text/plain": [
       "Epoch 3: 20.048751831055\t\n",
       "Average Loss: 0.18135815098318\t\n"
      ]
     },
     "execution_count": 284,
     "metadata": {},
     "output_type": "execute_result"
    },
    {
     "data": {
      "text/plain": [
       "Epoch 4: 19.980526924133\t\n",
       "Average Loss: 0.17843319981618\t\n"
      ]
     },
     "execution_count": 284,
     "metadata": {},
     "output_type": "execute_result"
    },
    {
     "data": {
      "text/plain": [
       "Valid perplexity: 1.2006284614829\t\n"
      ]
     },
     "execution_count": 284,
     "metadata": {},
     "output_type": "execute_result"
    },
    {
     "data": {
      "text/plain": [
       "Epoch 5: 22.001543998718\t\n",
       "Average Loss: 0.17582000858789\t\n"
      ]
     },
     "execution_count": 284,
     "metadata": {},
     "output_type": "execute_result"
    },
    {
     "data": {
      "text/plain": [
       "Epoch 6: 21.397794961929\t\n",
       "Average Loss: 0.17342742262632\t\n"
      ]
     },
     "execution_count": 284,
     "metadata": {},
     "output_type": "execute_result"
    },
    {
     "data": {
      "text/plain": [
       "Valid perplexity: 1.1953346338126\t\n"
      ]
     },
     "execution_count": 284,
     "metadata": {},
     "output_type": "execute_result"
    },
    {
     "data": {
      "text/plain": [
       "Epoch 7: 20.03279709816\t\n",
       "Average Loss: 0.17120608813403\t\n"
      ]
     },
     "execution_count": 284,
     "metadata": {},
     "output_type": "execute_result"
    },
    {
     "data": {
      "text/plain": [
       "Epoch 8: 21.058824062347\t\n",
       "Average Loss: 0.16911203085189\t\n"
      ]
     },
     "execution_count": 284,
     "metadata": {},
     "output_type": "execute_result"
    },
    {
     "data": {
      "text/plain": [
       "Valid perplexity: 1.1908863198291\t\n"
      ]
     },
     "execution_count": 284,
     "metadata": {},
     "output_type": "execute_result"
    },
    {
     "data": {
      "text/plain": [
       "Epoch 9: 19.768749952316\t\n",
       "Average Loss: 0.1671295096868\t\n"
      ]
     },
     "execution_count": 284,
     "metadata": {},
     "output_type": "execute_result"
    },
    {
     "data": {
      "text/plain": [
       "Epoch 10: 20.265580892563\t\n",
       "Average Loss: 0.16527202300677\t\n"
      ]
     },
     "execution_count": 284,
     "metadata": {},
     "output_type": "execute_result"
    },
    {
     "data": {
      "text/plain": [
       "Valid perplexity: 1.1871044336422\t\n"
      ]
     },
     "execution_count": 284,
     "metadata": {},
     "output_type": "execute_result"
    }
   ],
   "source": [
    "-- Adaptive learning (remember changed position)\n",
    "nEpochs = 10\n",
    "step = 2\n",
    "train_model_with_perp(t_input_new, t_output_new, batchGRU, batchGRU_valid, params_valid_gru,\n",
    "        params_gru, grad_params_gru, crit, eta, nEpochs, batch_size, len, n_new, input_data_valid, output_valid, step)"
   ]
  },
  {
   "cell_type": "code",
   "execution_count": 285,
   "metadata": {
    "collapsed": false
   },
   "outputs": [
    {
     "data": {
      "text/plain": [
       "Epoch 1: 20.54555106163\t\n",
       "Average Loss: 0.1644748422442\t\n"
      ]
     },
     "execution_count": 285,
     "metadata": {},
     "output_type": "execute_result"
    },
    {
     "data": {
      "text/plain": [
       "Epoch 2: 20.115912914276\t\n",
       "Average Loss: 0.1616761848937\t\n"
      ]
     },
     "execution_count": 285,
     "metadata": {},
     "output_type": "execute_result"
    },
    {
     "data": {
      "text/plain": [
       "Valid perplexity: 1.1840898392083\t\n"
      ]
     },
     "execution_count": 285,
     "metadata": {},
     "output_type": "execute_result"
    },
    {
     "data": {
      "text/plain": [
       "Epoch 3: 19.895653963089\t\n",
       "Average Loss: 0.15819938054031\t\n"
      ]
     },
     "execution_count": 285,
     "metadata": {},
     "output_type": "execute_result"
    },
    {
     "data": {
      "text/plain": [
       "Epoch 4: 21.474240064621\t\n",
       "Average Loss: 0.15682596094484\t\n"
      ]
     },
     "execution_count": 285,
     "metadata": {},
     "output_type": "execute_result"
    },
    {
     "data": {
      "text/plain": [
       "Valid perplexity: 1.1792869281535\t\n"
      ]
     },
     "execution_count": 285,
     "metadata": {},
     "output_type": "execute_result"
    },
    {
     "data": {
      "text/plain": [
       "Epoch 5: 20.169448137283\t\n",
       "Average Loss: 0.15560150461672\t\n"
      ]
     },
     "execution_count": 285,
     "metadata": {},
     "output_type": "execute_result"
    },
    {
     "data": {
      "text/plain": [
       "Epoch 6: 20.641898155212\t\n",
       "Average Loss: 0.15444937533606\t\n"
      ]
     },
     "execution_count": 285,
     "metadata": {},
     "output_type": "execute_result"
    },
    {
     "data": {
      "text/plain": [
       "Valid perplexity: 1.177232832283\t\n"
      ]
     },
     "execution_count": 285,
     "metadata": {},
     "output_type": "execute_result"
    },
    {
     "data": {
      "text/plain": [
       "Epoch 7: 19.355062961578\t\n",
       "Average Loss: 0.1533688281671\t\n"
      ]
     },
     "execution_count": 285,
     "metadata": {},
     "output_type": "execute_result"
    },
    {
     "data": {
      "text/plain": [
       "Epoch 8: 20.005716085434\t\n",
       "Average Loss: 0.1523599688517\t\n"
      ]
     },
     "execution_count": 285,
     "metadata": {},
     "output_type": "execute_result"
    },
    {
     "data": {
      "text/plain": [
       "Valid perplexity: 1.1754881318031\t\n"
      ]
     },
     "execution_count": 285,
     "metadata": {},
     "output_type": "execute_result"
    },
    {
     "data": {
      "text/plain": [
       "Epoch 9: 20.25895690918\t\n",
       "Average Loss: 0.15141961276476\t\n"
      ]
     },
     "execution_count": 285,
     "metadata": {},
     "output_type": "execute_result"
    },
    {
     "data": {
      "text/plain": [
       "Epoch 10: 20.001791000366\t\n",
       "Average Loss: 0.15054239950379\t\n"
      ]
     },
     "execution_count": 285,
     "metadata": {},
     "output_type": "execute_result"
    },
    {
     "data": {
      "text/plain": [
       "Valid perplexity: 1.1739414781614\t\n"
      ]
     },
     "execution_count": 285,
     "metadata": {},
     "output_type": "execute_result"
    }
   ],
   "source": [
    "-- Adaptive learning (remember changed position)\n",
    "nEpochs = 10\n",
    "step = 2\n",
    "train_model_with_perp(t_input_new, t_output_new, batchGRU, batchGRU_valid, params_valid_gru,\n",
    "        params_gru, grad_params_gru, crit, eta, nEpochs, batch_size, len, n_new, input_data_valid, output_valid, step)"
   ]
  },
  {
   "cell_type": "code",
   "execution_count": 362,
   "metadata": {
    "collapsed": false
   },
   "outputs": [
    {
     "data": {
      "text/plain": [
       "Epoch 1: 21.13591504097\t\n",
       "Average Loss: 0.15102133170376\t\n"
      ]
     },
     "execution_count": 362,
     "metadata": {},
     "output_type": "execute_result"
    },
    {
     "data": {
      "text/plain": [
       "Epoch 2: 20.824810028076\t\n",
       "Average Loss: 0.14967832680039\t\n"
      ]
     },
     "execution_count": 362,
     "metadata": {},
     "output_type": "execute_result"
    },
    {
     "data": {
      "text/plain": [
       "Valid perplexity: 1.17339501455\t\n"
      ]
     },
     "execution_count": 362,
     "metadata": {},
     "output_type": "execute_result"
    },
    {
     "data": {
      "text/plain": [
       "Epoch 3: 20.168252944946\t\n",
       "Average Loss: 0.14712340869834\t\n"
      ]
     },
     "execution_count": 362,
     "metadata": {},
     "output_type": "execute_result"
    },
    {
     "data": {
      "text/plain": [
       "Epoch 4: 19.862685918808\t\n",
       "Average Loss: 0.14634317440166\t\n"
      ]
     },
     "execution_count": 362,
     "metadata": {},
     "output_type": "execute_result"
    },
    {
     "data": {
      "text/plain": [
       "Valid perplexity: 1.1697229317069\t\n"
      ]
     },
     "execution_count": 362,
     "metadata": {},
     "output_type": "execute_result"
    },
    {
     "data": {
      "text/plain": [
       "Epoch 5: 20.198061943054\t\n",
       "Average Loss: 0.14568765712831\t\n"
      ]
     },
     "execution_count": 362,
     "metadata": {},
     "output_type": "execute_result"
    },
    {
     "data": {
      "text/plain": [
       "Epoch 6: 21.455843925476\t\n",
       "Average Loss: 0.14506850216721\t\n"
      ]
     },
     "execution_count": 362,
     "metadata": {},
     "output_type": "execute_result"
    },
    {
     "data": {
      "text/plain": [
       "Valid perplexity: 1.1684899324422\t\n"
      ]
     },
     "execution_count": 362,
     "metadata": {},
     "output_type": "execute_result"
    },
    {
     "data": {
      "text/plain": [
       "Epoch 7: 20.93475985527\t\n",
       "Average Loss: 0.14447676786644\t\n"
      ]
     },
     "execution_count": 362,
     "metadata": {},
     "output_type": "execute_result"
    },
    {
     "data": {
      "text/plain": [
       "Epoch 8: 23.790939092636\t\n",
       "Average Loss: 0.14390880808384\t\n"
      ]
     },
     "execution_count": 362,
     "metadata": {},
     "output_type": "execute_result"
    },
    {
     "data": {
      "text/plain": [
       "Valid perplexity: 1.1673607266979\t\n"
      ]
     },
     "execution_count": 362,
     "metadata": {},
     "output_type": "execute_result"
    },
    {
     "data": {
      "text/plain": [
       "Epoch 9: 20.453790903091\t\n",
       "Average Loss: 0.14336208173163\t\n"
      ]
     },
     "execution_count": 362,
     "metadata": {},
     "output_type": "execute_result"
    },
    {
     "data": {
      "text/plain": [
       "Epoch 10: 20.399837970734\t\n",
       "Average Loss: 0.14283445960168\t\n"
      ]
     },
     "execution_count": 362,
     "metadata": {},
     "output_type": "execute_result"
    },
    {
     "data": {
      "text/plain": [
       "Valid perplexity: 1.1663204973306\t\n"
      ]
     },
     "execution_count": 362,
     "metadata": {},
     "output_type": "execute_result"
    }
   ],
   "source": [
    "-- Adaptive learning (remember changed position)\n",
    "nEpochs = 10\n",
    "step = 2\n",
    "train_model_with_perp(t_input_new, t_output_new, batchGRU, batchGRU_valid, params_valid_gru,\n",
    "        params_gru, grad_params_gru, crit, eta, nEpochs, batch_size, len, n_new, input_data_valid, output_valid, step)"
   ]
  },
  {
   "cell_type": "code",
   "execution_count": 382,
   "metadata": {
    "collapsed": false
   },
   "outputs": [
    {
     "data": {
      "text/plain": [
       "Epoch 1: 22.13996386528\t\n",
       "Average Loss: 0.14379205863432\t\n"
      ]
     },
     "execution_count": 382,
     "metadata": {},
     "output_type": "execute_result"
    },
    {
     "data": {
      "text/plain": [
       "Epoch 2: 20.517323970795\t\n",
       "Average Loss: 0.14294781335128\t\n"
      ]
     },
     "execution_count": 382,
     "metadata": {},
     "output_type": "execute_result"
    },
    {
     "data": {
      "text/plain": [
       "Valid perplexity: 1.1665943843895\t\n"
      ]
     },
     "execution_count": 382,
     "metadata": {},
     "output_type": "execute_result"
    },
    {
     "data": {
      "text/plain": [
       "Epoch 3: 20.261568069458\t\n",
       "Average Loss: 0.14069050180087\t\n"
      ]
     },
     "execution_count": 382,
     "metadata": {},
     "output_type": "execute_result"
    },
    {
     "data": {
      "text/plain": [
       "Epoch 4: 20.730599880219\t\n",
       "Average Loss: 0.14011809222691\t\n"
      ]
     },
     "execution_count": 382,
     "metadata": {},
     "output_type": "execute_result"
    },
    {
     "data": {
      "text/plain": [
       "Valid perplexity: 1.1634903073514\t\n"
      ]
     },
     "execution_count": 382,
     "metadata": {},
     "output_type": "execute_result"
    },
    {
     "data": {
      "text/plain": [
       "Epoch 5: 21.100613117218\t\n",
       "Average Loss: 0.13965992055933\t\n"
      ]
     },
     "execution_count": 382,
     "metadata": {},
     "output_type": "execute_result"
    },
    {
     "data": {
      "text/plain": [
       "Epoch 6: 21.459497928619\t\n",
       "Average Loss: 0.13922807224974\t\n"
      ]
     },
     "execution_count": 382,
     "metadata": {},
     "output_type": "execute_result"
    },
    {
     "data": {
      "text/plain": [
       "Valid perplexity: 1.162639710037\t\n"
      ]
     },
     "execution_count": 382,
     "metadata": {},
     "output_type": "execute_result"
    },
    {
     "data": {
      "text/plain": [
       "Epoch 7: 22.623461008072\t\n",
       "Average Loss: 0.13881433381805\t\n"
      ]
     },
     "execution_count": 382,
     "metadata": {},
     "output_type": "execute_result"
    },
    {
     "data": {
      "text/plain": [
       "Epoch 8: 19.699815988541\t\n",
       "Average Loss: 0.13841564025072\t\n"
      ]
     },
     "execution_count": 382,
     "metadata": {},
     "output_type": "execute_result"
    },
    {
     "data": {
      "text/plain": [
       "Valid perplexity: 1.1618228377842\t\n"
      ]
     },
     "execution_count": 382,
     "metadata": {},
     "output_type": "execute_result"
    },
    {
     "data": {
      "text/plain": [
       "Epoch 9: 19.508886098862\t\n",
       "Average Loss: 0.13803027044745\t\n"
      ]
     },
     "execution_count": 382,
     "metadata": {},
     "output_type": "execute_result"
    },
    {
     "data": {
      "text/plain": [
       "Epoch 10: 21.358961105347\t\n",
       "Average Loss: 0.13765702408165\t\n"
      ]
     },
     "execution_count": 382,
     "metadata": {},
     "output_type": "execute_result"
    },
    {
     "data": {
      "text/plain": [
       "Valid perplexity: 1.1610467126026\t\n"
      ]
     },
     "execution_count": 382,
     "metadata": {},
     "output_type": "execute_result"
    }
   ],
   "source": [
    "-- Adaptive learning (remember changed position)\n",
    "nEpochs = 10\n",
    "step = 2\n",
    "train_model_with_perp(t_input_new, t_output_new, batchGRU, batchGRU_valid, params_valid_gru,\n",
    "        params_gru, grad_params_gru, crit, eta, nEpochs, batch_size, len, n_new, input_data_valid, output_valid, step)"
   ]
  },
  {
   "cell_type": "code",
   "execution_count": 435,
   "metadata": {
    "collapsed": false,
    "scrolled": false
   },
   "outputs": [
    {
     "data": {
      "text/plain": [
       "Epoch 1: 22.545777082443\t\n",
       "Average Loss: 0.13885030797432\t\n"
      ]
     },
     "execution_count": 435,
     "metadata": {},
     "output_type": "execute_result"
    },
    {
     "data": {
      "text/plain": [
       "Epoch 2: 19.983576059341\t\n",
       "Average Loss: 0.13827257419719\t\n"
      ]
     },
     "execution_count": 435,
     "metadata": {},
     "output_type": "execute_result"
    },
    {
     "data": {
      "text/plain": [
       "Valid perplexity: 1.1621599825604\t\n"
      ]
     },
     "execution_count": 435,
     "metadata": {},
     "output_type": "execute_result"
    },
    {
     "data": {
      "text/plain": [
       "Epoch 3: 22.232865095139\t\n",
       "Average Loss: 0.13619273273158\t\n"
      ]
     },
     "execution_count": 435,
     "metadata": {},
     "output_type": "execute_result"
    },
    {
     "data": {
      "text/plain": [
       "Epoch 4: 20.594750165939\t\n",
       "Average Loss: 0.13573305556668\t\n"
      ]
     },
     "execution_count": 435,
     "metadata": {},
     "output_type": "execute_result"
    },
    {
     "data": {
      "text/plain": [
       "Valid perplexity: 1.1589216329304\t\n"
      ]
     },
     "execution_count": 435,
     "metadata": {},
     "output_type": "execute_result"
    },
    {
     "data": {
      "text/plain": [
       "Epoch 5: 20.755531072617\t\n",
       "Average Loss: 0.1353939505917\t\n"
      ]
     },
     "execution_count": 435,
     "metadata": {},
     "output_type": "execute_result"
    },
    {
     "data": {
      "text/plain": [
       "Epoch 6: 24.168246030807\t\n",
       "Average Loss: 0.13507559928559\t\n"
      ]
     },
     "execution_count": 435,
     "metadata": {},
     "output_type": "execute_result"
    },
    {
     "data": {
      "text/plain": [
       "Valid perplexity: 1.1583453734872\t\n"
      ]
     },
     "execution_count": 435,
     "metadata": {},
     "output_type": "execute_result"
    },
    {
     "data": {
      "text/plain": [
       "Epoch 7: 19.873110055923\t\n",
       "Average Loss: 0.13477020602407\t\n"
      ]
     },
     "execution_count": 435,
     "metadata": {},
     "output_type": "execute_result"
    },
    {
     "data": {
      "text/plain": [
       "Epoch 8: 19.094156980515\t\n",
       "Average Loss: 0.13447526170994\t\n"
      ]
     },
     "execution_count": 435,
     "metadata": {},
     "output_type": "execute_result"
    },
    {
     "data": {
      "text/plain": [
       "Valid perplexity: 1.1578149920634\t\n"
      ]
     },
     "execution_count": 435,
     "metadata": {},
     "output_type": "execute_result"
    },
    {
     "data": {
      "text/plain": [
       "Epoch 9: 17.862583875656\t\n",
       "Average Loss: 0.13418941540144\t\n"
      ]
     },
     "execution_count": 435,
     "metadata": {},
     "output_type": "execute_result"
    },
    {
     "data": {
      "text/plain": [
       "Epoch 10: 17.655668973923\t\n",
       "Average Loss: 0.13391170029244\t\n"
      ]
     },
     "execution_count": 435,
     "metadata": {},
     "output_type": "execute_result"
    },
    {
     "data": {
      "text/plain": [
       "Valid perplexity: 1.1573385414753\t\n"
      ]
     },
     "execution_count": 435,
     "metadata": {},
     "output_type": "execute_result"
    },
    {
     "data": {
      "text/plain": [
       "Epoch 11: 17.783102989197\t\n",
       "Average Loss: 0.13364136709537\t\n"
      ]
     },
     "execution_count": 435,
     "metadata": {},
     "output_type": "execute_result"
    },
    {
     "data": {
      "text/plain": [
       "Epoch 12: 18.145921945572\t\n",
       "Average Loss: 0.13337778049605\t\n"
      ]
     },
     "execution_count": 435,
     "metadata": {},
     "output_type": "execute_result"
    },
    {
     "data": {
      "text/plain": [
       "Valid perplexity: 1.1569174499851\t\n"
      ]
     },
     "execution_count": 435,
     "metadata": {},
     "output_type": "execute_result"
    },
    {
     "data": {
      "text/plain": [
       "Epoch 13: 18.094946146011\t\n",
       "Average Loss: 0.13312038622511\t\n"
      ]
     },
     "execution_count": 435,
     "metadata": {},
     "output_type": "execute_result"
    },
    {
     "data": {
      "text/plain": [
       "Epoch 14: 18.120755910873\t\n",
       "Average Loss: 0.13286872840774\t\n"
      ]
     },
     "execution_count": 435,
     "metadata": {},
     "output_type": "execute_result"
    },
    {
     "data": {
      "text/plain": [
       "Valid perplexity: 1.156546814745\t\n"
      ]
     },
     "execution_count": 435,
     "metadata": {},
     "output_type": "execute_result"
    },
    {
     "data": {
      "text/plain": [
       "Epoch 15: 18.102416992188\t\n",
       "Average Loss: 0.13262242904405\t\n"
      ]
     },
     "execution_count": 435,
     "metadata": {},
     "output_type": "execute_result"
    },
    {
     "data": {
      "text/plain": [
       "Epoch 16: 17.686733007431\t\n",
       "Average Loss: 0.13238119750156\t\n"
      ]
     },
     "execution_count": 435,
     "metadata": {},
     "output_type": "execute_result"
    },
    {
     "data": {
      "text/plain": [
       "Valid perplexity: 1.1562171320488\t\n"
      ]
     },
     "execution_count": 435,
     "metadata": {},
     "output_type": "execute_result"
    },
    {
     "data": {
      "text/plain": [
       "Epoch 17: 17.63969707489\t\n",
       "Average Loss: 0.13214483391502\t\n"
      ]
     },
     "execution_count": 435,
     "metadata": {},
     "output_type": "execute_result"
    },
    {
     "data": {
      "text/plain": [
       "Epoch 18: 18.094696998596\t\n",
       "Average Loss: 0.13191321029313\t\n"
      ]
     },
     "execution_count": 435,
     "metadata": {},
     "output_type": "execute_result"
    },
    {
     "data": {
      "text/plain": [
       "Valid perplexity: 1.1559173205015\t\n"
      ]
     },
     "execution_count": 435,
     "metadata": {},
     "output_type": "execute_result"
    },
    {
     "data": {
      "text/plain": [
       "Epoch 19: 17.960673809052\t\n",
       "Average Loss: 0.1316863136636\t\n"
      ]
     },
     "execution_count": 435,
     "metadata": {},
     "output_type": "execute_result"
    },
    {
     "data": {
      "text/plain": [
       "Epoch 20: 18.431226968765\t\n",
       "Average Loss: 0.1314642012929\t\n"
      ]
     },
     "execution_count": 435,
     "metadata": {},
     "output_type": "execute_result"
    },
    {
     "data": {
      "text/plain": [
       "Valid perplexity: 1.1556376683291\t\n"
      ]
     },
     "execution_count": 435,
     "metadata": {},
     "output_type": "execute_result"
    },
    {
     "data": {
      "text/plain": [
       "Epoch 21: 18.413468837738\t\n",
       "Average Loss: 0.13124699940196\t\n"
      ]
     },
     "execution_count": 435,
     "metadata": {},
     "output_type": "execute_result"
    },
    {
     "data": {
      "text/plain": [
       "Epoch 22: 17.525287151337\t\n",
       "Average Loss: 0.13103492199719\t\n"
      ]
     },
     "execution_count": 435,
     "metadata": {},
     "output_type": "execute_result"
    },
    {
     "data": {
      "text/plain": [
       "Valid perplexity: 1.1553714399624\t\n"
      ]
     },
     "execution_count": 435,
     "metadata": {},
     "output_type": "execute_result"
    },
    {
     "data": {
      "text/plain": [
       "Epoch 23: 18.2680311203\t\n",
       "Average Loss: 0.13082826942553\t\n"
      ]
     },
     "execution_count": 435,
     "metadata": {},
     "output_type": "execute_result"
    },
    {
     "data": {
      "text/plain": [
       "Epoch 24: 18.154093027115\t\n",
       "Average Loss: 0.13062730259815\t\n"
      ]
     },
     "execution_count": 435,
     "metadata": {},
     "output_type": "execute_result"
    },
    {
     "data": {
      "text/plain": [
       "Valid perplexity: 1.1551156575316\t\n"
      ]
     },
     "execution_count": 435,
     "metadata": {},
     "output_type": "execute_result"
    },
    {
     "data": {
      "text/plain": [
       "Epoch 25: 17.848064184189\t\n"
      ]
     },
     "execution_count": 435,
     "metadata": {},
     "output_type": "execute_result"
    },
    {
     "data": {
      "text/plain": [
       "Average Loss: 0.13043215433892\t\n"
      ]
     },
     "execution_count": 435,
     "metadata": {},
     "output_type": "execute_result"
    },
    {
     "data": {
      "text/plain": [
       "Epoch 26: 17.575429916382\t\n",
       "Average Loss: 0.13024283596149\t\n"
      ]
     },
     "execution_count": 435,
     "metadata": {},
     "output_type": "execute_result"
    },
    {
     "data": {
      "text/plain": [
       "Valid perplexity: 1.154870382664\t\n"
      ]
     },
     "execution_count": 435,
     "metadata": {},
     "output_type": "execute_result"
    },
    {
     "data": {
      "text/plain": [
       "Epoch 27: 17.889449119568\t\n",
       "Average Loss: 0.13005924847945\t\n"
      ]
     },
     "execution_count": 435,
     "metadata": {},
     "output_type": "execute_result"
    },
    {
     "data": {
      "text/plain": [
       "Epoch 28: 18.206285953522\t\n",
       "Average Loss: 0.1298812211645\t\n"
      ]
     },
     "execution_count": 435,
     "metadata": {},
     "output_type": "execute_result"
    },
    {
     "data": {
      "text/plain": [
       "Valid perplexity: 1.1546367310081\t\n"
      ]
     },
     "execution_count": 435,
     "metadata": {},
     "output_type": "execute_result"
    },
    {
     "data": {
      "text/plain": [
       "Epoch 29: 17.927737951279\t\n",
       "Average Loss: 0.129708551791\t\n"
      ]
     },
     "execution_count": 435,
     "metadata": {},
     "output_type": "execute_result"
    },
    {
     "data": {
      "text/plain": [
       "Epoch 30: 18.13025188446\t\n",
       "Average Loss: 0.12954097551812\t\n"
      ]
     },
     "execution_count": 435,
     "metadata": {},
     "output_type": "execute_result"
    },
    {
     "data": {
      "text/plain": [
       "Valid perplexity: 1.1544156450567\t\n"
      ]
     },
     "execution_count": 435,
     "metadata": {},
     "output_type": "execute_result"
    },
    {
     "data": {
      "text/plain": [
       "Epoch 31: 17.972393035889\t\n",
       "Average Loss: 0.12937821064312\t\n"
      ]
     },
     "execution_count": 435,
     "metadata": {},
     "output_type": "execute_result"
    },
    {
     "data": {
      "text/plain": [
       "Epoch 32: 18.022514104843\t\n",
       "Average Loss: 0.12921993859017\t\n"
      ]
     },
     "execution_count": 435,
     "metadata": {},
     "output_type": "execute_result"
    },
    {
     "data": {
      "text/plain": [
       "Valid perplexity: 1.1542078005565\t\n"
      ]
     },
     "execution_count": 435,
     "metadata": {},
     "output_type": "execute_result"
    },
    {
     "data": {
      "text/plain": [
       "Epoch 33: 18.098709106445\t\n",
       "Average Loss: 0.12906586521755\t\n"
      ]
     },
     "execution_count": 435,
     "metadata": {},
     "output_type": "execute_result"
    },
    {
     "data": {
      "text/plain": [
       "Epoch 34: 18.061480998993\t\n",
       "Average Loss: 0.12891573282572\t\n"
      ]
     },
     "execution_count": 435,
     "metadata": {},
     "output_type": "execute_result"
    },
    {
     "data": {
      "text/plain": [
       "Valid perplexity: 1.1540132440544\t\n"
      ]
     },
     "execution_count": 435,
     "metadata": {},
     "output_type": "execute_result"
    },
    {
     "data": {
      "text/plain": [
       "Epoch 35: 17.851922988892\t\n",
       "Average Loss: 0.12876928898343\t\n"
      ]
     },
     "execution_count": 435,
     "metadata": {},
     "output_type": "execute_result"
    },
    {
     "data": {
      "text/plain": [
       "Epoch 36: 17.640043020248\t\n",
       "Average Loss: 0.12862631967464\t\n"
      ]
     },
     "execution_count": 435,
     "metadata": {},
     "output_type": "execute_result"
    },
    {
     "data": {
      "text/plain": [
       "Valid perplexity: 1.1538320241443\t\n"
      ]
     },
     "execution_count": 435,
     "metadata": {},
     "output_type": "execute_result"
    },
    {
     "data": {
      "text/plain": [
       "Epoch 37: 17.948754072189\t\n",
       "Average Loss: 0.12848664506094\t\n"
      ]
     },
     "execution_count": 435,
     "metadata": {},
     "output_type": "execute_result"
    },
    {
     "data": {
      "text/plain": [
       "Epoch 38: 18.30277299881\t\n",
       "Average Loss: 0.12835011365792\t\n"
      ]
     },
     "execution_count": 435,
     "metadata": {},
     "output_type": "execute_result"
    },
    {
     "data": {
      "text/plain": [
       "Valid perplexity: 1.1536636200407\t\n"
      ]
     },
     "execution_count": 435,
     "metadata": {},
     "output_type": "execute_result"
    },
    {
     "data": {
      "text/plain": [
       "Epoch 39: 17.796437978745\t\n",
       "Average Loss: 0.12821662391096\t\n"
      ]
     },
     "execution_count": 435,
     "metadata": {},
     "output_type": "execute_result"
    },
    {
     "data": {
      "text/plain": [
       "Epoch 40: 17.817242860794\t\n",
       "Average Loss: 0.12808607707027\t\n"
      ]
     },
     "execution_count": 435,
     "metadata": {},
     "output_type": "execute_result"
    },
    {
     "data": {
      "text/plain": [
       "Valid perplexity: 1.1535079512679\t\n"
      ]
     },
     "execution_count": 435,
     "metadata": {},
     "output_type": "execute_result"
    },
    {
     "data": {
      "text/plain": [
       "Epoch 41: 17.903411865234\t\n",
       "Average Loss: 0.12795839773449\t\n"
      ]
     },
     "execution_count": 435,
     "metadata": {},
     "output_type": "execute_result"
    },
    {
     "data": {
      "text/plain": [
       "Epoch 42: 18.195774793625\t\n",
       "Average Loss: 0.12783351960772\t\n"
      ]
     },
     "execution_count": 435,
     "metadata": {},
     "output_type": "execute_result"
    },
    {
     "data": {
      "text/plain": [
       "Valid perplexity: 1.1533648478596\t\n"
      ]
     },
     "execution_count": 435,
     "metadata": {},
     "output_type": "execute_result"
    },
    {
     "data": {
      "text/plain": [
       "Epoch 43: 17.823860883713\t\n",
       "Average Loss: 0.12771136902491\t\n"
      ]
     },
     "execution_count": 435,
     "metadata": {},
     "output_type": "execute_result"
    },
    {
     "data": {
      "text/plain": [
       "Epoch 44: 17.93257689476\t\n",
       "Average Loss: 0.12759188331053\t\n"
      ]
     },
     "execution_count": 435,
     "metadata": {},
     "output_type": "execute_result"
    },
    {
     "data": {
      "text/plain": [
       "Valid perplexity: 1.1532339337479\t\n"
      ]
     },
     "execution_count": 435,
     "metadata": {},
     "output_type": "execute_result"
    },
    {
     "data": {
      "text/plain": [
       "Epoch 45: 17.754878997803\t\n",
       "Average Loss: 0.12747499429056\t\n"
      ]
     },
     "execution_count": 435,
     "metadata": {},
     "output_type": "execute_result"
    },
    {
     "data": {
      "text/plain": [
       "Epoch 46: 17.975925922394\t\n",
       "Average Loss: 0.12736061296492\t\n"
      ]
     },
     "execution_count": 435,
     "metadata": {},
     "output_type": "execute_result"
    },
    {
     "data": {
      "text/plain": [
       "Valid perplexity: 1.1531147399293\t\n"
      ]
     },
     "execution_count": 435,
     "metadata": {},
     "output_type": "execute_result"
    },
    {
     "data": {
      "text/plain": [
       "Epoch 47: 18.394656896591\t\n",
       "Average Loss: 0.12724864536368\t\n"
      ]
     },
     "execution_count": 435,
     "metadata": {},
     "output_type": "execute_result"
    },
    {
     "data": {
      "text/plain": [
       "Epoch 48: 18.220632076263\t\n",
       "Average Loss: 0.12713900747949\t\n"
      ]
     },
     "execution_count": 435,
     "metadata": {},
     "output_type": "execute_result"
    },
    {
     "data": {
      "text/plain": [
       "Valid perplexity: 1.1530066342105\t\n"
      ]
     },
     "execution_count": 435,
     "metadata": {},
     "output_type": "execute_result"
    },
    {
     "data": {
      "text/plain": [
       "Epoch 49: 18.01609992981\t\n",
       "Average Loss: 0.12703159984616\t\n"
      ]
     },
     "execution_count": 435,
     "metadata": {},
     "output_type": "execute_result"
    },
    {
     "data": {
      "text/plain": [
       "Epoch 50: 17.895009040833\t\n",
       "Average Loss: 0.12692631358601\t\n"
      ]
     },
     "execution_count": 435,
     "metadata": {},
     "output_type": "execute_result"
    },
    {
     "data": {
      "text/plain": [
       "Valid perplexity: 1.1529086821628\t\n"
      ]
     },
     "execution_count": 435,
     "metadata": {},
     "output_type": "execute_result"
    },
    {
     "data": {
      "text/plain": [
       "Epoch 51: 17.914889812469\t\n",
       "Average Loss: 0.12682304482303\t\n"
      ]
     },
     "execution_count": 435,
     "metadata": {},
     "output_type": "execute_result"
    },
    {
     "data": {
      "text/plain": [
       "Epoch 52: 18.129122972488\t\n",
       "Average Loss: 0.12672170169738\t\n"
      ]
     },
     "execution_count": 435,
     "metadata": {},
     "output_type": "execute_result"
    },
    {
     "data": {
      "text/plain": [
       "Valid perplexity: 1.1528187773168\t\n"
      ]
     },
     "execution_count": 435,
     "metadata": {},
     "output_type": "execute_result"
    },
    {
     "data": {
      "text/plain": [
       "Epoch 53: 17.945506095886\t\n",
       "Average Loss: 0.12662218984641\t\n"
      ]
     },
     "execution_count": 435,
     "metadata": {},
     "output_type": "execute_result"
    },
    {
     "data": {
      "text/plain": [
       "Epoch 54: 17.855722904205\t\n",
       "Average Loss: 0.1265244400864\t\n"
      ]
     },
     "execution_count": 435,
     "metadata": {},
     "output_type": "execute_result"
    },
    {
     "data": {
      "text/plain": [
       "Valid perplexity: 1.1527337861632\t\n"
      ]
     },
     "execution_count": 435,
     "metadata": {},
     "output_type": "execute_result"
    },
    {
     "data": {
      "text/plain": [
       "Epoch 55: 17.738482952118\t\n",
       "Average Loss: 0.12642839002256\t\n"
      ]
     },
     "execution_count": 435,
     "metadata": {},
     "output_type": "execute_result"
    },
    {
     "data": {
      "text/plain": [
       "Epoch 56: 18.142722129822\t\n",
       "Average Loss: 0.12633399624185\t\n"
      ]
     },
     "execution_count": 435,
     "metadata": {},
     "output_type": "execute_result"
    },
    {
     "data": {
      "text/plain": [
       "Valid perplexity: 1.1526507832309\t\n"
      ]
     },
     "execution_count": 435,
     "metadata": {},
     "output_type": "execute_result"
    },
    {
     "data": {
      "text/plain": [
       "Epoch 57: 17.997193098068\t\n",
       "Average Loss: 0.1262412029695\t\n"
      ]
     },
     "execution_count": 435,
     "metadata": {},
     "output_type": "execute_result"
    },
    {
     "data": {
      "text/plain": [
       "Epoch 58: 17.82647895813\t\n",
       "Average Loss: 0.12614992757651\t\n"
      ]
     },
     "execution_count": 435,
     "metadata": {},
     "output_type": "execute_result"
    },
    {
     "data": {
      "text/plain": [
       "Valid perplexity: 1.1525683877034\t\n"
      ]
     },
     "execution_count": 435,
     "metadata": {},
     "output_type": "execute_result"
    },
    {
     "data": {
      "text/plain": [
       "Epoch 59: 18.016143083572\t\n",
       "Average Loss: 0.12606011308043\t\n"
      ]
     },
     "execution_count": 435,
     "metadata": {},
     "output_type": "execute_result"
    },
    {
     "data": {
      "text/plain": [
       "Epoch 60: 18.174406051636\t\n",
       "Average Loss: 0.12597168130293\t\n"
      ]
     },
     "execution_count": 435,
     "metadata": {},
     "output_type": "execute_result"
    },
    {
     "data": {
      "text/plain": [
       "Valid perplexity: 1.152486313057\t\n"
      ]
     },
     "execution_count": 435,
     "metadata": {},
     "output_type": "execute_result"
    },
    {
     "data": {
      "text/plain": [
       "Epoch 61: 17.891489982605\t\n",
       "Average Loss: 0.12588454852331\t\n"
      ]
     },
     "execution_count": 435,
     "metadata": {},
     "output_type": "execute_result"
    },
    {
     "data": {
      "text/plain": [
       "Epoch 62: 18.259901046753\t\n",
       "Average Loss: 0.12579863149173\t\n"
      ]
     },
     "execution_count": 435,
     "metadata": {},
     "output_type": "execute_result"
    },
    {
     "data": {
      "text/plain": [
       "Valid perplexity: 1.1524046340126\t\n"
      ]
     },
     "execution_count": 435,
     "metadata": {},
     "output_type": "execute_result"
    },
    {
     "data": {
      "text/plain": [
       "Epoch 63: 17.781445026398\t\n",
       "Average Loss: 0.12571384840279\t\n"
      ]
     },
     "execution_count": 435,
     "metadata": {},
     "output_type": "execute_result"
    },
    {
     "data": {
      "text/plain": [
       "Epoch 64: 18.421550035477\t\n",
       "Average Loss: 0.12563010974301\t\n"
      ]
     },
     "execution_count": 435,
     "metadata": {},
     "output_type": "execute_result"
    },
    {
     "data": {
      "text/plain": [
       "Valid perplexity: 1.1523233909665\t\n"
      ]
     },
     "execution_count": 435,
     "metadata": {},
     "output_type": "execute_result"
    },
    {
     "data": {
      "text/plain": [
       "Epoch 65: 18.03423500061\t\n",
       "Average Loss: 0.12554733723259\t\n"
      ]
     },
     "execution_count": 435,
     "metadata": {},
     "output_type": "execute_result"
    },
    {
     "data": {
      "text/plain": [
       "Epoch 66: 17.796693086624\t\n",
       "Average Loss: 0.12546546307045\t\n"
      ]
     },
     "execution_count": 435,
     "metadata": {},
     "output_type": "execute_result"
    },
    {
     "data": {
      "text/plain": [
       "Valid perplexity: 1.1522433009427\t\n"
      ]
     },
     "execution_count": 435,
     "metadata": {},
     "output_type": "execute_result"
    },
    {
     "data": {
      "text/plain": [
       "Epoch 67: 17.694441080093\t\n",
       "Average Loss: 0.12538442552816\t\n"
      ]
     },
     "execution_count": 435,
     "metadata": {},
     "output_type": "execute_result"
    },
    {
     "data": {
      "text/plain": [
       "Epoch 68: 18.295331001282\t\n",
       "Average Loss: 0.12530417155006\t\n"
      ]
     },
     "execution_count": 435,
     "metadata": {},
     "output_type": "execute_result"
    },
    {
     "data": {
      "text/plain": [
       "Valid perplexity: 1.1521648769803\t\n"
      ]
     },
     "execution_count": 435,
     "metadata": {},
     "output_type": "execute_result"
    },
    {
     "data": {
      "text/plain": [
       "Epoch 69: 18.21786904335\t\n",
       "Average Loss: 0.12522466205638\t\n"
      ]
     },
     "execution_count": 435,
     "metadata": {},
     "output_type": "execute_result"
    },
    {
     "data": {
      "text/plain": [
       "Epoch 70: 18.202157974243\t\n",
       "Average Loss: 0.12514586647364\t\n"
      ]
     },
     "execution_count": 435,
     "metadata": {},
     "output_type": "execute_result"
    },
    {
     "data": {
      "text/plain": [
       "Valid perplexity: 1.1520883177405\t\n"
      ]
     },
     "execution_count": 435,
     "metadata": {},
     "output_type": "execute_result"
    },
    {
     "data": {
      "text/plain": [
       "Epoch 71: 17.900737047195\t\n",
       "Average Loss: 0.12506776631093\t\n"
      ]
     },
     "execution_count": 435,
     "metadata": {},
     "output_type": "execute_result"
    },
    {
     "data": {
      "text/plain": [
       "Epoch 72: 17.710006952286\t\n",
       "Average Loss: 0.12499035424434\t\n"
      ]
     },
     "execution_count": 435,
     "metadata": {},
     "output_type": "execute_result"
    },
    {
     "data": {
      "text/plain": [
       "Valid perplexity: 1.1520137678049\t\n"
      ]
     },
     "execution_count": 435,
     "metadata": {},
     "output_type": "execute_result"
    },
    {
     "data": {
      "text/plain": [
       "Epoch 73: 17.623028993607\t\n",
       "Average Loss: 0.12491363015958\t\n"
      ]
     },
     "execution_count": 435,
     "metadata": {},
     "output_type": "execute_result"
    },
    {
     "data": {
      "text/plain": [
       "Epoch 74: 18.156726121902\t\n",
       "Average Loss: 0.12483758854369\t\n"
      ]
     },
     "execution_count": 435,
     "metadata": {},
     "output_type": "execute_result"
    },
    {
     "data": {
      "text/plain": [
       "Valid perplexity: 1.1519415074308\t\n"
      ]
     },
     "execution_count": 435,
     "metadata": {},
     "output_type": "execute_result"
    },
    {
     "data": {
      "text/plain": [
       "Epoch 75: 17.925221920013\t\n",
       "Average Loss: 0.12476223252488\t\n"
      ]
     },
     "execution_count": 435,
     "metadata": {},
     "output_type": "execute_result"
    },
    {
     "data": {
      "text/plain": [
       "Epoch 76: 18.196000814438\t\n",
       "Average Loss: 0.1246875571115\t\n"
      ]
     },
     "execution_count": 435,
     "metadata": {},
     "output_type": "execute_result"
    },
    {
     "data": {
      "text/plain": [
       "Valid perplexity: 1.1518720531997\t\n"
      ]
     },
     "execution_count": 435,
     "metadata": {},
     "output_type": "execute_result"
    },
    {
     "data": {
      "text/plain": [
       "Epoch 77: 17.882318019867\t\n",
       "Average Loss: 0.12461355493795\t\n"
      ]
     },
     "execution_count": 435,
     "metadata": {},
     "output_type": "execute_result"
    },
    {
     "data": {
      "text/plain": [
       "Epoch 78: 18.180930137634\t\n",
       "Average Loss: 0.12454022829548\t\n"
      ]
     },
     "execution_count": 435,
     "metadata": {},
     "output_type": "execute_result"
    },
    {
     "data": {
      "text/plain": [
       "Valid perplexity: 1.1518058377243\t\n"
      ]
     },
     "execution_count": 435,
     "metadata": {},
     "output_type": "execute_result"
    },
    {
     "data": {
      "text/plain": [
       "Epoch 79: 17.87722992897\t\n",
       "Average Loss: 0.1244675775078\t\n"
      ]
     },
     "execution_count": 435,
     "metadata": {},
     "output_type": "execute_result"
    },
    {
     "data": {
      "text/plain": [
       "Epoch 80: 18.150702953339\t\n",
       "Average Loss: 0.12439560214085\t\n"
      ]
     },
     "execution_count": 435,
     "metadata": {},
     "output_type": "execute_result"
    },
    {
     "data": {
      "text/plain": [
       "Valid perplexity: 1.1517434904404\t\n"
      ]
     },
     "execution_count": 435,
     "metadata": {},
     "output_type": "execute_result"
    },
    {
     "data": {
      "text/plain": [
       "Epoch 81: 18.063454866409\t\n",
       "Average Loss: 0.12432430303605\t\n"
      ]
     },
     "execution_count": 435,
     "metadata": {},
     "output_type": "execute_result"
    },
    {
     "data": {
      "text/plain": [
       "Epoch 82: 17.554125070572\t\n",
       "Average Loss: 0.12425368386962\t\n"
      ]
     },
     "execution_count": 435,
     "metadata": {},
     "output_type": "execute_result"
    },
    {
     "data": {
      "text/plain": [
       "Valid perplexity: 1.151685251359\t\n"
      ]
     },
     "execution_count": 435,
     "metadata": {},
     "output_type": "execute_result"
    },
    {
     "data": {
      "text/plain": [
       "Epoch 83: 17.869874954224\t\n",
       "Average Loss: 0.12418375099976\t\n"
      ]
     },
     "execution_count": 435,
     "metadata": {},
     "output_type": "execute_result"
    },
    {
     "data": {
      "text/plain": [
       "Epoch 84: 17.71660900116\t\n",
       "Average Loss: 0.12411451107857\t\n"
      ]
     },
     "execution_count": 435,
     "metadata": {},
     "output_type": "execute_result"
    },
    {
     "data": {
      "text/plain": [
       "Valid perplexity: 1.1516312356493\t\n"
      ]
     },
     "execution_count": 435,
     "metadata": {},
     "output_type": "execute_result"
    },
    {
     "data": {
      "text/plain": [
       "Epoch 85: 17.778810024261\t\n",
       "Average Loss: 0.12404596939808\t\n"
      ]
     },
     "execution_count": 435,
     "metadata": {},
     "output_type": "execute_result"
    },
    {
     "data": {
      "text/plain": [
       "Epoch 86: 17.801347970963\t\n",
       "Average Loss: 0.12397812857277\t\n"
      ]
     },
     "execution_count": 435,
     "metadata": {},
     "output_type": "execute_result"
    },
    {
     "data": {
      "text/plain": [
       "Valid perplexity: 1.1515813520958\t\n"
      ]
     },
     "execution_count": 435,
     "metadata": {},
     "output_type": "execute_result"
    },
    {
     "data": {
      "text/plain": [
       "Epoch 87: 17.996531009674\t\n",
       "Average Loss: 0.12391098847963\t\n"
      ]
     },
     "execution_count": 435,
     "metadata": {},
     "output_type": "execute_result"
    },
    {
     "data": {
      "text/plain": [
       "Epoch 88: 18.287904024124\t\n",
       "Average Loss: 0.12384455275792\t\n"
      ]
     },
     "execution_count": 435,
     "metadata": {},
     "output_type": "execute_result"
    },
    {
     "data": {
      "text/plain": [
       "Valid perplexity: 1.1515351184786\t\n"
      ]
     },
     "execution_count": 435,
     "metadata": {},
     "output_type": "execute_result"
    },
    {
     "data": {
      "text/plain": [
       "Epoch 89: 18.433608055115\t\n",
       "Average Loss: 0.12377882680262\t\n"
      ]
     },
     "execution_count": 435,
     "metadata": {},
     "output_type": "execute_result"
    },
    {
     "data": {
      "text/plain": [
       "Epoch 90: 17.588621854782\t\n",
       "Average Loss: 0.12371381556529\t\n"
      ]
     },
     "execution_count": 435,
     "metadata": {},
     "output_type": "execute_result"
    },
    {
     "data": {
      "text/plain": [
       "Valid perplexity: 1.1514922892958\t\n"
      ]
     },
     "execution_count": 435,
     "metadata": {},
     "output_type": "execute_result"
    },
    {
     "data": {
      "text/plain": [
       "Epoch 91: 17.921133995056\t\n",
       "Average Loss: 0.12364950982326\t\n"
      ]
     },
     "execution_count": 435,
     "metadata": {},
     "output_type": "execute_result"
    },
    {
     "data": {
      "text/plain": [
       "Epoch 92: 18.139643907547\t\n",
       "Average Loss: 0.12358590856974\t\n"
      ]
     },
     "execution_count": 435,
     "metadata": {},
     "output_type": "execute_result"
    },
    {
     "data": {
      "text/plain": [
       "Valid perplexity: 1.1514527717113\t\n"
      ]
     },
     "execution_count": 435,
     "metadata": {},
     "output_type": "execute_result"
    },
    {
     "data": {
      "text/plain": [
       "Epoch 93: 18.176721811295\t\n",
       "Average Loss: 0.12352300165583\t\n"
      ]
     },
     "execution_count": 435,
     "metadata": {},
     "output_type": "execute_result"
    },
    {
     "data": {
      "text/plain": [
       "Epoch 94: 17.545356988907\t\n",
       "Average Loss: 0.12346077517494\t\n"
      ]
     },
     "execution_count": 435,
     "metadata": {},
     "output_type": "execute_result"
    },
    {
     "data": {
      "text/plain": [
       "Valid perplexity: 1.1514166973583\t\n"
      ]
     },
     "execution_count": 435,
     "metadata": {},
     "output_type": "execute_result"
    },
    {
     "data": {
      "text/plain": [
       "Epoch 95: 18.344294071198\t\n",
       "Average Loss: 0.12339921032712\t\n"
      ]
     },
     "execution_count": 435,
     "metadata": {},
     "output_type": "execute_result"
    },
    {
     "data": {
      "text/plain": [
       "Epoch 96: 18.380256891251\t\n",
       "Average Loss: 0.12333830239049\t\n"
      ]
     },
     "execution_count": 435,
     "metadata": {},
     "output_type": "execute_result"
    },
    {
     "data": {
      "text/plain": [
       "Valid perplexity: 1.1513843986327\t\n"
      ]
     },
     "execution_count": 435,
     "metadata": {},
     "output_type": "execute_result"
    },
    {
     "data": {
      "text/plain": [
       "Epoch 97: 18.220221996307\t\n",
       "Average Loss: 0.12327804560867\t\n"
      ]
     },
     "execution_count": 435,
     "metadata": {},
     "output_type": "execute_result"
    },
    {
     "data": {
      "text/plain": [
       "Epoch 98: 17.539531946182\t\n",
       "Average Loss: 0.12321841464282\t\n"
      ]
     },
     "execution_count": 435,
     "metadata": {},
     "output_type": "execute_result"
    },
    {
     "data": {
      "text/plain": [
       "Valid perplexity: 1.1513566906376\t\n"
      ]
     },
     "execution_count": 435,
     "metadata": {},
     "output_type": "execute_result"
    },
    {
     "data": {
      "text/plain": [
       "Epoch 99: 18.334013938904\t\n",
       "Average Loss: 0.12315938747277\t\n"
      ]
     },
     "execution_count": 435,
     "metadata": {},
     "output_type": "execute_result"
    },
    {
     "data": {
      "text/plain": [
       "Epoch 100: 18.34697508812\t\n",
       "Average Loss: 0.12310093395857\t\n"
      ]
     },
     "execution_count": 435,
     "metadata": {},
     "output_type": "execute_result"
    },
    {
     "data": {
      "text/plain": [
       "Valid perplexity: 1.1513341142622\t\n"
      ]
     },
     "execution_count": 435,
     "metadata": {},
     "output_type": "execute_result"
    }
   ],
   "source": [
    "-- Adaptive learning (remember changed position)\n",
    "nEpochs = 100\n",
    "step = 2\n",
    "train_model_with_perp(t_input_new, t_output_new, batchGRU, batchGRU_valid, params_valid_gru,\n",
    "        params_gru, grad_params_gru, crit, eta, nEpochs, batch_size, len, n_new, input_data_valid, output_valid, step)"
   ]
  },
  {
   "cell_type": "markdown",
   "metadata": {},
   "source": [
    "# EXP LSTM"
   ]
  },
  {
   "cell_type": "code",
   "execution_count": 227,
   "metadata": {
    "collapsed": false
   },
   "outputs": [
    {
     "data": {
      "text/plain": [
       "Input size is 600000\t\n"
      ]
     },
     "execution_count": 227,
     "metadata": {},
     "output_type": "execute_result"
    }
   ],
   "source": [
    "len = 50\n",
    "batch_size = 16\n",
    "vocab_size = 49\n",
    "embed_dim = 20\n",
    "eta = 0.5\n",
    "nEpochs = 40\n",
    "\n",
    "t_input_new, t_output_new = get_train_input(input_data_train, len, batch_size)\n",
    "n_new = len * batch_size *(#t_input_new)\n",
    "print('Input size is '..n_new)\n",
    "\n",
    "-- Building model\n",
    "batchLTM, params_lstm, grad_params_lstm = build_rnn(embed_dim, vocab_size, batch_size, build_LSTM(embed_dim, len), len)\n",
    "batchLTM_valid, params_valid_lstm, grad_params_valid_lstm = build_rnn(embed_dim, vocab_size, 1,build_LSTM(embed_dim))\n",
    "\n",
    "crit = nn.SequencerCriterion(nn.ClassNLLCriterion())"
   ]
  },
  {
   "cell_type": "code",
   "execution_count": 228,
   "metadata": {
    "collapsed": false
   },
   "outputs": [
    {
     "data": {
      "text/plain": [
       "Epoch 1: 20.500305175781\t\n",
       "Average Loss: 0.42686851261555\t\n"
      ]
     },
     "execution_count": 228,
     "metadata": {},
     "output_type": "execute_result"
    },
    {
     "data": {
      "text/plain": [
       "Epoch 2: 22.319206953049\t\n",
       "Average Loss: 0.26914507490737\t\n"
      ]
     },
     "execution_count": 228,
     "metadata": {},
     "output_type": "execute_result"
    },
    {
     "data": {
      "text/plain": [
       "Epoch 3: 20.252361059189\t\n",
       "Average Loss: 0.23543355068168\t\n"
      ]
     },
     "execution_count": 228,
     "metadata": {},
     "output_type": "execute_result"
    },
    {
     "data": {
      "text/plain": [
       "Epoch 4: 22.399124145508\t\n",
       "Average Loss: 0.22355271454239\t\n"
      ]
     },
     "execution_count": 228,
     "metadata": {},
     "output_type": "execute_result"
    },
    {
     "data": {
      "text/plain": [
       "Epoch 5: 22.436785936356\t\n",
       "Average Loss: 0.21356005534607\t\n"
      ]
     },
     "execution_count": 228,
     "metadata": {},
     "output_type": "execute_result"
    },
    {
     "data": {
      "text/plain": [
       "Valid perplexity: 1.2353700014788\t\n"
      ]
     },
     "execution_count": 228,
     "metadata": {},
     "output_type": "execute_result"
    }
   ],
   "source": [
    "-- Adaptive learning rate\n",
    "nEpochs = 5\n",
    "step = 1\n",
    "train_model_with_perp(t_input_new, t_output_new, batchLTM, batchLTM_valid, params_valid_lstm,\n",
    "        params_lstm, grad_params_lstm, crit, eta, nEpochs, batch_size, len, n_new, input_data_valid, output_valid, 5)"
   ]
  },
  {
   "cell_type": "code",
   "execution_count": 229,
   "metadata": {
    "collapsed": false
   },
   "outputs": [
    {
     "data": {
      "text/plain": [
       "Input size is 600320\t\n"
      ]
     },
     "execution_count": 229,
     "metadata": {},
     "output_type": "execute_result"
    }
   ],
   "source": [
    "len = 40\n",
    "batch_size = 16\n",
    "vocab_size = 49\n",
    "embed_dim = 20\n",
    "eta = 0.5\n",
    "nEpochs = 40\n",
    "\n",
    "t_input_new, t_output_new = get_train_input(input_data_train, len, batch_size)\n",
    "n_new = len * batch_size *(#t_input_new)\n",
    "print('Input size is '..n_new)\n",
    "\n",
    "-- Building model\n",
    "batchLTM, params_lstm, grad_params_lstm = build_rnn(embed_dim, vocab_size, batch_size, build_LSTM(embed_dim, len), len)\n",
    "batchLTM_valid, params_valid_lstm, grad_params_valid_lstm = build_rnn(embed_dim, vocab_size, 1,build_LSTM(embed_dim))\n",
    "\n",
    "crit = nn.SequencerCriterion(nn.ClassNLLCriterion())"
   ]
  },
  {
   "cell_type": "code",
   "execution_count": 230,
   "metadata": {
    "collapsed": false
   },
   "outputs": [
    {
     "data": {
      "text/plain": [
       "Epoch 1: 21.371793031693\t\n",
       "Average Loss: 0.40999359046677\t\n"
      ]
     },
     "execution_count": 230,
     "metadata": {},
     "output_type": "execute_result"
    },
    {
     "data": {
      "text/plain": [
       "Epoch 2: 20.550037145615\t\n",
       "Average Loss: 0.26525554284651\t\n"
      ]
     },
     "execution_count": 230,
     "metadata": {},
     "output_type": "execute_result"
    },
    {
     "data": {
      "text/plain": [
       "Epoch 3: 20.77099609375\t\n",
       "Average Loss: 0.22752339722576\t\n"
      ]
     },
     "execution_count": 230,
     "metadata": {},
     "output_type": "execute_result"
    },
    {
     "data": {
      "text/plain": [
       "Epoch 4: 20.083611965179\t\n",
       "Average Loss: 0.21233982497507\t\n"
      ]
     },
     "execution_count": 230,
     "metadata": {},
     "output_type": "execute_result"
    },
    {
     "data": {
      "text/plain": [
       "Epoch 5: 20.474061965942\t\n",
       "Average Loss: 0.20172383091247\t\n"
      ]
     },
     "execution_count": 230,
     "metadata": {},
     "output_type": "execute_result"
    },
    {
     "data": {
      "text/plain": [
       "Valid perplexity: 1.2214339281157\t\n"
      ]
     },
     "execution_count": 230,
     "metadata": {},
     "output_type": "execute_result"
    }
   ],
   "source": [
    "-- Adaptive learning rate\n",
    "nEpochs = 10\n",
    "step = 1\n",
    "train_model_with_perp(t_input_new, t_output_new, batchLTM, batchLTM_valid, params_valid_lstm,\n",
    "        params_lstm, grad_params_lstm, crit, eta, nEpochs, batch_size, len, n_new, input_data_valid, output_valid, 2)"
   ]
  },
  {
   "cell_type": "code",
   "execution_count": 231,
   "metadata": {
    "collapsed": false
   },
   "outputs": [
    {
     "data": {
      "text/plain": [
       "Epoch 1: 22.699866771698\t\n",
       "Average Loss: 0.19419458614932\t\n"
      ]
     },
     "execution_count": 231,
     "metadata": {},
     "output_type": "execute_result"
    },
    {
     "data": {
      "text/plain": [
       "Epoch 2: 20.968109130859\t\n",
       "Average Loss: 0.18793614822398\t\n"
      ]
     },
     "execution_count": 231,
     "metadata": {},
     "output_type": "execute_result"
    },
    {
     "data": {
      "text/plain": [
       "Valid perplexity: 1.2091848838919\t\n"
      ]
     },
     "execution_count": 231,
     "metadata": {},
     "output_type": "execute_result"
    },
    {
     "data": {
      "text/plain": [
       "Epoch 3: 20.89581489563\t\n",
       "Average Loss: 0.18274775433131\t\n"
      ]
     },
     "execution_count": 231,
     "metadata": {},
     "output_type": "execute_result"
    },
    {
     "data": {
      "text/plain": [
       "Epoch 4: 20.497636079788\t\n",
       "Average Loss: 0.18005071151586\t\n"
      ]
     },
     "execution_count": 231,
     "metadata": {},
     "output_type": "execute_result"
    },
    {
     "data": {
      "text/plain": [
       "Valid perplexity: 1.2022368029729\t\n"
      ]
     },
     "execution_count": 231,
     "metadata": {},
     "output_type": "execute_result"
    },
    {
     "data": {
      "text/plain": [
       "Epoch 5: 21.626466989517\t\n",
       "Average Loss: 0.17758307255514\t\n"
      ]
     },
     "execution_count": 231,
     "metadata": {},
     "output_type": "execute_result"
    },
    {
     "data": {
      "text/plain": [
       "Epoch 6: 22.789066076279\t\n",
       "Average Loss: 0.17534566218807\t\n"
      ]
     },
     "execution_count": 231,
     "metadata": {},
     "output_type": "execute_result"
    },
    {
     "data": {
      "text/plain": [
       "Valid perplexity: 1.1973702355909\t\n"
      ]
     },
     "execution_count": 231,
     "metadata": {},
     "output_type": "execute_result"
    },
    {
     "data": {
      "text/plain": [
       "Epoch 7: 19.516790866852\t\n",
       "Average Loss: 0.17335061858939\t\n"
      ]
     },
     "execution_count": 231,
     "metadata": {},
     "output_type": "execute_result"
    },
    {
     "data": {
      "text/plain": [
       "Epoch 8: 18.870615959167\t\n",
       "Average Loss: 0.17155007475586\t\n"
      ]
     },
     "execution_count": 231,
     "metadata": {},
     "output_type": "execute_result"
    },
    {
     "data": {
      "text/plain": [
       "Valid perplexity: 1.1933553148268\t\n"
      ]
     },
     "execution_count": 231,
     "metadata": {},
     "output_type": "execute_result"
    },
    {
     "data": {
      "text/plain": [
       "Epoch 9: 19.937397003174\t\n",
       "Average Loss: 0.16989552580692\t\n"
      ]
     },
     "execution_count": 231,
     "metadata": {},
     "output_type": "execute_result"
    },
    {
     "data": {
      "text/plain": [
       "Epoch 10: 20.051936149597\t\n",
       "Average Loss: 0.16835741463583\t\n"
      ]
     },
     "execution_count": 231,
     "metadata": {},
     "output_type": "execute_result"
    },
    {
     "data": {
      "text/plain": [
       "Valid perplexity: 1.1898619072821\t\n"
      ]
     },
     "execution_count": 231,
     "metadata": {},
     "output_type": "execute_result"
    }
   ],
   "source": [
    "-- Adaptive learning rate\n",
    "nEpochs = 10\n",
    "step = 1\n",
    "train_model_with_perp(t_input_new, t_output_new, batchLTM, batchLTM_valid, params_valid_lstm,\n",
    "        params_lstm, grad_params_lstm, crit, eta, nEpochs, batch_size, len, n_new, input_data_valid, output_valid, 2)"
   ]
  },
  {
   "cell_type": "code",
   "execution_count": 232,
   "metadata": {
    "collapsed": false
   },
   "outputs": [
    {
     "data": {
      "text/plain": [
       "Epoch 1: 20.126780033112\t\n",
       "Average Loss: 0.16735650833021\t\n"
      ]
     },
     "execution_count": 232,
     "metadata": {},
     "output_type": "execute_result"
    },
    {
     "data": {
      "text/plain": [
       "Epoch 2: 19.257142066956\t\n",
       "Average Loss: 0.16495719005838\t\n"
      ]
     },
     "execution_count": 232,
     "metadata": {},
     "output_type": "execute_result"
    },
    {
     "data": {
      "text/plain": [
       "Valid perplexity: 1.1863063299435\t\n"
      ]
     },
     "execution_count": 232,
     "metadata": {},
     "output_type": "execute_result"
    },
    {
     "data": {
      "text/plain": [
       "Epoch 3: 19.587309122086\t\n",
       "Average Loss: 0.16227134233296\t\n"
      ]
     },
     "execution_count": 232,
     "metadata": {},
     "output_type": "execute_result"
    },
    {
     "data": {
      "text/plain": [
       "Epoch 4: 19.77908205986\t\n",
       "Average Loss: 0.16107603165942\t\n"
      ]
     },
     "execution_count": 232,
     "metadata": {},
     "output_type": "execute_result"
    },
    {
     "data": {
      "text/plain": [
       "Valid perplexity: 1.1820073811279\t\n"
      ]
     },
     "execution_count": 232,
     "metadata": {},
     "output_type": "execute_result"
    },
    {
     "data": {
      "text/plain": [
       "Epoch 5: 19.054136037827\t\n",
       "Average Loss: 0.16002025257414\t\n"
      ]
     },
     "execution_count": 232,
     "metadata": {},
     "output_type": "execute_result"
    },
    {
     "data": {
      "text/plain": [
       "Epoch 6: 19.094585895538\t\n",
       "Average Loss: 0.15902858172604\t\n"
      ]
     },
     "execution_count": 232,
     "metadata": {},
     "output_type": "execute_result"
    },
    {
     "data": {
      "text/plain": [
       "Valid perplexity: 1.1799882336849\t\n"
      ]
     },
     "execution_count": 232,
     "metadata": {},
     "output_type": "execute_result"
    },
    {
     "data": {
      "text/plain": [
       "Epoch 7: 20.017446994781\t\n",
       "Average Loss: 0.15808955162245\t\n"
      ]
     },
     "execution_count": 232,
     "metadata": {},
     "output_type": "execute_result"
    },
    {
     "data": {
      "text/plain": [
       "Epoch 8: 19.609482049942\t\n",
       "Average Loss: 0.15719549394668\t\n"
      ]
     },
     "execution_count": 232,
     "metadata": {},
     "output_type": "execute_result"
    },
    {
     "data": {
      "text/plain": [
       "Valid perplexity: 1.1782467302895\t\n"
      ]
     },
     "execution_count": 232,
     "metadata": {},
     "output_type": "execute_result"
    },
    {
     "data": {
      "text/plain": [
       "Epoch 9: 19.873846054077\t\n",
       "Average Loss: 0.15633938148774\t\n"
      ]
     },
     "execution_count": 232,
     "metadata": {},
     "output_type": "execute_result"
    },
    {
     "data": {
      "text/plain": [
       "Epoch 10: 19.472234964371\t\n",
       "Average Loss: 0.15551462341618\t\n"
      ]
     },
     "execution_count": 232,
     "metadata": {},
     "output_type": "execute_result"
    },
    {
     "data": {
      "text/plain": [
       "Valid perplexity: 1.1766833547014\t\n"
      ]
     },
     "execution_count": 232,
     "metadata": {},
     "output_type": "execute_result"
    }
   ],
   "source": [
    "-- Adaptive learning rate\n",
    "nEpochs = 10\n",
    "step = 1\n",
    "train_model_with_perp(t_input_new, t_output_new, batchLTM, batchLTM_valid, params_valid_lstm,\n",
    "        params_lstm, grad_params_lstm, crit, eta, nEpochs, batch_size, len, n_new, input_data_valid, output_valid, 2)"
   ]
  },
  {
   "cell_type": "markdown",
   "metadata": {
    "collapsed": true
   },
   "source": [
    "# Predictions"
   ]
  },
  {
   "cell_type": "code",
   "execution_count": 16,
   "metadata": {
    "collapsed": false
   },
   "outputs": [],
   "source": [
    "function compute_probability_model(model, input)\n",
    "    return model:forward(input:view(input:size(1), 1))\n",
    "end"
   ]
  },
  {
   "cell_type": "code",
   "execution_count": 23,
   "metadata": {
    "collapsed": false
   },
   "outputs": [],
   "source": [
    "-- Method to compute manually the perplexity\n",
    "function compute_perplexity(input, output, model)\n",
    "    -- Last Position filled in predictions\n",
    "    -- Position to predict in input\n",
    "    local position_input = 1\n",
    "    local probability = torch.DoubleTensor(2)\n",
    "    local probability_table\n",
    "    local perp = 0\n",
    "\n",
    "    -- Build mapping\n",
    "    for i = 1,input:size(1) do\n",
    "        -- Line where the model appears\n",
    "        -- The model remember the states before, just need to feed into it a character\n",
    "        probability_table = compute_probability_model(model, input:narrow(1,i,1))\n",
    "        probability:copy(probability_table[1])\n",
    "        perp = perp + probability[output[i]]\n",
    "    end\n",
    "    -- Cutting the output\n",
    "    return math.exp(-perp/input:size(1))\n",
    "end   "
   ]
  },
  {
   "cell_type": "code",
   "execution_count": 51,
   "metadata": {
    "collapsed": false
   },
   "outputs": [
    {
     "data": {
      "text/plain": [
       "Time elasped : 0.17292881011963\t\n",
       "1.2779225376256\t\n"
      ]
     },
     "execution_count": 51,
     "metadata": {},
     "output_type": "execute_result"
    }
   ],
   "source": [
    "-- Computing perplexity\n",
    "timer = torch.Timer()\n",
    "size = input_data_train:size(1)\n",
    "perp = compute_perplexity(input_data_train:narrow(1,1,size):view(size,1), output_matrix_train:narrow(1,1,size), batchRNN_valid)\n",
    "print('Time elasped : '..timer:time().real)\n",
    "print(perp)"
   ]
  },
  {
   "cell_type": "code",
   "execution_count": 215,
   "metadata": {
    "collapsed": false
   },
   "outputs": [
    {
     "data": {
      "text/plain": [
       "Time elasped : 2.5755980014801\t\n",
       "2.0049887210591\t\n"
      ]
     },
     "execution_count": 215,
     "metadata": {},
     "output_type": "execute_result"
    }
   ],
   "source": [
    "-- Computing perplexity on valid\n",
    "timer = torch.Timer()\n",
    "--size = input_data_valid:size(1)\n",
    "size = 10000\n",
    "perp = compute_perplexity(input_data_valid:narrow(1,1,size):view(size,1), output_valid:narrow(1,1,size), batchLTM_valid)\n",
    "print('Time elasped : '..timer:time().real)\n",
    "print(perp)"
   ]
  },
  {
   "cell_type": "code",
   "execution_count": 459,
   "metadata": {
    "collapsed": false
   },
   "outputs": [],
   "source": [
    "-- Prediction on test\n",
    "function predict_rnn_greedy(input, len, model, cutoff)\n",
    "    -- Last Position filled in predictions\n",
    "    local position_prediction = 1\n",
    "    -- Position to predict in input\n",
    "    local position_input = 1\n",
    "    -- We allocate the maximum of memory that could be needed\n",
    "    -- Default value is -1 (to know where predictions end afterwards)\n",
    "    local predictions = torch.ones(2*input:size(1)):mul(-1)\n",
    "    -- Copy the first entry\n",
    "    predictions[position_prediction] = input[position_input]\n",
    "    local probability = torch.zeros(2)\n",
    "    local probability_table\n",
    "    local pred\n",
    "\n",
    "    -- Build mapping\n",
    "    while position_input < input:size(1) do\n",
    "        -- Line where the model appears\n",
    "        -- The model remember the states before, just need to feed into it a character\n",
    "        probability_table = compute_probability_model(model, predictions:narrow(1,position_prediction, 1))\n",
    "        probability:copy(probability_table[1])\n",
    "\n",
    "        if cutoff == nil then\n",
    "            m,a = probability:max(1)\n",
    "            pred = a[1]\n",
    "        else\n",
    "            if math.exp(probability[1]) > cutoff then\n",
    "                pred = 1\n",
    "            else\n",
    "                pred = 2\n",
    "            end\n",
    "        end\n",
    "\n",
    "        -- Case space predicted\n",
    "        position_prediction = position_prediction +1\n",
    "        if (pred == 1) then\n",
    "            predictions[position_prediction] = 1\n",
    "        else\n",
    "            -- Copying next character\n",
    "            position_input = position_input + 1\n",
    "            predictions[position_prediction] = input[position_input] \n",
    "        end\n",
    "    end\n",
    "    -- Cutting the output\n",
    "    return predictions:narrow(1,1,position_prediction)\n",
    "end   "
   ]
  },
  {
   "cell_type": "code",
   "execution_count": 100,
   "metadata": {
    "collapsed": true
   },
   "outputs": [],
   "source": [
    "function get_kaggle_format(predictions_test, N)\n",
    "    -- Counting sentences\n",
    "    local num_sentence = 0\n",
    "    for i=N-1,predictions_test:size(1) do\n",
    "        if predictions_test[i] == 2 then\n",
    "            num_sentence = num_sentence + 1\n",
    "        end\n",
    "    end\n",
    "\n",
    "    -- Counting space per sentence\n",
    "    local num_spaces = torch.DoubleTensor(num_sentence,2)\n",
    "    local row = 1\n",
    "    local count_space = 0\n",
    "    for i=N-1,predictions_test:size(1) do\n",
    "        if predictions_test[i] == 2 then\n",
    "            num_spaces[{row, 1}] = row\n",
    "            num_spaces[{row, 2}] = count_space\n",
    "            count_space = 0\n",
    "            row = row + 1\n",
    "        elseif predictions_test[i] == 1 then\n",
    "            count_space = count_space + 1\n",
    "        end\n",
    "    end\n",
    "    return num_spaces\n",
    "end"
   ]
  },
  {
   "cell_type": "code",
   "execution_count": 101,
   "metadata": {
    "collapsed": false
   },
   "outputs": [],
   "source": [
    "function compute_rmse(true_kaggle, pred_kaggle)\n",
    "    local rmse = 0\n",
    "    for i=1,true_kaggle:size(1) do\n",
    "        rmse = rmse + math.pow(true_kaggle[{i,2}] - pred_kaggle[{i,2}], 2)\n",
    "    end\n",
    "    return(math.sqrt(rmse/ true_kaggle:size(1)))\n",
    "end"
   ]
  },
  {
   "cell_type": "code",
   "execution_count": 238,
   "metadata": {
    "collapsed": true
   },
   "outputs": [],
   "source": [
    "kaggle_true_valid = get_kaggle_format(input_data_valid,2)"
   ]
  },
  {
   "cell_type": "code",
   "execution_count": 237,
   "metadata": {
    "collapsed": false
   },
   "outputs": [
    {
     "data": {
      "text/plain": [
       "Time elasped : 24.515151023865\t\n"
      ]
     },
     "execution_count": 237,
     "metadata": {},
     "output_type": "execute_result"
    }
   ],
   "source": [
    "timer = torch.Timer()\n",
    "size = input_data_valid_nospace:size(1)\n",
    "pred_valid_lstm = predict_rnn_greedy(input_data_valid_nospace:narrow(1,1,size), len, batchLTM_valid)\n",
    "print('Time elasped : '..timer:time().real)"
   ]
  },
  {
   "cell_type": "code",
   "execution_count": 239,
   "metadata": {
    "collapsed": false
   },
   "outputs": [
    {
     "data": {
      "text/plain": [
       "RMSE LSTM after 25 epochs\t\n"
      ]
     },
     "execution_count": 239,
     "metadata": {},
     "output_type": "execute_result"
    },
    {
     "data": {
      "text/plain": [
       "4.4900644363655\t\n"
      ]
     },
     "execution_count": 239,
     "metadata": {},
     "output_type": "execute_result"
    }
   ],
   "source": [
    "kaggle_lstm_valid = get_kaggle_format(pred_valid_lstm,2)\n",
    "print('RMSE LSTM after 25 epochs')\n",
    "rsme_lstm = compute_rmse(kaggle_true_valid, kaggle_lstm_valid)\n",
    "print(rsme_lstm)"
   ]
  },
  {
   "cell_type": "code",
   "execution_count": 438,
   "metadata": {
    "collapsed": false,
    "scrolled": true
   },
   "outputs": [],
   "source": [
    "timer = torch.Timer()\n",
    "size = input_data_valid_nospace:size(1)\n",
    "pred_valid_rnn = predict_rnn_greedy(input_data_valid_nospace:narrow(1,1,size), len, batchRNN_valid)\n",
    "print('Time elasped : '..timer:time().real)"
   ]
  },
  {
   "cell_type": "code",
   "execution_count": 439,
   "metadata": {
    "collapsed": false
   },
   "outputs": [
    {
     "data": {
      "text/plain": [
       "Time elasped : 14.80452299118\t\n"
      ]
     },
     "execution_count": 439,
     "metadata": {},
     "output_type": "execute_result"
    },
    {
     "data": {
      "text/plain": [
       "RMSE RNN\t\n"
      ]
     },
     "execution_count": 439,
     "metadata": {},
     "output_type": "execute_result"
    },
    {
     "data": {
      "text/plain": [
       "4.2813945533386\t\n"
      ]
     },
     "execution_count": 439,
     "metadata": {},
     "output_type": "execute_result"
    }
   ],
   "source": [
    "kaggle_rnn_valid = get_kaggle_format(pred_valid_rnn,2)\n",
    "print('RMSE RNN')\n",
    "rsme_rnn = compute_rmse(kaggle_true_valid, kaggle_rnn_valid)\n",
    "print(rsme_rnn)"
   ]
  },
  {
   "cell_type": "code",
   "execution_count": 440,
   "metadata": {
    "collapsed": false
   },
   "outputs": [
    {
     "data": {
      "text/plain": [
       "Time elasped : 23.610496997833\t\n"
      ]
     },
     "execution_count": 440,
     "metadata": {},
     "output_type": "execute_result"
    }
   ],
   "source": [
    "timer = torch.Timer()\n",
    "size = input_data_valid_nospace:size(1)\n",
    "pred_valid_gru = predict_rnn_greedy(input_data_valid_nospace:narrow(1,1,size), len, batchGRU_valid)\n",
    "print('Time elasped : '..timer:time().real)"
   ]
  },
  {
   "cell_type": "code",
   "execution_count": 441,
   "metadata": {
    "collapsed": false
   },
   "outputs": [
    {
     "data": {
      "text/plain": [
       "RMSE GRU\t\n"
      ]
     },
     "execution_count": 441,
     "metadata": {},
     "output_type": "execute_result"
    },
    {
     "data": {
      "text/plain": [
       "3.5007840581727\t\n"
      ]
     },
     "execution_count": 441,
     "metadata": {},
     "output_type": "execute_result"
    }
   ],
   "source": [
    "kaggle_gru_valid = get_kaggle_format(pred_valid_gru,2)\n",
    "print('RMSE GRU')\n",
    "rsme_gru = compute_rmse(kaggle_true_valid, kaggle_gru_valid)\n",
    "print(rsme_gru)"
   ]
  },
  {
   "cell_type": "code",
   "execution_count": null,
   "metadata": {
    "collapsed": false
   },
   "outputs": [
    {
     "data": {
      "text/plain": [
       "Time elasped : 34.269790887833\t\n"
      ]
     },
     "execution_count": 469,
     "metadata": {},
     "output_type": "execute_result"
    },
    {
     "data": {
      "text/plain": [
       "Time elasped : 32.714505195618\t\n"
      ]
     },
     "execution_count": 469,
     "metadata": {},
     "output_type": "execute_result"
    },
    {
     "data": {
      "text/plain": [
       "Time elasped : 31.39244890213\t\n"
      ]
     },
     "execution_count": 469,
     "metadata": {},
     "output_type": "execute_result"
    },
    {
     "data": {
      "text/plain": [
       "Time elasped : 31.159423112869\t\n"
      ]
     },
     "execution_count": 469,
     "metadata": {},
     "output_type": "execute_result"
    },
    {
     "data": {
      "text/plain": [
       "Time elasped : 32.056789159775\t\n"
      ]
     },
     "execution_count": 469,
     "metadata": {},
     "output_type": "execute_result"
    },
    {
     "data": {
      "text/plain": [
       "Time elasped : 28.894171953201\t\n"
      ]
     },
     "execution_count": 469,
     "metadata": {},
     "output_type": "execute_result"
    }
   ],
   "source": [
    "pred_valid_gru_cutoff_table = {}\n",
    "cutoff_values = {0.35, 0.375, 0.4, 0.42, 0.44, 0.46, 0.48}\n",
    "\n",
    "for i = 1, #cutoff_values do\n",
    "    timer = torch.Timer()\n",
    "    size = input_data_valid_nospace:size(1)\n",
    "    pred_valid_gru_cutoff_table[i] = predict_rnn_greedy(input_data_valid_nospace:narrow(1,1,size), len, batchGRU_valid, cutoff_values[i])\n",
    "    print('Time elasped : '..timer:time().real)\n",
    "end"
   ]
  },
  {
   "cell_type": "code",
   "execution_count": null,
   "metadata": {
    "collapsed": false
   },
   "outputs": [],
   "source": [
    "for i = 1, #cutoff_values do\n",
    "    kaggle_gru_valid_cutoff = get_kaggle_format(pred_valid_gru_cutoff_table[i],2)\n",
    "    print('RMSE GRU cutoff')\n",
    "    rmse_gru_cutoff = compute_rmse(kaggle_gru_valid_cutoff, kaggle_gru_valid)\n",
    "    print(rmse_gru_cutoff)\n",
    "end"
   ]
  },
  {
   "cell_type": "code",
   "execution_count": 448,
   "metadata": {
    "collapsed": false
   },
   "outputs": [
    {
     "data": {
      "text/plain": [
       "RMSE ENSEMBLE\t\n"
      ]
     },
     "execution_count": 448,
     "metadata": {},
     "output_type": "execute_result"
    },
    {
     "data": {
      "text/plain": [
       "3.5007840581727\t\n"
      ]
     },
     "execution_count": 448,
     "metadata": {},
     "output_type": "execute_result"
    }
   ],
   "source": [
    "-- Ensemble combinations\n",
    "wgru = 26\n",
    "wrnn = 0\n",
    "wlstm = 0\n",
    "total = wgru + wrnn + wlstm\n",
    "kaggle_ensemble = (torch.mul(kaggle_gru_valid, wgru) + torch.mul(kaggle_rnn_valid, wrnn) + torch.mul(kaggle_lstm_valid, wlstm)):div(total)\n",
    "-- converting to int\n",
    "kaggle_ensemble:add(0.5):floor()\n",
    "print('RMSE ENSEMBLE')\n",
    "rsme_ensemble = compute_rmse(kaggle_true_valid, kaggle_ensemble)\n",
    "print(rsme_ensemble)"
   ]
  },
  {
   "cell_type": "markdown",
   "metadata": {},
   "source": [
    "# Test sequences prediction"
   ]
  },
  {
   "cell_type": "code",
   "execution_count": 429,
   "metadata": {
    "collapsed": false
   },
   "outputs": [
    {
     "data": {
      "text/plain": [
       "Time elasped : 92.837053060532\t\n"
      ]
     },
     "execution_count": 429,
     "metadata": {},
     "output_type": "execute_result"
    }
   ],
   "source": [
    "-- Pred on test\n",
    "timer = torch.Timer()\n",
    "size = input_data_test:size(1)\n",
    "pred_test_gru = predict_rnn_greedy(input_data_test:narrow(1,1,size), len, batchGRU_valid)\n",
    "print('Time elasped : '..timer:time().real)"
   ]
  },
  {
   "cell_type": "code",
   "execution_count": 430,
   "metadata": {
    "collapsed": true
   },
   "outputs": [],
   "source": [
    "-- Saaving test prediction\n",
    "kaggle_test = get_kaggle_format(pred_test_gru,2)"
   ]
  },
  {
   "cell_type": "code",
   "execution_count": 432,
   "metadata": {
    "collapsed": true
   },
   "outputs": [],
   "source": [
    "-- Saving the Kaggle format output\n",
    "myFile = hdf5.open('../submission/pred_gru_l30_b16_e45', 'w')\n",
    "myFile:write('num_spaces', kaggle_test)\n",
    "myFile:close()"
   ]
  },
  {
   "cell_type": "code",
   "execution_count": null,
   "metadata": {
    "collapsed": true
   },
   "outputs": [],
   "source": []
  }
 ],
 "metadata": {
  "kernelspec": {
   "display_name": "iTorch",
   "language": "lua",
   "name": "itorch"
  },
  "language_info": {
   "name": "lua",
   "version": "20100"
  }
 },
 "nbformat": 4,
 "nbformat_minor": 0
}
