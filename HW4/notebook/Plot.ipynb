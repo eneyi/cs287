{
 "cells": [
  {
   "cell_type": "code",
   "execution_count": 1,
   "metadata": {
    "collapsed": false
   },
   "outputs": [
    {
     "name": "stderr",
     "output_type": "stream",
     "text": [
      "/Users/nicolasdrizard/anaconda/envs/python2/lib/python2.7/site-packages/matplotlib/__init__.py:872: UserWarning: axes.color_cycle is deprecated and replaced with axes.prop_cycle; please use the latter.\n",
      "  warnings.warn(self.msg_depr % (key, alt_key))\n"
     ]
    }
   ],
   "source": [
    "import numpy as np\n",
    "import h5py\n",
    "import matplotlib.pyplot as plt\n",
    "import seaborn as sns\n",
    "%matplotlib inline"
   ]
  },
  {
   "cell_type": "code",
   "execution_count": null,
   "metadata": {
    "collapsed": true
   },
   "outputs": [],
   "source": [
    "plt.plot(range(1,21),loss_lr)\n",
    "plt.xlim(0,21)\n",
    "plt.xticks(range(1,21))\n",
    "plt.title(\"Evolution of the Loss as a function of the current epoch for Logistic Regression\")\n",
    "plt.ylim(0,1.4)\n",
    "plt.ylabel('Negative LogLikelihood')\n",
    "plt.xlabel('Epoch')\n",
    "plt.show()"
   ]
  },
  {
   "cell_type": "markdown",
   "metadata": {},
   "source": [
    "# Training RNN"
   ]
  },
  {
   "cell_type": "code",
   "execution_count": 4,
   "metadata": {
    "collapsed": true
   },
   "outputs": [],
   "source": [
    "validity_perp = np.array([1.3167066034457   ,\n",
    "1.272589419065    ,\n",
    "1.2505899734403   ,\n",
    "1.2305572804994   ,\n",
    "1.2191191235031   ,\n",
    "1.2106942406731   ,\n",
    "1.2040019027776   ,\n",
    "1.1988415676649   ,\n",
    "1.1948545425466   ,\n",
    "1.191752075552    ,\n",
    "1.1893514698956   ,\n",
    "1.1876828130608   ,\n",
    "1.1864067460075   ,\n",
    "1.1853287486702   ,\n",
    "1.1845620295284   ,\n",
    "1.1840970283144   ,\n",
    "1.1837860540369   ,\n",
    "1.1833747002796   ,\n",
    "1.1828553687182   ,\n",
    "1.1826217175028   ,\n",
    "1.1824428813963   ,\n",
    "1.182109999531    ,\n",
    "1.181668471896    ,\n",
    "1.1811241082699   ,\n",
    "1.1806673353204   ,\n",
    "1.1801969411692   ,\n",
    "1.1797258097392   ,\n",
    "1.1796751236756   ,\n",
    "1.179654980452    ,\n",
    "1.1795317990726])\n",
    "\n",
    "train_loss = np.array([0.31127603024063,\n",
    "0.2595806616951 ,\n",
    "0.23316074090171,\n",
    "0.21455134532284,\n",
    "0.20159015092112,\n",
    "0.19299361409045,\n",
    "0.18630843005958,\n",
    "0.18083623497307,\n",
    "0.17666558202226,\n",
    "0.17341161985071,\n",
    "0.17066010915357,\n",
    "0.16842283821082,\n",
    "0.16659270468897,\n",
    "0.16518998250815,\n",
    "0.16408510411659,\n",
    "0.16316840120459,\n",
    "0.16239600637254,\n",
    "0.16169741966653,\n",
    "0.16102260010531,\n",
    "0.16036868317739,\n",
    "0.15972079728122,\n",
    "0.15909980418245,\n",
    "0.15852116560753,\n",
    "0.15796460040097,\n",
    "0.15744148391804,\n",
    "0.15692715807122,\n",
    "0.15642420072222,\n",
    "0.15592075426583,\n",
    "0.15546064818585,\n",
    "0.15505075502542\n",
    "])"
   ]
  },
  {
   "cell_type": "code",
   "execution_count": 10,
   "metadata": {
    "collapsed": false
   },
   "outputs": [
    {
     "data": {
      "image/png": "[encoded data removed]",
      "text/plain": [
       "<matplotlib.figure.Figure at 0x10dbf0810>"
      ]
     },
     "metadata": {},
     "output_type": "display_data"
    }
   ],
   "source": [
    "plt.plot(range(1,len(validity_perp)+1),np.exp(train_loss), label='Train')\n",
    "plt.plot(range(1,len(validity_perp)+1),validity_perp, label='Validation')\n",
    "plt.xticks(range(1,len(validity_perp)))\n",
    "plt.title(\"Evolution of the perplxity over the epochs\")\n",
    "plt.ylabel('Perplexity')\n",
    "plt.xlabel('Epoch')\n",
    "plt.legend()\n",
    "plt.show()"
   ]
  },
  {
   "cell_type": "code",
   "execution_count": null,
   "metadata": {
    "collapsed": true
   },
   "outputs": [],
   "source": []
  },
  {
   "cell_type": "code",
   "execution_count": null,
   "metadata": {
    "collapsed": true
   },
   "outputs": [],
   "source": [
    "# Loading data\n",
    "with h5py.File('log_hyper_embedding.f5','r') as hf:\n",
    "    print('List of arrays in this file: \\n', hf.keys())\n",
    "    loss = hf.get('loss_train')\n",
    "    loss = np.array(loss)\n",
    "    training_acc = hf.get('training_accuracy')\n",
    "    training_acc = np.array(training_acc)\n",
    "    train_time = hf.get('training_time')\n",
    "    train_time = np.array(train_time)\n",
    "    valid_acc = hf.get('valid_accuracy')\n",
    "    valid_acc = np.array(valid_acc)"
   ]
  },
  {
   "cell_type": "code",
   "execution_count": null,
   "metadata": {
    "collapsed": true
   },
   "outputs": [],
   "source": []
  }
 ],
 "metadata": {
  "kernelspec": {
   "display_name": "Python 2",
   "language": "python",
   "name": "python2"
  },
  "language_info": {
   "codemirror_mode": {
    "name": "ipython",
    "version": 2
   },
   "file_extension": ".py",
   "mimetype": "text/x-python",
   "name": "python",
   "nbconvert_exporter": "python",
   "pygments_lexer": "ipython2",
   "version": "2.7.11"
  }
 },
 "nbformat": 4,
 "nbformat_minor": 0
}
