{
 "cells": [
  {
   "cell_type": "code",
   "execution_count": 1,
   "metadata": {
    "collapsed": true
   },
   "outputs": [],
   "source": [
    "import numpy as np"
   ]
  },
  {
   "cell_type": "code",
   "execution_count": 26,
   "metadata": {
    "collapsed": false
   },
   "outputs": [],
   "source": [
    "# Contain the list of characters indices in the data\n",
    "input_data = []\n",
    "# Contain the output for each character (ie 2 id next character is <space> else 1)\n",
    "output_data = []\n",
    "char_to_ind = {}\n",
    "count = 0\n",
    "with open('../data/train_chars.txt', 'r') as f:\n",
    "    for line in f:\n",
    "        for c in line[:-1].split(' '):\n",
    "            # Output data\n",
    "            if c == '<space>':\n",
    "                output_data.append(2)\n",
    "            else:\n",
    "                output_data.append(1)\n",
    "            # Input data\n",
    "            if c in char_to_ind:\n",
    "                input_data.append(char_to_ind[c])\n",
    "            else:\n",
    "                char_to_ind[c] = count\n",
    "                count += 1\n",
    "                input_data.append(char_to_ind[c])\n"
   ]
  },
  {
   "cell_type": "code",
   "execution_count": 27,
   "metadata": {
    "collapsed": false
   },
   "outputs": [
    {
     "data": {
      "text/plain": [
       "599905"
      ]
     },
     "execution_count": 27,
     "metadata": {},
     "output_type": "execute_result"
    }
   ],
   "source": [
    "len(input_data)"
   ]
  },
  {
   "cell_type": "code",
   "execution_count": 28,
   "metadata": {
    "collapsed": false
   },
   "outputs": [
    {
     "data": {
      "text/plain": [
       "599905"
      ]
     },
     "execution_count": 28,
     "metadata": {},
     "output_type": "execute_result"
    }
   ],
   "source": [
    "len(output_data)"
   ]
  },
  {
   "cell_type": "code",
   "execution_count": null,
   "metadata": {
    "collapsed": true
   },
   "outputs": [],
   "source": []
  }
 ],
 "metadata": {
  "kernelspec": {
   "display_name": "Python 2",
   "language": "python",
   "name": "python2"
  },
  "language_info": {
   "codemirror_mode": {
    "name": "ipython",
    "version": 2
   },
   "file_extension": ".py",
   "mimetype": "text/x-python",
   "name": "python",
   "nbconvert_exporter": "python",
   "pygments_lexer": "ipython2",
   "version": "2.7.11"
  }
 },
 "nbformat": 4,
 "nbformat_minor": 0
}
