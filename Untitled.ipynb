{
 "cells": [
  {
   "cell_type": "code",
   "execution_count": 1,
   "metadata": {
    "collapsed": false
   },
   "outputs": [
    {
     "data": {
      "text/plain": [
       "{\n",
       "  H5Z_FILTER_CONFIG_ENCODE_ENABLED : 1\n",
       "  H5F_ACC_RDWR : 1\n",
       "  _getTorchType : function: 0x0848ae00\n",
       "  H5F_OBJ_FILE : 1\n",
       "  H5S_ALL : 0\n",
       "  H5F_OBJ_GROUP : 4\n",
       "  C : userdata: 0x08767f38\n",
       "  H5P_DEFAULT : 0\n",
       "  _describeObject : function: 0x08097aa0\n",
       "  H5Z_FILTER_NBIT : 5\n",
       "  _debugMode : false\n",
       "  _getObjectType : function: 0x084c9cf0\n",
       "  H5F_OBJ_ALL : 31\n",
       "  _getObjectName : function: 0x08762ff0\n",
       "  version : \n",
       "    {\n",
       "      1 : 1\n",
       "      2 : 8\n",
       "      3 : 15\n",
       "    }\n",
       "  H5Z_FILTER_SHUFFLE : 2\n",
       "  HDF5Group : table: 0x08438218\n",
       "  open : function: 0x084ce978\n",
       "  H5Z_FILTER_SZIP : 4\n",
       "  H5F_OBJ_ATTR : 16\n",
       "  H5Z_FILTER_FLETCHER32 : 3\n",
       "  H5F_OBJ_DATATYPE : 8\n",
       "  debugMode : function: 0x084ce8f8\n",
       "  H5F_ACC_EXCL : 4\n",
       "  H5Z_FILTER_NONE : 0\n",
       "  _testUtils : \n",
       "    {\n",
       "      deepAlmostEq : function: 0x084ce8b8\n",
       "      withTmpDir : function: 0x084ce818\n",
       "    }\n",
       "  _nativeTypeForTensorType : function: 0x08763080\n",
       "  H5F_ACC_TRUNC : 2\n",
       "  _config : \n",
       "    {\n",
       "      HDF5_INCLUDE_PATH : /Users/virgileaudi/anaconda/include\n",
       "      HDF5_LIBRARIES : /Users/virgileaudi/anaconda/lib/libhdf5.dylib;/Users/virgileaudi/anaconda/lib/libhdf5_hl.dylib;/Users/virgileaudi/anaconda/lib/libhdf5.dylib;/Users/virgileaudi/anaconda/lib/libz.dylib;/usr/lib/libdl.dylib;/usr/lib/libm.dylib\n",
       "    }\n",
       "  _loadObject : function: 0x084ce958\n",
       "  DataSetOptions : table: 0x084a71f8\n",
       "  HDF5DataSet : table: 0x084afb10\n",
       "  "
      ]
     },
     "execution_count": 1,
     "metadata": {},
     "output_type": "execute_result"
    },
    {
     "data": {
      "text/plain": [
       "H5Z_FILTER_RESERVED : 256\n",
       "  _logger : \n",
       "    {\n",
       "      error : function: 0x084cee88\n",
       "      warn : function: 0x084cee88\n",
       "      debug : function: 0x084ceed0\n",
       "    }\n",
       "  H5F_ACC_RDONLY : 0\n",
       "  _fletcher32Available : function: 0x0848aed8\n",
       "  H5Z_FILTER_CONFIG_DECODE_ENABLED : 2\n",
       "  ffi : \n",
       "    {\n",
       "      abi : function: builtin#202\n",
       "      copy : function: builtin#200\n",
       "      errno : function: builtin#198\n",
       "      typeinfo : function: builtin#193\n",
       "      alignof : function: builtin#196\n",
       "      cdef : function: builtin#189\n",
       "      C : userdata: 0x080913f8\n",
       "      cast : function: builtin#191\n",
       "      load : function: builtin#205\n",
       "      offsetof : function: builtin#197\n",
       "      sizeof : function: builtin#195\n",
       "      string : function: builtin#199\n",
       "      metatype : function: builtin#203\n",
       "      new : function: builtin#190\n",
       "      arch : x64\n",
       "      os : OSX\n",
       "      gc : function: builtin#204\n",
       "      fill : function: builtin#201\n",
       "      istype : function: builtin#194\n",
       "      typeof : function: builtin#192\n",
       "    }\n",
       "  H5Z_FILTER_ERROR : -1\n",
       "  _outputTypeForTensorType : function: 0x084c9ca8\n",
       "  H5Z_FILTER_MAX : 65535\n",
       "  h5t : \n",
       "    {\n",
       "      STD_B32LE : 50331728\n",
       "      IEEE_F32BE : 50331703\n",
       "      NATIVE_B16 : 50331694\n",
       "      NATIVE_HSIZE : 50331698\n",
       "      NO_CLASS : -1\n",
       "      NATIVE_UINT_FAST32 : 50331681\n",
       "      STD_B8LE : 50331724\n",
       "      STD_I64BE : 50331715\n",
       "      NATIVE_LONG : 50331662\n",
       "      NATIVE_DOUBLE : 50331691\n",
       "      TIME : 2\n",
       "      NATIVE_INT16 : 50331670\n",
       "      NATIVE_LLONG : 50331688\n",
       "      STD_I8BE : 50331709\n",
       "      STD_B64LE : 50331730\n",
       "      NATIVE_HSSIZE : 50331699\n",
       "      STD_B32BE : 50331729\n",
       "      INTEGER : 0\n",
       "      NATIVE_INT64 : 50331682\n",
       "      STD_I8LE : 50331708\n",
       "      STD_I32LE : 50331712\n",
       "      NATIVE_SCHAR : 50331656\n",
       "      NATIVE_INT_FAST16 : 50331674\n",
       "      NATIVE_INT : 50331660\n",
       "      BITFIELD : 4\n",
       "      NATIVE_UINT_LEAST16 : 50331673\n",
       "      NATIVE_INT_LEAST16 : 50331672\n",
       "      IEEE_F64LE : 50331704\n",
       "      NATIVE_INT_FAST64 : 50331686\n",
       "      NATIVE_UINT_FAST64 : 50331687\n",
       "      NATIVE_UINT_LEAST64 : 50331685\n",
       "      NATIVE_INT_LEAST64 : 50331684\n",
       "      ENUM : 8\n",
       "      NATIVE_UINT64 : 50331683\n",
       "      NATIVE_HBOOL : 50331701\n",
       "      NATIVE_ULONG : 50331663\n",
       "      NATIVE_INT_FAST32 : 50331680\n",
       "      NATIVE_HADDR : 50331697\n",
       "      NATIVE_UINT : 50331661\n",
       "      NCLASSES : 11\n",
       "      NATIVE_UINT_LEAST32 : 50331679\n",
       "      NATIVE_INT_LEAST32 : 50331678\n",
       "      STD_U64LE : 50331722\n",
       "      NATIVE_UINT32 : 50331677\n",
       "      NATIVE_SHORT : 50331658\n",
       "      NATIVE_INT32 : 50331676\n",
       "      VLEN : 9\n",
       "      ARRAY : 10\n",
       "      STD_U16LE : 50331718\n",
       "      STD_B16LE : 50331726\n",
       "      STD_I64LE : 50331714\n",
       "      NATIVE_UINT16 : 50331671\n",
       "      NATIVE_UINT_FAST8 : 50331669\n",
       "      STD_B16BE : 50331727\n",
       "      NATIVE_INT_FAST8 : 50331668\n",
       "      FLOAT : 1\n",
       "      REFERENCE : 7\n",
       "      STD_U32LE : 50331720\n",
       "      NATIVE_USHORT : 50331659\n",
       "      NATIVE_ULLONG : 50331689\n",
       "      NATIVE_INT8 : 50331664\n",
       "      IEEE_F32LE : 50331702\n",
       "      STD_U8BE : 50331717\n",
       "      NATIVE_INT_LEAST8 : 50331666\n",
       "      NATIVE_UINT8 : 50331665\n",
       "      NATIVE_B32 : 50331695\n",
       "      NATIVE_HERR : 50331700\n",
       "      NATIVE_OPAQUE : 50331736\n",
       "      NATIVE_LDOUBLE : 50331692\n",
       "      NATIVE_UINT_LEAST8 : 50331667\n",
       "      COMPOUND : 6\n",
       "      STD_REF_OBJ : 50331739\n",
       "      NATIVE_UINT_FAST16 : 50331675\n",
       "      NATIVE_B64 : 50331696\n",
       "      STD_U16BE : 50331719\n",
       "      STD_REF_DSETREG : 50331740\n",
       "      NATIVE_B8 : 50331693\n",
       "      STD_I32BE : 50331713\n",
       "      IEEE_F64BE : 50331705\n",
       "      NATIVE_FLOAT : 50331690\n",
       "      NATIVE_UCHAR : 50331657\n",
       "      STD_U32BE : 50331721\n",
       "      OPAQUE : 5\n",
       "      STD_B64BE : 50331731\n",
       "      STD_U8LE : 50331716\n",
       "      STD_I16BE : 50331711\n",
       "      STD_B8BE : 50331725\n",
       "      STRING : 3\n",
       "      STD_I16LE : 50331710\n",
       "      STD_U64BE : 50331723\n",
       "    }\n",
       "  HDF5File : table: 0x084c3a68\n",
       "  H5Z_FILTER_SCALEOFFSET : 6\n",
       "  H5Z_FILTER_DEFLATE : 1\n",
       "  H5F_ACC_CREAT : 16\n"
      ]
     },
     "execution_count": 1,
     "metadata": {},
     "output_type": "execute_result"
    },
    {
     "data": {
      "text/plain": [
       "  H5F_UNLIMITED : 18446744073709551615ULL\n",
       "  _deflateAvailable : function: 0x0808b1e0\n",
       "  _inDebugMode : function: 0x084ce938\n",
       "  H5F_OBJ_LOCAL : 32\n",
       "  H5S_SELECT_SET : 0\n",
       "  _datatypeName : function: 0x08762fa8\n",
       "  H5F_ACC_DEBUG : 8\n",
       "  H5F_OBJ_DATASET : 2\n",
       "}\n"
      ]
     },
     "execution_count": 1,
     "metadata": {},
     "output_type": "execute_result"
    }
   ],
   "source": [
    "require 'hdf5'"
   ]
  },
  {
   "cell_type": "code",
   "execution_count": 2,
   "metadata": {
    "collapsed": true
   },
   "outputs": [],
   "source": [
    "myFile = hdf5.open('SST1.hdf5','r')\n",
    "og_train_input = myFile:read('train_input'):all()\n",
    "og_test_input = myFile:read('test_input'):all()\n",
    "nfeatures = myFile:read('nfeatures'):all()\n",
    "og_valid_input = myFile:read('valid_input'):all()\n",
    "og_train_output = myFile:read('train_output'):all()\n",
    "og_valid_output = myFile:read('valid_output'):all()\n",
    "nclasses = myFile:read('nclasses'):all()\n",
    "myFile:close()"
   ]
  },
  {
   "cell_type": "markdown",
   "metadata": {},
   "source": [
    "### NAIVE BAYES"
   ]
  },
  {
   "cell_type": "code",
   "execution_count": null,
   "metadata": {
    "collapsed": true
   },
   "outputs": [],
   "source": [
    "train_output = og_train_output:clone()\n",
    "train_input = og_train_input:clone()"
   ]
  },
  {
   "cell_type": "code",
   "execution_count": null,
   "metadata": {
    "collapsed": false
   },
   "outputs": [],
   "source": [
    "prior = torch.zeros(5)\n",
    "for i =1,5 do\n",
    "    prior[6-i] = og_train_output:gt(5-i):sum()-prior:sum()\n",
    "end\n",
    "prior:mul(1/prior:sum())"
   ]
  },
  {
   "cell_type": "code",
   "execution_count": null,
   "metadata": {
    "collapsed": false
   },
   "outputs": [],
   "source": [
    "counts_per_class = torch.zeros(5,nfeatures[1])\n",
    "for i = 1,train_input:size(1) do\n",
    "    for j = 1,53 do\n",
    "        if train_input[i][j] ~= 1 then\n",
    "            counts_per_class[train_output[i]][train_input[i][j]-1] = counts_per_class[train_output[i]][train_input[i][j]-1] + 1\n",
    "        end\n",
    "    end\n",
    "end"
   ]
  },
  {
   "cell_type": "code",
   "execution_count": null,
   "metadata": {
    "collapsed": false
   },
   "outputs": [],
   "source": [
    "counts_per_class_normalise = counts_per_class:clone()\n",
    "for i =1,5 do\n",
    "    counts_per_class_normalise[i]:mul(1/counts_per_class_normalise[i]:sum())\n",
    "end"
   ]
  },
  {
   "cell_type": "code",
   "execution_count": null,
   "metadata": {
    "collapsed": true
   },
   "outputs": [],
   "source": [
    "posterior = torch.zeros(og_valid_output:size(1),5)"
   ]
  },
  {
   "cell_type": "code",
   "execution_count": null,
   "metadata": {
    "collapsed": false
   },
   "outputs": [],
   "source": [
    "valid_input = og_valid_input:clone()\n",
    "classes_valid = torch.zeros(valid_input:size(1),5)\n",
    "i=1011\n",
    "s = torch.nonzero(valid_input[i]:add(-1))\n",
    "tofill = torch.Tensor(5)"
   ]
  },
  {
   "cell_type": "code",
   "execution_count": null,
   "metadata": {
    "collapsed": false
   },
   "outputs": [],
   "source": [
    "valid_input = og_valid_input:clone()\n",
    "classes_valid = torch.zeros(valid_input:size(1),5)\n",
    "for i = 1,valid_input:size(1) do\n",
    "    s = torch.nonzero(valid_input[i]:add(-1))\n",
    "    tofill = torch.Tensor(5)\n",
    "    for j = 1,5 do\n",
    "        pdt = 1\n",
    "        for k = 1,(s:size(1)) do\n",
    "            pdt = pdt * (counts_per_class_normalise[j][valid_input[i][s[1][1]]])\n",
    "        end\n",
    "        tofill[j] = pdt\n",
    "    end\n",
    "    classes_valid[i]:add(tofill)   \n",
    "end"
   ]
  },
  {
   "cell_type": "code",
   "execution_count": null,
   "metadata": {
    "collapsed": false
   },
   "outputs": [],
   "source": [
    "maxval, argmax = classes_valid:max(2)"
   ]
  },
  {
   "cell_type": "code",
   "execution_count": null,
   "metadata": {
    "collapsed": false
   },
   "outputs": [],
   "source": [
    "err = 0\n",
    "for i=1,(valid_output:size()[1]) do\n",
    "    if argmax[i][1] == (valid_output[i]+1) then\n",
    "        err = err + 1\n",
    "    end\n",
    "end\n",
    "print(err/valid_output:size()[1])"
   ]
  },
  {
   "cell_type": "markdown",
   "metadata": {
    "collapsed": true
   },
   "source": [
    "### Logistic Regression"
   ]
  },
  {
   "cell_type": "code",
   "execution_count": null,
   "metadata": {
    "collapsed": false
   },
   "outputs": [],
   "source": [
    "start = os.clock()\n",
    "s = 0\n",
    "for i =1,10 do s=s+1 end\n",
    "print(os.clock()-start)"
   ]
  },
  {
   "cell_type": "code",
   "execution_count": null,
   "metadata": {
    "collapsed": true
   },
   "outputs": [],
   "source": [
    "function LogReg(input,output,lam,n_mini,eta,n_epoc)\n",
    "     "
   ]
  },
  {
   "cell_type": "code",
   "execution_count": 3,
   "metadata": {
    "collapsed": false
   },
   "outputs": [],
   "source": [
    "Xtrain = og_train_input:clone()\n",
    "Ytrain = og_train_output:clone()\n",
    "ntrain = og_train_input:size(1)"
   ]
  },
  {
   "cell_type": "code",
   "execution_count": 4,
   "metadata": {
    "collapsed": true
   },
   "outputs": [],
   "source": [
    "-- Initialising\n",
    "W = torch.ones(nfeatures[1],5)\n",
    "b = torch.ones(5):view(-1,1)"
   ]
  },
  {
   "cell_type": "code",
   "execution_count": 5,
   "metadata": {
    "collapsed": false
   },
   "outputs": [],
   "source": [
    "-- Evaluating z\n",
    "z = torch.zeros(ntrain,5)\n",
    "for i = 1,ntrain do\n",
    "    for j = 1,53 do\n",
    "        if Xtrain[i][j] ~= 1 then\n",
    "            z[i]:add(W[Xtrain[i][j]-1])\n",
    "        else\n",
    "            break\n",
    "        end\n",
    "    end\n",
    "end\n",
    "z:add(b:expand(b:size(1),ntrain):t()) "
   ]
  },
  {
   "cell_type": "code",
   "execution_count": 19,
   "metadata": {
    "collapsed": false
   },
   "outputs": [],
   "source": [
    "-- yhat\n",
    "\n",
    "yhat = torch.zeros(ntrain,5)\n",
    "for i = 1,ntrain do\n",
    "    yhat[i] = torch.exp(z[i])/(z[i]:exp():sum())\n",
    "end"
   ]
  },
  {
   "cell_type": "code",
   "execution_count": 11,
   "metadata": {
    "collapsed": false
   },
   "outputs": [],
   "source": [
    "-- Loss\n",
    "Loss = 0\n",
    "for i = 1,ntrain do\n",
    "    Loss = Loss - z[i][Ytrain[i]] + math.log((z[i]-(z[i]:max())):exp():sum())+z[i]:max()\n",
    "end"
   ]
  },
  {
   "cell_type": "code",
   "execution_count": 22,
   "metadata": {
    "collapsed": true
   },
   "outputs": [],
   "source": [
    "-- Gradients\n",
    "grad_L_z =  torch.zeros(ntrain,5)\n",
    "for i = 1,ntrain do\n",
    "    for j = 1,5 do\n",
    "        if j == Ytrain[i] then \n",
    "            grad_L_z[i][j] = -(1-yhat[i][j])\n",
    "        else\n",
    "            grad_L_z[i][j] = yhat[i][j]\n",
    "        end   \n",
    "    end\n",
    "end\n",
    "\n",
    "grad_L_W = torch.zeros(ntrain,5)\n",
    "for i=1,ntrain do\n",
    "    for j = 1,53 do\n",
    "        if Xtrain[i][j]~=1 then\n",
    "            for k = 1,5 do\n",
    "                grad_L_W[Xtrain[i][j]-1] = grad_L_W[Xtrain[i][j]-1]+grad_L_z[i][k]\n",
    "            end\n",
    "        else\n",
    "            break\n",
    "        end\n",
    "    end\n",
    "end"
   ]
  },
  {
   "cell_type": "code",
   "execution_count": 218,
   "metadata": {
    "collapsed": false
   },
   "outputs": [
    {
     "data": {
      "text/plain": [
       "7840.85\t\n"
      ]
     },
     "execution_count": 218,
     "metadata": {},
     "output_type": "execute_result"
    }
   ],
   "source": [
    "ntrain/20"
   ]
  },
  {
   "cell_type": "markdown",
   "metadata": {},
   "source": [
    "### LOG REG 2"
   ]
  },
  {
   "cell_type": "code",
   "execution_count": 219,
   "metadata": {
    "collapsed": true
   },
   "outputs": [],
   "source": [
    "Xtrain = og_train_input:clone()\n",
    "Ytrain = og_train_output:clone()\n",
    "ntrain = og_train_input:size(1)"
   ]
  },
  {
   "cell_type": "code",
   "execution_count": 220,
   "metadata": {
    "collapsed": false
   },
   "outputs": [],
   "source": [
    "m = 20\n",
    "eta = 1\n",
    "lambda =1\n",
    "\n",
    "shuffle = torch.randperm(ntrain):type('torch.LongTensor')\n",
    "\n",
    "W = torch.cat(torch.zeros(1,5),torch.ones(nfeatures[1],5),1)\n",
    "b = torch.ones(5):view(-1,1)\n",
    "\n",
    "for ep = 1,7840 do\n",
    "\n",
    "    tot_Loss = 0\n",
    "    grad_W = torch.zeros(nfeatures[1]+1,5)\n",
    "    grad_b = torch.zeros(5):view(-1,1)\n",
    "\n",
    "    for i = (m*(ep-1)+1),m*ep do\n",
    "\n",
    "        --current sentence:\n",
    "        c_s = shuffle[i]\n",
    "\n",
    "        --evaluate z:\n",
    "        z = W:index(1,Xtrain[c_s]:type('torch.LongTensor')):sum(1):add(b):view(-1,1)\n",
    "\n",
    "        --evaluate y_hat:\n",
    "        yhat = torch.exp(z)/(z:exp():sum())\n",
    "\n",
    "        --evaluate the loss:\n",
    "        L = - z[Ytrain[c_s]] + math.log((z-(z:max(1)[1][1])):exp():sum())+z:max(1)[1][1] + 0.5*lambda*(torch.pow(W,2):sum()+torch.pow(b,2):sum())\n",
    "        --evaluate the gradients:\n",
    "        -- First with respect to dz (which is equal to db):\n",
    "\n",
    "        grad_L_dz = yhat:clone()\n",
    "        grad_L_dz[Ytrain[c_s]]:csub(1)\n",
    "\n",
    "\n",
    "        --Then with respect to dW:\n",
    "        grad_L_W = torch.zeros(nfeatures[1]+1,5)\n",
    "        grad_L_W:indexAdd(1,Xtrain[c_s]:type('torch.LongTensor'),torch.expand(grad_L_dz,5,53):t())\n",
    "        grad_L_W[1]:zero()\n",
    "\n",
    "        --Update the gradients and total Loss\n",
    "        grad_W:add(grad_L_W*(1/m))\n",
    "        grad_b:add(grad_L_dz*1/m)\n",
    "        tot_Loss = tot_Loss + L[1]\n",
    "\n",
    "    end\n",
    "\n",
    "    --Update the parameters:\n",
    "    \n",
    "    W:mul(1-eta*lambda/(W:nElement()+b:nElement())):csub(grad_W*eta)\n",
    "    b:mul(1-eta*lambda/(W:nElement()+b:nElement())):csub(grad_b*eta)\n",
    "\n",
    "end"
   ]
  },
  {
   "cell_type": "code",
   "execution_count": 238,
   "metadata": {
    "collapsed": true
   },
   "outputs": [],
   "source": [
    "Xvalid = og_valid_input\n",
    "Yvalid = og_valid_output"
   ]
  },
  {
   "cell_type": "code",
   "execution_count": 247,
   "metadata": {
    "collapsed": true
   },
   "outputs": [],
   "source": [
    "err_val = 0\n",
    "for i = 1,Xvalid:size()[1] do\n",
    "    z = W:index(1,Xvalid[i]:type('torch.LongTensor')):sum(1):add(b):view(-1,1)\n",
    "    max,argmax = z:max(1)\n",
    "    if Yvalid[i] == argmax[1][1] then\n",
    "        err_val = err_val + 1\n",
    "    end\n",
    "end"
   ]
  },
  {
   "cell_type": "code",
   "execution_count": 248,
   "metadata": {
    "collapsed": false
   },
   "outputs": [
    {
     "data": {
      "text/plain": [
       "0.3905540417802\t\n"
      ]
     },
     "execution_count": 248,
     "metadata": {},
     "output_type": "execute_result"
    }
   ],
   "source": [
    "err_val/Xvalid:size()[1]"
   ]
  },
  {
   "cell_type": "code",
   "execution_count": 249,
   "metadata": {
    "collapsed": true
   },
   "outputs": [],
   "source": [
    "err_tr = 0\n",
    "for i = 1,Xtrain:size()[1] do\n",
    "    z = W:index(1,Xtrain[i]:type('torch.LongTensor')):sum(1):add(b):view(-1,1)\n",
    "    max,argmax = z:max(1)\n",
    "    if Ytrain[i] == argmax[1][1] then\n",
    "        err_tr = err_tr + 1\n",
    "    end\n",
    "end "
   ]
  },
  {
   "cell_type": "code",
   "execution_count": 250,
   "metadata": {
    "collapsed": false
   },
   "outputs": [
    {
     "data": {
      "text/plain": [
       "0.63554334032662\t\n"
      ]
     },
     "execution_count": 250,
     "metadata": {},
     "output_type": "execute_result"
    }
   ],
   "source": [
    "err_tr/Xtrain:size()[1]"
   ]
  }
 ],
 "metadata": {
  "kernelspec": {
   "display_name": "iTorch",
   "language": "lua",
   "name": "itorch"
  },
  "language_info": {
   "name": "lua",
   "version": "20100"
  }
 },
 "nbformat": 4,
 "nbformat_minor": 0
}
